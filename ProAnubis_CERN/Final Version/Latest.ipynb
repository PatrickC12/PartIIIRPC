{
 "cells": [
  {
   "cell_type": "code",
   "execution_count": 1,
   "metadata": {},
   "outputs": [
    {
     "name": "stderr",
     "output_type": "stream",
     "text": [
      "ERROR:root:Cannot activate multiple GUI eventloops\n"
     ]
    }
   ],
   "source": [
    "from PIL import Image\n",
    "import h5py\n",
    "import anubisPlotUtils as anPlot\n",
    "import json\n",
    "import numpy as np\n",
    "import os\n",
    "import hist as hi\n",
    "import matplotlib\n",
    "import matplotlib.pyplot as plt\n",
    "from itertools import combinations\n",
    "import matplotlib.colors as colors\n",
    "matplotlib.use('TkAgg')  # or 'Qt5Agg', 'GTK3Agg', etc.\n",
    "import mplhep as hep\n",
    "hep.style.use([hep.style.ATLAS])\n",
    "import sys\n",
    "import AnalysisToolAnubis as AT\n",
    "import seaborn as sns\n",
    "import pandas as pd\n",
    "import tkinter as tk\n",
    "from tkinter import ttk\n",
    "from pandasgui import show\n",
    "from matplotlib.patches import Circle\n",
    "from matplotlib.backends.backend_pdf import PdfPages\n",
    "from scipy.signal import convolve2d\n",
    "from scipy.ndimage import label, find_objects\n",
    "from scipy.spatial.distance import pdist, squareform\n",
    "from matplotlib.backends.backend_pdf import PdfPages\n",
    "import ipywidgets as widgets\n",
    "from IPython.display import display\n",
    "import sys\n",
    "from scipy.stats import gaussian_kde\n",
    "import tkinter as tk\n",
    "from tkinter import ttk\n",
    "import matplotlib.pyplot as plt\n",
    "from matplotlib.backends.backend_tkagg import FigureCanvasTkAgg\n",
    "from matplotlib.ticker import MaxNLocator\n",
    "import AnubisSuperScript as ass\n",
    "from functools import partial\n",
    "import importlib\n",
    "from tqdm import tqdm\n",
    "importlib.reload(ass)\n",
    "import ast"
   ]
  },
  {
   "cell_type": "code",
   "execution_count": 17,
   "metadata": {},
   "outputs": [],
   "source": [
    "\n",
    "mapping = {\n",
    "    0: {\n",
    "        (0, 31): ('rpc0', 'eta'),\n",
    "        (32, 63): ('rpc0', 'phi1'),\n",
    "        (64, 95): ('rpc0', 'phi2'),\n",
    "        (96, 127): ('rpc1', 'eta'),\n",
    "    },\n",
    "    1: {\n",
    "        (0, 31): ('rpc1', 'phi1'),\n",
    "        (32, 63): ('rpc1', 'phi2'),\n",
    "        (64, 95): ('rpc2', 'eta'),\n",
    "        (96, 127): ('rpc2', 'phi1'),\n",
    "    },\n",
    "    2: {\n",
    "        (0, 31): ('rpc2', 'phi2'),\n",
    "        (32, 63): ('rpc3', 'eta'),\n",
    "        (64, 95): ('rpc3', 'phi1'),\n",
    "        (96, 127): ('rpc3', 'phi2'),\n",
    "    },\n",
    "    3: {\n",
    "        (0, 31): ('rpc4', 'eta'),\n",
    "        (32, 63): ('rpc4', 'phi1'),\n",
    "        (64, 95): ('rpc4', 'phi2'),\n",
    "        (96, 127): ('rpc5', 'eta'),\n",
    "    },\n",
    "    4: {\n",
    "        (0, 31): ('rpc5', 'phi1'),\n",
    "        (32, 63): ('rpc5', 'phi2'),\n",
    "    },\n",
    "}\n",
    "\n",
    "strips_on_steroid = {\n",
    "    'rpc0': {'phi': [0]},\n",
    "    'rpc1': {'phi': [0]},\n",
    "    'rpc2': {'phi': [0]},\n",
    "    'rpc3': {'phi': [0]},\n",
    "    'rpc4': {'eta': [31,0], 'phi': [0]},\n",
    "    'rpc5': {'eta': [31,0], 'phi': [0]},\n",
    "}\n"
   ]
  },
  {
   "cell_type": "code",
   "execution_count": 120,
   "metadata": {},
   "outputs": [],
   "source": [
    "thisData = AT.importDatafile('C:\\\\Users\\\\Peter\\\\OneDrive - University of Cambridge\\\\Desktop\\\\Project Excel Work\\\\PartIIIRPC\\\\ProAnubis_CERN\\\\ProAnubisData\\\\proAnubis_240403_0227.h5')"
   ]
  },
  {
   "cell_type": "code",
   "execution_count": 121,
   "metadata": {},
   "outputs": [],
   "source": [
    "thisData = [sublist[:94230] for sublist in thisData]"
   ]
  },
  {
   "cell_type": "code",
   "execution_count": 122,
   "metadata": {},
   "outputs": [],
   "source": [
    "etaHits, phiHits = ass.divideHitCountsByRPC_Timed(thisData)"
   ]
  },
  {
   "cell_type": "code",
   "execution_count": 123,
   "metadata": {},
   "outputs": [],
   "source": [
    "df = ass.remake_data(thisData, mapping)"
   ]
  },
  {
   "cell_type": "code",
   "execution_count": 124,
   "metadata": {},
   "outputs": [],
   "source": [
    "df_clean = df[df['time'] <= 500]"
   ]
  },
  {
   "cell_type": "code",
   "execution_count": 125,
   "metadata": {},
   "outputs": [],
   "source": [
    "cluster_df = ass.calculate_cluster_metrics_better(df_clean, 5)"
   ]
  },
  {
   "cell_type": "code",
   "execution_count": 126,
   "metadata": {},
   "outputs": [],
   "source": [
    "def filter_groups(group):\n",
    "    has_eta = 'eta' in group['strip_direction'].values\n",
    "    has_phi = 'phi' in group['strip_direction'].values\n",
    "    return has_eta and has_phi\n",
    "\n",
    "filtered_cluster = cluster_df.groupby(['event_number', 'rpc_number']).filter(filter_groups)"
   ]
  },
  {
   "cell_type": "code",
   "execution_count": 13,
   "metadata": {},
   "outputs": [
    {
     "name": "stdout",
     "output_type": "stream",
     "text": [
      "<class 'pandas.core.frame.DataFrame'>\n",
      "Int64Index: 697379 entries, 0 to 839726\n",
      "Data columns (total 8 columns):\n",
      " #   Column           Non-Null Count   Dtype \n",
      "---  ------           --------------   ----- \n",
      " 0   event_number     697379 non-null  int64 \n",
      " 1   rpc_number       697379 non-null  object\n",
      " 2   strip_direction  697379 non-null  object\n",
      " 3   locations        697379 non-null  object\n",
      " 4   times            697379 non-null  object\n",
      " 5   start_time       697379 non-null  int64 \n",
      " 6   end_time         697379 non-null  int64 \n",
      " 7   size             697379 non-null  int64 \n",
      "dtypes: int64(4), object(4)\n",
      "memory usage: 47.9+ MB\n",
      "None\n"
     ]
    }
   ],
   "source": [
    "print(filtered_cluster.info())"
   ]
  },
  {
   "cell_type": "code",
   "execution_count": 18,
   "metadata": {},
   "outputs": [
    {
     "name": "stderr",
     "output_type": "stream",
     "text": [
      "PandasGUI INFO — pandasgui.gui — Opening PandasGUI\n",
      "INFO:pandasgui.gui:Opening PandasGUI\n"
     ]
    },
    {
     "data": {
      "text/plain": [
       "<pandasgui.gui.PandasGui at 0x189de893eb0>"
      ]
     },
     "execution_count": 18,
     "metadata": {},
     "output_type": "execute_result"
    }
   ],
   "source": [
    "show(filtered_cluster.sort_values(by=['event_number', 'rpc_number']))"
   ]
  },
  {
   "cell_type": "code",
   "execution_count": 10,
   "metadata": {},
   "outputs": [
    {
     "name": "stdout",
     "output_type": "stream",
     "text": [
      "<class 'pandas.core.frame.DataFrame'>\n",
      "RangeIndex: 839727 entries, 0 to 839726\n",
      "Data columns (total 8 columns):\n",
      " #   Column           Non-Null Count   Dtype \n",
      "---  ------           --------------   ----- \n",
      " 0   event_number     839727 non-null  int64 \n",
      " 1   rpc_number       839727 non-null  object\n",
      " 2   strip_direction  839727 non-null  object\n",
      " 3   locations        839727 non-null  object\n",
      " 4   times            839727 non-null  object\n",
      " 5   start_time       839727 non-null  int64 \n",
      " 6   end_time         839727 non-null  int64 \n",
      " 7   size             839727 non-null  int64 \n",
      "dtypes: int64(4), object(4)\n",
      "memory usage: 51.3+ MB\n",
      "None\n"
     ]
    }
   ],
   "source": [
    "print(cluster_df.info())"
   ]
  },
  {
   "cell_type": "code",
   "execution_count": 127,
   "metadata": {},
   "outputs": [],
   "source": [
    "fully_massaged_df = filtered_cluster[filtered_cluster['size'] <= 5]"
   ]
  },
  {
   "cell_type": "code",
   "execution_count": 16,
   "metadata": {},
   "outputs": [
    {
     "name": "stdout",
     "output_type": "stream",
     "text": [
      "<class 'pandas.core.frame.DataFrame'>\n",
      "Int64Index: 675851 entries, 0 to 839726\n",
      "Data columns (total 8 columns):\n",
      " #   Column           Non-Null Count   Dtype \n",
      "---  ------           --------------   ----- \n",
      " 0   event_number     675851 non-null  int64 \n",
      " 1   rpc_number       675851 non-null  object\n",
      " 2   strip_direction  675851 non-null  object\n",
      " 3   locations        675851 non-null  object\n",
      " 4   times            675851 non-null  object\n",
      " 5   start_time       675851 non-null  int64 \n",
      " 6   end_time         675851 non-null  int64 \n",
      " 7   size             675851 non-null  int64 \n",
      "dtypes: int64(4), object(4)\n",
      "memory usage: 46.4+ MB\n",
      "None\n"
     ]
    }
   ],
   "source": [
    "print(fully_massaged_df.info())"
   ]
  },
  {
   "cell_type": "code",
   "execution_count": 33,
   "metadata": {},
   "outputs": [
    {
     "name": "stderr",
     "output_type": "stream",
     "text": [
      "PandasGUI INFO — pandasgui.gui — Opening PandasGUI\n",
      "INFO:pandasgui.gui:Opening PandasGUI\n"
     ]
    },
    {
     "data": {
      "text/plain": [
       "<pandasgui.gui.PandasGui at 0x189f29d75b0>"
      ]
     },
     "execution_count": 33,
     "metadata": {},
     "output_type": "execute_result"
    }
   ],
   "source": [
    "show(fully_massaged_df.sort_values(by = ['event_number']))"
   ]
  },
  {
   "cell_type": "code",
   "execution_count": null,
   "metadata": {},
   "outputs": [],
   "source": [
    "def calculate_metric_for_combo(combo, rpc_heights):\n",
    "    locations = np.array([c['location'] for c in combo])\n",
    "    heights = np.array([rpc_heights[c['rpc']] for c in combo])\n",
    "    uncertainties = np.array([c['uncertainty'] for c in combo])  \n",
    "    weights = 1 / uncertainties**2\n",
    "\n",
    "    try:\n",
    "        coeffs= np.polyfit(heights, locations, 1, cov=False, w=weights)\n",
    "    except np.linalg.LinAlgError:\n",
    "        coeffs = [np.inf, np.inf]\n",
    "        # cov = np.array([[np.inf, np.inf], [np.inf, np.inf]])\n",
    "\n",
    "    slope, intercept = coeffs\n",
    "    # slope_error, intercept_error = np.sqrt(np.diag(cov))\n",
    "    slope_error, intercept_error = 0, 0\n",
    "    predicted = slope * heights + intercept\n",
    "    residuals = locations - predicted\n",
    "    RSS = np.sum(residuals ** 2)\n",
    "\n",
    "    return slope, intercept, slope_error, intercept_error, RSS, combo\n",
    "\n",
    "def analyze_inter_rpc_hit_with_timing_adjusted(df,n):\n",
    "    rpc_time_offsets = {\n",
    "    ('rpc0', 'eta'): (7.94, 12.48),\n",
    "    ('rpc0', 'phi'): (-2.38, 13.69),\n",
    "    ('rpc1', 'eta'): (8.36, 12.22),\n",
    "    ('rpc1', 'phi'): (-3.79, 13.25),\n",
    "    ('rpc2', 'eta'): (8.84, 12.56),\n",
    "    ('rpc2', 'phi'): (-4.35, 13.57),\n",
    "    ('rpc3', 'eta'): (6.86, 12.41),\n",
    "    ('rpc3', 'phi'): (-4.3, 13.96),\n",
    "    ('rpc4', 'eta'): (2.7, 12.37),\n",
    "    ('rpc4', 'phi'): (-7.89, 13.41),\n",
    "    ('rpc5', 'eta'): (2.82, 13.05),\n",
    "    ('rpc5', 'phi'): (9.15, 14.14),\n",
    "}\n",
    "    paths = []\n",
    "\n",
    "    adjusted_muon_speed_cm_ns = 28\n",
    "\n",
    "    rpc_heights = {\n",
    "        'rpc0': 0, \n",
    "        'rpc1': 0.5, \n",
    "        'rpc2': 1.0, \n",
    "        'rpc3': 61.5, \n",
    "        'rpc4': 121.5, \n",
    "        'rpc5': 122.0\n",
    "    }\n",
    "\n",
    "    for event_number, event_group in tqdm(df.groupby('event_number'), desc=\"Processing Events\"):\n",
    "        for direction in ['eta', 'phi']:\n",
    "            direction_group = event_group[event_group['strip_direction'] == direction]\n",
    "            all_clusters = []\n",
    "\n",
    "            unique_rpcs = direction_group['rpc_number'].unique()\n",
    "            if len(unique_rpcs) < n:\n",
    "                break\n",
    "            for rpc in unique_rpcs:\n",
    "                rpc_group = direction_group[direction_group['rpc_number'] == rpc]\n",
    "                for _, row in rpc_group.iterrows():\n",
    "                    location_scaling = 3.09375 if direction == 'eta' else 2.8125\n",
    "                    strip_locations = np.array(row['locations'])\n",
    "                    non_zero_locations = strip_locations[strip_locations != 0]\n",
    "                    if non_zero_locations.size > 0:\n",
    "                        strip_location = non_zero_locations[0] \n",
    "                    else:\n",
    "                        continue \n",
    "\n",
    "                    location = strip_location * location_scaling\n",
    "                    event_time = np.mean(row['times']) - rpc_time_offsets[(rpc, direction)][0]\n",
    "                    cluster_size_scaled = max(row['size'] * location_scaling, location_scaling) / 2\n",
    "                    all_clusters.append({\n",
    "                        'rpc': rpc,\n",
    "                        'location': location,\n",
    "                        'event_time': event_time,\n",
    "                        'uncertainty': cluster_size_scaled,\n",
    "                        'original_location': strip_location\n",
    "                    })\n",
    "\n",
    "            combination_metrics = []\n",
    "            valid_combinations = [] \n",
    "            \n",
    "            for combo in combinations(all_clusters, n):\n",
    "                if len({c['rpc'] for c in combo}) != len(combo):\n",
    "                    continue  # Skip combinations where RPCs are not unique\n",
    "\n",
    "                time_diffs_are_valid = True\n",
    "                for i in range(len(combo)):\n",
    "                    for j in range(i + 1, len(combo)):\n",
    "                        error_window = rpc_time_offsets[(combo[i]['rpc'], direction)][1] + rpc_time_offsets[(combo[j]['rpc'], direction)][1]\n",
    "                        height_diff = abs(rpc_heights[combo[i]['rpc']] - rpc_heights[combo[j]['rpc']])\n",
    "                        time_diff = abs(combo[i]['event_time'] - combo[j]['event_time'])\n",
    "                        expected_time_diff = height_diff / adjusted_muon_speed_cm_ns\n",
    "                        uncertainty_margin = 5\n",
    "\n",
    "                        if not (time_diff <= expected_time_diff + error_window + uncertainty_margin):\n",
    "                            time_diffs_are_valid = False\n",
    "                            break\n",
    "                    if not time_diffs_are_valid:\n",
    "                        break\n",
    "\n",
    "                if not time_diffs_are_valid:\n",
    "                    continue  # Skip to the next combination if time differences are invalid\n",
    "\n",
    "                # Calculate metrics only for valid combinations\n",
    "                metric = calculate_metric_for_combo(combo, rpc_heights)\n",
    "                if metric[4] <= 10:\n",
    "                    valid_combinations.append(metric)\n",
    "                    \n",
    "\n",
    "            for valid_combination in valid_combinations:\n",
    "                paths.append({\n",
    "                    'Event Number': event_number,\n",
    "                    'Direction': direction,\n",
    "                    'Slope': valid_combination[0],\n",
    "                    'Intercept': valid_combination[1],\n",
    "                    'Slope_error': valid_combination[2],\n",
    "                    'Intercept_error': valid_combination[3],\n",
    "                    'Used Coordinates': [(c['rpc'], c['original_location'], c['event_time']) for c in valid_combination[-1]],\n",
    "                    'RSS': valid_combination[4],\n",
    "                })\n",
    "\n",
    "    path_df = pd.DataFrame(paths)\n",
    "    return path_df"
   ]
  },
  {
   "cell_type": "code",
   "execution_count": 128,
   "metadata": {},
   "outputs": [],
   "source": [
    "df_no_rpc0 = fully_massaged_df[fully_massaged_df['rpc_number'] != 'rpc0']\n",
    "df_no_rpc1 = fully_massaged_df[fully_massaged_df['rpc_number'] != 'rpc1']\n",
    "df_no_rpc2 = fully_massaged_df[fully_massaged_df['rpc_number'] != 'rpc2']\n",
    "df_no_rpc3 = fully_massaged_df[fully_massaged_df['rpc_number'] != 'rpc3']\n",
    "df_no_rpc4 = fully_massaged_df[fully_massaged_df['rpc_number'] != 'rpc4']\n",
    "df_no_rpc5 = fully_massaged_df[fully_massaged_df['rpc_number'] != 'rpc5']\n"
   ]
  },
  {
   "cell_type": "code",
   "execution_count": null,
   "metadata": {},
   "outputs": [
    {
     "name": "stderr",
     "output_type": "stream",
     "text": [
      "Processing Events: 100%|██████████| 86945/86945 [01:11<00:00, 1213.18it/s]\n",
      "Processing Events: 100%|██████████| 91722/91722 [02:24<00:00, 636.83it/s] \n",
      "Processing Events: 100%|██████████| 92067/92067 [01:21<00:00, 1126.55it/s]\n",
      "Processing Events: 100%|██████████| 89822/89822 [01:03<00:00, 1420.41it/s]\n",
      "Processing Events: 100%|██████████| 92721/92721 [01:16<00:00, 1210.25it/s]\n",
      "Processing Events: 100%|██████████| 92919/92919 [01:17<00:00, 1196.73it/s]\n"
     ]
    }
   ],
   "source": [
    "df_recon_no_rpc0_4 = analyze_inter_rpc_hit_with_timing_adjusted(df_no_rpc0, 5)\n",
    "df_recon_no_rpc1_4 = analyze_inter_rpc_hit_with_timing_adjusted(df_no_rpc1, 5)\n",
    "df_recon_no_rpc2_4 = analyze_inter_rpc_hit_with_timing_adjusted(df_no_rpc2, 5)\n",
    "df_recon_no_rpc3_4 = analyze_inter_rpc_hit_with_timing_adjusted(df_no_rpc3, 5)\n",
    "df_recon_no_rpc4_4 = analyze_inter_rpc_hit_with_timing_adjusted(df_no_rpc4, 5)\n",
    "df_recon_no_rpc5_4 = analyze_inter_rpc_hit_with_timing_adjusted(df_no_rpc5, 5)"
   ]
  },
  {
   "cell_type": "code",
   "execution_count": null,
   "metadata": {},
   "outputs": [],
   "source": [
    "df_recon_no_rpc0_4.to_excel('df_recon_no_rpc0_5_AtlasOFF.xlsx')\n",
    "df_recon_no_rpc1_4.to_excel('df_recon_no_rpc1_5_AtlasOFF.xlsx')\n",
    "df_recon_no_rpc2_4.to_excel('df_recon_no_rpc2_5_AtlasOFF.xlsx')\n",
    "df_recon_no_rpc3_4.to_excel('df_recon_no_rpc3_5_AtlasOFF.xlsx')\n",
    "df_recon_no_rpc4_4.to_excel('df_recon_no_rpc4_5_AtlasOFF.xlsx')\n",
    "df_recon_no_rpc5_4.to_excel('df_recon_no_rpc5_5_AtlasOFF.xlsx')"
   ]
  },
  {
   "cell_type": "code",
   "execution_count": 129,
   "metadata": {},
   "outputs": [],
   "source": [
    "df_recon_no_rpc0_4 = pd.read_excel('df_recon_no_rpc0_5_AtlasON.xlsx')\n",
    "df_recon_no_rpc1_4 = pd.read_excel('df_recon_no_rpc1_5_AtlasON.xlsx')\n",
    "df_recon_no_rpc2_4 = pd.read_excel('df_recon_no_rpc2_5_AtlasON.xlsx')\n",
    "df_recon_no_rpc3_4 = pd.read_excel('df_recon_no_rpc3_5_AtlasON.xlsx')\n",
    "df_recon_no_rpc4_4 = pd.read_excel('df_recon_no_rpc4_5_AtlasON.xlsx')\n",
    "df_recon_no_rpc5_4 = pd.read_excel('df_recon_no_rpc5_5_AtlasON.xlsx')"
   ]
  },
  {
   "cell_type": "code",
   "execution_count": 129,
   "metadata": {},
   "outputs": [
    {
     "name": "stdout",
     "output_type": "stream",
     "text": [
      "<class 'pandas.core.frame.DataFrame'>\n",
      "RangeIndex: 1253 entries, 0 to 1252\n",
      "Data columns (total 8 columns):\n",
      " #   Column            Non-Null Count  Dtype  \n",
      "---  ------            --------------  -----  \n",
      " 0   Event Number      1253 non-null   int64  \n",
      " 1   Direction         1253 non-null   object \n",
      " 2   Slope             1253 non-null   float64\n",
      " 3   Intercept         1253 non-null   float64\n",
      " 4   Slope_error       1253 non-null   int64  \n",
      " 5   Intercept_error   1253 non-null   int64  \n",
      " 6   Used Coordinates  1253 non-null   object \n",
      " 7   RSS               1253 non-null   float64\n",
      "dtypes: float64(3), int64(3), object(2)\n",
      "memory usage: 78.4+ KB\n",
      "None\n"
     ]
    }
   ],
   "source": [
    "print(df_recon_no_rpc0_4.info())"
   ]
  },
  {
   "cell_type": "code",
   "execution_count": 75,
   "metadata": {},
   "outputs": [
    {
     "name": "stderr",
     "output_type": "stream",
     "text": [
      "PandasGUI INFO — pandasgui.gui — Opening PandasGUI\n",
      "INFO:pandasgui.gui:Opening PandasGUI\n"
     ]
    },
    {
     "data": {
      "text/plain": [
       "<pandasgui.gui.PandasGui at 0x189f541edd0>"
      ]
     },
     "execution_count": 75,
     "metadata": {},
     "output_type": "execute_result"
    }
   ],
   "source": [
    "show(df_recon_no_rpc0_4.sort_values('Event Number'))"
   ]
  },
  {
   "cell_type": "code",
   "execution_count": 130,
   "metadata": {},
   "outputs": [],
   "source": [
    "df_recon_no_rpc0_4_filtered = df_recon_no_rpc0_4.groupby(['Event Number', 'Direction'], group_keys=False) \\\n",
    "              .apply(lambda x: x if len(x) == 1 else x.sort_values('RSS').iloc[:-1]) \\\n",
    "              .groupby(['Event Number', 'Direction'], as_index=False) \\\n",
    "              .apply(lambda x: x.nsmallest(1, 'RSS')) \\\n",
    "              .reset_index(drop=True)\n",
    "              \n",
    "df_recon_no_rpc1_4_filtered = df_recon_no_rpc1_4.groupby(['Event Number', 'Direction'], as_index=False, group_keys=False) \\\n",
    "              .apply(lambda x: x if len(x) == 1 else x.sort_values('RSS').iloc[:-1]) \\\n",
    "              .groupby(['Event Number', 'Direction'], as_index=False) \\\n",
    "              .apply(lambda x: x.nsmallest(1, 'RSS')) \\\n",
    "                                .reset_index(drop=True)\n",
    "df_recon_no_rpc2_4_filtered = df_recon_no_rpc2_4.groupby(['Event Number', 'Direction'], as_index=False, group_keys=False) \\\n",
    "              .apply(lambda x: x if len(x) == 1 else x.sort_values('RSS').iloc[:-1]) \\\n",
    "              .groupby(['Event Number', 'Direction'], as_index=False) \\\n",
    "              .apply(lambda x: x.nsmallest(1, 'RSS'))\\\n",
    "                                .reset_index(drop=True)\n",
    "              \n",
    "df_recon_no_rpc3_4_filtered = df_recon_no_rpc3_4.groupby(['Event Number', 'Direction'], as_index=False, group_keys=False) \\\n",
    "              .apply(lambda x: x if len(x) == 1 else x.sort_values('RSS').iloc[:-1]) \\\n",
    "              .groupby(['Event Number', 'Direction'], as_index=False) \\\n",
    "              .apply(lambda x: x.nsmallest(1, 'RSS'))\\\n",
    "                                .reset_index(drop=True)\n",
    "df_recon_no_rpc4_4_filtered = df_recon_no_rpc4_4.groupby(['Event Number', 'Direction'], as_index=False, group_keys=False) \\\n",
    "              .apply(lambda x: x if len(x) == 1 else x.sort_values('RSS').iloc[:-1]) \\\n",
    "              .groupby(['Event Number', 'Direction'], as_index=False) \\\n",
    "              .apply(lambda x: x.nsmallest(1, 'RSS'))\\\n",
    "                                .reset_index(drop=True)\n",
    "df_recon_no_rpc5_4_filtered = df_recon_no_rpc5_4.groupby(['Event Number', 'Direction'], as_index=False, group_keys=False) \\\n",
    "              .apply(lambda x: x if len(x) == 1 else x.sort_values('RSS').iloc[:-1]) \\\n",
    "              .groupby(['Event Number', 'Direction'], as_index=False) \\\n",
    "              .apply(lambda x: x.nsmallest(1, 'RSS'))\\\n",
    "                                .reset_index(drop=True)"
   ]
  },
  {
   "cell_type": "code",
   "execution_count": 74,
   "metadata": {},
   "outputs": [
    {
     "name": "stderr",
     "output_type": "stream",
     "text": [
      "PandasGUI INFO — pandasgui.gui — Opening PandasGUI\n",
      "INFO:pandasgui.gui:Opening PandasGUI\n"
     ]
    },
    {
     "data": {
      "text/plain": [
       "<pandasgui.gui.PandasGui at 0x189f541ef80>"
      ]
     },
     "execution_count": 74,
     "metadata": {},
     "output_type": "execute_result"
    }
   ],
   "source": [
    "show(df_recon_no_rpc0_4_filtered.reset_index(drop=True))"
   ]
  },
  {
   "cell_type": "code",
   "execution_count": 131,
   "metadata": {},
   "outputs": [],
   "source": [
    "df_recon_no_rpc0_4_filtered['expected hits'] = df_recon_no_rpc0_4_filtered.apply(lambda row: (row['Slope'] * 0 + row['Intercept']) / 3.09375 if row['Direction'] == 'eta' \n",
    "                               else (row['Slope'] * 0 + row['Intercept']) / 2.8125 if row['Direction'] == 'phi' \n",
    "                               else None, axis=1)\n",
    "df_recon_no_rpc1_4_filtered['expected hits'] = df_recon_no_rpc1_4_filtered.apply(lambda row: (row['Slope'] * 0 + row['Intercept']) / 3.09375 if row['Direction'] == 'eta' \n",
    "                               else (row['Slope'] * 0 + row['Intercept']) / 2.8125 if row['Direction'] == 'phi' \n",
    "                               else None, axis=1)\n",
    "df_recon_no_rpc2_4_filtered['expected hits'] = df_recon_no_rpc2_4_filtered.apply(lambda row: (row['Slope'] * 0 + row['Intercept']) / 3.09375 if row['Direction'] == 'eta' \n",
    "                               else (row['Slope'] * 0 + row['Intercept']) / 2.8125 if row['Direction'] == 'phi' \n",
    "                               else None, axis=1)\n",
    "df_recon_no_rpc3_4_filtered['expected hits'] = df_recon_no_rpc3_4_filtered.apply(lambda row: (row['Slope'] * 0 + row['Intercept']) / 3.09375 if row['Direction'] == 'eta' \n",
    "                               else (row['Slope'] * 0 + row['Intercept']) / 2.8125 if row['Direction'] == 'phi' \n",
    "                               else None, axis=1)\n",
    "df_recon_no_rpc4_4_filtered['expected hits'] = df_recon_no_rpc4_4_filtered.apply(lambda row: (row['Slope'] * 0 + row['Intercept']) / 3.09375 if row['Direction'] == 'eta' \n",
    "                               else (row['Slope'] * 0 + row['Intercept']) / 2.8125 if row['Direction'] == 'phi' \n",
    "                               else None, axis=1)\n",
    "df_recon_no_rpc5_4_filtered['expected hits'] = df_recon_no_rpc5_4_filtered.apply(lambda row: (row['Slope'] * 0 + row['Intercept']) / 3.09375 if row['Direction'] == 'eta' \n",
    "                               else (row['Slope'] * 0 + row['Intercept']) / 2.8125 if row['Direction'] == 'phi' \n",
    "                               else None, axis=1)"
   ]
  },
  {
   "cell_type": "code",
   "execution_count": 132,
   "metadata": {},
   "outputs": [
    {
     "name": "stderr",
     "output_type": "stream",
     "text": [
      "C:\\Users\\Peter\\AppData\\Local\\Temp\\ipykernel_3680\\2424636361.py:16: SettingWithCopyWarning:\n",
      "\n",
      "\n",
      "A value is trying to be set on a copy of a slice from a DataFrame.\n",
      "Try using .loc[row_indexer,col_indexer] = value instead\n",
      "\n",
      "See the caveats in the documentation: https://pandas.pydata.org/pandas-docs/stable/user_guide/indexing.html#returning-a-view-versus-a-copy\n",
      "\n",
      "C:\\Users\\Peter\\AppData\\Local\\Temp\\ipykernel_3680\\2424636361.py:17: SettingWithCopyWarning:\n",
      "\n",
      "\n",
      "A value is trying to be set on a copy of a slice from a DataFrame.\n",
      "Try using .loc[row_indexer,col_indexer] = value instead\n",
      "\n",
      "See the caveats in the documentation: https://pandas.pydata.org/pandas-docs/stable/user_guide/indexing.html#returning-a-view-versus-a-copy\n",
      "\n",
      "C:\\Users\\Peter\\AppData\\Local\\Temp\\ipykernel_3680\\2424636361.py:18: SettingWithCopyWarning:\n",
      "\n",
      "\n",
      "A value is trying to be set on a copy of a slice from a DataFrame.\n",
      "Try using .loc[row_indexer,col_indexer] = value instead\n",
      "\n",
      "See the caveats in the documentation: https://pandas.pydata.org/pandas-docs/stable/user_guide/indexing.html#returning-a-view-versus-a-copy\n",
      "\n",
      "C:\\Users\\Peter\\AppData\\Local\\Temp\\ipykernel_3680\\2424636361.py:19: SettingWithCopyWarning:\n",
      "\n",
      "\n",
      "A value is trying to be set on a copy of a slice from a DataFrame.\n",
      "Try using .loc[row_indexer,col_indexer] = value instead\n",
      "\n",
      "See the caveats in the documentation: https://pandas.pydata.org/pandas-docs/stable/user_guide/indexing.html#returning-a-view-versus-a-copy\n",
      "\n",
      "C:\\Users\\Peter\\AppData\\Local\\Temp\\ipykernel_3680\\2424636361.py:20: SettingWithCopyWarning:\n",
      "\n",
      "\n",
      "A value is trying to be set on a copy of a slice from a DataFrame.\n",
      "Try using .loc[row_indexer,col_indexer] = value instead\n",
      "\n",
      "See the caveats in the documentation: https://pandas.pydata.org/pandas-docs/stable/user_guide/indexing.html#returning-a-view-versus-a-copy\n",
      "\n",
      "C:\\Users\\Peter\\AppData\\Local\\Temp\\ipykernel_3680\\2424636361.py:21: SettingWithCopyWarning:\n",
      "\n",
      "\n",
      "A value is trying to be set on a copy of a slice from a DataFrame.\n",
      "Try using .loc[row_indexer,col_indexer] = value instead\n",
      "\n",
      "See the caveats in the documentation: https://pandas.pydata.org/pandas-docs/stable/user_guide/indexing.html#returning-a-view-versus-a-copy\n",
      "\n"
     ]
    }
   ],
   "source": [
    "fully_massaged_df_rpc0 = fully_massaged_df[fully_massaged_df['rpc_number'] == 'rpc0']\n",
    "fully_massaged_df_rpc1 = fully_massaged_df[fully_massaged_df['rpc_number'] == 'rpc1']\n",
    "fully_massaged_df_rpc2 = fully_massaged_df[fully_massaged_df['rpc_number'] == 'rpc2']\n",
    "fully_massaged_df_rpc3 = fully_massaged_df[fully_massaged_df['rpc_number'] == 'rpc3']\n",
    "fully_massaged_df_rpc4 = fully_massaged_df[fully_massaged_df['rpc_number'] == 'rpc4']\n",
    "fully_massaged_df_rpc5 = fully_massaged_df[fully_massaged_df['rpc_number'] == 'rpc5']\n",
    "\n",
    "def calculate_midpoint(locations, direction):\n",
    "    if direction == 'eta':\n",
    "        return np.mean([loc[1] for loc in locations])\n",
    "    elif direction == 'phi':\n",
    "        return np.mean([loc[0] for loc in locations])\n",
    "    return None\n",
    "\n",
    "fully_massaged_df_rpc0['midpoint'] = fully_massaged_df_rpc0.apply(lambda row: calculate_midpoint(row['locations'], row['strip_direction']), axis=1)\n",
    "fully_massaged_df_rpc1['midpoint'] = fully_massaged_df_rpc1.apply(lambda row: calculate_midpoint(row['locations'], row['strip_direction']), axis=1)\n",
    "fully_massaged_df_rpc2['midpoint'] = fully_massaged_df_rpc2.apply(lambda row: calculate_midpoint(row['locations'], row['strip_direction']), axis=1)\n",
    "fully_massaged_df_rpc3['midpoint'] = fully_massaged_df_rpc3.apply(lambda row: calculate_midpoint(row['locations'], row['strip_direction']), axis=1)\n",
    "fully_massaged_df_rpc4['midpoint'] = fully_massaged_df_rpc4.apply(lambda row: calculate_midpoint(row['locations'], row['strip_direction']), axis=1)\n",
    "fully_massaged_df_rpc5['midpoint'] = fully_massaged_df_rpc5.apply(lambda row: calculate_midpoint(row['locations'], row['strip_direction']), axis=1)\n",
    "\n",
    "merged_df0 = pd.merge(df_recon_no_rpc0_4_filtered, fully_massaged_df_rpc0, left_on=['Event Number', 'Direction'], right_on=['event_number', 'strip_direction'], how='left')\n",
    "merged_df1 = pd.merge(df_recon_no_rpc1_4_filtered, fully_massaged_df_rpc1, left_on=['Event Number', 'Direction'], right_on=['event_number', 'strip_direction'], how='left')\n",
    "merged_df2 = pd.merge(df_recon_no_rpc2_4_filtered, fully_massaged_df_rpc2, left_on=['Event Number', 'Direction'], right_on=['event_number', 'strip_direction'], how='left')\n",
    "merged_df3 = pd.merge(df_recon_no_rpc3_4_filtered, fully_massaged_df_rpc3, left_on=['Event Number', 'Direction'], right_on=['event_number', 'strip_direction'], how='left')\n",
    "merged_df4 = pd.merge(df_recon_no_rpc4_4_filtered, fully_massaged_df_rpc4, left_on=['Event Number', 'Direction'], right_on=['event_number', 'strip_direction'], how='left')\n",
    "merged_df5 = pd.merge(df_recon_no_rpc5_4_filtered, fully_massaged_df_rpc5, left_on=['Event Number', 'Direction'], right_on=['event_number', 'strip_direction'], how='left')\n",
    "\n",
    "\n",
    "merged_df0['hit_difference'] = merged_df0['expected hits'] - merged_df0['midpoint']\n",
    "merged_df1['hit_difference'] = merged_df1['expected hits'] - merged_df1['midpoint']\n",
    "merged_df2['hit_difference'] = merged_df2['expected hits'] - merged_df2['midpoint']\n",
    "merged_df3['hit_difference'] = merged_df3['expected hits'] - merged_df3['midpoint']\n",
    "merged_df4['hit_difference'] = merged_df4['expected hits'] - merged_df4['midpoint']\n",
    "merged_df5['hit_difference'] = merged_df5['expected hits'] - merged_df5['midpoint']\n",
    "\n",
    "result_df0 = merged_df0[['Event Number', 'Direction', 'expected hits', 'rpc_number', 'midpoint', 'hit_difference']]\n",
    "result_df1 = merged_df1[['Event Number', 'Direction', 'expected hits', 'rpc_number', 'midpoint', 'hit_difference']]\n",
    "result_df2 = merged_df2[['Event Number', 'Direction', 'expected hits', 'rpc_number', 'midpoint', 'hit_difference']]\n",
    "result_df3 = merged_df3[['Event Number', 'Direction', 'expected hits', 'rpc_number', 'midpoint', 'hit_difference']]\n",
    "result_df4 = merged_df4[['Event Number', 'Direction', 'expected hits', 'rpc_number', 'midpoint', 'hit_difference']]\n",
    "result_df5 = merged_df5[['Event Number', 'Direction', 'expected hits', 'rpc_number', 'midpoint', 'hit_difference']]\n"
   ]
  },
  {
   "cell_type": "code",
   "execution_count": 133,
   "metadata": {},
   "outputs": [],
   "source": [
    "eta_df0 = result_df0[result_df0['Direction'] == 'eta']\n",
    "eta_df1 = result_df1[result_df1['Direction'] == 'eta']\n",
    "eta_df2 = result_df2[result_df2['Direction'] == 'eta']\n",
    "eta_df3 = result_df3[result_df3['Direction'] == 'eta']\n",
    "eta_df4 = result_df4[result_df4['Direction'] == 'eta']\n",
    "eta_df5 = result_df5[result_df5['Direction'] == 'eta']\n",
    "\n",
    "phi_df0 = result_df0[result_df0['Direction'] == 'phi']\n",
    "phi_df1 = result_df1[result_df1['Direction'] == 'phi']\n",
    "phi_df2 = result_df2[result_df2['Direction'] == 'phi']\n",
    "phi_df3 = result_df3[result_df3['Direction'] == 'phi']\n",
    "phi_df4 = result_df4[result_df4['Direction'] == 'phi']\n",
    "phi_df5 = result_df5[result_df5['Direction'] == 'phi']"
   ]
  },
  {
   "cell_type": "code",
   "execution_count": 134,
   "metadata": {},
   "outputs": [],
   "source": [
    "def get_min_index(group):\n",
    "    if group['hit_difference'].isna().all():\n",
    "        return group.index.tolist() \n",
    "    return [group['hit_difference'].idxmin()]\n"
   ]
  },
  {
   "cell_type": "code",
   "execution_count": 135,
   "metadata": {},
   "outputs": [],
   "source": [
    "phi_df0 = phi_df0.loc[phi_df0.groupby('Event Number').apply(get_min_index).explode().astype(int)]\n",
    "phi_df1 = phi_df1.loc[phi_df1.groupby('Event Number').apply(get_min_index).explode().astype(int)]\n",
    "phi_df2 = phi_df2.loc[phi_df2.groupby('Event Number').apply(get_min_index).explode().astype(int)]\n",
    "phi_df3 = phi_df3.loc[phi_df3.groupby('Event Number').apply(get_min_index).explode().astype(int)]\n",
    "phi_df4 = phi_df4.loc[phi_df4.groupby('Event Number').apply(get_min_index).explode().astype(int)]\n",
    "phi_df5 = phi_df5.loc[phi_df5.groupby('Event Number').apply(get_min_index).explode().astype(int)]\n",
    "\n",
    "eta_df0 = eta_df0.loc[eta_df0.groupby('Event Number').apply(get_min_index).explode().astype(int)]\n",
    "eta_df1 = eta_df1.loc[eta_df1.groupby('Event Number').apply(get_min_index).explode().astype(int)]\n",
    "eta_df2 = eta_df2.loc[eta_df2.groupby('Event Number').apply(get_min_index).explode().astype(int)]\n",
    "eta_df3 = eta_df3.loc[eta_df3.groupby('Event Number').apply(get_min_index).explode().astype(int)]\n",
    "eta_df4 = eta_df4.loc[eta_df4.groupby('Event Number').apply(get_min_index).explode().astype(int)]\n",
    "eta_df5 = eta_df5.loc[eta_df5.groupby('Event Number').apply(get_min_index).explode().astype(int)]\n",
    "\n"
   ]
  },
  {
   "cell_type": "code",
   "execution_count": 138,
   "metadata": {},
   "outputs": [],
   "source": [
    "thresholds = range(33)  \n",
    "\n",
    "eta_df = [eta_df0, eta_df1, eta_df2, eta_df3, eta_df4, eta_df5]\n",
    "\n",
    "efficiencies = [[],[],[],[],[],[]]\n",
    "\n",
    "label_rpc = ['missing rpc0', 'missing rpc1', 'missing rpc2', 'missing rpc3', 'missing rpc4', 'missing rpc5']\n",
    "\n",
    "for i in range(6):\n",
    "    for threshold in thresholds:\n",
    "        valid_hits = eta_df[i].dropna(subset=['hit_difference'])\n",
    "\n",
    "        count_valid = valid_hits[(valid_hits['hit_difference'].abs() <= threshold) & (~valid_hits['hit_difference'].isna())].shape[0]\n",
    "\n",
    "        total_valid = eta_df[i].shape[0]\n",
    "\n",
    "        efficiency = count_valid / total_valid if total_valid > 0 else 0\n",
    "        efficiencies[i].append(efficiency)\n",
    "\n",
    "plt.figure(figsize=(20, 12))\n",
    "for i in range(6):\n",
    "    plt.plot(thresholds, efficiencies[i], marker='o', label = label_rpc[i])\n",
    "plt.title('Efficiency vs Hit Difference Threshold for ETA Direction RPC0 any 5 AtlasOn')\n",
    "plt.xlabel('Hit Difference Threshold in Number of Strips')\n",
    "plt.ylabel('Efficiency')\n",
    "plt.legend()\n",
    "plt.grid(True)\n",
    "plt.show()"
   ]
  },
  {
   "cell_type": "code",
   "execution_count": 118,
   "metadata": {},
   "outputs": [],
   "source": [
    "thresholds = range(63)  \n",
    "\n",
    "phi_df = [phi_df0, phi_df1, phi_df2, phi_df3, phi_df4, phi_df5]\n",
    "\n",
    "efficiencies = [[],[],[],[],[],[]]\n",
    "\n",
    "label_rpc = ['missing rpc0', 'missing rpc1', 'missing rpc2', 'missing rpc3', 'missing rpc4', 'missing rpc5']\n",
    "\n",
    "for i in range(6):\n",
    "    for threshold in thresholds:\n",
    "        valid_hits = phi_df[i].dropna(subset=['hit_difference'])\n",
    "\n",
    "        count_valid = valid_hits[(valid_hits['hit_difference'].abs() <= threshold) & (~valid_hits['hit_difference'].isna())].shape[0]\n",
    "\n",
    "        total_valid = phi_df[i].shape[0]\n",
    "\n",
    "        efficiency = count_valid / total_valid if total_valid > 0 else 0\n",
    "        efficiencies[i].append(efficiency)\n",
    "\n",
    "plt.figure(figsize=(20, 12))\n",
    "for i in range(6):\n",
    "    plt.plot(thresholds, efficiencies[i], marker='o', label = label_rpc[i])\n",
    "plt.title('Efficiency vs Hit Difference Threshold for PHI Direction RPC0 any 5 AtlasOn')\n",
    "plt.xlabel('Hit Difference Threshold in Number of Strips')\n",
    "plt.ylabel('Efficiency')\n",
    "plt.legend()\n",
    "plt.grid(True)\n",
    "plt.show()"
   ]
  },
  {
   "cell_type": "code",
   "execution_count": 119,
   "metadata": {},
   "outputs": [],
   "source": [
    "combined_df = [[],[],[],[],[],[]]\n",
    "\n",
    "efficiencies = [[],[],[],[],[],[]]\n",
    "\n",
    "label_rpc = ['missing rpc0', 'missing rpc1', 'missing rpc2', 'missing rpc3', 'missing rpc4', 'missing rpc5']\n",
    "\n",
    "thresholds = range(70)  \n",
    "\n",
    "for i in range(6):\n",
    "    combined_df[i] = pd.merge(eta_df[i], phi_df[i], on='Event Number', how='inner')\n",
    "    \n",
    "    \n",
    "for i in range(6):\n",
    "    for threshold in thresholds:\n",
    "        valid_hits = combined_df[i].dropna(subset=['hit_difference_x', 'hit_difference_y'], how='any')\n",
    "\n",
    "        count_valid = valid_hits[((valid_hits['hit_difference_x'].abs()) ** 2 + (valid_hits['hit_difference_y'].abs()) ** 2 <= threshold ** 2)].shape[0]\n",
    "\n",
    "        total_valid = combined_df[i].shape[0]\n",
    "        \n",
    "        efficiency = count_valid / total_valid if total_valid > 0 else 0\n",
    "        efficiencies[i].append(efficiency)\n",
    "\n",
    "\n",
    "plt.figure(figsize=(20, 12))\n",
    "for i in range(6):\n",
    "    plt.plot(thresholds, efficiencies[i], marker='o', label = label_rpc[i])\n",
    "plt.title('Efficiency vs Hit Difference Threshold for Eta Phi Combined any 5 AtlasOn')\n",
    "plt.xlabel('Hit Difference Threshold in Number of Strips')\n",
    "plt.ylabel('Efficiency')\n",
    "plt.legend()\n",
    "plt.grid(True)\n",
    "plt.show()\n",
    "    "
   ]
  },
  {
   "cell_type": "code",
   "execution_count": 31,
   "metadata": {},
   "outputs": [
    {
     "name": "stderr",
     "output_type": "stream",
     "text": [
      "PandasGUI INFO — pandasgui.gui — Opening PandasGUI\n",
      "INFO:pandasgui.gui:Opening PandasGUI\n"
     ]
    },
    {
     "data": {
      "text/plain": [
       "<pandasgui.gui.PandasGui at 0x189df18d5a0>"
      ]
     },
     "execution_count": 31,
     "metadata": {},
     "output_type": "execute_result"
    }
   ],
   "source": [
    "show(combined_df[0])"
   ]
  },
  {
   "cell_type": "code",
   "execution_count": 32,
   "metadata": {},
   "outputs": [
    {
     "name": "stderr",
     "output_type": "stream",
     "text": [
      "PandasGUI INFO — pandasgui.gui — Opening PandasGUI\n",
      "INFO:pandasgui.gui:Opening PandasGUI\n"
     ]
    },
    {
     "data": {
      "text/plain": [
       "<pandasgui.gui.PandasGui at 0x189f295a050>"
      ]
     },
     "execution_count": 32,
     "metadata": {},
     "output_type": "execute_result"
    }
   ],
   "source": [
    "show(eta_df0)"
   ]
  },
  {
   "cell_type": "markdown",
   "metadata": {},
   "source": [
    "Chi2 Analysis"
   ]
  },
  {
   "cell_type": "code",
   "execution_count": 149,
   "metadata": {},
   "outputs": [],
   "source": [
    "df_chi2 = [df_recon_no_rpc0_4_filtered, df_recon_no_rpc1_4_filtered, df_recon_no_rpc2_4_filtered, df_recon_no_rpc3_4_filtered, df_recon_no_rpc4_4_filtered, df_recon_no_rpc5_4_filtered]\n",
    "df_chi2_unfiltered = [df_recon_no_rpc0_4, df_recon_no_rpc1_4, df_recon_no_rpc2_4, df_recon_no_rpc3_4, df_recon_no_rpc4_4, df_recon_no_rpc5_4]\n",
    "\n",
    "label_rpc = ['missing rpc0', 'missing rpc1', 'missing rpc2', 'missing rpc3', 'missing rpc4', 'missing rpc5']\n",
    "\n",
    "for i in range(len(df_chi2)):\n",
    "    df_chi2[i]['Chi_squared'] = df_chi2[i]['RSS'] / 1.333\n",
    "\n",
    "plt.figure(figsize=(10, 6))\n",
    "for i in range(len(df_chi2)):\n",
    "    plt.hist(df_chi2[i]['Chi_squared'], bins=500, alpha=0.75, \n",
    "             label=label_rpc[i], histtype='step', linewidth=1.3, log = True)\n",
    "plt.title('Histogram of Chi squared values')\n",
    "plt.xlabel('Chi squared value Atlas Off')\n",
    "plt.ylabel('Number of Occurance')\n",
    "plt.legend()\n",
    "plt.grid(True)\n",
    "plt.show()"
   ]
  },
  {
   "cell_type": "code",
   "execution_count": 177,
   "metadata": {},
   "outputs": [],
   "source": [
    "df_chi2 = [df_recon_no_rpc0_4_filtered, df_recon_no_rpc1_4_filtered, df_recon_no_rpc2_4_filtered, df_recon_no_rpc3_4_filtered, df_recon_no_rpc4_4_filtered, df_recon_no_rpc5_4_filtered]\n",
    "df_chi2_unfiltered = [df_recon_no_rpc0_4, df_recon_no_rpc1_4, df_recon_no_rpc2_4, df_recon_no_rpc3_4, df_recon_no_rpc4_4, df_recon_no_rpc5_4]\n",
    "\n",
    "label_rpc = ['missing rpc0', 'missing rpc1', 'missing rpc2', 'missing rpc3', 'missing rpc4', 'missing rpc5']\n",
    "\n",
    "for i in range(len(df_chi2)):\n",
    "    df_chi2[i]['Chi_squared'] = df_chi2[i]['RSS'] / 1\n",
    "\n",
    "plt.figure(figsize=(10, 6))\n",
    "for i in range(len(df_chi2)):\n",
    "    plt.hist(df_chi2[i]['Chi_squared'], bins=500, alpha=0.75, \n",
    "             label=label_rpc[i], log = True)\n",
    "plt.title('Histogram of Chi squared values')\n",
    "plt.xlabel('Chi squared value Atlas ON')\n",
    "plt.ylabel('Number of Occurance')\n",
    "plt.legend()\n",
    "plt.grid(True)\n",
    "plt.show()"
   ]
  },
  {
   "cell_type": "code",
   "execution_count": 155,
   "metadata": {},
   "outputs": [
    {
     "name": "stdout",
     "output_type": "stream",
     "text": [
      "<class 'pandas.core.frame.DataFrame'>\n",
      "RangeIndex: 1132 entries, 0 to 1131\n",
      "Data columns (total 11 columns):\n",
      " #   Column            Non-Null Count  Dtype  \n",
      "---  ------            --------------  -----  \n",
      " 0   Unnamed: 0        1132 non-null   int64  \n",
      " 1   Event Number      1132 non-null   int64  \n",
      " 2   Direction         1132 non-null   object \n",
      " 3   Slope             1132 non-null   float64\n",
      " 4   Intercept         1132 non-null   float64\n",
      " 5   Slope_error       1132 non-null   int64  \n",
      " 6   Intercept_error   1132 non-null   int64  \n",
      " 7   Used Coordinates  1132 non-null   object \n",
      " 8   RSS               1132 non-null   float64\n",
      " 9   Chi_squared       1132 non-null   float64\n",
      " 10  expected hits     1132 non-null   float64\n",
      "dtypes: float64(5), int64(4), object(2)\n",
      "memory usage: 97.4+ KB\n",
      "None\n"
     ]
    }
   ],
   "source": [
    "print(df_recon_no_rpc0_4_filtered.info())"
   ]
  },
  {
   "cell_type": "code",
   "execution_count": 12,
   "metadata": {},
   "outputs": [
    {
     "name": "stderr",
     "output_type": "stream",
     "text": [
      "C:\\Users\\Peter\\AppData\\Local\\Temp\\ipykernel_3680\\220974511.py:19: SettingWithCopyWarning: \n",
      "A value is trying to be set on a copy of a slice from a DataFrame.\n",
      "Try using .loc[row_indexer,col_indexer] = value instead\n",
      "\n",
      "See the caveats in the documentation: https://pandas.pydata.org/pandas-docs/stable/user_guide/indexing.html#returning-a-view-versus-a-copy\n",
      "  df['Chi_squared'] = df['RSS'] / Variance_eta  # This is the same as just using RSS directly\n",
      "C:\\Users\\Peter\\AppData\\Local\\Temp\\ipykernel_3680\\220974511.py:21: SettingWithCopyWarning: \n",
      "A value is trying to be set on a copy of a slice from a DataFrame.\n",
      "Try using .loc[row_indexer,col_indexer] = value instead\n",
      "\n",
      "See the caveats in the documentation: https://pandas.pydata.org/pandas-docs/stable/user_guide/indexing.html#returning-a-view-versus-a-copy\n",
      "  df['Chi_squared'] = df['RSS'] / Variance_phi  # This is the same as just using RSS directly\n"
     ]
    }
   ],
   "source": [
    "df_chi2 = [df_recon_no_rpc0_4_filtered, df_recon_no_rpc1_4_filtered, df_recon_no_rpc2_4_filtered, df_recon_no_rpc3_4_filtered, df_recon_no_rpc4_4_filtered, df_recon_no_rpc5_4_filtered]\n",
    "label_rpc = ['missing rpc0', 'missing rpc1', 'missing rpc2', 'missing rpc3', 'missing rpc4', 'missing rpc5']\n",
    "df_eta_list = []\n",
    "df_phi_list = []\n",
    "                    \n",
    "Variance_eta = ( 0.5 * 3.09375) ** 2 / 12\n",
    "Variance_phi = ( 0.5 * 2.8125) ** 2 / 12\n",
    "\n",
    "for df in df_chi2:\n",
    "    df_eta = df[df['Direction'] == 'eta']\n",
    "    df_phi = df[df['Direction'] == 'phi']\n",
    "    \n",
    "    # Append to lists\n",
    "    df_eta_list.append(df_eta)\n",
    "    df_phi_list.append(df_phi)\n",
    "\n",
    "# Calculate Chi_squared values\n",
    "for df in df_eta_list:\n",
    "    df['Chi_squared'] = df['RSS'] / Variance_eta \n",
    "for df in df_phi_list:\n",
    "    df['Chi_squared'] = df['RSS'] / Variance_phi \n",
    "\n",
    "plt.figure(figsize=(10, 6))\n",
    "for i, df in enumerate(df_eta_list):\n",
    "    plt.hist(df['Chi_squared'], bins=500, alpha=0.75, label=label_rpc[i], log = True)\n",
    "\n",
    "\n",
    "plt.title('Histogram of Chi squared values')\n",
    "plt.xlabel('Chi squared value Eta Atlas Off')\n",
    "plt.ylabel('Number of Occurrence')\n",
    "plt.legend()\n",
    "plt.grid(True)\n",
    "plt.show()\n",
    "\n",
    "plt.figure(figsize=(10, 6))\n",
    "for i, df in enumerate(df_phi_list):\n",
    "    plt.hist(df['Chi_squared'], bins=500, alpha=0.75, label=label_rpc[i], log=True)\n",
    "\n",
    "plt.title('Histogram of Chi squared values')\n",
    "plt.xlabel('Chi squared value Phi Atlas Off')\n",
    "plt.ylabel('Number of Occurrence')\n",
    "plt.legend()\n",
    "plt.grid(True)\n",
    "plt.show()"
   ]
  },
  {
   "cell_type": "code",
   "execution_count": 187,
   "metadata": {},
   "outputs": [
    {
     "name": "stderr",
     "output_type": "stream",
     "text": [
      "PandasGUI INFO — pandasgui.gui — Opening PandasGUI\n",
      "INFO:pandasgui.gui:Opening PandasGUI\n"
     ]
    },
    {
     "data": {
      "text/plain": [
       "<pandasgui.gui.PandasGui at 0x252e8b44a60>"
      ]
     },
     "execution_count": 187,
     "metadata": {},
     "output_type": "execute_result"
    }
   ],
   "source": [
    "show(df_eta_list[0])"
   ]
  },
  {
   "cell_type": "code",
   "execution_count": 151,
   "metadata": {},
   "outputs": [
    {
     "name": "stderr",
     "output_type": "stream",
     "text": [
      "PandasGUI INFO — pandasgui.gui — Opening PandasGUI\n",
      "INFO:pandasgui.gui:Opening PandasGUI\n"
     ]
    },
    {
     "data": {
      "text/plain": [
       "<pandasgui.gui.PandasGui at 0x2520393bd90>"
      ]
     },
     "execution_count": 151,
     "metadata": {},
     "output_type": "execute_result"
    }
   ],
   "source": [
    "show(df_recon_no_rpc0_4_filtered)"
   ]
  },
  {
   "cell_type": "code",
   "execution_count": 13,
   "metadata": {},
   "outputs": [
    {
     "ename": "NameError",
     "evalue": "name 'eta_df0' is not defined",
     "output_type": "error",
     "traceback": [
      "\u001b[1;31m---------------------------------------------------------------------------\u001b[0m",
      "\u001b[1;31mNameError\u001b[0m                                 Traceback (most recent call last)",
      "Cell \u001b[1;32mIn[13], line 1\u001b[0m\n\u001b[1;32m----> 1\u001b[0m show(\u001b[43meta_df0\u001b[49m)\n",
      "\u001b[1;31mNameError\u001b[0m: name 'eta_df0' is not defined"
     ]
    }
   ],
   "source": [
    "show(eta_df0)"
   ]
  },
  {
   "cell_type": "code",
   "execution_count": null,
   "metadata": {},
   "outputs": [],
   "source": []
  },
  {
   "cell_type": "code",
   "execution_count": 34,
   "metadata": {},
   "outputs": [],
   "source": [
    "thresholds = range(33)  \n",
    "\n",
    "eta_df = [eta_df0, eta_df1, eta_df2, eta_df3, eta_df4, eta_df5]\n",
    "\n",
    "\n",
    "efficiencies = [[],[],[],[],[],[]]\n",
    "\n",
    "label_rpc = ['missing rpc0', 'missing rpc1', 'missing rpc2', 'missing rpc3', 'missing rpc4', 'missing rpc5']\n",
    "\n",
    "for i in range(3):\n",
    "    for threshold in thresholds:\n",
    "        valid_hits = eta_df[i].dropna(subset=['hit_difference'])\n",
    "\n",
    "        count_valid = valid_hits[(valid_hits['hit_difference'].abs() <= threshold) & (~valid_hits['hit_difference'].isna())].shape[0]\n",
    "\n",
    "        total_valid = eta_df[i].shape[0]\n",
    "\n",
    "        efficiency = count_valid / total_valid if total_valid > 0 else 0\n",
    "        efficiencies[i].append(efficiency)\n",
    "\n",
    "plt.figure(figsize=(20, 12))\n",
    "for i in range(3):\n",
    "    plt.plot(thresholds, efficiencies[i], marker='o', label = label_rpc[i])\n",
    "plt.title('Efficiency vs Hit Difference Threshold for ETA Direction any 5 AtlasOFF')\n",
    "plt.xlabel('Hit Difference Threshold in Number of Strips')\n",
    "plt.ylabel('Efficiency')\n",
    "plt.legend()\n",
    "plt.grid(True)\n",
    "plt.show()"
   ]
  },
  {
   "cell_type": "code",
   "execution_count": 37,
   "metadata": {},
   "outputs": [],
   "source": [
    "thresholds = range(63)  \n",
    "\n",
    "phi_df = [phi_df0, phi_df1, phi_df2, phi_df3, phi_df4, phi_df5]\n",
    "\n",
    "efficiencies = [[],[],[],[],[],[]]\n",
    "\n",
    "label_rpc = ['missing rpc0', 'missing rpc1', 'missing rpc2', 'missing rpc3', 'missing rpc4', 'missing rpc5']\n",
    "\n",
    "for i in range(3):\n",
    "    for threshold in thresholds:\n",
    "        valid_hits = phi_df[i].dropna(subset=['hit_difference'])\n",
    "\n",
    "        count_valid = valid_hits[(valid_hits['hit_difference'].abs() <= threshold) & (~valid_hits['hit_difference'].isna())].shape[0]\n",
    "\n",
    "        total_valid = phi_df[i].shape[0]\n",
    "\n",
    "        efficiency = count_valid / total_valid if total_valid > 0 else 0\n",
    "        efficiencies[i].append(efficiency)\n",
    "\n",
    "plt.figure(figsize=(20, 12))\n",
    "for i in range(3):\n",
    "    plt.plot(thresholds, efficiencies[i], marker='o', label = label_rpc[i])\n",
    "plt.title('Efficiency vs Hit Difference Threshold for PHI Direction any 5 AtlasOFF')\n",
    "plt.xlabel('Hit Difference Threshold in Number of Strips')\n",
    "plt.ylabel('Efficiency')\n",
    "plt.legend()\n",
    "plt.grid(True)\n",
    "plt.show()"
   ]
  },
  {
   "cell_type": "code",
   "execution_count": 38,
   "metadata": {},
   "outputs": [],
   "source": [
    "combined_df = [[],[],[],[],[],[]]\n",
    "\n",
    "efficiencies = [[],[],[],[],[],[]]\n",
    "\n",
    "label_rpc = ['missing rpc0', 'missing rpc1', 'missing rpc2', 'missing rpc3', 'missing rpc4', 'missing rpc5']\n",
    "\n",
    "thresholds = range(70)  \n",
    "\n",
    "for i in range(3):\n",
    "    combined_df[i] = pd.merge(eta_df[i], phi_df[i], on='Event Number', how='inner')\n",
    "    \n",
    "    \n",
    "for i in range(3):\n",
    "    for threshold in thresholds:\n",
    "        valid_hits = combined_df[i].dropna(subset=['hit_difference_x', 'hit_difference_y'], how='any')\n",
    "\n",
    "        count_valid = valid_hits[((valid_hits['hit_difference_x'].abs()) ** 2 + (valid_hits['hit_difference_y'].abs()) ** 2 <= threshold ** 2)].shape[0]\n",
    "\n",
    "        total_valid = combined_df[i].shape[0]\n",
    "\n",
    "        \n",
    "        efficiency = count_valid / total_valid if total_valid > 0 else 0\n",
    "        efficiencies[i].append(efficiency)\n",
    "\n",
    "\n",
    "plt.figure(figsize=(20, 12))\n",
    "for i in range(3):\n",
    "    plt.plot(thresholds, efficiencies[i], marker='o', label = label_rpc[i])\n",
    "plt.title('Efficiency vs Hit Difference Threshold for Eta Phi Combined any 5 AtlasOFF')\n",
    "plt.xlabel('Hit Difference Threshold in Number of Strips')\n",
    "plt.ylabel('Efficiency')\n",
    "plt.legend()\n",
    "plt.grid(True)\n",
    "plt.show()\n",
    "    "
   ]
  },
  {
   "cell_type": "markdown",
   "metadata": {},
   "source": [
    "Separate them into TDCs Using a reverse Mapping"
   ]
  },
  {
   "cell_type": "code",
   "execution_count": 43,
   "metadata": {},
   "outputs": [
    {
     "name": "stderr",
     "output_type": "stream",
     "text": [
      "PandasGUI INFO — pandasgui.gui — Opening PandasGUI\n",
      "INFO:pandasgui.gui:Opening PandasGUI\n"
     ]
    },
    {
     "data": {
      "text/plain": [
       "<pandasgui.gui.PandasGui at 0x187c1153640>"
      ]
     },
     "execution_count": 43,
     "metadata": {},
     "output_type": "execute_result"
    }
   ],
   "source": [
    "show(phi_df1)"
   ]
  },
  {
   "cell_type": "code",
   "execution_count": 136,
   "metadata": {},
   "outputs": [
    {
     "name": "stdout",
     "output_type": "stream",
     "text": [
      "('rpc0', 'eta') : [(0, 32, 0)]\n",
      "('rpc0', 'phi') : [(0, 64, 0)]\n",
      "('rpc1', 'eta') : [(0, 32, 0)]\n",
      "('rpc1', 'phi') : [(0, 64, 1)]\n",
      "('rpc2', 'eta') : [(0, 32, 1)]\n",
      "('rpc2', 'phi') : [(0, 64, 1)]\n",
      "('rpc3', 'eta') : [(0, 32, 2)]\n",
      "('rpc3', 'phi') : [(0, 64, 2)]\n",
      "('rpc4', 'eta') : [(0, 32, 3)]\n",
      "('rpc4', 'phi') : [(0, 64, 3)]\n",
      "('rpc5', 'eta') : [(0, 32, 3)]\n",
      "('rpc5', 'phi') : [(0, 64, 4)]\n",
      "0\n"
     ]
    }
   ],
   "source": [
    "reversed_mapping = {\n",
    "    ('rpc0', 'eta'): [(0, 32, 0)],\n",
    "    ('rpc0', 'phi'): [(0, 64, 0)],\n",
    "    ('rpc1', 'eta'): [(0, 32, 0)],\n",
    "    ('rpc1', 'phi'): [(0, 64, 1)],\n",
    "    ('rpc2', 'eta'): [(0, 32, 1)],\n",
    "    ('rpc2', 'phi'): [(0, 64, 1)],\n",
    "    ('rpc3', 'eta'): [(0, 32, 2)],\n",
    "    ('rpc3', 'phi'): [(0, 64, 2)],\n",
    "    ('rpc4', 'eta'): [(0, 32, 3)],\n",
    "    ('rpc4', 'phi'): [(0, 64, 3)],\n",
    "    ('rpc5', 'eta'): [(0, 32, 3)],\n",
    "    ('rpc5', 'phi'): [(0, 64, 4)]\n",
    "}\n",
    "\n",
    "for key, value in reversed_mapping.items():\n",
    "    print(key, \":\", value)\n",
    "    \n",
    "def compute_tdc_number(rpc, direction, expected_hits, mapping):\n",
    "    if (rpc, direction) in mapping:\n",
    "        for (start, end, chip) in mapping[(rpc, direction)]:  \n",
    "\n",
    "            if start <= expected_hits <= end:\n",
    "\n",
    "                return int(chip)\n",
    "    return None  \n",
    "\n",
    "print(compute_tdc_number('rpc1', 'eta', 12.021, reversed_mapping))"
   ]
  },
  {
   "cell_type": "code",
   "execution_count": 64,
   "metadata": {},
   "outputs": [
    {
     "name": "stderr",
     "output_type": "stream",
     "text": [
      "PandasGUI INFO — pandasgui.gui — Opening PandasGUI\n",
      "INFO:pandasgui.gui:Opening PandasGUI\n"
     ]
    },
    {
     "data": {
      "text/plain": [
       "<pandasgui.gui.PandasGui at 0x1876d58b880>"
      ]
     },
     "execution_count": 64,
     "metadata": {},
     "output_type": "execute_result"
    }
   ],
   "source": [
    "show(eta_df0)"
   ]
  },
  {
   "cell_type": "code",
   "execution_count": 137,
   "metadata": {},
   "outputs": [],
   "source": [
    "eta_df = [eta_df0, eta_df1, eta_df2, eta_df3, eta_df4, eta_df5]\n",
    "phi_df = [phi_df0, phi_df1, phi_df2, phi_df3, phi_df4, phi_df5]\n",
    "rpc_number = ['rpc0', 'rpc1', 'rpc2', 'rpc3', 'rpc4', 'rpc5']\n",
    "for i in range(6):\n",
    "    eta_df[i]['TDC Number'] = eta_df[i].apply(\n",
    "        lambda row: compute_tdc_number(rpc_number[i], row['Direction'], -row['expected hits'], reversed_mapping)\n",
    "        if pd.notna(row['expected hits']) else None,\n",
    "        axis = 1\n",
    "    )\n",
    "    phi_df[i]['TDC Number'] = phi_df[i].apply(\n",
    "        lambda row: compute_tdc_number(rpc_number[i], row['Direction'], row['expected hits'], reversed_mapping)\n",
    "        if pd.notna(row['expected hits']) else None,\n",
    "        axis = 1\n",
    "    )\n",
    "\n",
    "    "
   ]
  },
  {
   "cell_type": "code",
   "execution_count": 138,
   "metadata": {},
   "outputs": [],
   "source": [
    "combined_eta_df = pd.concat(eta_df, ignore_index=True)\n",
    "combined_phi_df = pd.concat(phi_df, ignore_index=True)\n",
    "\n",
    "# Now concatenate the two resulting DataFrames vertically as well\n",
    "combined_df = pd.concat([combined_eta_df, combined_phi_df], ignore_index=True)"
   ]
  },
  {
   "cell_type": "code",
   "execution_count": 111,
   "metadata": {},
   "outputs": [
    {
     "name": "stderr",
     "output_type": "stream",
     "text": [
      "PandasGUI INFO — pandasgui.gui — Opening PandasGUI\n",
      "INFO:pandasgui.gui:Opening PandasGUI\n"
     ]
    },
    {
     "data": {
      "text/plain": [
       "<pandasgui.gui.PandasGui at 0x187703a6290>"
      ]
     },
     "execution_count": 111,
     "metadata": {},
     "output_type": "execute_result"
    }
   ],
   "source": [
    "show(combined_df)"
   ]
  },
  {
   "cell_type": "code",
   "execution_count": 112,
   "metadata": {},
   "outputs": [
    {
     "name": "stdout",
     "output_type": "stream",
     "text": [
      "<class 'pandas.core.frame.DataFrame'>\n",
      "RangeIndex: 7542 entries, 0 to 7541\n",
      "Data columns (total 7 columns):\n",
      " #   Column          Non-Null Count  Dtype  \n",
      "---  ------          --------------  -----  \n",
      " 0   Event Number    7542 non-null   int64  \n",
      " 1   Direction       7542 non-null   object \n",
      " 2   expected hits   7542 non-null   float64\n",
      " 3   rpc_number      5388 non-null   object \n",
      " 4   midpoint        5388 non-null   float64\n",
      " 5   hit_difference  5388 non-null   float64\n",
      " 6   TDC Number      7542 non-null   int64  \n",
      "dtypes: float64(3), int64(2), object(2)\n",
      "memory usage: 412.6+ KB\n",
      "None\n"
     ]
    }
   ],
   "source": [
    "print(combined_df.info())"
   ]
  },
  {
   "cell_type": "code",
   "execution_count": 139,
   "metadata": {},
   "outputs": [],
   "source": [
    "tdc_numbers = combined_df['TDC Number'].unique()  \n",
    "\n",
    "tdc_dfs = {}\n",
    "\n",
    "for tdc_number in tdc_numbers:\n",
    "    tdc_dfs[tdc_number] = combined_df[combined_df['TDC Number'] == tdc_number]\n",
    "\n",
    "df_tdc_0 = tdc_dfs[0]\n",
    "\n",
    "df_tdc_1 = tdc_dfs[1]\n",
    "df_tdc_2 = tdc_dfs[2]\n",
    "df_tdc_3 = tdc_dfs[3]\n",
    "df_tdc_4 = tdc_dfs[4]"
   ]
  },
  {
   "cell_type": "code",
   "execution_count": 115,
   "metadata": {},
   "outputs": [
    {
     "name": "stderr",
     "output_type": "stream",
     "text": [
      "PandasGUI INFO — pandasgui.gui — Opening PandasGUI\n",
      "INFO:pandasgui.gui:Opening PandasGUI\n"
     ]
    },
    {
     "data": {
      "text/plain": [
       "<pandasgui.gui.PandasGui at 0x18770022f80>"
      ]
     },
     "execution_count": 115,
     "metadata": {},
     "output_type": "execute_result"
    }
   ],
   "source": [
    "show(df_tdc_0)"
   ]
  },
  {
   "cell_type": "code",
   "execution_count": 140,
   "metadata": {},
   "outputs": [],
   "source": [
    "thresholds = 3\n",
    "df_tdc = [df_tdc_0, df_tdc_1, df_tdc_2, df_tdc_3, df_tdc_4]\n",
    "\n",
    "efficiencies = []\n",
    "\n",
    "label_tdc = ['tdc0', 'tdc1', 'tdc2', 'tdc3', 'tdc4']\n",
    "\n",
    "for i in range(5):\n",
    "    valid_hits = df_tdc[i].dropna(subset=['hit_difference'])\n",
    "    count_valid = valid_hits[valid_hits['hit_difference'].abs() <= thresholds].shape[0]\n",
    "    total_valid = df_tdc[i].shape[0]\n",
    "    efficiency = count_valid / total_valid if total_valid > 0 else 0\n",
    "    efficiencies.append(efficiency)\n",
    "\n",
    "plt.figure(figsize=(10, 6))\n",
    "plt.bar(label_tdc, efficiencies, color='blue')\n",
    "plt.title('Efficiency vs TDC Number for ETA Direction any 5 AtlasON')\n",
    "plt.xlabel('TDC Number')\n",
    "plt.ylabel('Efficiency')\n",
    "plt.ylim(0, 1)  # Set y-axis limits to show from 0 to 100% efficiency\n",
    "plt.grid(axis='y', linestyle='--', alpha=0.7)\n",
    "plt.show()"
   ]
  }
 ],
 "metadata": {
  "kernelspec": {
   "display_name": ".venv",
   "language": "python",
   "name": "python3"
  },
  "language_info": {
   "codemirror_mode": {
    "name": "ipython",
    "version": 3
   },
   "file_extension": ".py",
   "mimetype": "text/x-python",
   "name": "python",
   "nbconvert_exporter": "python",
   "pygments_lexer": "ipython3",
   "version": "3.10.11"
  }
 },
 "nbformat": 4,
 "nbformat_minor": 2
}
