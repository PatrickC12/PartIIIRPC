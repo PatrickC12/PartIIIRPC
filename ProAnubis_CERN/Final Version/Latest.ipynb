{
 "cells": [
  {
   "cell_type": "code",
   "execution_count": 99,
   "metadata": {},
   "outputs": [],
   "source": [
    "from PIL import Image\n",
    "import h5py\n",
    "import anubisPlotUtils as anPlot\n",
    "import json\n",
    "import numpy as np\n",
    "import os\n",
    "import hist as hi\n",
    "import matplotlib\n",
    "import matplotlib.pyplot as plt\n",
    "from itertools import combinations\n",
    "import matplotlib.colors as colors\n",
    "matplotlib.use('TkAgg')  # or 'Qt5Agg', 'GTK3Agg', etc.\n",
    "import mplhep as hep\n",
    "hep.style.use([hep.style.ATLAS])\n",
    "import sys\n",
    "import AnalysisToolAnubis as AT\n",
    "import seaborn as sns\n",
    "import pandas as pd\n",
    "import tkinter as tk\n",
    "from tkinter import ttk\n",
    "from pandasgui import show\n",
    "from matplotlib.patches import Circle\n",
    "from matplotlib.backends.backend_pdf import PdfPages\n",
    "from scipy.signal import convolve2d\n",
    "from scipy.ndimage import label, find_objects\n",
    "from scipy.spatial.distance import pdist, squareform\n",
    "from matplotlib.backends.backend_pdf import PdfPages\n",
    "import ipywidgets as widgets\n",
    "from IPython.display import display\n",
    "import sys\n",
    "from scipy.stats import gaussian_kde\n",
    "import tkinter as tk\n",
    "from tkinter import ttk\n",
    "import matplotlib.pyplot as plt\n",
    "from matplotlib.backends.backend_tkagg import FigureCanvasTkAgg\n",
    "from matplotlib.ticker import MaxNLocator\n",
    "import AnubisSuperScript as ass\n",
    "from functools import partial\n",
    "import importlib\n",
    "from tqdm import tqdm\n",
    "importlib.reload(ass)\n",
    "import ast"
   ]
  },
  {
   "cell_type": "code",
   "execution_count": null,
   "metadata": {},
   "outputs": [],
   "source": []
  },
  {
   "cell_type": "code",
   "execution_count": 100,
   "metadata": {},
   "outputs": [],
   "source": [
    "\n",
    "mapping = {\n",
    "    0: {\n",
    "        (0, 31): ('rpc0', 'eta'),\n",
    "        (32, 63): ('rpc0', 'phi1'),\n",
    "        (64, 95): ('rpc0', 'phi2'),\n",
    "        (96, 127): ('rpc1', 'eta'),\n",
    "    },\n",
    "    1: {\n",
    "        (0, 31): ('rpc1', 'phi1'),\n",
    "        (32, 63): ('rpc1', 'phi2'),\n",
    "        (64, 95): ('rpc2', 'eta'),\n",
    "        (96, 127): ('rpc2', 'phi1'),\n",
    "    },\n",
    "    2: {\n",
    "        (0, 31): ('rpc2', 'phi2'),\n",
    "        (32, 63): ('rpc3', 'eta'),\n",
    "        (64, 95): ('rpc3', 'phi1'),\n",
    "        (96, 127): ('rpc3', 'phi2'),\n",
    "    },\n",
    "    3: {\n",
    "        (0, 31): ('rpc4', 'eta'),\n",
    "        (32, 63): ('rpc4', 'phi1'),\n",
    "        (64, 95): ('rpc4', 'phi2'),\n",
    "        (96, 127): ('rpc5', 'eta'),\n",
    "    },\n",
    "    4: {\n",
    "        (0, 31): ('rpc5', 'phi1'),\n",
    "        (32, 63): ('rpc5', 'phi2'),\n",
    "    },\n",
    "}\n",
    "\n",
    "strips_on_steroid = {\n",
    "    'rpc0': {'phi': [0]},\n",
    "    'rpc1': {'phi': [0]},\n",
    "    'rpc2': {'phi': [0]},\n",
    "    'rpc3': {'phi': [0]},\n",
    "    'rpc4': {'eta': [31,0], 'phi': [0]},\n",
    "    'rpc5': {'eta': [31,0], 'phi': [0]},\n",
    "}\n"
   ]
  },
  {
   "cell_type": "code",
   "execution_count": 3,
   "metadata": {},
   "outputs": [],
   "source": [
    "thisData = AT.importDatafile('C:\\\\Users\\\\Peter\\\\OneDrive - University of Cambridge\\\\Desktop\\\\Project Excel Work\\\\PartIIIRPC\\\\ProAnubis_CERN\\\\ProAnubisData\\\\proAnubis_240403_0227.h5')"
   ]
  },
  {
   "cell_type": "code",
   "execution_count": 101,
   "metadata": {},
   "outputs": [],
   "source": [
    "thisData = AT.importDatafile('C:\\\\Users\\\\Peter\\\\OneDrive - University of Cambridge\\\\Desktop\\\\Project Excel Work\\\\PartIIIRPC\\\\ProAnubis_CERN\\\\ProAnubisData\\\\threeHourRun_24_3_1.h5')\n",
    "thisData = [sublist[:94230] for sublist in thisData]"
   ]
  },
  {
   "cell_type": "code",
   "execution_count": 9,
   "metadata": {},
   "outputs": [],
   "source": [
    "thisData = [sublist[94230:188460] for sublist in thisData]"
   ]
  },
  {
   "cell_type": "code",
   "execution_count": 102,
   "metadata": {},
   "outputs": [],
   "source": [
    "etaHits, phiHits = ass.divideHitCountsByRPC_Timed(thisData)"
   ]
  },
  {
   "cell_type": "code",
   "execution_count": 103,
   "metadata": {},
   "outputs": [],
   "source": [
    "df = ass.remake_data(thisData, mapping)"
   ]
  },
  {
   "cell_type": "code",
   "execution_count": 104,
   "metadata": {},
   "outputs": [],
   "source": [
    "df_clean = df[df['time'] <= 500]\n",
    "df_clean = df_clean[df_clean['time'] >= 0]"
   ]
  },
  {
   "cell_type": "code",
   "execution_count": null,
   "metadata": {},
   "outputs": [],
   "source": [
    "remove_noisy_strips_with_map = partial(ass.remove_noisy_strips, noisy_strips=strips_on_steroid)\n",
    "anti_steriod_df = cluster_df[cluster_df.apply(lambda row: remove_noisy_strips_with_map(row), axis=1)]"
   ]
  },
  {
   "cell_type": "code",
   "execution_count": 105,
   "metadata": {},
   "outputs": [],
   "source": [
    "cluster_df = ass.calculate_cluster_metrics_better(df_clean, 15)"
   ]
  },
  {
   "cell_type": "code",
   "execution_count": 106,
   "metadata": {},
   "outputs": [],
   "source": [
    "remove_noisy_strips_with_map = partial(ass.remove_noisy_strips, noisy_strips=strips_on_steroid)\n",
    "anti_steriod_df = cluster_df[cluster_df.apply(lambda row: remove_noisy_strips_with_map(row), axis=1)]"
   ]
  },
  {
   "cell_type": "code",
   "execution_count": 68,
   "metadata": {},
   "outputs": [
    {
     "name": "stderr",
     "output_type": "stream",
     "text": [
      "PandasGUI INFO — pandasgui.gui — Opening PandasGUI\n",
      "INFO:pandasgui.gui:Opening PandasGUI\n"
     ]
    },
    {
     "data": {
      "text/plain": [
       "<pandasgui.gui.PandasGui at 0x223fc8012d0>"
      ]
     },
     "execution_count": 68,
     "metadata": {},
     "output_type": "execute_result"
    }
   ],
   "source": [
    "show(cluster_df)"
   ]
  },
  {
   "cell_type": "code",
   "execution_count": 107,
   "metadata": {},
   "outputs": [],
   "source": [
    "def filter_groups(group):\n",
    "    has_eta = 'eta' in group['strip_direction'].values\n",
    "    has_phi = 'phi' in group['strip_direction'].values\n",
    "    return has_eta and has_phi\n",
    "\n",
    "filtered_cluster = anti_steriod_df.groupby(['event_number', 'rpc_number']).filter(filter_groups)"
   ]
  },
  {
   "cell_type": "code",
   "execution_count": 13,
   "metadata": {},
   "outputs": [
    {
     "name": "stdout",
     "output_type": "stream",
     "text": [
      "<class 'pandas.core.frame.DataFrame'>\n",
      "Int64Index: 697379 entries, 0 to 839726\n",
      "Data columns (total 8 columns):\n",
      " #   Column           Non-Null Count   Dtype \n",
      "---  ------           --------------   ----- \n",
      " 0   event_number     697379 non-null  int64 \n",
      " 1   rpc_number       697379 non-null  object\n",
      " 2   strip_direction  697379 non-null  object\n",
      " 3   locations        697379 non-null  object\n",
      " 4   times            697379 non-null  object\n",
      " 5   start_time       697379 non-null  int64 \n",
      " 6   end_time         697379 non-null  int64 \n",
      " 7   size             697379 non-null  int64 \n",
      "dtypes: int64(4), object(4)\n",
      "memory usage: 47.9+ MB\n",
      "None\n"
     ]
    }
   ],
   "source": [
    "print(filtered_cluster.info())"
   ]
  },
  {
   "cell_type": "code",
   "execution_count": 18,
   "metadata": {},
   "outputs": [
    {
     "name": "stderr",
     "output_type": "stream",
     "text": [
      "PandasGUI INFO — pandasgui.gui — Opening PandasGUI\n",
      "INFO:pandasgui.gui:Opening PandasGUI\n"
     ]
    },
    {
     "data": {
      "text/plain": [
       "<pandasgui.gui.PandasGui at 0x189de893eb0>"
      ]
     },
     "execution_count": 18,
     "metadata": {},
     "output_type": "execute_result"
    }
   ],
   "source": [
    "show(filtered_cluster.sort_values(by=['event_number', 'rpc_number']))"
   ]
  },
  {
   "cell_type": "code",
   "execution_count": 10,
   "metadata": {},
   "outputs": [
    {
     "name": "stdout",
     "output_type": "stream",
     "text": [
      "<class 'pandas.core.frame.DataFrame'>\n",
      "RangeIndex: 839727 entries, 0 to 839726\n",
      "Data columns (total 8 columns):\n",
      " #   Column           Non-Null Count   Dtype \n",
      "---  ------           --------------   ----- \n",
      " 0   event_number     839727 non-null  int64 \n",
      " 1   rpc_number       839727 non-null  object\n",
      " 2   strip_direction  839727 non-null  object\n",
      " 3   locations        839727 non-null  object\n",
      " 4   times            839727 non-null  object\n",
      " 5   start_time       839727 non-null  int64 \n",
      " 6   end_time         839727 non-null  int64 \n",
      " 7   size             839727 non-null  int64 \n",
      "dtypes: int64(4), object(4)\n",
      "memory usage: 51.3+ MB\n",
      "None\n"
     ]
    }
   ],
   "source": [
    "show(cluster_df(cluster_df['size'] > 15))"
   ]
  },
  {
   "cell_type": "code",
   "execution_count": 176,
   "metadata": {},
   "outputs": [],
   "source": [
    "fully_massaged_df = filtered_cluster[filtered_cluster['size'] <= 1]"
   ]
  },
  {
   "cell_type": "code",
   "execution_count": 29,
   "metadata": {},
   "outputs": [
    {
     "name": "stdout",
     "output_type": "stream",
     "text": [
      "         event_number rpc_number strip_direction   locations  times  \\\n",
      "3                   1       rpc1             eta  [[0, -22]]  [245]   \n",
      "5                   2       rpc0             eta  [[0, -15]]  [304]   \n",
      "6                   2       rpc0             eta  [[0, -18]]  [493]   \n",
      "7                   2       rpc1             eta  [[0, -18]]  [269]   \n",
      "8                   2       rpc1             eta  [[0, -15]]  [267]   \n",
      "...               ...        ...             ...         ...    ...   \n",
      "1001804         92219       rpc5             phi    [[0, 0]]  [274]   \n",
      "1001805         92219       rpc5             phi    [[0, 0]]  [374]   \n",
      "1001807         92229       rpc5             phi    [[5, 0]]  [291]   \n",
      "1001815         92238       rpc5             phi   [[32, 0]]  [240]   \n",
      "1001816         92238       rpc5             phi   [[33, 0]]  [232]   \n",
      "\n",
      "         start_time  end_time  size  \n",
      "3               245       245     1  \n",
      "5               304       304     1  \n",
      "6               493       493     1  \n",
      "7               269       269     1  \n",
      "8               267       267     1  \n",
      "...             ...       ...   ...  \n",
      "1001804         274       274     1  \n",
      "1001805         374       374     1  \n",
      "1001807         291       291     1  \n",
      "1001815         240       240     1  \n",
      "1001816         232       232     1  \n",
      "\n",
      "[430445 rows x 8 columns]\n"
     ]
    }
   ],
   "source": [
    "print(fully_massaged_df)"
   ]
  },
  {
   "cell_type": "code",
   "execution_count": 57,
   "metadata": {},
   "outputs": [
    {
     "name": "stderr",
     "output_type": "stream",
     "text": [
      "PandasGUI INFO — pandasgui.gui — Opening PandasGUI\n",
      "INFO:pandasgui.gui:Opening PandasGUI\n"
     ]
    },
    {
     "data": {
      "text/plain": [
       "<pandasgui.gui.PandasGui at 0x21451ea2d40>"
      ]
     },
     "execution_count": 57,
     "metadata": {},
     "output_type": "execute_result"
    }
   ],
   "source": [
    "show(fully_massaged_df.sort_values(by = ['event_number', 'strip_direction']))"
   ]
  },
  {
   "cell_type": "code",
   "execution_count": 212,
   "metadata": {},
   "outputs": [
    {
     "name": "stderr",
     "output_type": "stream",
     "text": [
      "PandasGUI INFO — pandasgui.gui — Opening PandasGUI\n",
      "INFO:pandasgui.gui:Opening PandasGUI\n"
     ]
    },
    {
     "data": {
      "text/plain": [
       "<pandasgui.gui.PandasGui at 0x214b097f010>"
      ]
     },
     "execution_count": 212,
     "metadata": {},
     "output_type": "execute_result"
    }
   ],
   "source": [
    "show(fully_massaged_df.head(10))"
   ]
  },
  {
   "cell_type": "code",
   "execution_count": 228,
   "metadata": {},
   "outputs": [],
   "source": [
    "strip_locations = np.array(fully_massaged_df.iloc[0]['locations'])\n",
    "non_zero_locations = strip_locations[strip_locations != 0]\n",
    "if non_zero_locations.size > 0:\n",
    "    strip_location = np.mean(non_zero_locations)"
   ]
  },
  {
   "cell_type": "code",
   "execution_count": 229,
   "metadata": {},
   "outputs": [
    {
     "name": "stdout",
     "output_type": "stream",
     "text": [
      "-14.333333333333334\n"
     ]
    }
   ],
   "source": [
    "print(strip_location)"
   ]
  },
  {
   "cell_type": "code",
   "execution_count": 321,
   "metadata": {},
   "outputs": [],
   "source": [
    "\n",
    "def calculate_metric_for_combo(combo, rpc_heights):\n",
    "    locations = np.array([c['location'] for c in combo])\n",
    "    heights = np.array([rpc_heights[c['rpc']] for c in combo])\n",
    "    uncertainties = np.array([c['uncertainty'] for c in combo])  \n",
    "    weights = 1 / (uncertainties)**2\n",
    "\n",
    "    try:\n",
    "        coeffs= np.polyfit(locations, heights, 1, cov=False, w=weights)\n",
    "    except np.linalg.LinAlgError:\n",
    "        coeffs = [np.inf, np.inf]\n",
    "        # cov = np.array([[np.inf, np.inf], [np.inf, np.inf]])\n",
    "\n",
    "    slope, intercept = 1/coeffs[0], -coeffs[1]/coeffs[0]\n",
    "    # slope_error, intercept_error = np.sqrt(np.diag(cov))\n",
    "    slope_error, intercept_error = 0, 0\n",
    "    predicted = slope * heights + intercept\n",
    "    residuals = locations - predicted\n",
    "    RSS = np.sum(residuals ** 2)\n",
    "\n",
    "    return slope, intercept, slope_error, intercept_error, RSS, combo\n",
    "\n",
    "def analyze_inter_rpc_hit_with_timing_adjusted(df,n):\n",
    "    rpc_time_offsets = {\n",
    "    ('rpc0', 'eta'): (7.94, 12.48),\n",
    "    ('rpc0', 'phi'): (-2.38, 13.69),\n",
    "    ('rpc1', 'eta'): (8.36, 12.22),\n",
    "    ('rpc1', 'phi'): (-3.79, 13.25),\n",
    "    ('rpc2', 'eta'): (8.84, 12.56),\n",
    "    ('rpc2', 'phi'): (-4.35, 13.57),\n",
    "    ('rpc3', 'eta'): (6.86, 12.41),\n",
    "    ('rpc3', 'phi'): (-4.3, 13.96),\n",
    "    ('rpc4', 'eta'): (2.7, 12.37),\n",
    "    ('rpc4', 'phi'): (-7.89, 13.41),\n",
    "    ('rpc5', 'eta'): (2.82, 13.05),\n",
    "    ('rpc5', 'phi'): (9.15, 14.14),\n",
    "}\n",
    "    paths = []\n",
    "\n",
    "    adjusted_muon_speed_cm_ns = 28\n",
    "\n",
    "    rpc_heights = {\n",
    "        'rpc0': 0, \n",
    "        'rpc1': 0.8, \n",
    "        'rpc2': 1.6, \n",
    "        'rpc3': 61.6, \n",
    "        'rpc4': 120.8, \n",
    "        'rpc5': 121.6\n",
    "    }\n",
    "\n",
    "    for event_number, event_group in tqdm(df.groupby('event_number'), desc=\"Processing Events\"):\n",
    "        if len(event_group) > 1:\n",
    "            continue\n",
    "        for direction in ['eta', 'phi']:\n",
    "            direction_group = event_group[event_group['strip_direction'] == direction]\n",
    "            all_clusters = []\n",
    "\n",
    "            unique_rpcs = direction_group['rpc_number'].unique()\n",
    "            if len(unique_rpcs) < n:\n",
    "                break\n",
    "            for rpc in unique_rpcs:\n",
    "                rpc_group = direction_group[direction_group['rpc_number'] == rpc]\n",
    "                for _, row in rpc_group.iterrows():\n",
    "                    location_scaling =  .09375 if direction == 'eta' else 2.8125\n",
    "                    strip_locations = np.array(row['locations'])\n",
    "                    non_zero_locations = strip_locations[strip_locations != 0]\n",
    "                    if non_zero_locations.size > 0:\n",
    "                        strip_location = non_zero_locations[0] \n",
    "                    else:\n",
    "                        continue \n",
    "\n",
    "                    location = strip_location * location_scaling\n",
    "                    event_time = np.mean(row['times']) - rpc_time_offsets[(rpc, direction)][0]\n",
    "                    cluster_size_scaled = max(row['size'] * location_scaling, location_scaling) / 2\n",
    "                    all_clusters.append({\n",
    "                        'rpc': rpc,\n",
    "                        'location': location,\n",
    "                        'event_time': event_time,\n",
    "                        'uncertainty': cluster_size_scaled,\n",
    "                        'original_location': strip_location\n",
    "                    })\n",
    "\n",
    "            combination_metrics = []\n",
    "            valid_combinations = [] \n",
    "            for combo_size in range(n, len(unique_rpcs) + 1):\n",
    "                for combo in combinations(all_clusters, combo_size):\n",
    "                    if len({c['rpc'] for c in combo}) != len(combo):\n",
    "                        continue  # Skip combinations where RPCs are not unique\n",
    "\n",
    "                    time_diffs_are_valid = True\n",
    "                    for i in range(len(combo)):\n",
    "                        for j in range(i + 1, len(combo)):\n",
    "                            error_window = rpc_time_offsets[(combo[i]['rpc'], direction)][1] + rpc_time_offsets[(combo[j]['rpc'], direction)][1]\n",
    "                            height_diff = abs(rpc_heights[combo[i]['rpc']] - rpc_heights[combo[j]['rpc']])\n",
    "                            time_diff = abs(combo[i]['event_time'] - combo[j]['event_time'])\n",
    "                            expected_time_diff = height_diff / adjusted_muon_speed_cm_ns\n",
    "                            uncertainty_margin = 10\n",
    "\n",
    "                            if not (time_diff <= expected_time_diff + error_window + uncertainty_margin):\n",
    "                                time_diffs_are_valid = False\n",
    "                                break\n",
    "                        if not time_diffs_are_valid:\n",
    "                            break\n",
    "\n",
    "                    if not time_diffs_are_valid:\n",
    "                        continue  # Skip to the next combination if time differences are invalid\n",
    "\n",
    "                    # Calculate metrics only for valid combinations\n",
    "                    metric = calculate_metric_for_combo(combo, rpc_heights)\n",
    "                    if metric[4] <= 2:\n",
    "                        valid_combinations.append(metric)\n",
    "                        \n",
    "\n",
    "                for valid_combination in valid_combinations:\n",
    "                    paths.append({\n",
    "                        'Event Number': event_number,\n",
    "                        'Direction': direction,\n",
    "                        'Slope': valid_combination[0],\n",
    "                        'Intercept': valid_combination[1],\n",
    "                        'Slope_error': valid_combination[2],\n",
    "                        'Intercept_error': valid_combination[3],\n",
    "                        'Used Coordinates': [(c['rpc'], c['original_location'], c['event_time']) for c in valid_combination[-1]],\n",
    "                        'RSS': valid_combination[4],\n",
    "                    })\n",
    "\n",
    "    path_df = pd.DataFrame(paths)\n",
    "    return path_df"
   ]
  },
  {
   "cell_type": "code",
   "execution_count": 177,
   "metadata": {},
   "outputs": [],
   "source": [
    "scale_eta = 2.5\n",
    "scale_phi = 2.5\n",
    "var_eta = (scale_eta * scale_eta) / 12  \n",
    "var_phi = (scale_phi * scale_phi) / 12 \n",
    "def calculate_metric_for_combo(combo, rpc_heights, direction):\n",
    "    locations = np.array([c['location'] for c in combo])\n",
    "    heights = np.array([rpc_heights[c['rpc']] for c in combo])\n",
    "    uncertainties = np.array([c['uncertainty'] for c in combo])\n",
    "    weights = 1 /  (uncertainties ** 2)\n",
    "    try:\n",
    "        coeffs, res, _, _, _ = np.polyfit(heights, locations, 1, full=True)\n",
    "    except np.linalg.LinAlgError:\n",
    "        coeffs = [np.inf, np.inf] \n",
    "    # slope, intercept = 1/coeffs[0], -coeffs[1]/coeffs[0]\n",
    "    slope, intercept = coeffs\n",
    "    predictions = slope * heights + intercept\n",
    "    residuals = locations - predictions\n",
    "    weighted_residuals = residuals ** 2\n",
    "    RSS = np.sum(weighted_residuals)\n",
    "    sigma_squared = var_eta if direction == 'eta' else var_phi\n",
    "    chi_squared = np.sum(res / sigma_squared)\n",
    "    chi_squared_norm = chi_squared / (len(combo)-2) \n",
    "    # chi_squared_norm = chi_squared\n",
    "\n",
    "    return slope, intercept, chi_squared_norm, RSS, combo\n",
    "\n",
    "def analyze_inter_rpc_hit_with_timing_adjusted(df,n):\n",
    "    rpc_time_offsets = {\n",
    "    ('rpc0', 'eta'): (0, 15),\n",
    "    ('rpc0', 'phi'): (0, 15),\n",
    "    ('rpc1', 'eta'): (0, 15),\n",
    "    ('rpc1', 'phi'): (0, 15),\n",
    "    ('rpc2', 'eta'): (0, 15),\n",
    "    ('rpc2', 'phi'): (0, 15),\n",
    "    ('rpc3', 'eta'): (0, 15),\n",
    "    ('rpc3', 'phi'): (0, 15),\n",
    "    ('rpc4', 'eta'): (0, 15),\n",
    "    ('rpc4', 'phi'): (0, 15),\n",
    "    ('rpc5', 'eta'): (0, 15),\n",
    "    ('rpc5', 'phi'): (0, 15),\n",
    "}\n",
    "    paths = []\n",
    "\n",
    "    adjusted_muon_speed_cm_ns = 20\n",
    "\n",
    "    rpc_heights = {\n",
    "        'rpc0': 0, \n",
    "        'rpc1': 0.8, \n",
    "        'rpc2': 1.6, \n",
    "        'rpc3': 61.6, \n",
    "        'rpc4': 120.8, \n",
    "        'rpc5': 121.6\n",
    "    }\n",
    "\n",
    "\n",
    "    for event_number, event_group in tqdm(df.groupby('event_number'), desc=\"Processing Events\"):\n",
    "        if len(event_group) > 50:\n",
    "            continue\n",
    "        for direction in ['eta', 'phi']:\n",
    "            direction_group = event_group[event_group['strip_direction'] == direction]\n",
    "            all_clusters = []\n",
    "\n",
    "            unique_rpcs = direction_group['rpc_number'].unique()\n",
    "            if len(unique_rpcs) < n:\n",
    "                break\n",
    "            for rpc in unique_rpcs:\n",
    "                rpc_group = direction_group[direction_group['rpc_number'] == rpc]\n",
    "                for _, row in rpc_group.iterrows():\n",
    "                    location_scaling = scale_eta if direction == 'eta' else scale_phi\n",
    "                    strip_locations = np.array(row['locations'])\n",
    "                    non_zero_locations = strip_locations[strip_locations != 0]\n",
    "                    if non_zero_locations.size > 0:\n",
    "                        strip_location = np.mean(non_zero_locations)\n",
    "                    else:\n",
    "                        continue \n",
    "\n",
    "                    location = strip_location * location_scaling\n",
    "                    event_time = np.min(row['times']) - rpc_time_offsets[(rpc, direction)][0]\n",
    "                    event_time_diff = (np.max(row['times']) - np.min(row['times'])) / len(row['times'])\n",
    "                    cluster_size_scaled = max(row['size'] * location_scaling, location_scaling)\n",
    "                    all_clusters.append({\n",
    "                        'rpc': rpc,\n",
    "                        'location': location,\n",
    "                        'event_time': event_time,\n",
    "                        'event_time_diff': event_time_diff,\n",
    "                        'uncertainty': cluster_size_scaled,\n",
    "                        'original_location': strip_location\n",
    "                    })\n",
    "\n",
    "            combination_metrics = []\n",
    "            valid_combinations = [] \n",
    "            for combo_size in range(n, len(unique_rpcs) + 1):\n",
    "                for combo in combinations(all_clusters, combo_size):\n",
    "                    if len({c['rpc'] for c in combo}) != len(combo):\n",
    "                        continue  # Skip combinations where RPCs are not unique\n",
    "\n",
    "                    time_diffs_are_valid = True\n",
    "                    for i in range(len(combo)):\n",
    "                        for j in range(i + 1, len(combo)):\n",
    "                            error_window = rpc_time_offsets[(combo[i]['rpc'], direction)][1] + rpc_time_offsets[(combo[j]['rpc'], direction)][1]\n",
    "                            height_diff = abs(rpc_heights[combo[i]['rpc']] - rpc_heights[combo[j]['rpc']])\n",
    "                            time_diff = abs(combo[i]['event_time'] - combo[j]['event_time'])\n",
    "                            expected_time_diff = height_diff / adjusted_muon_speed_cm_ns\n",
    "                            uncertainty_margin = 0\n",
    "\n",
    "                            if not (time_diff <= expected_time_diff + error_window + uncertainty_margin):\n",
    "                                time_diffs_are_valid = False\n",
    "                                break\n",
    "                        if not time_diffs_are_valid:\n",
    "                            break\n",
    "\n",
    "                    if not time_diffs_are_valid:\n",
    "                        continue  # Skip to the next combination if time differences are invalid\n",
    "\n",
    "                    # Calculate metrics only for valid combinations\n",
    "                    metric = calculate_metric_for_combo(combo, rpc_heights, direction)\n",
    "                    if metric[2] <= 3.5:\n",
    "                        valid_combinations.append(metric)\n",
    "                        \n",
    "\n",
    "                for valid_combination in valid_combinations:\n",
    "                    paths.append({\n",
    "                        'Event Number': event_number,\n",
    "                        'Direction': direction,\n",
    "                        'Slope': valid_combination[0],\n",
    "                        'Intercept': valid_combination[1],\n",
    "                        'Used Coordinates': [(c['rpc'], c['original_location'], c['event_time']) for c in valid_combination[-1]],\n",
    "                        'chi2 norm': valid_combination[2],\n",
    "                        'RSS': valid_combination[3]\n",
    "                    })\n",
    "\n",
    "    path_df = pd.DataFrame(paths)\n",
    "    return path_df"
   ]
  },
  {
   "cell_type": "code",
   "execution_count": 374,
   "metadata": {},
   "outputs": [
    {
     "name": "stderr",
     "output_type": "stream",
     "text": [
      "PandasGUI INFO — pandasgui.gui — Opening PandasGUI\n",
      "INFO:pandasgui.gui:Opening PandasGUI\n"
     ]
    },
    {
     "data": {
      "text/plain": [
       "<pandasgui.gui.PandasGui at 0x1f593749f30>"
      ]
     },
     "execution_count": 374,
     "metadata": {},
     "output_type": "execute_result"
    }
   ],
   "source": [
    "show(Reconstructed_df_6)"
   ]
  },
  {
   "cell_type": "markdown",
   "metadata": {},
   "source": [
    "Chi2 Analysis Best here\n"
   ]
  },
  {
   "cell_type": "code",
   "execution_count": 178,
   "metadata": {},
   "outputs": [
    {
     "name": "stderr",
     "output_type": "stream",
     "text": [
      "Processing Events: 100%|██████████| 81517/81517 [01:17<00:00, 1051.60it/s]\n"
     ]
    }
   ],
   "source": [
    "Reconstructed_df_6 = analyze_inter_rpc_hit_with_timing_adjusted(fully_massaged_df, 3)"
   ]
  },
  {
   "cell_type": "code",
   "execution_count": 561,
   "metadata": {},
   "outputs": [
    {
     "name": "stderr",
     "output_type": "stream",
     "text": [
      "PandasGUI INFO — pandasgui.gui — Opening PandasGUI\n",
      "INFO:pandasgui.gui:Opening PandasGUI\n"
     ]
    },
    {
     "data": {
      "text/plain": [
       "<pandasgui.gui.PandasGui at 0x23fdac225f0>"
      ]
     },
     "execution_count": 561,
     "metadata": {},
     "output_type": "execute_result"
    }
   ],
   "source": [
    "show(Reconstructed_df_6)"
   ]
  },
  {
   "cell_type": "code",
   "execution_count": 431,
   "metadata": {},
   "outputs": [
    {
     "name": "stderr",
     "output_type": "stream",
     "text": [
      "Processing Events: 100%|██████████| 206130/206130 [01:28<00:00, 2319.54it/s]\n"
     ]
    }
   ],
   "source": [
    "Temp = analyze_inter_rpc_hit_with_timing_adjusted(fully_massaged_df, 5)"
   ]
  },
  {
   "cell_type": "code",
   "execution_count": 232,
   "metadata": {},
   "outputs": [],
   "source": [
    "df_no_rpc3 = fully_massaged_df[fully_massaged_df['rpc_number'] != 'rpc3']"
   ]
  },
  {
   "cell_type": "markdown",
   "metadata": {},
   "source": []
  },
  {
   "cell_type": "code",
   "execution_count": 233,
   "metadata": {},
   "outputs": [
    {
     "name": "stderr",
     "output_type": "stream",
     "text": [
      "Processing Events: 100%|██████████| 89822/89822 [00:26<00:00, 3326.75it/s]\n"
     ]
    }
   ],
   "source": [
    "Reconstructed_df_6 = analyze_inter_rpc_hit_with_timing_adjusted(df_no_rpc3, 5)"
   ]
  },
  {
   "cell_type": "code",
   "execution_count": 48,
   "metadata": {},
   "outputs": [
    {
     "name": "stderr",
     "output_type": "stream",
     "text": [
      "PandasGUI INFO — pandasgui.gui — Opening PandasGUI\n",
      "INFO:pandasgui.gui:Opening PandasGUI\n"
     ]
    },
    {
     "data": {
      "text/plain": [
       "<pandasgui.gui.PandasGui at 0x230d36ae950>"
      ]
     },
     "execution_count": 48,
     "metadata": {},
     "output_type": "execute_result"
    }
   ],
   "source": [
    "show(Reconstructed_df_6)"
   ]
  },
  {
   "cell_type": "code",
   "execution_count": 92,
   "metadata": {},
   "outputs": [],
   "source": [
    "Reconstructed_df_6.to_excel('Reconstructed_df_5.xlsx')"
   ]
  },
  {
   "cell_type": "code",
   "execution_count": 153,
   "metadata": {},
   "outputs": [],
   "source": [
    "Reconstructed_df_3 = pd.read_excel('Reconstructed_df_3.xlsx')"
   ]
  },
  {
   "cell_type": "code",
   "execution_count": 444,
   "metadata": {},
   "outputs": [
    {
     "name": "stderr",
     "output_type": "stream",
     "text": [
      "PandasGUI INFO — pandasgui.gui — Opening PandasGUI\n",
      "INFO:pandasgui.gui:Opening PandasGUI\n"
     ]
    },
    {
     "ename": "KeyboardInterrupt",
     "evalue": "",
     "output_type": "error",
     "traceback": [
      "\u001b[1;31m---------------------------------------------------------------------------\u001b[0m",
      "\u001b[1;31mTypeError\u001b[0m                                 Traceback (most recent call last)",
      "File \u001b[1;32mc:\\Users\\Peter\\OneDrive - University of Cambridge\\Desktop\\Project Excel Work\\PartIIIRPC\\.venv\\lib\\site-packages\\pandasgui\\utility.py:170\u001b[0m, in \u001b[0;36mnunique\u001b[1;34m(df)\u001b[0m\n\u001b[0;32m    169\u001b[0m \u001b[38;5;28;01mtry\u001b[39;00m:\n\u001b[1;32m--> 170\u001b[0m     results[col] \u001b[38;5;241m=\u001b[39m \u001b[43ms\u001b[49m\u001b[38;5;241;43m.\u001b[39;49m\u001b[43mnunique\u001b[49m\u001b[43m(\u001b[49m\u001b[43m)\u001b[49m\n\u001b[0;32m    171\u001b[0m \u001b[38;5;28;01mexcept\u001b[39;00m \u001b[38;5;167;01mTypeError\u001b[39;00m \u001b[38;5;28;01mas\u001b[39;00m e:\n",
      "File \u001b[1;32mc:\\Users\\Peter\\OneDrive - University of Cambridge\\Desktop\\Project Excel Work\\PartIIIRPC\\.venv\\lib\\site-packages\\pandas\\core\\base.py:1039\u001b[0m, in \u001b[0;36mIndexOpsMixin.nunique\u001b[1;34m(self, dropna)\u001b[0m\n\u001b[0;32m   1006\u001b[0m \u001b[38;5;250m\u001b[39m\u001b[38;5;124;03m\"\"\"\u001b[39;00m\n\u001b[0;32m   1007\u001b[0m \u001b[38;5;124;03mReturn number of unique elements in the object.\u001b[39;00m\n\u001b[0;32m   1008\u001b[0m \n\u001b[1;32m   (...)\u001b[0m\n\u001b[0;32m   1037\u001b[0m \u001b[38;5;124;03m4\u001b[39;00m\n\u001b[0;32m   1038\u001b[0m \u001b[38;5;124;03m\"\"\"\u001b[39;00m\n\u001b[1;32m-> 1039\u001b[0m uniqs \u001b[38;5;241m=\u001b[39m \u001b[38;5;28;43mself\u001b[39;49m\u001b[38;5;241;43m.\u001b[39;49m\u001b[43munique\u001b[49m\u001b[43m(\u001b[49m\u001b[43m)\u001b[49m\n\u001b[0;32m   1040\u001b[0m \u001b[38;5;28;01mif\u001b[39;00m dropna:\n",
      "File \u001b[1;32mc:\\Users\\Peter\\OneDrive - University of Cambridge\\Desktop\\Project Excel Work\\PartIIIRPC\\.venv\\lib\\site-packages\\pandas\\core\\series.py:2242\u001b[0m, in \u001b[0;36mSeries.unique\u001b[1;34m(self)\u001b[0m\n\u001b[0;32m   2184\u001b[0m \u001b[38;5;250m\u001b[39m\u001b[38;5;124;03m\"\"\"\u001b[39;00m\n\u001b[0;32m   2185\u001b[0m \u001b[38;5;124;03mReturn unique values of Series object.\u001b[39;00m\n\u001b[0;32m   2186\u001b[0m \n\u001b[1;32m   (...)\u001b[0m\n\u001b[0;32m   2240\u001b[0m \u001b[38;5;124;03mCategories (3, object): ['a' < 'b' < 'c']\u001b[39;00m\n\u001b[0;32m   2241\u001b[0m \u001b[38;5;124;03m\"\"\"\u001b[39;00m\n\u001b[1;32m-> 2242\u001b[0m \u001b[38;5;28;01mreturn\u001b[39;00m \u001b[38;5;28;43msuper\u001b[39;49m\u001b[43m(\u001b[49m\u001b[43m)\u001b[49m\u001b[38;5;241;43m.\u001b[39;49m\u001b[43munique\u001b[49m\u001b[43m(\u001b[49m\u001b[43m)\u001b[49m\n",
      "File \u001b[1;32mc:\\Users\\Peter\\OneDrive - University of Cambridge\\Desktop\\Project Excel Work\\PartIIIRPC\\.venv\\lib\\site-packages\\pandas\\core\\base.py:1001\u001b[0m, in \u001b[0;36mIndexOpsMixin.unique\u001b[1;34m(self)\u001b[0m\n\u001b[0;32m   1000\u001b[0m \u001b[38;5;28;01melse\u001b[39;00m:\n\u001b[1;32m-> 1001\u001b[0m     result \u001b[38;5;241m=\u001b[39m \u001b[43munique1d\u001b[49m\u001b[43m(\u001b[49m\u001b[43mvalues\u001b[49m\u001b[43m)\u001b[49m\n\u001b[0;32m   1003\u001b[0m \u001b[38;5;28;01mreturn\u001b[39;00m result\n",
      "File \u001b[1;32mc:\\Users\\Peter\\OneDrive - University of Cambridge\\Desktop\\Project Excel Work\\PartIIIRPC\\.venv\\lib\\site-packages\\pandas\\core\\algorithms.py:409\u001b[0m, in \u001b[0;36munique\u001b[1;34m(values)\u001b[0m\n\u001b[0;32m    316\u001b[0m \u001b[38;5;250m\u001b[39m\u001b[38;5;124;03m\"\"\"\u001b[39;00m\n\u001b[0;32m    317\u001b[0m \u001b[38;5;124;03mReturn unique values based on a hash table.\u001b[39;00m\n\u001b[0;32m    318\u001b[0m \n\u001b[1;32m   (...)\u001b[0m\n\u001b[0;32m    407\u001b[0m \u001b[38;5;124;03marray([('a', 'b'), ('b', 'a'), ('a', 'c')], dtype=object)\u001b[39;00m\n\u001b[0;32m    408\u001b[0m \u001b[38;5;124;03m\"\"\"\u001b[39;00m\n\u001b[1;32m--> 409\u001b[0m \u001b[38;5;28;01mreturn\u001b[39;00m \u001b[43munique_with_mask\u001b[49m\u001b[43m(\u001b[49m\u001b[43mvalues\u001b[49m\u001b[43m)\u001b[49m\n",
      "File \u001b[1;32mc:\\Users\\Peter\\OneDrive - University of Cambridge\\Desktop\\Project Excel Work\\PartIIIRPC\\.venv\\lib\\site-packages\\pandas\\core\\algorithms.py:425\u001b[0m, in \u001b[0;36munique_with_mask\u001b[1;34m(values, mask)\u001b[0m\n\u001b[0;32m    424\u001b[0m \u001b[38;5;28;01mif\u001b[39;00m mask \u001b[38;5;129;01mis\u001b[39;00m \u001b[38;5;28;01mNone\u001b[39;00m:\n\u001b[1;32m--> 425\u001b[0m     uniques \u001b[38;5;241m=\u001b[39m \u001b[43mtable\u001b[49m\u001b[38;5;241;43m.\u001b[39;49m\u001b[43munique\u001b[49m\u001b[43m(\u001b[49m\u001b[43mvalues\u001b[49m\u001b[43m)\u001b[49m\n\u001b[0;32m    426\u001b[0m     uniques \u001b[38;5;241m=\u001b[39m _reconstruct_data(uniques, original\u001b[38;5;241m.\u001b[39mdtype, original)\n",
      "File \u001b[1;32mpandas\\_libs\\hashtable_class_helper.pxi:5910\u001b[0m, in \u001b[0;36mpandas._libs.hashtable.PyObjectHashTable.unique\u001b[1;34m()\u001b[0m\n",
      "File \u001b[1;32mpandas\\_libs\\hashtable_class_helper.pxi:5857\u001b[0m, in \u001b[0;36mpandas._libs.hashtable.PyObjectHashTable._unique\u001b[1;34m()\u001b[0m\n",
      "\u001b[1;31mTypeError\u001b[0m: unhashable type: 'numpy.ndarray'",
      "\nDuring handling of the above exception, another exception occurred:\n",
      "\u001b[1;31mKeyboardInterrupt\u001b[0m                         Traceback (most recent call last)",
      "Cell \u001b[1;32mIn[444], line 1\u001b[0m\n\u001b[1;32m----> 1\u001b[0m \u001b[43mshow\u001b[49m\u001b[43m(\u001b[49m\u001b[43mReconstructed_df_6\u001b[49m\u001b[43m)\u001b[49m\n",
      "File \u001b[1;32mc:\\Users\\Peter\\OneDrive - University of Cambridge\\Desktop\\Project Excel Work\\PartIIIRPC\\.venv\\lib\\site-packages\\pandasgui\\gui.py:506\u001b[0m, in \u001b[0;36mshow\u001b[1;34m(settings, *args, **kwargs)\u001b[0m\n\u001b[0;32m    502\u001b[0m     logger\u001b[38;5;241m.\u001b[39mwarning(\u001b[38;5;124m\"\u001b[39m\u001b[38;5;124mDuplicate names were provided, duplicates were ignored.\u001b[39m\u001b[38;5;124m\"\u001b[39m)\n\u001b[0;32m    504\u001b[0m kwargs \u001b[38;5;241m=\u001b[39m {\u001b[38;5;241m*\u001b[39m\u001b[38;5;241m*\u001b[39mkwargs, \u001b[38;5;241m*\u001b[39m\u001b[38;5;241m*\u001b[39mitems}\n\u001b[1;32m--> 506\u001b[0m pandas_gui \u001b[38;5;241m=\u001b[39m PandasGui(settings\u001b[38;5;241m=\u001b[39msettings, \u001b[38;5;241m*\u001b[39m\u001b[38;5;241m*\u001b[39mkwargs)\n\u001b[0;32m    507\u001b[0m pandas_gui\u001b[38;5;241m.\u001b[39mcaller_stack \u001b[38;5;241m=\u001b[39m inspect\u001b[38;5;241m.\u001b[39mcurrentframe()\u001b[38;5;241m.\u001b[39mf_back\n\u001b[0;32m    509\u001b[0m \u001b[38;5;66;03m# Register IPython magic\u001b[39;00m\n",
      "File \u001b[1;32mc:\\Users\\Peter\\OneDrive - University of Cambridge\\Desktop\\Project Excel Work\\PartIIIRPC\\.venv\\lib\\site-packages\\pandasgui\\gui.py:78\u001b[0m, in \u001b[0;36mPandasGui.__init__\u001b[1;34m(self, settings, **kwargs)\u001b[0m\n\u001b[0;32m     75\u001b[0m \u001b[38;5;28;01mfor\u001b[39;00m key, value \u001b[38;5;129;01min\u001b[39;00m kwargs\u001b[38;5;241m.\u001b[39mitems():\n\u001b[0;32m     76\u001b[0m     \u001b[38;5;66;03m# Pandas objects\u001b[39;00m\n\u001b[0;32m     77\u001b[0m     \u001b[38;5;28;01mif\u001b[39;00m \u001b[38;5;28missubclass\u001b[39m(\u001b[38;5;28mtype\u001b[39m(value), pd\u001b[38;5;241m.\u001b[39mDataFrame) \u001b[38;5;129;01mor\u001b[39;00m \u001b[38;5;28missubclass\u001b[39m(\u001b[38;5;28mtype\u001b[39m(value), pd\u001b[38;5;241m.\u001b[39mSeries):\n\u001b[1;32m---> 78\u001b[0m         \u001b[38;5;28;43mself\u001b[39;49m\u001b[38;5;241;43m.\u001b[39;49m\u001b[43mstore\u001b[49m\u001b[38;5;241;43m.\u001b[39;49m\u001b[43madd_dataframe\u001b[49m\u001b[43m(\u001b[49m\u001b[43mvalue\u001b[49m\u001b[43m,\u001b[49m\u001b[43m \u001b[49m\u001b[43mkey\u001b[49m\u001b[43m)\u001b[49m\n\u001b[0;32m     79\u001b[0m     \u001b[38;5;66;03m# Spark\u001b[39;00m\n\u001b[0;32m     80\u001b[0m     \u001b[38;5;28;01melif\u001b[39;00m \u001b[38;5;28mhasattr\u001b[39m(value, \u001b[38;5;124m'\u001b[39m\u001b[38;5;124mtoPandas\u001b[39m\u001b[38;5;124m'\u001b[39m):\n",
      "File \u001b[1;32mc:\\Users\\Peter\\OneDrive - University of Cambridge\\Desktop\\Project Excel Work\\PartIIIRPC\\.venv\\lib\\site-packages\\pandasgui\\store.py:262\u001b[0m, in \u001b[0;36mstatus_message_decorator.<locals>.decorator.<locals>.status_message_wrapper\u001b[1;34m(self, *args, **kwargs)\u001b[0m\n\u001b[0;32m    260\u001b[0m QtWidgets\u001b[38;5;241m.\u001b[39mQApplication\u001b[38;5;241m.\u001b[39minstance()\u001b[38;5;241m.\u001b[39mprocessEvents()\n\u001b[0;32m    261\u001b[0m \u001b[38;5;28;01mtry\u001b[39;00m:\n\u001b[1;32m--> 262\u001b[0m     result \u001b[38;5;241m=\u001b[39m function(\u001b[38;5;28mself\u001b[39m, \u001b[38;5;241m*\u001b[39margs, \u001b[38;5;241m*\u001b[39m\u001b[38;5;241m*\u001b[39mkwargs)\n\u001b[0;32m    263\u001b[0m \u001b[38;5;28;01mfinally\u001b[39;00m:\n\u001b[0;32m    264\u001b[0m     \u001b[38;5;28mself\u001b[39m\u001b[38;5;241m.\u001b[39mgui\u001b[38;5;241m.\u001b[39mstatusBar()\u001b[38;5;241m.\u001b[39mshowMessage(original_status)\n",
      "File \u001b[1;32mc:\\Users\\Peter\\OneDrive - University of Cambridge\\Desktop\\Project Excel Work\\PartIIIRPC\\.venv\\lib\\site-packages\\pandasgui\\store.py:830\u001b[0m, in \u001b[0;36mPandasGuiStore.add_dataframe\u001b[1;34m(self, pgdf, name)\u001b[0m\n\u001b[0;32m    828\u001b[0m \u001b[38;5;28;01mif\u001b[39;00m pgdf\u001b[38;5;241m.\u001b[39mdataframe_explorer \u001b[38;5;129;01mis\u001b[39;00m \u001b[38;5;28;01mNone\u001b[39;00m:\n\u001b[0;32m    829\u001b[0m     \u001b[38;5;28;01mfrom\u001b[39;00m \u001b[38;5;21;01mpandasgui\u001b[39;00m\u001b[38;5;21;01m.\u001b[39;00m\u001b[38;5;21;01mwidgets\u001b[39;00m\u001b[38;5;21;01m.\u001b[39;00m\u001b[38;5;21;01mdataframe_explorer\u001b[39;00m \u001b[38;5;28;01mimport\u001b[39;00m DataFrameExplorer\n\u001b[1;32m--> 830\u001b[0m     pgdf\u001b[38;5;241m.\u001b[39mdataframe_explorer \u001b[38;5;241m=\u001b[39m \u001b[43mDataFrameExplorer\u001b[49m\u001b[43m(\u001b[49m\u001b[43mpgdf\u001b[49m\u001b[43m)\u001b[49m\n\u001b[0;32m    832\u001b[0m \u001b[38;5;66;03m# Add to nav\u001b[39;00m\n\u001b[0;32m    833\u001b[0m shape \u001b[38;5;241m=\u001b[39m pgdf\u001b[38;5;241m.\u001b[39mdf\u001b[38;5;241m.\u001b[39mshape\n",
      "File \u001b[1;32mc:\\Users\\Peter\\OneDrive - University of Cambridge\\Desktop\\Project Excel Work\\PartIIIRPC\\.venv\\lib\\site-packages\\pandasgui\\widgets\\dataframe_explorer.py:40\u001b[0m, in \u001b[0;36mDataFrameExplorer.__init__\u001b[1;34m(self, pgdf)\u001b[0m\n\u001b[0;32m     38\u001b[0m \u001b[38;5;28mself\u001b[39m\u001b[38;5;241m.\u001b[39mdataframe_viewer \u001b[38;5;241m=\u001b[39m DataFrameViewer(pgdf)\n\u001b[0;32m     39\u001b[0m \u001b[38;5;28mself\u001b[39m\u001b[38;5;241m.\u001b[39mstatistics_viewer \u001b[38;5;241m=\u001b[39m StatisticsViewer(pgdf)\n\u001b[1;32m---> 40\u001b[0m \u001b[38;5;28mself\u001b[39m\u001b[38;5;241m.\u001b[39mgrapher \u001b[38;5;241m=\u001b[39m \u001b[43mGrapher\u001b[49m\u001b[43m(\u001b[49m\u001b[43mpgdf\u001b[49m\u001b[43m)\u001b[49m\n\u001b[0;32m     41\u001b[0m \u001b[38;5;28mself\u001b[39m\u001b[38;5;241m.\u001b[39mreshaper \u001b[38;5;241m=\u001b[39m Reshaper(pgdf)\n\u001b[0;32m     42\u001b[0m \u001b[38;5;28mself\u001b[39m\u001b[38;5;241m.\u001b[39mcode_history_viewer \u001b[38;5;241m=\u001b[39m CodeHistoryViewer(pgdf)\n",
      "File \u001b[1;32mc:\\Users\\Peter\\OneDrive - University of Cambridge\\Desktop\\Project Excel Work\\PartIIIRPC\\.venv\\lib\\site-packages\\pandasgui\\widgets\\grapher.py:96\u001b[0m, in \u001b[0;36mGrapher.__init__\u001b[1;34m(self, pgdf)\u001b[0m\n\u001b[0;32m     94\u001b[0m \u001b[38;5;66;03m# UI setup\u001b[39;00m\n\u001b[0;32m     95\u001b[0m \u001b[38;5;28mself\u001b[39m\u001b[38;5;241m.\u001b[39mfigure_viewer \u001b[38;5;241m=\u001b[39m FigureViewer(store\u001b[38;5;241m=\u001b[39m\u001b[38;5;28mself\u001b[39m\u001b[38;5;241m.\u001b[39mpgdf\u001b[38;5;241m.\u001b[39mstore)\n\u001b[1;32m---> 96\u001b[0m \u001b[38;5;28mself\u001b[39m\u001b[38;5;241m.\u001b[39mfunc_ui \u001b[38;5;241m=\u001b[39m \u001b[43mFuncUi\u001b[49m\u001b[43m(\u001b[49m\u001b[43mpgdf\u001b[49m\u001b[43m,\u001b[49m\u001b[43m \u001b[49m\u001b[43mschema\u001b[49m\u001b[38;5;241;43m=\u001b[39;49m\u001b[43mSchema\u001b[49m\u001b[43m(\u001b[49m\u001b[43m)\u001b[49m\u001b[43m)\u001b[49m\n\u001b[0;32m     98\u001b[0m \u001b[38;5;66;03m# Layouts\u001b[39;00m\n\u001b[0;32m     99\u001b[0m \u001b[38;5;28mself\u001b[39m\u001b[38;5;241m.\u001b[39mplot_splitter \u001b[38;5;241m=\u001b[39m QtWidgets\u001b[38;5;241m.\u001b[39mQSplitter(Qt\u001b[38;5;241m.\u001b[39mHorizontal)\n",
      "File \u001b[1;32mc:\\Users\\Peter\\OneDrive - University of Cambridge\\Desktop\\Project Excel Work\\PartIIIRPC\\.venv\\lib\\site-packages\\pandasgui\\widgets\\func_ui.py:207\u001b[0m, in \u001b[0;36mFuncUi.__init__\u001b[1;34m(self, pgdf, schema)\u001b[0m\n\u001b[0;32m    203\u001b[0m \u001b[38;5;28mself\u001b[39m\u001b[38;5;241m.\u001b[39mvaluesChanged\u001b[38;5;241m.\u001b[39mconnect(\u001b[38;5;28;01mlambda\u001b[39;00m: \u001b[38;5;28mself\u001b[39m\u001b[38;5;241m.\u001b[39mcode_export_dialog_text\u001b[38;5;241m.\u001b[39msetText(\n\u001b[0;32m    204\u001b[0m     format_kwargs(\u001b[38;5;28mself\u001b[39m\u001b[38;5;241m.\u001b[39mget_data())))\n\u001b[0;32m    206\u001b[0m \u001b[38;5;66;03m# Sources list\u001b[39;00m\n\u001b[1;32m--> 207\u001b[0m \u001b[38;5;28mself\u001b[39m\u001b[38;5;241m.\u001b[39msource_tree \u001b[38;5;241m=\u001b[39m \u001b[43mSourceTree\u001b[49m\u001b[43m(\u001b[49m\u001b[38;5;28;43mself\u001b[39;49m\u001b[38;5;241;43m.\u001b[39;49m\u001b[43mdf\u001b[49m\u001b[43m)\u001b[49m\n\u001b[0;32m    208\u001b[0m \u001b[38;5;28mself\u001b[39m\u001b[38;5;241m.\u001b[39msource_tree2 \u001b[38;5;241m=\u001b[39m SourceTree(\u001b[38;5;28mself\u001b[39m\u001b[38;5;241m.\u001b[39mdf)\n\u001b[0;32m    210\u001b[0m \u001b[38;5;66;03m# Destinations tree\u001b[39;00m\n",
      "File \u001b[1;32mc:\\Users\\Peter\\OneDrive - University of Cambridge\\Desktop\\Project Excel Work\\PartIIIRPC\\.venv\\lib\\site-packages\\pandasgui\\widgets\\func_ui.py:167\u001b[0m, in \u001b[0;36mSourceTree.__init__\u001b[1;34m(self, pgdf)\u001b[0m\n\u001b[0;32m    166\u001b[0m \u001b[38;5;28;01mdef\u001b[39;00m \u001b[38;5;21m__init__\u001b[39m(\u001b[38;5;28mself\u001b[39m, pgdf: PandasGuiDataFrameStore):\n\u001b[1;32m--> 167\u001b[0m     \u001b[38;5;28;43msuper\u001b[39;49m\u001b[43m(\u001b[49m\u001b[43m)\u001b[49m\u001b[38;5;241;43m.\u001b[39;49m\u001b[38;5;21;43m__init__\u001b[39;49m\u001b[43m(\u001b[49m\u001b[43mpgdf\u001b[49m\u001b[43m)\u001b[49m\n\u001b[0;32m    168\u001b[0m     \u001b[38;5;28mself\u001b[39m\u001b[38;5;241m.\u001b[39mtree\u001b[38;5;241m.\u001b[39msetDragDropMode(\u001b[38;5;28mself\u001b[39m\u001b[38;5;241m.\u001b[39mtree\u001b[38;5;241m.\u001b[39mDragOnly)\n\u001b[0;32m    169\u001b[0m     \u001b[38;5;28mself\u001b[39m\u001b[38;5;241m.\u001b[39mtree\u001b[38;5;241m.\u001b[39msetHeaderLabels([\u001b[38;5;124m'\u001b[39m\u001b[38;5;124mName\u001b[39m\u001b[38;5;124m'\u001b[39m, \u001b[38;5;124m'\u001b[39m\u001b[38;5;124m#Unique\u001b[39m\u001b[38;5;124m'\u001b[39m, \u001b[38;5;124m'\u001b[39m\u001b[38;5;124mType\u001b[39m\u001b[38;5;124m'\u001b[39m])\n",
      "File \u001b[1;32mc:\\Users\\Peter\\OneDrive - University of Cambridge\\Desktop\\Project Excel Work\\PartIIIRPC\\.venv\\lib\\site-packages\\pandasgui\\widgets\\column_viewer.py:86\u001b[0m, in \u001b[0;36mColumnViewer.__init__\u001b[1;34m(self, pgdf)\u001b[0m\n\u001b[0;32m     83\u001b[0m \u001b[38;5;28mself\u001b[39m\u001b[38;5;241m.\u001b[39msource_tree_layout\u001b[38;5;241m.\u001b[39maddWidget(\u001b[38;5;28mself\u001b[39m\u001b[38;5;241m.\u001b[39mtree)\n\u001b[0;32m     84\u001b[0m \u001b[38;5;28mself\u001b[39m\u001b[38;5;241m.\u001b[39msetLayout(\u001b[38;5;28mself\u001b[39m\u001b[38;5;241m.\u001b[39msource_tree_layout)\n\u001b[1;32m---> 86\u001b[0m \u001b[38;5;28;43mself\u001b[39;49m\u001b[38;5;241;43m.\u001b[39;49m\u001b[43mupdate_df\u001b[49m\u001b[43m(\u001b[49m\u001b[43mpgdf\u001b[49m\u001b[43m)\u001b[49m\n",
      "File \u001b[1;32mc:\\Users\\Peter\\OneDrive - University of Cambridge\\Desktop\\Project Excel Work\\PartIIIRPC\\.venv\\lib\\site-packages\\pandasgui\\widgets\\column_viewer.py:89\u001b[0m, in \u001b[0;36mColumnViewer.update_df\u001b[1;34m(self, df)\u001b[0m\n\u001b[0;32m     88\u001b[0m \u001b[38;5;28;01mdef\u001b[39;00m \u001b[38;5;21mupdate_df\u001b[39m(\u001b[38;5;28mself\u001b[39m, df):\n\u001b[1;32m---> 89\u001b[0m     pgdf \u001b[38;5;241m=\u001b[39m \u001b[43mPandasGuiDataFrameStore\u001b[49m\u001b[38;5;241;43m.\u001b[39;49m\u001b[43mcast\u001b[49m\u001b[43m(\u001b[49m\u001b[43mdf\u001b[49m\u001b[43m)\u001b[49m\n\u001b[0;32m     91\u001b[0m     \u001b[38;5;28mself\u001b[39m\u001b[38;5;241m.\u001b[39mpgdf \u001b[38;5;241m=\u001b[39m pgdf\n\u001b[0;32m     92\u001b[0m     \u001b[38;5;28mself\u001b[39m\u001b[38;5;241m.\u001b[39mrefresh()\n",
      "File \u001b[1;32mc:\\Users\\Peter\\OneDrive - University of Cambridge\\Desktop\\Project Excel Work\\PartIIIRPC\\.venv\\lib\\site-packages\\pandasgui\\store.py:709\u001b[0m, in \u001b[0;36mPandasGuiDataFrameStore.cast\u001b[1;34m(df)\u001b[0m\n\u001b[0;32m    707\u001b[0m     \u001b[38;5;28;01mreturn\u001b[39;00m df\n\u001b[0;32m    708\u001b[0m \u001b[38;5;28;01mif\u001b[39;00m \u001b[38;5;28misinstance\u001b[39m(df, pd\u001b[38;5;241m.\u001b[39mDataFrame):\n\u001b[1;32m--> 709\u001b[0m     \u001b[38;5;28;01mreturn\u001b[39;00m \u001b[43mPandasGuiDataFrameStore\u001b[49m\u001b[43m(\u001b[49m\u001b[43mdf\u001b[49m\u001b[38;5;241;43m.\u001b[39;49m\u001b[43mcopy\u001b[49m\u001b[43m(\u001b[49m\u001b[43m)\u001b[49m\u001b[43m)\u001b[49m\n\u001b[0;32m    710\u001b[0m \u001b[38;5;28;01melif\u001b[39;00m \u001b[38;5;28misinstance\u001b[39m(df, pd\u001b[38;5;241m.\u001b[39mSeries):\n\u001b[0;32m    711\u001b[0m     \u001b[38;5;28;01mreturn\u001b[39;00m PandasGuiDataFrameStore(df\u001b[38;5;241m.\u001b[39mto_frame())\n",
      "File \u001b[1;32mc:\\Users\\Peter\\OneDrive - University of Cambridge\\Desktop\\Project Excel Work\\PartIIIRPC\\.venv\\lib\\site-packages\\pandasgui\\store.py:323\u001b[0m, in \u001b[0;36mPandasGuiDataFrameStore.__init__\u001b[1;34m(self, df, name)\u001b[0m\n\u001b[0;32m    320\u001b[0m \u001b[38;5;28mself\u001b[39m\u001b[38;5;241m.\u001b[39mrow_statistics \u001b[38;5;241m=\u001b[39m \u001b[38;5;28;01mNone\u001b[39;00m\n\u001b[0;32m    321\u001b[0m \u001b[38;5;28mself\u001b[39m\u001b[38;5;241m.\u001b[39mstatistics_outdated \u001b[38;5;241m=\u001b[39m \u001b[38;5;28;01mTrue\u001b[39;00m\n\u001b[1;32m--> 323\u001b[0m \u001b[38;5;28;43mself\u001b[39;49m\u001b[38;5;241;43m.\u001b[39;49m\u001b[43mdata_changed\u001b[49m\u001b[43m(\u001b[49m\u001b[43m)\u001b[49m\n",
      "File \u001b[1;32mc:\\Users\\Peter\\OneDrive - University of Cambridge\\Desktop\\Project Excel Work\\PartIIIRPC\\.venv\\lib\\site-packages\\pandasgui\\store.py:684\u001b[0m, in \u001b[0;36mPandasGuiDataFrameStore.data_changed\u001b[1;34m(self)\u001b[0m\n\u001b[0;32m    682\u001b[0m \u001b[38;5;28;01mdef\u001b[39;00m \u001b[38;5;21mdata_changed\u001b[39m(\u001b[38;5;28mself\u001b[39m):\n\u001b[0;32m    683\u001b[0m     \u001b[38;5;28mself\u001b[39m\u001b[38;5;241m.\u001b[39mrefresh_ui()\n\u001b[1;32m--> 684\u001b[0m     \u001b[38;5;28;43mself\u001b[39;49m\u001b[38;5;241;43m.\u001b[39;49m\u001b[43mrefresh_statistics\u001b[49m\u001b[43m(\u001b[49m\u001b[43m)\u001b[49m\n\u001b[0;32m    685\u001b[0m     \u001b[38;5;66;03m# Remake Grapher plot\u001b[39;00m\n\u001b[0;32m    686\u001b[0m     \u001b[38;5;28;01mif\u001b[39;00m \u001b[38;5;28mself\u001b[39m\u001b[38;5;241m.\u001b[39mdataframe_explorer \u001b[38;5;129;01mis\u001b[39;00m \u001b[38;5;129;01mnot\u001b[39;00m \u001b[38;5;28;01mNone\u001b[39;00m:\n",
      "File \u001b[1;32mc:\\Users\\Peter\\OneDrive - University of Cambridge\\Desktop\\Project Excel Work\\PartIIIRPC\\.venv\\lib\\site-packages\\pandasgui\\store.py:268\u001b[0m, in \u001b[0;36mstatus_message_decorator.<locals>.decorator.<locals>.status_message_wrapper\u001b[1;34m(self, *args, **kwargs)\u001b[0m\n\u001b[0;32m    266\u001b[0m         QtWidgets\u001b[38;5;241m.\u001b[39mQApplication\u001b[38;5;241m.\u001b[39minstance()\u001b[38;5;241m.\u001b[39mprocessEvents()\n\u001b[0;32m    267\u001b[0m \u001b[38;5;28;01melse\u001b[39;00m:\n\u001b[1;32m--> 268\u001b[0m     result \u001b[38;5;241m=\u001b[39m function(\u001b[38;5;28mself\u001b[39m, \u001b[38;5;241m*\u001b[39margs, \u001b[38;5;241m*\u001b[39m\u001b[38;5;241m*\u001b[39mkwargs)\n\u001b[0;32m    269\u001b[0m \u001b[38;5;28;01mreturn\u001b[39;00m result\n",
      "File \u001b[1;32mc:\\Users\\Peter\\OneDrive - University of Cambridge\\Desktop\\Project Excel Work\\PartIIIRPC\\.venv\\lib\\site-packages\\pandasgui\\store.py:347\u001b[0m, in \u001b[0;36mPandasGuiDataFrameStore.refresh_statistics\u001b[1;34m(self, force)\u001b[0m\n\u001b[0;32m    342\u001b[0m \u001b[38;5;28;01mif\u001b[39;00m force \u001b[38;5;129;01mor\u001b[39;00m \u001b[38;5;28mself\u001b[39m\u001b[38;5;241m.\u001b[39msettings\u001b[38;5;241m.\u001b[39mrefresh_statistics\u001b[38;5;241m.\u001b[39mvalue:\n\u001b[0;32m    343\u001b[0m     df \u001b[38;5;241m=\u001b[39m \u001b[38;5;28mself\u001b[39m\u001b[38;5;241m.\u001b[39mdf\n\u001b[0;32m    344\u001b[0m     \u001b[38;5;28mself\u001b[39m\u001b[38;5;241m.\u001b[39mcolumn_statistics \u001b[38;5;241m=\u001b[39m pd\u001b[38;5;241m.\u001b[39mDataFrame({\n\u001b[0;32m    345\u001b[0m         \u001b[38;5;124m\"\u001b[39m\u001b[38;5;124mType\u001b[39m\u001b[38;5;124m\"\u001b[39m:     df\u001b[38;5;241m.\u001b[39mdtypes\u001b[38;5;241m.\u001b[39mastype(\u001b[38;5;28mstr\u001b[39m),\n\u001b[0;32m    346\u001b[0m         \u001b[38;5;124m\"\u001b[39m\u001b[38;5;124mCount\u001b[39m\u001b[38;5;124m\"\u001b[39m:    df\u001b[38;5;241m.\u001b[39mcount(),\n\u001b[1;32m--> 347\u001b[0m         \u001b[38;5;124m\"\u001b[39m\u001b[38;5;124mN Unique\u001b[39m\u001b[38;5;124m\"\u001b[39m: \u001b[43mnunique\u001b[49m\u001b[43m(\u001b[49m\u001b[43mdf\u001b[49m\u001b[43m)\u001b[49m,\n\u001b[0;32m    348\u001b[0m         \u001b[38;5;124m\"\u001b[39m\u001b[38;5;124mMean\u001b[39m\u001b[38;5;124m\"\u001b[39m:     df\u001b[38;5;241m.\u001b[39mmean(numeric_only\u001b[38;5;241m=\u001b[39m\u001b[38;5;28;01mTrue\u001b[39;00m),\n\u001b[0;32m    349\u001b[0m         \u001b[38;5;124m\"\u001b[39m\u001b[38;5;124mStdDev\u001b[39m\u001b[38;5;124m\"\u001b[39m:   df\u001b[38;5;241m.\u001b[39mstd(numeric_only\u001b[38;5;241m=\u001b[39m\u001b[38;5;28;01mTrue\u001b[39;00m),\n\u001b[0;32m    350\u001b[0m         \u001b[38;5;124m\"\u001b[39m\u001b[38;5;124mMin\u001b[39m\u001b[38;5;124m\"\u001b[39m:      df\u001b[38;5;241m.\u001b[39mmin(numeric_only\u001b[38;5;241m=\u001b[39m\u001b[38;5;28;01mTrue\u001b[39;00m),\n\u001b[0;32m    351\u001b[0m         \u001b[38;5;124m\"\u001b[39m\u001b[38;5;124mMax\u001b[39m\u001b[38;5;124m\"\u001b[39m:      df\u001b[38;5;241m.\u001b[39mmax(numeric_only\u001b[38;5;241m=\u001b[39m\u001b[38;5;28;01mTrue\u001b[39;00m),\n\u001b[0;32m    352\u001b[0m     }, index\u001b[38;5;241m=\u001b[39mdf\u001b[38;5;241m.\u001b[39mcolumns\n\u001b[0;32m    353\u001b[0m     )\n\u001b[0;32m    355\u001b[0m     df \u001b[38;5;241m=\u001b[39m \u001b[38;5;28mself\u001b[39m\u001b[38;5;241m.\u001b[39mdf\u001b[38;5;241m.\u001b[39mtranspose()\n\u001b[0;32m    356\u001b[0m     df_numeric \u001b[38;5;241m=\u001b[39m \u001b[38;5;28mself\u001b[39m\u001b[38;5;241m.\u001b[39mdf\u001b[38;5;241m.\u001b[39mselect_dtypes(\u001b[38;5;124m'\u001b[39m\u001b[38;5;124mnumber\u001b[39m\u001b[38;5;124m'\u001b[39m)\u001b[38;5;241m.\u001b[39mtranspose()\n",
      "File \u001b[1;32mc:\\Users\\Peter\\OneDrive - University of Cambridge\\Desktop\\Project Excel Work\\PartIIIRPC\\.venv\\lib\\site-packages\\pandasgui\\utility.py:172\u001b[0m, in \u001b[0;36mnunique\u001b[1;34m(df)\u001b[0m\n\u001b[0;32m    170\u001b[0m         results[col] \u001b[38;5;241m=\u001b[39m s\u001b[38;5;241m.\u001b[39mnunique()\n\u001b[0;32m    171\u001b[0m     \u001b[38;5;28;01mexcept\u001b[39;00m \u001b[38;5;167;01mTypeError\u001b[39;00m \u001b[38;5;28;01mas\u001b[39;00m e:\n\u001b[1;32m--> 172\u001b[0m         results[col] \u001b[38;5;241m=\u001b[39m \u001b[43ms\u001b[49m\u001b[38;5;241;43m.\u001b[39;49m\u001b[43mastype\u001b[49m\u001b[43m(\u001b[49m\u001b[38;5;28;43mstr\u001b[39;49m\u001b[43m)\u001b[49m\u001b[38;5;241m.\u001b[39mnunique()\n\u001b[0;32m    174\u001b[0m \u001b[38;5;28;01mreturn\u001b[39;00m pd\u001b[38;5;241m.\u001b[39mSeries(results)\n",
      "File \u001b[1;32mc:\\Users\\Peter\\OneDrive - University of Cambridge\\Desktop\\Project Excel Work\\PartIIIRPC\\.venv\\lib\\site-packages\\pandas\\core\\generic.py:6240\u001b[0m, in \u001b[0;36mNDFrame.astype\u001b[1;34m(self, dtype, copy, errors)\u001b[0m\n\u001b[0;32m   6233\u001b[0m     results \u001b[38;5;241m=\u001b[39m [\n\u001b[0;32m   6234\u001b[0m         \u001b[38;5;28mself\u001b[39m\u001b[38;5;241m.\u001b[39miloc[:, i]\u001b[38;5;241m.\u001b[39mastype(dtype, copy\u001b[38;5;241m=\u001b[39mcopy)\n\u001b[0;32m   6235\u001b[0m         \u001b[38;5;28;01mfor\u001b[39;00m i \u001b[38;5;129;01min\u001b[39;00m \u001b[38;5;28mrange\u001b[39m(\u001b[38;5;28mlen\u001b[39m(\u001b[38;5;28mself\u001b[39m\u001b[38;5;241m.\u001b[39mcolumns))\n\u001b[0;32m   6236\u001b[0m     ]\n\u001b[0;32m   6238\u001b[0m \u001b[38;5;28;01melse\u001b[39;00m:\n\u001b[0;32m   6239\u001b[0m     \u001b[38;5;66;03m# else, only a single dtype is given\u001b[39;00m\n\u001b[1;32m-> 6240\u001b[0m     new_data \u001b[38;5;241m=\u001b[39m \u001b[38;5;28;43mself\u001b[39;49m\u001b[38;5;241;43m.\u001b[39;49m\u001b[43m_mgr\u001b[49m\u001b[38;5;241;43m.\u001b[39;49m\u001b[43mastype\u001b[49m\u001b[43m(\u001b[49m\u001b[43mdtype\u001b[49m\u001b[38;5;241;43m=\u001b[39;49m\u001b[43mdtype\u001b[49m\u001b[43m,\u001b[49m\u001b[43m \u001b[49m\u001b[43mcopy\u001b[49m\u001b[38;5;241;43m=\u001b[39;49m\u001b[43mcopy\u001b[49m\u001b[43m,\u001b[49m\u001b[43m \u001b[49m\u001b[43merrors\u001b[49m\u001b[38;5;241;43m=\u001b[39;49m\u001b[43merrors\u001b[49m\u001b[43m)\u001b[49m\n\u001b[0;32m   6241\u001b[0m     \u001b[38;5;28;01mreturn\u001b[39;00m \u001b[38;5;28mself\u001b[39m\u001b[38;5;241m.\u001b[39m_constructor(new_data)\u001b[38;5;241m.\u001b[39m__finalize__(\u001b[38;5;28mself\u001b[39m, method\u001b[38;5;241m=\u001b[39m\u001b[38;5;124m\"\u001b[39m\u001b[38;5;124mastype\u001b[39m\u001b[38;5;124m\"\u001b[39m)\n\u001b[0;32m   6243\u001b[0m \u001b[38;5;66;03m# GH 33113: handle empty frame or series\u001b[39;00m\n",
      "File \u001b[1;32mc:\\Users\\Peter\\OneDrive - University of Cambridge\\Desktop\\Project Excel Work\\PartIIIRPC\\.venv\\lib\\site-packages\\pandas\\core\\internals\\managers.py:448\u001b[0m, in \u001b[0;36mBaseBlockManager.astype\u001b[1;34m(self, dtype, copy, errors)\u001b[0m\n\u001b[0;32m    447\u001b[0m \u001b[38;5;28;01mdef\u001b[39;00m \u001b[38;5;21mastype\u001b[39m(\u001b[38;5;28mself\u001b[39m: T, dtype, copy: \u001b[38;5;28mbool\u001b[39m \u001b[38;5;241m=\u001b[39m \u001b[38;5;28;01mFalse\u001b[39;00m, errors: \u001b[38;5;28mstr\u001b[39m \u001b[38;5;241m=\u001b[39m \u001b[38;5;124m\"\u001b[39m\u001b[38;5;124mraise\u001b[39m\u001b[38;5;124m\"\u001b[39m) \u001b[38;5;241m-\u001b[39m\u001b[38;5;241m>\u001b[39m T:\n\u001b[1;32m--> 448\u001b[0m     \u001b[38;5;28;01mreturn\u001b[39;00m \u001b[38;5;28;43mself\u001b[39;49m\u001b[38;5;241;43m.\u001b[39;49m\u001b[43mapply\u001b[49m\u001b[43m(\u001b[49m\u001b[38;5;124;43m\"\u001b[39;49m\u001b[38;5;124;43mastype\u001b[39;49m\u001b[38;5;124;43m\"\u001b[39;49m\u001b[43m,\u001b[49m\u001b[43m \u001b[49m\u001b[43mdtype\u001b[49m\u001b[38;5;241;43m=\u001b[39;49m\u001b[43mdtype\u001b[49m\u001b[43m,\u001b[49m\u001b[43m \u001b[49m\u001b[43mcopy\u001b[49m\u001b[38;5;241;43m=\u001b[39;49m\u001b[43mcopy\u001b[49m\u001b[43m,\u001b[49m\u001b[43m \u001b[49m\u001b[43merrors\u001b[49m\u001b[38;5;241;43m=\u001b[39;49m\u001b[43merrors\u001b[49m\u001b[43m)\u001b[49m\n",
      "File \u001b[1;32mc:\\Users\\Peter\\OneDrive - University of Cambridge\\Desktop\\Project Excel Work\\PartIIIRPC\\.venv\\lib\\site-packages\\pandas\\core\\internals\\managers.py:352\u001b[0m, in \u001b[0;36mBaseBlockManager.apply\u001b[1;34m(self, f, align_keys, ignore_failures, **kwargs)\u001b[0m\n\u001b[0;32m    350\u001b[0m         applied \u001b[38;5;241m=\u001b[39m b\u001b[38;5;241m.\u001b[39mapply(f, \u001b[38;5;241m*\u001b[39m\u001b[38;5;241m*\u001b[39mkwargs)\n\u001b[0;32m    351\u001b[0m     \u001b[38;5;28;01melse\u001b[39;00m:\n\u001b[1;32m--> 352\u001b[0m         applied \u001b[38;5;241m=\u001b[39m \u001b[38;5;28mgetattr\u001b[39m(b, f)(\u001b[38;5;241m*\u001b[39m\u001b[38;5;241m*\u001b[39mkwargs)\n\u001b[0;32m    353\u001b[0m \u001b[38;5;28;01mexcept\u001b[39;00m (\u001b[38;5;167;01mTypeError\u001b[39;00m, \u001b[38;5;167;01mNotImplementedError\u001b[39;00m):\n\u001b[0;32m    354\u001b[0m     \u001b[38;5;28;01mif\u001b[39;00m \u001b[38;5;129;01mnot\u001b[39;00m ignore_failures:\n",
      "File \u001b[1;32mc:\\Users\\Peter\\OneDrive - University of Cambridge\\Desktop\\Project Excel Work\\PartIIIRPC\\.venv\\lib\\site-packages\\pandas\\core\\internals\\blocks.py:526\u001b[0m, in \u001b[0;36mBlock.astype\u001b[1;34m(self, dtype, copy, errors)\u001b[0m\n\u001b[0;32m    508\u001b[0m \u001b[38;5;250m\u001b[39m\u001b[38;5;124;03m\"\"\"\u001b[39;00m\n\u001b[0;32m    509\u001b[0m \u001b[38;5;124;03mCoerce to the new dtype.\u001b[39;00m\n\u001b[0;32m    510\u001b[0m \n\u001b[1;32m   (...)\u001b[0m\n\u001b[0;32m    522\u001b[0m \u001b[38;5;124;03mBlock\u001b[39;00m\n\u001b[0;32m    523\u001b[0m \u001b[38;5;124;03m\"\"\"\u001b[39;00m\n\u001b[0;32m    524\u001b[0m values \u001b[38;5;241m=\u001b[39m \u001b[38;5;28mself\u001b[39m\u001b[38;5;241m.\u001b[39mvalues\n\u001b[1;32m--> 526\u001b[0m new_values \u001b[38;5;241m=\u001b[39m \u001b[43mastype_array_safe\u001b[49m\u001b[43m(\u001b[49m\u001b[43mvalues\u001b[49m\u001b[43m,\u001b[49m\u001b[43m \u001b[49m\u001b[43mdtype\u001b[49m\u001b[43m,\u001b[49m\u001b[43m \u001b[49m\u001b[43mcopy\u001b[49m\u001b[38;5;241;43m=\u001b[39;49m\u001b[43mcopy\u001b[49m\u001b[43m,\u001b[49m\u001b[43m \u001b[49m\u001b[43merrors\u001b[49m\u001b[38;5;241;43m=\u001b[39;49m\u001b[43merrors\u001b[49m\u001b[43m)\u001b[49m\n\u001b[0;32m    528\u001b[0m new_values \u001b[38;5;241m=\u001b[39m maybe_coerce_values(new_values)\n\u001b[0;32m    529\u001b[0m newb \u001b[38;5;241m=\u001b[39m \u001b[38;5;28mself\u001b[39m\u001b[38;5;241m.\u001b[39mmake_block(new_values)\n",
      "File \u001b[1;32mc:\\Users\\Peter\\OneDrive - University of Cambridge\\Desktop\\Project Excel Work\\PartIIIRPC\\.venv\\lib\\site-packages\\pandas\\core\\dtypes\\astype.py:299\u001b[0m, in \u001b[0;36mastype_array_safe\u001b[1;34m(values, dtype, copy, errors)\u001b[0m\n\u001b[0;32m    296\u001b[0m     \u001b[38;5;28;01mreturn\u001b[39;00m values\u001b[38;5;241m.\u001b[39mcopy()\n\u001b[0;32m    298\u001b[0m \u001b[38;5;28;01mtry\u001b[39;00m:\n\u001b[1;32m--> 299\u001b[0m     new_values \u001b[38;5;241m=\u001b[39m \u001b[43mastype_array\u001b[49m\u001b[43m(\u001b[49m\u001b[43mvalues\u001b[49m\u001b[43m,\u001b[49m\u001b[43m \u001b[49m\u001b[43mdtype\u001b[49m\u001b[43m,\u001b[49m\u001b[43m \u001b[49m\u001b[43mcopy\u001b[49m\u001b[38;5;241;43m=\u001b[39;49m\u001b[43mcopy\u001b[49m\u001b[43m)\u001b[49m\n\u001b[0;32m    300\u001b[0m \u001b[38;5;28;01mexcept\u001b[39;00m (\u001b[38;5;167;01mValueError\u001b[39;00m, \u001b[38;5;167;01mTypeError\u001b[39;00m):\n\u001b[0;32m    301\u001b[0m     \u001b[38;5;66;03m# e.g. astype_nansafe can fail on object-dtype of strings\u001b[39;00m\n\u001b[0;32m    302\u001b[0m     \u001b[38;5;66;03m#  trying to convert to float\u001b[39;00m\n\u001b[0;32m    303\u001b[0m     \u001b[38;5;28;01mif\u001b[39;00m errors \u001b[38;5;241m==\u001b[39m \u001b[38;5;124m\"\u001b[39m\u001b[38;5;124mignore\u001b[39m\u001b[38;5;124m\"\u001b[39m:\n",
      "File \u001b[1;32mc:\\Users\\Peter\\OneDrive - University of Cambridge\\Desktop\\Project Excel Work\\PartIIIRPC\\.venv\\lib\\site-packages\\pandas\\core\\dtypes\\astype.py:230\u001b[0m, in \u001b[0;36mastype_array\u001b[1;34m(values, dtype, copy)\u001b[0m\n\u001b[0;32m    227\u001b[0m     values \u001b[38;5;241m=\u001b[39m values\u001b[38;5;241m.\u001b[39mastype(dtype, copy\u001b[38;5;241m=\u001b[39mcopy)\n\u001b[0;32m    229\u001b[0m \u001b[38;5;28;01melse\u001b[39;00m:\n\u001b[1;32m--> 230\u001b[0m     values \u001b[38;5;241m=\u001b[39m \u001b[43mastype_nansafe\u001b[49m\u001b[43m(\u001b[49m\u001b[43mvalues\u001b[49m\u001b[43m,\u001b[49m\u001b[43m \u001b[49m\u001b[43mdtype\u001b[49m\u001b[43m,\u001b[49m\u001b[43m \u001b[49m\u001b[43mcopy\u001b[49m\u001b[38;5;241;43m=\u001b[39;49m\u001b[43mcopy\u001b[49m\u001b[43m)\u001b[49m\n\u001b[0;32m    232\u001b[0m \u001b[38;5;66;03m# in pandas we don't store numpy str dtypes, so convert to object\u001b[39;00m\n\u001b[0;32m    233\u001b[0m \u001b[38;5;28;01mif\u001b[39;00m \u001b[38;5;28misinstance\u001b[39m(dtype, np\u001b[38;5;241m.\u001b[39mdtype) \u001b[38;5;129;01mand\u001b[39;00m \u001b[38;5;28missubclass\u001b[39m(values\u001b[38;5;241m.\u001b[39mdtype\u001b[38;5;241m.\u001b[39mtype, \u001b[38;5;28mstr\u001b[39m):\n",
      "File \u001b[1;32mc:\\Users\\Peter\\OneDrive - University of Cambridge\\Desktop\\Project Excel Work\\PartIIIRPC\\.venv\\lib\\site-packages\\pandas\\core\\dtypes\\astype.py:112\u001b[0m, in \u001b[0;36mastype_nansafe\u001b[1;34m(arr, dtype, copy, skipna)\u001b[0m\n\u001b[0;32m    110\u001b[0m     \u001b[38;5;28;01mif\u001b[39;00m arr\u001b[38;5;241m.\u001b[39mndim \u001b[38;5;241m>\u001b[39m \u001b[38;5;241m1\u001b[39m:\n\u001b[0;32m    111\u001b[0m         arr \u001b[38;5;241m=\u001b[39m arr\u001b[38;5;241m.\u001b[39mravel()\n\u001b[1;32m--> 112\u001b[0m     \u001b[38;5;28;01mreturn\u001b[39;00m \u001b[43mlib\u001b[49m\u001b[38;5;241;43m.\u001b[39;49m\u001b[43mensure_string_array\u001b[49m\u001b[43m(\u001b[49m\n\u001b[0;32m    113\u001b[0m \u001b[43m        \u001b[49m\u001b[43marr\u001b[49m\u001b[43m,\u001b[49m\u001b[43m \u001b[49m\u001b[43mskipna\u001b[49m\u001b[38;5;241;43m=\u001b[39;49m\u001b[43mskipna\u001b[49m\u001b[43m,\u001b[49m\u001b[43m \u001b[49m\u001b[43mconvert_na_value\u001b[49m\u001b[38;5;241;43m=\u001b[39;49m\u001b[38;5;28;43;01mFalse\u001b[39;49;00m\n\u001b[0;32m    114\u001b[0m \u001b[43m    \u001b[49m\u001b[43m)\u001b[49m\u001b[38;5;241m.\u001b[39mreshape(shape)\n\u001b[0;32m    116\u001b[0m \u001b[38;5;28;01melif\u001b[39;00m is_datetime64_dtype(arr\u001b[38;5;241m.\u001b[39mdtype):\n\u001b[0;32m    117\u001b[0m     \u001b[38;5;28;01mif\u001b[39;00m dtype \u001b[38;5;241m==\u001b[39m np\u001b[38;5;241m.\u001b[39mint64:\n",
      "File \u001b[1;32mc:\\Users\\Peter\\OneDrive - University of Cambridge\\Desktop\\Project Excel Work\\PartIIIRPC\\.venv\\lib\\site-packages\\pandas\\_libs\\lib.pyx:705\u001b[0m, in \u001b[0;36mpandas._libs.lib.ensure_string_array\u001b[1;34m()\u001b[0m\n",
      "File \u001b[1;32mc:\\Users\\Peter\\OneDrive - University of Cambridge\\Desktop\\Project Excel Work\\PartIIIRPC\\.venv\\lib\\site-packages\\pandas\\_libs\\lib.pyx:764\u001b[0m, in \u001b[0;36mpandas._libs.lib.ensure_string_array\u001b[1;34m()\u001b[0m\n",
      "File \u001b[1;32mc:\\Users\\Peter\\OneDrive - University of Cambridge\\Desktop\\Project Excel Work\\PartIIIRPC\\.venv\\lib\\site-packages\\numpy\\core\\arrayprint.py:1612\u001b[0m, in \u001b[0;36m_array_str_implementation\u001b[1;34m(a, max_line_width, precision, suppress_small, array2string)\u001b[0m\n\u001b[0;32m   1606\u001b[0m \u001b[38;5;28;01mif\u001b[39;00m a\u001b[38;5;241m.\u001b[39mshape \u001b[38;5;241m==\u001b[39m ():\n\u001b[0;32m   1607\u001b[0m     \u001b[38;5;66;03m# obtain a scalar and call str on it, avoiding problems for subclasses\u001b[39;00m\n\u001b[0;32m   1608\u001b[0m     \u001b[38;5;66;03m# for which indexing with () returns a 0d instead of a scalar by using\u001b[39;00m\n\u001b[0;32m   1609\u001b[0m     \u001b[38;5;66;03m# ndarray's getindex. Also guard against recursive 0d object arrays.\u001b[39;00m\n\u001b[0;32m   1610\u001b[0m     \u001b[38;5;28;01mreturn\u001b[39;00m _guarded_repr_or_str(np\u001b[38;5;241m.\u001b[39mndarray\u001b[38;5;241m.\u001b[39m\u001b[38;5;21m__getitem__\u001b[39m(a, ()))\n\u001b[1;32m-> 1612\u001b[0m \u001b[38;5;28;01mreturn\u001b[39;00m \u001b[43marray2string\u001b[49m\u001b[43m(\u001b[49m\u001b[43ma\u001b[49m\u001b[43m,\u001b[49m\u001b[43m \u001b[49m\u001b[43mmax_line_width\u001b[49m\u001b[43m,\u001b[49m\u001b[43m \u001b[49m\u001b[43mprecision\u001b[49m\u001b[43m,\u001b[49m\u001b[43m \u001b[49m\u001b[43msuppress_small\u001b[49m\u001b[43m,\u001b[49m\u001b[43m \u001b[49m\u001b[38;5;124;43m'\u001b[39;49m\u001b[38;5;124;43m \u001b[39;49m\u001b[38;5;124;43m'\u001b[39;49m\u001b[43m,\u001b[49m\u001b[43m \u001b[49m\u001b[38;5;124;43m\"\u001b[39;49m\u001b[38;5;124;43m\"\u001b[39;49m\u001b[43m)\u001b[49m\n",
      "File \u001b[1;32mc:\\Users\\Peter\\OneDrive - University of Cambridge\\Desktop\\Project Excel Work\\PartIIIRPC\\.venv\\lib\\site-packages\\numpy\\core\\arrayprint.py:736\u001b[0m, in \u001b[0;36marray2string\u001b[1;34m(a, max_line_width, precision, suppress_small, separator, prefix, style, formatter, threshold, edgeitems, sign, floatmode, suffix, legacy)\u001b[0m\n\u001b[0;32m    733\u001b[0m \u001b[38;5;28;01mif\u001b[39;00m a\u001b[38;5;241m.\u001b[39msize \u001b[38;5;241m==\u001b[39m \u001b[38;5;241m0\u001b[39m:\n\u001b[0;32m    734\u001b[0m     \u001b[38;5;28;01mreturn\u001b[39;00m \u001b[38;5;124m\"\u001b[39m\u001b[38;5;124m[]\u001b[39m\u001b[38;5;124m\"\u001b[39m\n\u001b[1;32m--> 736\u001b[0m \u001b[38;5;28;01mreturn\u001b[39;00m \u001b[43m_array2string\u001b[49m\u001b[43m(\u001b[49m\u001b[43ma\u001b[49m\u001b[43m,\u001b[49m\u001b[43m \u001b[49m\u001b[43moptions\u001b[49m\u001b[43m,\u001b[49m\u001b[43m \u001b[49m\u001b[43mseparator\u001b[49m\u001b[43m,\u001b[49m\u001b[43m \u001b[49m\u001b[43mprefix\u001b[49m\u001b[43m)\u001b[49m\n",
      "File \u001b[1;32mc:\\Users\\Peter\\OneDrive - University of Cambridge\\Desktop\\Project Excel Work\\PartIIIRPC\\.venv\\lib\\site-packages\\numpy\\core\\arrayprint.py:513\u001b[0m, in \u001b[0;36m_recursive_guard.<locals>.decorating_function.<locals>.wrapper\u001b[1;34m(self, *args, **kwargs)\u001b[0m\n\u001b[0;32m    511\u001b[0m repr_running\u001b[38;5;241m.\u001b[39madd(key)\n\u001b[0;32m    512\u001b[0m \u001b[38;5;28;01mtry\u001b[39;00m:\n\u001b[1;32m--> 513\u001b[0m     \u001b[38;5;28;01mreturn\u001b[39;00m f(\u001b[38;5;28mself\u001b[39m, \u001b[38;5;241m*\u001b[39margs, \u001b[38;5;241m*\u001b[39m\u001b[38;5;241m*\u001b[39mkwargs)\n\u001b[0;32m    514\u001b[0m \u001b[38;5;28;01mfinally\u001b[39;00m:\n\u001b[0;32m    515\u001b[0m     repr_running\u001b[38;5;241m.\u001b[39mdiscard(key)\n",
      "File \u001b[1;32mc:\\Users\\Peter\\OneDrive - University of Cambridge\\Desktop\\Project Excel Work\\PartIIIRPC\\.venv\\lib\\site-packages\\numpy\\core\\arrayprint.py:539\u001b[0m, in \u001b[0;36m_array2string\u001b[1;34m(a, options, separator, prefix)\u001b[0m\n\u001b[0;32m    536\u001b[0m     summary_insert \u001b[38;5;241m=\u001b[39m \u001b[38;5;124m\"\u001b[39m\u001b[38;5;124m\"\u001b[39m\n\u001b[0;32m    538\u001b[0m \u001b[38;5;66;03m# find the right formatting function for the array\u001b[39;00m\n\u001b[1;32m--> 539\u001b[0m format_function \u001b[38;5;241m=\u001b[39m _get_format_function(data, \u001b[38;5;241m*\u001b[39m\u001b[38;5;241m*\u001b[39moptions)\n\u001b[0;32m    541\u001b[0m \u001b[38;5;66;03m# skip over \"[\"\u001b[39;00m\n\u001b[0;32m    542\u001b[0m next_line_prefix \u001b[38;5;241m=\u001b[39m \u001b[38;5;124m\"\u001b[39m\u001b[38;5;124m \u001b[39m\u001b[38;5;124m\"\u001b[39m\n",
      "File \u001b[1;32mc:\\Users\\Peter\\OneDrive - University of Cambridge\\Desktop\\Project Excel Work\\PartIIIRPC\\.venv\\lib\\site-packages\\numpy\\core\\arrayprint.py:472\u001b[0m, in \u001b[0;36m_get_format_function\u001b[1;34m(data, **options)\u001b[0m\n\u001b[0;32m    470\u001b[0m         \u001b[38;5;28;01mreturn\u001b[39;00m formatdict[\u001b[38;5;124m'\u001b[39m\u001b[38;5;124mlongfloat\u001b[39m\u001b[38;5;124m'\u001b[39m]()\n\u001b[0;32m    471\u001b[0m     \u001b[38;5;28;01melse\u001b[39;00m:\n\u001b[1;32m--> 472\u001b[0m         \u001b[38;5;28;01mreturn\u001b[39;00m \u001b[43mformatdict\u001b[49m\u001b[43m[\u001b[49m\u001b[38;5;124;43m'\u001b[39;49m\u001b[38;5;124;43mfloat\u001b[39;49m\u001b[38;5;124;43m'\u001b[39;49m\u001b[43m]\u001b[49m\u001b[43m(\u001b[49m\u001b[43m)\u001b[49m\n\u001b[0;32m    473\u001b[0m \u001b[38;5;28;01melif\u001b[39;00m \u001b[38;5;28missubclass\u001b[39m(dtypeobj, _nt\u001b[38;5;241m.\u001b[39mcomplexfloating):\n\u001b[0;32m    474\u001b[0m     \u001b[38;5;28;01mif\u001b[39;00m \u001b[38;5;28missubclass\u001b[39m(dtypeobj, _nt\u001b[38;5;241m.\u001b[39mclongfloat):\n",
      "File \u001b[1;32mc:\\Users\\Peter\\OneDrive - University of Cambridge\\Desktop\\Project Excel Work\\PartIIIRPC\\.venv\\lib\\site-packages\\numpy\\core\\arrayprint.py:411\u001b[0m, in \u001b[0;36m_get_formatdict.<locals>.<lambda>\u001b[1;34m()\u001b[0m\n\u001b[0;32m    403\u001b[0m \u001b[38;5;28;01mdef\u001b[39;00m \u001b[38;5;21m_get_formatdict\u001b[39m(data, \u001b[38;5;241m*\u001b[39m, precision, floatmode, suppress, sign, legacy,\n\u001b[0;32m    404\u001b[0m                     formatter, \u001b[38;5;241m*\u001b[39m\u001b[38;5;241m*\u001b[39mkwargs):\n\u001b[0;32m    405\u001b[0m     \u001b[38;5;66;03m# note: extra arguments in kwargs are ignored\u001b[39;00m\n\u001b[0;32m    406\u001b[0m \n\u001b[0;32m    407\u001b[0m     \u001b[38;5;66;03m# wrapped in lambdas to avoid taking a code path with the wrong type of data\u001b[39;00m\n\u001b[0;32m    408\u001b[0m     formatdict \u001b[38;5;241m=\u001b[39m {\n\u001b[0;32m    409\u001b[0m         \u001b[38;5;124m'\u001b[39m\u001b[38;5;124mbool\u001b[39m\u001b[38;5;124m'\u001b[39m: \u001b[38;5;28;01mlambda\u001b[39;00m: BoolFormat(data),\n\u001b[0;32m    410\u001b[0m         \u001b[38;5;124m'\u001b[39m\u001b[38;5;124mint\u001b[39m\u001b[38;5;124m'\u001b[39m: \u001b[38;5;28;01mlambda\u001b[39;00m: IntegerFormat(data),\n\u001b[1;32m--> 411\u001b[0m         \u001b[38;5;124m'\u001b[39m\u001b[38;5;124mfloat\u001b[39m\u001b[38;5;124m'\u001b[39m: \u001b[38;5;28;01mlambda\u001b[39;00m: \u001b[43mFloatingFormat\u001b[49m\u001b[43m(\u001b[49m\n\u001b[0;32m    412\u001b[0m \u001b[43m            \u001b[49m\u001b[43mdata\u001b[49m\u001b[43m,\u001b[49m\u001b[43m \u001b[49m\u001b[43mprecision\u001b[49m\u001b[43m,\u001b[49m\u001b[43m \u001b[49m\u001b[43mfloatmode\u001b[49m\u001b[43m,\u001b[49m\u001b[43m \u001b[49m\u001b[43msuppress\u001b[49m\u001b[43m,\u001b[49m\u001b[43m \u001b[49m\u001b[43msign\u001b[49m\u001b[43m,\u001b[49m\u001b[43m \u001b[49m\u001b[43mlegacy\u001b[49m\u001b[38;5;241;43m=\u001b[39;49m\u001b[43mlegacy\u001b[49m\u001b[43m)\u001b[49m,\n\u001b[0;32m    413\u001b[0m         \u001b[38;5;124m'\u001b[39m\u001b[38;5;124mlongfloat\u001b[39m\u001b[38;5;124m'\u001b[39m: \u001b[38;5;28;01mlambda\u001b[39;00m: FloatingFormat(\n\u001b[0;32m    414\u001b[0m             data, precision, floatmode, suppress, sign, legacy\u001b[38;5;241m=\u001b[39mlegacy),\n\u001b[0;32m    415\u001b[0m         \u001b[38;5;124m'\u001b[39m\u001b[38;5;124mcomplexfloat\u001b[39m\u001b[38;5;124m'\u001b[39m: \u001b[38;5;28;01mlambda\u001b[39;00m: ComplexFloatingFormat(\n\u001b[0;32m    416\u001b[0m             data, precision, floatmode, suppress, sign, legacy\u001b[38;5;241m=\u001b[39mlegacy),\n\u001b[0;32m    417\u001b[0m         \u001b[38;5;124m'\u001b[39m\u001b[38;5;124mlongcomplexfloat\u001b[39m\u001b[38;5;124m'\u001b[39m: \u001b[38;5;28;01mlambda\u001b[39;00m: ComplexFloatingFormat(\n\u001b[0;32m    418\u001b[0m             data, precision, floatmode, suppress, sign, legacy\u001b[38;5;241m=\u001b[39mlegacy),\n\u001b[0;32m    419\u001b[0m         \u001b[38;5;124m'\u001b[39m\u001b[38;5;124mdatetime\u001b[39m\u001b[38;5;124m'\u001b[39m: \u001b[38;5;28;01mlambda\u001b[39;00m: DatetimeFormat(data, legacy\u001b[38;5;241m=\u001b[39mlegacy),\n\u001b[0;32m    420\u001b[0m         \u001b[38;5;124m'\u001b[39m\u001b[38;5;124mtimedelta\u001b[39m\u001b[38;5;124m'\u001b[39m: \u001b[38;5;28;01mlambda\u001b[39;00m: TimedeltaFormat(data),\n\u001b[0;32m    421\u001b[0m         \u001b[38;5;124m'\u001b[39m\u001b[38;5;124mobject\u001b[39m\u001b[38;5;124m'\u001b[39m: \u001b[38;5;28;01mlambda\u001b[39;00m: _object_format,\n\u001b[0;32m    422\u001b[0m         \u001b[38;5;124m'\u001b[39m\u001b[38;5;124mvoid\u001b[39m\u001b[38;5;124m'\u001b[39m: \u001b[38;5;28;01mlambda\u001b[39;00m: str_format,\n\u001b[0;32m    423\u001b[0m         \u001b[38;5;124m'\u001b[39m\u001b[38;5;124mnumpystr\u001b[39m\u001b[38;5;124m'\u001b[39m: \u001b[38;5;28;01mlambda\u001b[39;00m: repr_format}\n\u001b[0;32m    425\u001b[0m     \u001b[38;5;66;03m# we need to wrap values in `formatter` in a lambda, so that the interface\u001b[39;00m\n\u001b[0;32m    426\u001b[0m     \u001b[38;5;66;03m# is the same as the above values.\u001b[39;00m\n\u001b[0;32m    427\u001b[0m     \u001b[38;5;28;01mdef\u001b[39;00m \u001b[38;5;21mindirect\u001b[39m(x):\n",
      "File \u001b[1;32mc:\\Users\\Peter\\OneDrive - University of Cambridge\\Desktop\\Project Excel Work\\PartIIIRPC\\.venv\\lib\\site-packages\\numpy\\core\\arrayprint.py:932\u001b[0m, in \u001b[0;36mFloatingFormat.__init__\u001b[1;34m(self, data, precision, floatmode, suppress_small, sign, legacy)\u001b[0m\n\u001b[0;32m    929\u001b[0m \u001b[38;5;28mself\u001b[39m\u001b[38;5;241m.\u001b[39mexp_format \u001b[38;5;241m=\u001b[39m \u001b[38;5;28;01mFalse\u001b[39;00m\n\u001b[0;32m    930\u001b[0m \u001b[38;5;28mself\u001b[39m\u001b[38;5;241m.\u001b[39mlarge_exponent \u001b[38;5;241m=\u001b[39m \u001b[38;5;28;01mFalse\u001b[39;00m\n\u001b[1;32m--> 932\u001b[0m \u001b[38;5;28;43mself\u001b[39;49m\u001b[38;5;241;43m.\u001b[39;49m\u001b[43mfillFormat\u001b[49m\u001b[43m(\u001b[49m\u001b[43mdata\u001b[49m\u001b[43m)\u001b[49m\n",
      "File \u001b[1;32mc:\\Users\\Peter\\OneDrive - University of Cambridge\\Desktop\\Project Excel Work\\PartIIIRPC\\.venv\\lib\\site-packages\\numpy\\core\\arrayprint.py:942\u001b[0m, in \u001b[0;36mFloatingFormat.fillFormat\u001b[1;34m(self, data)\u001b[0m\n\u001b[0;32m    940\u001b[0m \u001b[38;5;28;01mif\u001b[39;00m \u001b[38;5;28mlen\u001b[39m(abs_non_zero) \u001b[38;5;241m!=\u001b[39m \u001b[38;5;241m0\u001b[39m:\n\u001b[0;32m    941\u001b[0m     max_val \u001b[38;5;241m=\u001b[39m np\u001b[38;5;241m.\u001b[39mmax(abs_non_zero)\n\u001b[1;32m--> 942\u001b[0m     min_val \u001b[38;5;241m=\u001b[39m \u001b[43mnp\u001b[49m\u001b[38;5;241;43m.\u001b[39;49m\u001b[43mmin\u001b[49m\u001b[43m(\u001b[49m\u001b[43mabs_non_zero\u001b[49m\u001b[43m)\u001b[49m\n\u001b[0;32m    943\u001b[0m     \u001b[38;5;28;01mwith\u001b[39;00m errstate(over\u001b[38;5;241m=\u001b[39m\u001b[38;5;124m'\u001b[39m\u001b[38;5;124mignore\u001b[39m\u001b[38;5;124m'\u001b[39m):  \u001b[38;5;66;03m# division can overflow\u001b[39;00m\n\u001b[0;32m    944\u001b[0m         \u001b[38;5;28;01mif\u001b[39;00m max_val \u001b[38;5;241m>\u001b[39m\u001b[38;5;241m=\u001b[39m \u001b[38;5;241m1.e8\u001b[39m \u001b[38;5;129;01mor\u001b[39;00m (\u001b[38;5;129;01mnot\u001b[39;00m \u001b[38;5;28mself\u001b[39m\u001b[38;5;241m.\u001b[39msuppress_small \u001b[38;5;129;01mand\u001b[39;00m\n\u001b[0;32m    945\u001b[0m                 (min_val \u001b[38;5;241m<\u001b[39m \u001b[38;5;241m0.0001\u001b[39m \u001b[38;5;129;01mor\u001b[39;00m max_val\u001b[38;5;241m/\u001b[39mmin_val \u001b[38;5;241m>\u001b[39m \u001b[38;5;241m1000.\u001b[39m)):\n",
      "File \u001b[1;32mc:\\Users\\Peter\\OneDrive - University of Cambridge\\Desktop\\Project Excel Work\\PartIIIRPC\\.venv\\lib\\site-packages\\numpy\\core\\fromnumeric.py:2953\u001b[0m, in \u001b[0;36mmin\u001b[1;34m(a, axis, out, keepdims, initial, where)\u001b[0m\n\u001b[0;32m   2836\u001b[0m \u001b[38;5;129m@array_function_dispatch\u001b[39m(_min_dispatcher)\n\u001b[0;32m   2837\u001b[0m \u001b[38;5;28;01mdef\u001b[39;00m \u001b[38;5;21mmin\u001b[39m(a, axis\u001b[38;5;241m=\u001b[39m\u001b[38;5;28;01mNone\u001b[39;00m, out\u001b[38;5;241m=\u001b[39m\u001b[38;5;28;01mNone\u001b[39;00m, keepdims\u001b[38;5;241m=\u001b[39mnp\u001b[38;5;241m.\u001b[39m_NoValue, initial\u001b[38;5;241m=\u001b[39mnp\u001b[38;5;241m.\u001b[39m_NoValue,\n\u001b[0;32m   2838\u001b[0m         where\u001b[38;5;241m=\u001b[39mnp\u001b[38;5;241m.\u001b[39m_NoValue):\n\u001b[0;32m   2839\u001b[0m \u001b[38;5;250m    \u001b[39m\u001b[38;5;124;03m\"\"\"\u001b[39;00m\n\u001b[0;32m   2840\u001b[0m \u001b[38;5;124;03m    Return the minimum of an array or minimum along an axis.\u001b[39;00m\n\u001b[0;32m   2841\u001b[0m \n\u001b[1;32m   (...)\u001b[0m\n\u001b[0;32m   2951\u001b[0m \u001b[38;5;124;03m    6\u001b[39;00m\n\u001b[0;32m   2952\u001b[0m \u001b[38;5;124;03m    \"\"\"\u001b[39;00m\n\u001b[1;32m-> 2953\u001b[0m     \u001b[38;5;28;01mreturn\u001b[39;00m \u001b[43m_wrapreduction\u001b[49m\u001b[43m(\u001b[49m\u001b[43ma\u001b[49m\u001b[43m,\u001b[49m\u001b[43m \u001b[49m\u001b[43mnp\u001b[49m\u001b[38;5;241;43m.\u001b[39;49m\u001b[43mminimum\u001b[49m\u001b[43m,\u001b[49m\u001b[43m \u001b[49m\u001b[38;5;124;43m'\u001b[39;49m\u001b[38;5;124;43mmin\u001b[39;49m\u001b[38;5;124;43m'\u001b[39;49m\u001b[43m,\u001b[49m\u001b[43m \u001b[49m\u001b[43maxis\u001b[49m\u001b[43m,\u001b[49m\u001b[43m \u001b[49m\u001b[38;5;28;43;01mNone\u001b[39;49;00m\u001b[43m,\u001b[49m\u001b[43m \u001b[49m\u001b[43mout\u001b[49m\u001b[43m,\u001b[49m\n\u001b[0;32m   2954\u001b[0m \u001b[43m                          \u001b[49m\u001b[43mkeepdims\u001b[49m\u001b[38;5;241;43m=\u001b[39;49m\u001b[43mkeepdims\u001b[49m\u001b[43m,\u001b[49m\u001b[43m \u001b[49m\u001b[43minitial\u001b[49m\u001b[38;5;241;43m=\u001b[39;49m\u001b[43minitial\u001b[49m\u001b[43m,\u001b[49m\u001b[43m \u001b[49m\u001b[43mwhere\u001b[49m\u001b[38;5;241;43m=\u001b[39;49m\u001b[43mwhere\u001b[49m\u001b[43m)\u001b[49m\n",
      "\u001b[1;31mKeyboardInterrupt\u001b[0m: "
     ]
    }
   ],
   "source": [
    "show(Reconstructed_df_6)"
   ]
  },
  {
   "cell_type": "code",
   "execution_count": 171,
   "metadata": {},
   "outputs": [
    {
     "name": "stdout",
     "output_type": "stream",
     "text": [
      "<class 'pandas.core.frame.DataFrame'>\n",
      "RangeIndex: 6534 entries, 0 to 6533\n",
      "Data columns (total 6 columns):\n",
      " #   Column            Non-Null Count  Dtype  \n",
      "---  ------            --------------  -----  \n",
      " 0   Event Number      6534 non-null   int64  \n",
      " 1   Direction         6534 non-null   object \n",
      " 2   Slope             6534 non-null   float64\n",
      " 3   Intercept         6534 non-null   float64\n",
      " 4   Used Coordinates  6534 non-null   object \n",
      " 5   chi2 norm         6534 non-null   float64\n",
      "dtypes: float64(3), int64(1), object(2)\n",
      "memory usage: 306.4+ KB\n",
      "None\n"
     ]
    }
   ],
   "source": [
    "print(Reconstructed_df_6.info())"
   ]
  },
  {
   "cell_type": "code",
   "execution_count": 210,
   "metadata": {},
   "outputs": [],
   "source": [
    "def parse_times(row):\n",
    "    coords =row['Used Coordinates']\n",
    "    times = {0: [], 1: [], 2: []}\n",
    "\n",
    "    for coord in coords:\n",
    "        rpc_id = int(coord[0][3])  \n",
    "        time = coord[2]\n",
    "        if rpc_id in [0, 1, 2]:\n",
    "            times[0].append(time)\n",
    "        elif rpc_id == 3:\n",
    "            times[1].append(time)\n",
    "        elif rpc_id in [4, 5]:\n",
    "            times[2].append(time)\n",
    "\n",
    "    for key in times:\n",
    "        if times[key]:\n",
    "            times[key] = sum(times[key]) / len(times[key])\n",
    "        else:\n",
    "            times[key] = None  \n",
    "\n",
    "    return times\n",
    "\n",
    "def determine_direction(times):\n",
    "    t1, t2, t3 = times[0], times[1], times[2]\n",
    "\n",
    "    if t1 is not None and t3 is not None:\n",
    "        return 'bottom' if t1 < t3 else 'top'\n",
    "    elif t1 is not None and t2 is not None:\n",
    "        return 'bottom' if t1 < t2 else 'top'\n",
    "    elif t2 is not None and t3 is not None:\n",
    "        return 'bottom' if t2 < t3 else 'top'\n",
    "    else:\n",
    "        return 'unknown'  \n",
    "\n",
    "Reconstructed_df_6['Parsed Times'] = Reconstructed_df_6.apply(parse_times, axis=1)\n",
    "Reconstructed_df_6['Muon Direction'] = Reconstructed_df_6['Parsed Times'].apply(determine_direction)"
   ]
  },
  {
   "cell_type": "code",
   "execution_count": 179,
   "metadata": {},
   "outputs": [],
   "source": [
    "Reconstructed_df_6 = Reconstructed_df_6.sort_values(by = ['Event Number', 'Direction'])"
   ]
  },
  {
   "cell_type": "code",
   "execution_count": 73,
   "metadata": {},
   "outputs": [
    {
     "name": "stdout",
     "output_type": "stream",
     "text": [
      "<class 'pandas.core.frame.DataFrame'>\n",
      "RangeIndex: 732058 entries, 0 to 732057\n",
      "Data columns (total 7 columns):\n",
      " #   Column            Non-Null Count   Dtype  \n",
      "---  ------            --------------   -----  \n",
      " 0   Event Number      732058 non-null  int64  \n",
      " 1   Direction         732058 non-null  object \n",
      " 2   Slope             732058 non-null  float64\n",
      " 3   Intercept         732058 non-null  float64\n",
      " 4   Used Coordinates  732058 non-null  object \n",
      " 5   chi2 norm         732058 non-null  float64\n",
      " 6   RSS               732058 non-null  object \n",
      "dtypes: float64(3), int64(1), object(3)\n",
      "memory usage: 39.1+ MB\n",
      "None\n"
     ]
    }
   ],
   "source": [
    "print(Reconstructed_df_6.info())"
   ]
  },
  {
   "cell_type": "code",
   "execution_count": 91,
   "metadata": {},
   "outputs": [
    {
     "name": "stderr",
     "output_type": "stream",
     "text": [
      "PandasGUI INFO — pandasgui.gui — Opening PandasGUI\n",
      "INFO:pandasgui.gui:Opening PandasGUI\n"
     ]
    },
    {
     "data": {
      "text/plain": [
       "<pandasgui.gui.PandasGui at 0x223e91b75b0>"
      ]
     },
     "execution_count": 91,
     "metadata": {},
     "output_type": "execute_result"
    }
   ],
   "source": [
    "show(Reconstructed_df_6.head(50))"
   ]
  },
  {
   "cell_type": "code",
   "execution_count": 180,
   "metadata": {},
   "outputs": [],
   "source": [
    "valid_events = Reconstructed_df_6.groupby('Event Number')['Direction'].agg(set).reset_index()\n",
    "valid_events = valid_events[valid_events['Direction'] == {'eta', 'phi'}]\n",
    "\n",
    "\n",
    "# Filter the original DataFrame to include only those Event Numbers with both directions\n",
    "Reconstructed_df_6_True = Reconstructed_df_6[Reconstructed_df_6['Event Number'].isin(valid_events['Event Number'])]"
   ]
  },
  {
   "cell_type": "code",
   "execution_count": 78,
   "metadata": {},
   "outputs": [
    {
     "name": "stdout",
     "output_type": "stream",
     "text": [
      "<class 'pandas.core.frame.DataFrame'>\n",
      "Int64Index: 694638 entries, 0 to 732057\n",
      "Data columns (total 7 columns):\n",
      " #   Column            Non-Null Count   Dtype  \n",
      "---  ------            --------------   -----  \n",
      " 0   Event Number      694638 non-null  int64  \n",
      " 1   Direction         694638 non-null  object \n",
      " 2   Slope             694638 non-null  float64\n",
      " 3   Intercept         694638 non-null  float64\n",
      " 4   Used Coordinates  694638 non-null  object \n",
      " 5   chi2 norm         694638 non-null  float64\n",
      " 6   RSS               694638 non-null  object \n",
      "dtypes: float64(3), int64(1), object(3)\n",
      "memory usage: 42.4+ MB\n",
      "None\n"
     ]
    }
   ],
   "source": [
    "print(Reconstructed_df_6_True.info())"
   ]
  },
  {
   "cell_type": "code",
   "execution_count": 181,
   "metadata": {},
   "outputs": [
    {
     "name": "stderr",
     "output_type": "stream",
     "text": [
      "C:\\Users\\Peter\\AppData\\Local\\Temp\\ipykernel_60340\\2304369250.py:2: SettingWithCopyWarning:\n",
      "\n",
      "\n",
      "A value is trying to be set on a copy of a slice from a DataFrame.\n",
      "Try using .loc[row_indexer,col_indexer] = value instead\n",
      "\n",
      "See the caveats in the documentation: https://pandas.pydata.org/pandas-docs/stable/user_guide/indexing.html#returning-a-view-versus-a-copy\n",
      "\n"
     ]
    }
   ],
   "source": [
    "\n",
    "def refine_reconstructed_paths(df):\n",
    "    df['Number_of_Rpcs'] = df['Used Coordinates'].apply(len)\n",
    "\n",
    "    max_rpcs_df = df.groupby(['Event Number', 'Direction']).apply(\n",
    "        lambda group: group[group['Number_of_Rpcs'] == group['Number_of_Rpcs'].max()]\n",
    "    ).reset_index(drop=True)\n",
    "\n",
    "    def find_matching_pairs(group):\n",
    "        eta_rows = group[group['Direction'] == 'eta']\n",
    "        phi_rows = group[group['Direction'] == 'phi']\n",
    "\n",
    "        eta_ids = [coord[0] for coords in eta_rows['Used Coordinates'] for coord in coords]\n",
    "        phi_ids = [coord[0] for coords in phi_rows['Used Coordinates'] for coord in coords]\n",
    "\n",
    "        if set(eta_ids) == set(phi_ids):\n",
    "            return group\n",
    "        return pd.DataFrame() \n",
    "\n",
    "    filtered_df = max_rpcs_df.groupby('Event Number').apply(find_matching_pairs).reset_index(drop=True)\n",
    "\n",
    "    return filtered_df\n",
    "\n",
    "filtered_df = refine_reconstructed_paths(Reconstructed_df_6_True)\n"
   ]
  },
  {
   "cell_type": "code",
   "execution_count": 182,
   "metadata": {},
   "outputs": [],
   "source": [
    "def min_chi2(df):\n",
    "    df['Number_of_Rpcs'] = df['Used Coordinates'].apply(len)\n",
    "    refined_df = df.groupby(['Event Number', 'Direction']).apply(\n",
    "        lambda x: x.nsmallest(1, 'chi2 norm')\n",
    "    ).reset_index(drop=True)\n",
    "    return refined_df\n",
    "    \n",
    "filtered_df_min_chi2 = min_chi2(filtered_df)"
   ]
  },
  {
   "cell_type": "code",
   "execution_count": 183,
   "metadata": {},
   "outputs": [],
   "source": [
    "def Final_filter(df):\n",
    "    grouped = df.groupby('Event Number')\n",
    "\n",
    "    valid_indices = []\n",
    "\n",
    "    for name, group in grouped:\n",
    "        eta_size = group[group['Direction'] == 'eta']['Number_of_Rpcs']\n",
    "        phi_size = group[group['Direction'] == 'phi']['Number_of_Rpcs']\n",
    "        if int(eta_size) == int(phi_size):\n",
    "            valid_indices.extend(group.index) \n",
    "    return df.loc[valid_indices]\n",
    "\n",
    "filtered_df_min_chi2 = Final_filter(filtered_df_min_chi2)\n"
   ]
  },
  {
   "cell_type": "code",
   "execution_count": 78,
   "metadata": {},
   "outputs": [
    {
     "name": "stderr",
     "output_type": "stream",
     "text": [
      "PandasGUI INFO — pandasgui.gui — Opening PandasGUI\n",
      "INFO:pandasgui.gui:Opening PandasGUI\n"
     ]
    },
    {
     "data": {
      "text/plain": [
       "<pandasgui.gui.PandasGui at 0x22432a27a30>"
      ]
     },
     "execution_count": 78,
     "metadata": {},
     "output_type": "execute_result"
    }
   ],
   "source": [
    "show(filtered_df_min_chi2.head(1000))"
   ]
  },
  {
   "cell_type": "code",
   "execution_count": 49,
   "metadata": {},
   "outputs": [
    {
     "name": "stdout",
     "output_type": "stream",
     "text": [
      "<class 'pandas.core.frame.DataFrame'>\n",
      "RangeIndex: 7789 entries, 0 to 7788\n",
      "Data columns (total 8 columns):\n",
      " #   Column            Non-Null Count  Dtype  \n",
      "---  ------            --------------  -----  \n",
      " 0   Event Number      7789 non-null   float64\n",
      " 1   Direction         7789 non-null   object \n",
      " 2   Slope             7789 non-null   float64\n",
      " 3   Intercept         7789 non-null   float64\n",
      " 4   Used Coordinates  7789 non-null   object \n",
      " 5   chi2 norm         7789 non-null   float64\n",
      " 6   RSS               7789 non-null   float64\n",
      " 7   Number_of_Rpcs    7789 non-null   int64  \n",
      "dtypes: float64(5), int64(1), object(2)\n",
      "memory usage: 486.9+ KB\n",
      "None\n"
     ]
    }
   ],
   "source": [
    "print(filtered_df.info())"
   ]
  },
  {
   "cell_type": "code",
   "execution_count": 95,
   "metadata": {},
   "outputs": [
    {
     "name": "stderr",
     "output_type": "stream",
     "text": [
      "PandasGUI INFO — pandasgui.gui — Opening PandasGUI\n",
      "INFO:pandasgui.gui:Opening PandasGUI\n"
     ]
    },
    {
     "data": {
      "text/plain": [
       "<pandasgui.gui.PandasGui at 0x223ed3877f0>"
      ]
     },
     "execution_count": 95,
     "metadata": {},
     "output_type": "execute_result"
    }
   ],
   "source": [
    "show(filtered_df.head(500))"
   ]
  },
  {
   "cell_type": "code",
   "execution_count": 184,
   "metadata": {},
   "outputs": [],
   "source": [
    "def optimal_pair_indices(group):\n",
    "    etas = group[group['Direction'] == 'eta']\n",
    "    phis = group[group['Direction'] == 'phi']\n",
    "\n",
    "    best_eta_idx = None\n",
    "    best_phi_idx = None\n",
    "    min_total_diff = float('inf')\n",
    "\n",
    "    for eta_idx, eta_row in etas.iterrows():\n",
    "        for phi_idx, phi_row in phis.iterrows():\n",
    "            if eta_row['Number_of_Rpcs'] != phi_row['Number_of_Rpcs']:\n",
    "                continue\n",
    "            eta_ids = [eta[0] for eta in eta_row['Used Coordinates']]\n",
    "            phi_ids = [phi[0] for phi in phi_row['Used Coordinates']]\n",
    "            if eta_ids != phi_ids:\n",
    "                continue       \n",
    "            total_diff = sum(abs(eta[2] - phi[2]) for eta, phi in zip(eta_row['Used Coordinates'], phi_row['Used Coordinates']))\n",
    "\n",
    "            if total_diff < min_total_diff:\n",
    "                min_total_diff = total_diff\n",
    "                best_eta_idx = eta_idx\n",
    "                best_phi_idx = phi_idx\n",
    "\n",
    "    return [best_eta_idx, best_phi_idx]\n",
    "\n",
    "optimal_indices = filtered_df.groupby('Event Number').apply(optimal_pair_indices).explode().dropna().unique()\n",
    "\n",
    "refined_df = filtered_df.loc[optimal_indices]"
   ]
  },
  {
   "cell_type": "code",
   "execution_count": 48,
   "metadata": {},
   "outputs": [
    {
     "name": "stdout",
     "output_type": "stream",
     "text": [
      "<class 'pandas.core.frame.DataFrame'>\n",
      "Int64Index: 4674 entries, 0 to 7788\n",
      "Data columns (total 8 columns):\n",
      " #   Column            Non-Null Count  Dtype  \n",
      "---  ------            --------------  -----  \n",
      " 0   Event Number      4674 non-null   float64\n",
      " 1   Direction         4674 non-null   object \n",
      " 2   Slope             4674 non-null   float64\n",
      " 3   Intercept         4674 non-null   float64\n",
      " 4   Used Coordinates  4674 non-null   object \n",
      " 5   chi2 norm         4674 non-null   float64\n",
      " 6   RSS               4674 non-null   float64\n",
      " 7   Number_of_Rpcs    4674 non-null   int64  \n",
      "dtypes: float64(5), int64(1), object(2)\n",
      "memory usage: 328.6+ KB\n",
      "None\n"
     ]
    }
   ],
   "source": [
    "print(refined_df.info())"
   ]
  },
  {
   "cell_type": "code",
   "execution_count": 145,
   "metadata": {},
   "outputs": [
    {
     "name": "stderr",
     "output_type": "stream",
     "text": [
      "PandasGUI INFO — pandasgui.gui — Opening PandasGUI\n",
      "INFO:pandasgui.gui:Opening PandasGUI\n"
     ]
    },
    {
     "data": {
      "text/plain": [
       "<pandasgui.gui.PandasGui at 0x21453193f40>"
      ]
     },
     "execution_count": 145,
     "metadata": {},
     "output_type": "execute_result"
    }
   ],
   "source": [
    "show(refined_df.head(5000))"
   ]
  },
  {
   "cell_type": "code",
   "execution_count": 116,
   "metadata": {},
   "outputs": [],
   "source": [
    "def check_rpc_conditions(coords):\n",
    "    has_rpc3 = any('rpc3' == rpc for rpc, _, _ in coords)\n",
    "    has_rpc4_or_rpc5 = any(rpc in ['rpc4', 'rpc5'] for rpc, _, _ in coords)\n",
    "    return has_rpc3 and has_rpc4_or_rpc5\n",
    "\n",
    "def filter_matching_rpcs(group):\n",
    "    coords = group['Used Coordinates'].iloc[0] \n",
    "    if check_rpc_conditions(coords):\n",
    "        return group\n",
    "    return group.iloc[0:0] \n",
    "\n",
    "refined_df = refined_df.groupby('Event Number').apply(filter_matching_rpcs).reset_index(drop=True)\n",
    "filtered_df_min_chi2 = filtered_df_min_chi2.groupby('Event Number').apply(filter_matching_rpcs).reset_index(drop=True)\n"
   ]
  },
  {
   "cell_type": "code",
   "execution_count": 119,
   "metadata": {},
   "outputs": [
    {
     "name": "stderr",
     "output_type": "stream",
     "text": [
      "PandasGUI INFO — pandasgui.gui — Opening PandasGUI\n",
      "INFO:pandasgui.gui:Opening PandasGUI\n"
     ]
    },
    {
     "data": {
      "text/plain": [
       "<pandasgui.gui.PandasGui at 0x21272f4d090>"
      ]
     },
     "execution_count": 119,
     "metadata": {},
     "output_type": "execute_result"
    }
   ],
   "source": [
    "\n",
    "show(refined_df)"
   ]
  },
  {
   "cell_type": "code",
   "execution_count": 245,
   "metadata": {},
   "outputs": [
    {
     "name": "stderr",
     "output_type": "stream",
     "text": [
      "PandasGUI INFO — pandasgui.gui — Opening PandasGUI\n",
      "INFO:pandasgui.gui:Opening PandasGUI\n"
     ]
    },
    {
     "data": {
      "text/plain": [
       "<pandasgui.gui.PandasGui at 0x23fd70068c0>"
      ]
     },
     "execution_count": 245,
     "metadata": {},
     "output_type": "execute_result"
    }
   ],
   "source": [
    "show(filtered_refined_df)"
   ]
  },
  {
   "cell_type": "code",
   "execution_count": 63,
   "metadata": {},
   "outputs": [
    {
     "name": "stderr",
     "output_type": "stream",
     "text": [
      "PandasGUI INFO — pandasgui.gui — Opening PandasGUI\n",
      "INFO:pandasgui.gui:Opening PandasGUI\n",
      "PandasGUI INFO — pandasgui.gui — Opening PandasGUI\n",
      "INFO:pandasgui.gui:Opening PandasGUI\n"
     ]
    },
    {
     "data": {
      "text/plain": [
       "<pandasgui.gui.PandasGui at 0x212a85bf490>"
      ]
     },
     "execution_count": 63,
     "metadata": {},
     "output_type": "execute_result"
    }
   ],
   "source": [
    "show(filtered_df_min_chi2)\n",
    "show(refined_df)"
   ]
  },
  {
   "cell_type": "code",
   "execution_count": 70,
   "metadata": {},
   "outputs": [
    {
     "name": "stdout",
     "output_type": "stream",
     "text": [
      "<class 'pandas.core.frame.DataFrame'>\n",
      "RangeIndex: 2300 entries, 0 to 2299\n",
      "Data columns (total 8 columns):\n",
      " #   Column            Non-Null Count  Dtype  \n",
      "---  ------            --------------  -----  \n",
      " 0   Event Number      2300 non-null   float64\n",
      " 1   Direction         2300 non-null   object \n",
      " 2   Slope             2300 non-null   float64\n",
      " 3   Intercept         2300 non-null   float64\n",
      " 4   Used Coordinates  2300 non-null   object \n",
      " 5   chi2 norm         2300 non-null   float64\n",
      " 6   RSS               2300 non-null   float64\n",
      " 7   Number_of_Rpcs    2300 non-null   int64  \n",
      "dtypes: float64(5), int64(1), object(2)\n",
      "memory usage: 143.9+ KB\n",
      "None\n",
      "<class 'pandas.core.frame.DataFrame'>\n",
      "RangeIndex: 2294 entries, 0 to 2293\n",
      "Data columns (total 8 columns):\n",
      " #   Column            Non-Null Count  Dtype  \n",
      "---  ------            --------------  -----  \n",
      " 0   Event Number      2294 non-null   float64\n",
      " 1   Direction         2294 non-null   object \n",
      " 2   Slope             2294 non-null   float64\n",
      " 3   Intercept         2294 non-null   float64\n",
      " 4   Used Coordinates  2294 non-null   object \n",
      " 5   chi2 norm         2294 non-null   float64\n",
      " 6   RSS               2294 non-null   float64\n",
      " 7   Number_of_Rpcs    2294 non-null   int64  \n",
      "dtypes: float64(5), int64(1), object(2)\n",
      "memory usage: 143.5+ KB\n",
      "None\n"
     ]
    }
   ],
   "source": [
    "print(filtered_df_min_chi2.info())\n",
    "print(refined_df.info())"
   ]
  },
  {
   "cell_type": "code",
   "execution_count": 164,
   "metadata": {},
   "outputs": [
    {
     "name": "stderr",
     "output_type": "stream",
     "text": [
      "PandasGUI INFO — pandasgui.gui — Opening PandasGUI\n",
      "INFO:pandasgui.gui:Opening PandasGUI\n"
     ]
    },
    {
     "data": {
      "text/plain": [
       "<pandasgui.gui.PandasGui at 0x24009f64550>"
      ]
     },
     "execution_count": 164,
     "metadata": {},
     "output_type": "execute_result"
    }
   ],
   "source": [
    "show(filtered_refined_df)"
   ]
  },
  {
   "cell_type": "code",
   "execution_count": 157,
   "metadata": {},
   "outputs": [],
   "source": [
    "filtered_refined_df.to_csv('test')"
   ]
  },
  {
   "cell_type": "code",
   "execution_count": 148,
   "metadata": {},
   "outputs": [
    {
     "name": "stdout",
     "output_type": "stream",
     "text": [
      "<class 'pandas.core.frame.DataFrame'>\n",
      "Int64Index: 582 entries, 0 to 581\n",
      "Data columns (total 7 columns):\n",
      " #   Column            Non-Null Count  Dtype  \n",
      "---  ------            --------------  -----  \n",
      " 0   Event Number      582 non-null    float64\n",
      " 1   Direction         582 non-null    object \n",
      " 2   Slope             582 non-null    float64\n",
      " 3   Intercept         582 non-null    float64\n",
      " 4   Used Coordinates  582 non-null    object \n",
      " 5   chi2 norm         582 non-null    float64\n",
      " 6   Number_of_Rpcs    582 non-null    int64  \n",
      "dtypes: float64(4), int64(1), object(2)\n",
      "memory usage: 36.4+ KB\n",
      "None\n"
     ]
    }
   ],
   "source": [
    "print(filtered_refined_df.info())"
   ]
  },
  {
   "cell_type": "code",
   "execution_count": 297,
   "metadata": {},
   "outputs": [
    {
     "name": "stderr",
     "output_type": "stream",
     "text": [
      "C:\\Users\\Peter\\AppData\\Local\\Temp\\ipykernel_25604\\1105133516.py:15: SettingWithCopyWarning:\n",
      "\n",
      "\n",
      "A value is trying to be set on a copy of a slice from a DataFrame\n",
      "\n",
      "See the caveats in the documentation: https://pandas.pydata.org/pandas-docs/stable/user_guide/indexing.html#returning-a-view-versus-a-copy\n",
      "\n"
     ]
    }
   ],
   "source": [
    "def is_continuous(rpc_list):\n",
    "    # Extracting the index number from each tuple ('rpcX')\n",
    "    indices = [int(rpc[0][3:]) for rpc in rpc_list]  # 'rpcX' -> X\n",
    "    # Check if sorted indices are continuous\n",
    "    sorted_indices = sorted(indices)\n",
    "    return sorted_indices == list(range(min(sorted_indices), max(sorted_indices)+1))\n",
    "\n",
    "# Applying the filter to the DataFrame\n",
    "filtered_df['is_continuous'] = filtered_df['Used Coordinates'].apply(is_continuous)\n",
    "\n",
    "# Filtering the DataFrame to keep only continuous rows\n",
    "filtered_refined_contineous_df = filtered_df[filtered_df['is_continuous']]\n",
    "\n",
    "# Drop the auxiliary column\n",
    "filtered_refined_contineous_df.drop(columns='is_continuous', inplace=True)"
   ]
  },
  {
   "cell_type": "code",
   "execution_count": 301,
   "metadata": {},
   "outputs": [
    {
     "name": "stderr",
     "output_type": "stream",
     "text": [
      "C:\\Users\\Peter\\AppData\\Local\\Temp\\ipykernel_25604\\2894165069.py:34: SettingWithCopyWarning:\n",
      "\n",
      "\n",
      "A value is trying to be set on a copy of a slice from a DataFrame.\n",
      "Try using .loc[row_indexer,col_indexer] = value instead\n",
      "\n",
      "See the caveats in the documentation: https://pandas.pydata.org/pandas-docs/stable/user_guide/indexing.html#returning-a-view-versus-a-copy\n",
      "\n"
     ]
    }
   ],
   "source": [
    "rpc_heights = {\n",
    "    'rpc0': 0, \n",
    "    'rpc1': 0.5, \n",
    "    'rpc2': 1.0, \n",
    "    'rpc3': 61.5, \n",
    "    'rpc4': 121.5, \n",
    "    'rpc5': 122.0\n",
    "}\n",
    "    \n",
    "def should_delete_row(row):\n",
    "    used_rpcs = [rpc[0] for rpc in row['Used Coordinates']]\n",
    "    slope = row['Slope']\n",
    "    intercept = row['Intercept']\n",
    "    direction = row['Direction']\n",
    "    \n",
    "    # Define bounds based on direction\n",
    "    if direction == 'eta':\n",
    "        bounds = (-32 * 2.5,0)\n",
    "    elif direction == 'phi':\n",
    "        bounds = (0, 64 * 2.5)\n",
    "    else:\n",
    "        raise ValueError(\"Unknown direction\")\n",
    "\n",
    "    # Calculate X for all rpc_heights and check if any outside used_rpcs lie within bounds\n",
    "    for rpc, height in rpc_heights.items():\n",
    "        if rpc not in used_rpcs:\n",
    "            x_value = slope * height + intercept\n",
    "            if bounds[0] <= x_value <= bounds[1]:\n",
    "                return True  # Indicates row should be deleted\n",
    "\n",
    "    return False\n",
    "\n",
    "# Apply the function and filter rows\n",
    "filtered_refined_contineous_df['Delete Row'] = filtered_refined_contineous_df.apply(should_delete_row, axis=1)\n",
    "filtered_refined_contineous_Deleted_df = filtered_refined_contineous_df[~filtered_refined_contineous_df['Delete Row']]  # Keep rows where 'Delete Row' is False"
   ]
  },
  {
   "cell_type": "code",
   "execution_count": 416,
   "metadata": {},
   "outputs": [],
   "source": [
    "Reconstructed_df_6_cleaned = Reconstructed_df_6"
   ]
  },
  {
   "cell_type": "markdown",
   "metadata": {},
   "source": [
    "This one best one"
   ]
  },
  {
   "cell_type": "code",
   "execution_count": 25,
   "metadata": {},
   "outputs": [],
   "source": [
    "Reconstructed_df_6_cleaned = filtered_df[filtered_df['chi2 norm'] > 0.0000]\n",
    "#BEST BEST BEST BEST BEST BEST BEST BEST BEST BEST BEST BEST BEST BEST BEST BEST BEST BEST"
   ]
  },
  {
   "cell_type": "code",
   "execution_count": 51,
   "metadata": {},
   "outputs": [],
   "source": [
    "Reconstructed_df_6_cleaned = filtered_df"
   ]
  },
  {
   "cell_type": "code",
   "execution_count": 92,
   "metadata": {},
   "outputs": [],
   "source": [
    "Reconstructed_df_6_cleaned = refined_df[refined_df['chi2 norm'] != 0]"
   ]
  },
  {
   "cell_type": "code",
   "execution_count": 94,
   "metadata": {},
   "outputs": [],
   "source": [
    "Reconstructed_df_6_cleaned = refined_df"
   ]
  },
  {
   "cell_type": "code",
   "execution_count": 307,
   "metadata": {},
   "outputs": [],
   "source": [
    "Reconstructed_df_6_cleaned = filtered_refined_contineous_df"
   ]
  },
  {
   "cell_type": "code",
   "execution_count": 302,
   "metadata": {},
   "outputs": [],
   "source": [
    "Reconstructed_df_6_cleaned = filtered_refined_contineous_Deleted_df"
   ]
  },
  {
   "cell_type": "code",
   "execution_count": null,
   "metadata": {},
   "outputs": [],
   "source": [
    "show(filtered_df)"
   ]
  },
  {
   "cell_type": "code",
   "execution_count": 170,
   "metadata": {},
   "outputs": [
    {
     "name": "stderr",
     "output_type": "stream",
     "text": [
      "PandasGUI INFO — pandasgui.gui — Opening PandasGUI\n",
      "INFO:pandasgui.gui:Opening PandasGUI\n"
     ]
    },
    {
     "data": {
      "text/plain": [
       "<pandasgui.gui.PandasGui at 0x211aa018040>"
      ]
     },
     "execution_count": 170,
     "metadata": {},
     "output_type": "execute_result"
    }
   ],
   "source": [
    "show(filtered_df_min_chi2)"
   ]
  },
  {
   "cell_type": "code",
   "execution_count": 169,
   "metadata": {},
   "outputs": [],
   "source": [
    "eta_df = filtered_df_min_chi2[filtered_df_min_chi2['Direction'] == 'eta']\n",
    "angles_y_axis = np.degrees(np.arctan(-eta_df['Slope']))\n",
    "\n",
    "# angles_y_axis = np.where(angles_y_axis > 90, angles_y_axis - 180, angles_y_axis)\n",
    "# angles_y_axis = np.where(angles_y_axis < -90, angles_y_axis + 180, angles_y_axis)\n",
    "\n",
    "\n",
    "plt.figure(figsize=(20, 12))\n",
    "plt.hist(angles_y_axis, bins=500, color='skyblue', edgecolor='black')\n",
    "plt.xlabel('angles (degrees) from y axis')\n",
    "plt.ylabel('Occurance')\n",
    "plt.title('Any three RPC cross three chamber angular distribution eta direction')\n",
    "plt.grid(axis='y', alpha=0.75)\n",
    "plt.show()"
   ]
  },
  {
   "cell_type": "code",
   "execution_count": 167,
   "metadata": {},
   "outputs": [],
   "source": [
    "eta_df = filtered_df_min_chi2[filtered_df_min_chi2['Direction'] == 'phi']\n",
    "angles_y_axis = np.degrees(np.arctan(-eta_df['Slope']))\n",
    "\n",
    "# angles_y_axis = np.where(angles_y_axis > 90, angles_y_axis - 180, angles_y_axis)\n",
    "# angles_y_axis = np.where(angles_y_axis < -90, angles_y_axis + 180, angles_y_axis)\n",
    "\n",
    "\n",
    "plt.figure(figsize=(20, 12))\n",
    "plt.hist(angles_y_axis, bins=100, color='skyblue', edgecolor='black')\n",
    "plt.xlabel('angles (degrees) from y axis')\n",
    "plt.ylabel('Occurance')\n",
    "plt.title('Any three RPC cross three chamber angular distribution phi direction')\n",
    "plt.grid(axis='y', alpha=0.75)\n",
    "plt.show()"
   ]
  },
  {
   "cell_type": "code",
   "execution_count": 149,
   "metadata": {},
   "outputs": [],
   "source": [
    "import csv\n",
    "import math\n",
    "import matplotlib.pyplot as plt\n",
    "from PIL import Image"
   ]
  },
  {
   "cell_type": "code",
   "execution_count": 150,
   "metadata": {},
   "outputs": [],
   "source": [
    "expFluxX = []\n",
    "expFluxY = []\n",
    "with open('proAnubCosFlux_lowE.csv','r') as csvfile:\n",
    "    fluxReader = csv.reader(csvfile, delimiter = ',')\n",
    "    for row in fluxReader:\n",
    "        if float(row[0]) not in expFluxX:\n",
    "            expFluxX.append(float(row[0]))\n",
    "        if float(row[1]) not in expFluxY:\n",
    "            expFluxY.append(float(row[1]))\n",
    "expFluxZ = [[0 for y in expFluxY] for x in expFluxX]\n",
    "with open('proAnubCosFlux_lowE.csv','r') as csvfile:\n",
    "    fluxReader = csv.reader(csvfile, delimiter = ',')\n",
    "    for row in fluxReader:\n",
    "        xbin = 0\n",
    "        ybin = 0\n",
    "        for thisX in range(len(expFluxX)):\n",
    "            if float(row[0])<=expFluxX[thisX]:\n",
    "                xbin = thisX\n",
    "                break\n",
    "        for thisY in range(len(expFluxY)):\n",
    "            if float(row[1])<=expFluxY[thisY]:\n",
    "                ybin = thisY\n",
    "                break        \n",
    "        expFluxZ[xbin][ybin] = float(row[2])\n",
    "for idx, val in enumerate(expFluxX):\n",
    "    expFluxX[idx] = val-0.025\n",
    "expFluxX.append(expFluxX[-1]+0.05)\n",
    "#for idx, val in enumerate(expFluxY):\n",
    "#    expFluxY[idx] = val-0.025\n",
    "expFluxY.append(expFluxY[-1]+0.05)"
   ]
  },
  {
   "cell_type": "code",
   "execution_count": 151,
   "metadata": {},
   "outputs": [],
   "source": [
    "def thetaTransform(theta,phi):\n",
    "    return math.acos(-math.sin(math.pi/4.)*math.sin(theta)*math.cos(phi)+math.cos(-math.pi/4)*math.cos(theta))\n",
    "def etaTransform(theta,phi):\n",
    "    return math.acos(-math.sin(math.pi/4.)*math.sin(theta)*math.cos(phi)+math.cos(-math.pi/4)*math.cos(theta))\n",
    "def xyyzTransform(theta,phi):\n",
    "    x = math.sin(theta)*math.cos(phi)\n",
    "    y = math.sin(theta)*math.sin(phi)\n",
    "    z = math.cos(theta)\n",
    "    xzAngle = math.atan(x/z)+math.pi/4.\n",
    "    if xzAngle>math.pi/2.:\n",
    "        xzAngle=xzAngle-math.pi\n",
    "    yzAngle = math.atan(y/z)\n",
    "    return xzAngle, yzAngle"
   ]
  },
  {
   "cell_type": "code",
   "execution_count": 152,
   "metadata": {},
   "outputs": [],
   "source": [
    "totTime = 60*60\n",
    "etaBins = [x*2*3.14/72.-3.14 for x in range(72)]\n",
    "phiBins = [x*2*3.14/72.-3.14 for x in range(72)]\n",
    "etaFluxes = [0 for xval in range(len(etaBins))]\n",
    "phiFluxes = [0 for xval in range(len(phiBins))]\n",
    "for idx, xval in enumerate(expFluxX[:-2]):\n",
    "    sumFlux = 0\n",
    "    for idy, yval in enumerate(expFluxY[:-2]):\n",
    "        etaAng, phiAng = xyyzTransform(xval, yval)\n",
    "        for etBin, etVal in enumerate(etaBins):\n",
    "            if etVal>etaAng:\n",
    "                etaFluxes[etBin] = etaFluxes[etBin]+expFluxZ[idx][idy]*math.sin(xval)*0.05*0.1*math.pi/2.\n",
    "                break\n",
    "        for phBin, phVal in enumerate(phiBins):\n",
    "            if phVal>phiAng:\n",
    "                phiFluxes[phBin] = phiFluxes[phBin]+expFluxZ[idx][idy]*math.sin(xval)*0.05*0.1*math.pi/2.\n",
    "                break     "
   ]
  },
  {
   "cell_type": "code",
   "execution_count": 148,
   "metadata": {},
   "outputs": [
    {
     "name": "stdout",
     "output_type": "stream",
     "text": [
      "[0, 0, 0, 0, 0, 0, 0, 0, 0, 0, 0, 0, 0, 0, 0, 0, 0, 0, 0, 0.011573692367736034, 0.010808107118785389, 0, 0, 0, 0, 0, 0, 0, 0, 0, 0, 0, 0, 0, 0, 0.05980719866295954, 0.15521756145348486, 0.2095647211509601, 0.2158311818081606, 0.22511383237723348, 0.24821428132287537, 0.252854443656462, 0.25317122005144743, 0.23508888578935366, 0.2193938320057536, 0.1931553803799903, 0.2510079435602709, 1.3882968195814946, 1.7026370377113742, 1.1549814209455502, 0.32408909849929096, 0.14907029076025327, 0.06694392766305744, 0.030867608326048998, 0.005876743736835026, 0, 0, 0, 0, 0, 0, 0, 0, 0, 0, 0, 0, 0, 0, 0, 0, 0]\n"
     ]
    }
   ],
   "source": [
    "print(etaFluxes)"
   ]
  },
  {
   "cell_type": "code",
   "execution_count": 157,
   "metadata": {},
   "outputs": [],
   "source": [
    "angBins = [xval*360/2./math.pi for xval in etaBins]\n",
    "fig, ax = plt.subplots(figsize=(12, 8))\n",
    "thisplot = ax.step(angBins, etaFluxes,'k',where='pre',linewidth=3)\n",
    "ax.set_xlabel(\"Angle from proANUBIS XZ Plane\")\n",
    "ax.set_ylabel(\"Muon Flux (Hz/bin)\")\n",
    "ax.set_xlim(-90,90)\n",
    "ax.set_ylim(0,2.*totTime)\n",
    "# im = image.imread('/eos/user/m/mireveri/anubis/ANUBISLogo.png')\n",
    "# ax.imshow(im, aspect='auto', extent=(-75,-65, 1.7*totTime, 1.85*totTime), zorder=1)\n",
    "#ax.set_yscale('log')\n",
    "plt.savefig('expCosmicsXZplane.png')\n",
    "\n",
    "# img = Image.open('expCosmicsXZplane.png')\n",
    "# img = img.convert(\"RGBA\")\n",
    "# pixdata = img.load()\n",
    "# width, height = img.size\n",
    "# for y in range(height):\n",
    "#     for x in range(width):\n",
    "#         if pixdata[x, y] == (255, 255, 255, 255):\n",
    "#             #Manually make any white pixel transparent so that they can stack together nicely.\n",
    "#             pixdata[x, y] = (255, 255, 255, 0)\n",
    "# img.save('expCosmicsXZplane.png', \"PNG\")\n",
    "\n",
    "# Load the modified image for display\n",
    "img_show = Image.open('expCosmicsXZplane.png')\n",
    "\n",
    "# Display the modified image\n",
    "plt.figure(figsize=(12, 8))\n",
    "plt.imshow(img_show)\n",
    "plt.axis('off')  # Hide axis\n",
    "plt.show()"
   ]
  },
  {
   "cell_type": "code",
   "execution_count": 388,
   "metadata": {},
   "outputs": [],
   "source": [
    "eta_df = Reconstructed_df_6_cleaned[Reconstructed_df_6_cleaned['Direction'] == 'phi']\n",
    "angles_y_axis = np.degrees(np.arctan(eta_df['Slope']))\n",
    "\n",
    "# angles_y_axis = np.where(angles_y_axis > 90, angles_y_axis - 180, angles_y_axis)\n",
    "# angles_y_axis = np.where(angles_y_axis < -90, angles_y_axis + 180, angles_y_axis)\n",
    "\n",
    "\n",
    "plt.figure(figsize=(20, 12))\n",
    "plt.hist(angles_y_axis, bins=50, color='skyblue', edgecolor='black')\n",
    "plt.xlabel('angles (degrees)')\n",
    "plt.ylabel('Occurance')\n",
    "plt.title('Any threeAngular_Distribution_phi_real_filtered')\n",
    "plt.grid(axis='y', alpha=0.75)\n",
    "plt.show()"
   ]
  },
  {
   "cell_type": "code",
   "execution_count": 71,
   "metadata": {},
   "outputs": [],
   "source": [
    "# Setting up the figure\n",
    "plt.figure(figsize=(24, 12))\n",
    "\n",
    "# Histogram for 'eta' direction\n",
    "plt.subplot(1, 2, 1)  # 1 row, 2 columns, 1st subplot\n",
    "eta_chi2 = Reconstructed_df_6[Reconstructed_df_6['Direction'] == 'eta']['chi2 norm']\n",
    "plt.hist(eta_chi2, bins=600, color='green', alpha=0.7)\n",
    "plt.title('Chi2 Eta at least 5 Atlas Luminous generous window')\n",
    "plt.xlabel('Chi2 Values')\n",
    "plt.ylabel('Number')\n",
    "\n",
    "plt.grid(True)\n",
    "\n",
    "# Histogram for 'phi' direction\n",
    "plt.subplot(1, 2, 2)  # 1 row, 2 columns, 2nd subplot\n",
    "phi_chi2 = Reconstructed_df_6[Reconstructed_df_6['Direction'] == 'phi']['chi2 norm']\n",
    "plt.hist(phi_chi2, bins=60, color='red', alpha=0.7)\n",
    "plt.title('Chi2 phi at least 5 Atlas Luminous generous window')\n",
    "plt.xlabel('Chi2 Values')\n",
    "plt.ylabel('Number')\n",
    "\n",
    "plt.grid(True)\n",
    "\n",
    "# Display the plots\n",
    "plt.tight_layout()\n",
    "plt.show()\n"
   ]
  },
  {
   "cell_type": "code",
   "execution_count": 72,
   "metadata": {},
   "outputs": [],
   "source": [
    "# Setting up the figure\n",
    "plt.figure(figsize=(12, 6))\n",
    "\n",
    "# Histogram for 'eta' direction\n",
    "plt.subplot(1, 2, 1)  # 1 row, 2 columns, 1st subplot\n",
    "eta_chi2 = filtered_df_min_chi2[filtered_df_min_chi2['Direction'] == 'eta']['chi2 norm']\n",
    "plt.hist(eta_chi2, bins=50, color='green', alpha=0.7)\n",
    "plt.title('Minimize Chi2 Eta')\n",
    "plt.xlabel('normalised Chi2 Values')\n",
    "plt.ylabel('Number')\n",
    "\n",
    "plt.grid(True)\n",
    "\n",
    "# Histogram for 'phi' direction\n",
    "plt.subplot(1, 2, 2)  # 1 row, 2 columns, 2nd subplot\n",
    "phi_chi2 = filtered_df_min_chi2[filtered_df_min_chi2['Direction'] == 'phi']['chi2 norm']\n",
    "plt.hist(phi_chi2, bins=50, color='red', alpha=0.7)\n",
    "plt.title('Minimize Chi2 phi')\n",
    "plt.xlabel('normalised Chi2 Values')\n",
    "plt.ylabel('Number')\n",
    "\n",
    "plt.grid(True)\n",
    "\n",
    "# Display the plots\n",
    "plt.tight_layout()\n",
    "plt.show()"
   ]
  },
  {
   "cell_type": "code",
   "execution_count": 42,
   "metadata": {},
   "outputs": [
    {
     "name": "stdout",
     "output_type": "stream",
     "text": [
      "<class 'pandas.core.frame.DataFrame'>\n",
      "RangeIndex: 2546 entries, 0 to 2545\n",
      "Data columns (total 8 columns):\n",
      " #   Column            Non-Null Count  Dtype  \n",
      "---  ------            --------------  -----  \n",
      " 0   Event Number      2546 non-null   float64\n",
      " 1   Direction         2546 non-null   object \n",
      " 2   Slope             2546 non-null   float64\n",
      " 3   Intercept         2546 non-null   float64\n",
      " 4   Used Coordinates  2546 non-null   object \n",
      " 5   chi2 norm         2546 non-null   float64\n",
      " 6   RSS               2546 non-null   float64\n",
      " 7   Number_of_Rpcs    2546 non-null   int64  \n",
      "dtypes: float64(5), int64(1), object(2)\n",
      "memory usage: 159.2+ KB\n",
      "None\n",
      "<class 'pandas.core.frame.DataFrame'>\n",
      "RangeIndex: 2294 entries, 0 to 2293\n",
      "Data columns (total 8 columns):\n",
      " #   Column            Non-Null Count  Dtype  \n",
      "---  ------            --------------  -----  \n",
      " 0   Event Number      2294 non-null   float64\n",
      " 1   Direction         2294 non-null   object \n",
      " 2   Slope             2294 non-null   float64\n",
      " 3   Intercept         2294 non-null   float64\n",
      " 4   Used Coordinates  2294 non-null   object \n",
      " 5   chi2 norm         2294 non-null   float64\n",
      " 6   RSS               2294 non-null   float64\n",
      " 7   Number_of_Rpcs    2294 non-null   int64  \n",
      "dtypes: float64(5), int64(1), object(2)\n",
      "memory usage: 143.5+ KB\n",
      "None\n"
     ]
    }
   ],
   "source": [
    "print(filtered_df_min_chi2.info())\n",
    "print(refined_df.info())"
   ]
  },
  {
   "cell_type": "code",
   "execution_count": 73,
   "metadata": {},
   "outputs": [],
   "source": [
    "# Setting up the figure\n",
    "plt.figure(figsize=(12, 6))\n",
    "\n",
    "# Histogram for 'eta' direction\n",
    "plt.subplot(1, 2, 1)  # 1 row, 2 columns, 1st subplot\n",
    "eta_chi2 = refined_df[refined_df['Direction'] == 'eta']['chi2 norm']\n",
    "plt.hist(eta_chi2, bins=50, color='green', alpha=0.7)\n",
    "plt.title('Chi2 Eta Minimize Time window')\n",
    "plt.xlabel('Normalised Chi2 Values')\n",
    "plt.ylabel('Number')\n",
    "\n",
    "plt.grid(True)\n",
    "\n",
    "# Histogram for 'phi' direction\n",
    "plt.subplot(1, 2, 2)  # 1 row, 2 columns, 2nd subplot\n",
    "phi_chi2 = refined_df[refined_df['Direction'] == 'phi']['chi2 norm']\n",
    "plt.hist(phi_chi2, bins=50, color='red', alpha=0.7)\n",
    "plt.title('Chi2 phi minimize Time window')\n",
    "plt.xlabel('Chi2 Values')\n",
    "plt.ylabel('Number')\n",
    "\n",
    "plt.grid(True)\n",
    "\n",
    "# Display the plots\n",
    "plt.tight_layout()\n",
    "plt.show()\n"
   ]
  },
  {
   "cell_type": "code",
   "execution_count": 74,
   "metadata": {},
   "outputs": [],
   "source": [
    "grouped_df1 = refined_df.groupby(['Event Number'])['chi2 norm'].sum().reset_index() / 2\n",
    "grouped_df2 = filtered_df_min_chi2.groupby(['Event Number'])['chi2 norm'].sum().reset_index() / 2\n",
    "\n",
    "plt.figure(figsize=(24, 12))\n",
    "eta_chi2_sum1 = grouped_df1['chi2 norm']\n",
    "eta_chi2_sum2 = grouped_df2['chi2 norm']\n",
    "plt.hist(eta_chi2_sum2, bins=100, color='blue', alpha=0.7, label ='Minimize chi2')\n",
    "plt.hist(eta_chi2_sum1, bins=100, color='red', alpha=0.7, label ='Minimize time')\n",
    "\n",
    "plt.title('Combined Chi2')\n",
    "plt.xlabel('Summed Chi2 Values')\n",
    "plt.ylabel('Number')\n",
    "plt.grid(True)\n",
    "plt.legend()\n",
    "\n",
    "# Display the plots\n",
    "plt.tight_layout()\n",
    "plt.show()"
   ]
  },
  {
   "cell_type": "code",
   "execution_count": 75,
   "metadata": {},
   "outputs": [
    {
     "ename": "KeyboardInterrupt",
     "evalue": "",
     "output_type": "error",
     "traceback": [
      "\u001b[1;31m---------------------------------------------------------------------------\u001b[0m",
      "\u001b[1;31mKeyboardInterrupt\u001b[0m                         Traceback (most recent call last)",
      "Cell \u001b[1;32mIn[75], line 16\u001b[0m\n\u001b[0;32m     13\u001b[0m plt\u001b[38;5;241m.\u001b[39mlegend()\n\u001b[0;32m     15\u001b[0m plt\u001b[38;5;241m.\u001b[39mtight_layout()\n\u001b[1;32m---> 16\u001b[0m \u001b[43mplt\u001b[49m\u001b[38;5;241;43m.\u001b[39;49m\u001b[43mshow\u001b[49m\u001b[43m(\u001b[49m\u001b[43m)\u001b[49m\n",
      "File \u001b[1;32mc:\\Users\\Peter\\OneDrive - University of Cambridge\\Desktop\\Project Excel Work\\PartIIIRPC\\.venv\\lib\\site-packages\\matplotlib\\pyplot.py:527\u001b[0m, in \u001b[0;36mshow\u001b[1;34m(*args, **kwargs)\u001b[0m\n\u001b[0;32m    483\u001b[0m \u001b[38;5;250m\u001b[39m\u001b[38;5;124;03m\"\"\"\u001b[39;00m\n\u001b[0;32m    484\u001b[0m \u001b[38;5;124;03mDisplay all open figures.\u001b[39;00m\n\u001b[0;32m    485\u001b[0m \n\u001b[1;32m   (...)\u001b[0m\n\u001b[0;32m    524\u001b[0m \u001b[38;5;124;03mexplicitly there.\u001b[39;00m\n\u001b[0;32m    525\u001b[0m \u001b[38;5;124;03m\"\"\"\u001b[39;00m\n\u001b[0;32m    526\u001b[0m _warn_if_gui_out_of_main_thread()\n\u001b[1;32m--> 527\u001b[0m \u001b[38;5;28;01mreturn\u001b[39;00m _get_backend_mod()\u001b[38;5;241m.\u001b[39mshow(\u001b[38;5;241m*\u001b[39margs, \u001b[38;5;241m*\u001b[39m\u001b[38;5;241m*\u001b[39mkwargs)\n",
      "File \u001b[1;32mc:\\Users\\Peter\\OneDrive - University of Cambridge\\Desktop\\Project Excel Work\\PartIIIRPC\\.venv\\lib\\site-packages\\matplotlib\\backend_bases.py:3457\u001b[0m, in \u001b[0;36m_Backend.show\u001b[1;34m(cls, block)\u001b[0m\n\u001b[0;32m   3455\u001b[0m     block \u001b[38;5;241m=\u001b[39m \u001b[38;5;129;01mnot\u001b[39;00m ipython_pylab \u001b[38;5;129;01mand\u001b[39;00m \u001b[38;5;129;01mnot\u001b[39;00m is_interactive()\n\u001b[0;32m   3456\u001b[0m \u001b[38;5;28;01mif\u001b[39;00m block:\n\u001b[1;32m-> 3457\u001b[0m     \u001b[38;5;28;43mcls\u001b[39;49m\u001b[38;5;241;43m.\u001b[39;49m\u001b[43mmainloop\u001b[49m\u001b[43m(\u001b[49m\u001b[43m)\u001b[49m\n",
      "File \u001b[1;32mc:\\Users\\Peter\\OneDrive - University of Cambridge\\Desktop\\Project Excel Work\\PartIIIRPC\\.venv\\lib\\site-packages\\matplotlib\\backends\\_backend_tk.py:523\u001b[0m, in \u001b[0;36mFigureManagerTk.start_main_loop\u001b[1;34m(cls)\u001b[0m\n\u001b[0;32m    521\u001b[0m manager_class\u001b[38;5;241m.\u001b[39m_owns_mainloop \u001b[38;5;241m=\u001b[39m \u001b[38;5;28;01mTrue\u001b[39;00m\n\u001b[0;32m    522\u001b[0m \u001b[38;5;28;01mtry\u001b[39;00m:\n\u001b[1;32m--> 523\u001b[0m     \u001b[43mfirst_manager\u001b[49m\u001b[38;5;241;43m.\u001b[39;49m\u001b[43mwindow\u001b[49m\u001b[38;5;241;43m.\u001b[39;49m\u001b[43mmainloop\u001b[49m\u001b[43m(\u001b[49m\u001b[43m)\u001b[49m\n\u001b[0;32m    524\u001b[0m \u001b[38;5;28;01mfinally\u001b[39;00m:\n\u001b[0;32m    525\u001b[0m     manager_class\u001b[38;5;241m.\u001b[39m_owns_mainloop \u001b[38;5;241m=\u001b[39m \u001b[38;5;28;01mFalse\u001b[39;00m\n",
      "File \u001b[1;32mC:\\Program Files\\WindowsApps\\PythonSoftwareFoundation.Python.3.10_3.10.3056.0_x64__qbz5n2kfra8p0\\lib\\tkinter\\__init__.py:1458\u001b[0m, in \u001b[0;36mMisc.mainloop\u001b[1;34m(self, n)\u001b[0m\n\u001b[0;32m   1456\u001b[0m \u001b[38;5;28;01mdef\u001b[39;00m \u001b[38;5;21mmainloop\u001b[39m(\u001b[38;5;28mself\u001b[39m, n\u001b[38;5;241m=\u001b[39m\u001b[38;5;241m0\u001b[39m):\n\u001b[0;32m   1457\u001b[0m \u001b[38;5;250m    \u001b[39m\u001b[38;5;124;03m\"\"\"Call the mainloop of Tk.\"\"\"\u001b[39;00m\n\u001b[1;32m-> 1458\u001b[0m     \u001b[38;5;28;43mself\u001b[39;49m\u001b[38;5;241;43m.\u001b[39;49m\u001b[43mtk\u001b[49m\u001b[38;5;241;43m.\u001b[39;49m\u001b[43mmainloop\u001b[49m\u001b[43m(\u001b[49m\u001b[43mn\u001b[49m\u001b[43m)\u001b[49m\n",
      "\u001b[1;31mKeyboardInterrupt\u001b[0m: "
     ]
    }
   ],
   "source": [
    "all_data = np.concatenate([grouped_df1['chi2 norm'], grouped_df2['chi2 norm']])\n",
    "bin_edges = np.linspace(min(all_data), max(all_data), 101)  # 100 bins means 101 edges\n",
    "\n",
    "# Plot the histograms with these bin edges\n",
    "plt.figure(figsize=(12, 6))\n",
    "plt.hist(grouped_df2['chi2 norm'], bins=bin_edges, color='red', alpha=0.7, label='Minimize chi2')\n",
    "plt.hist(grouped_df1['chi2 norm'], bins=bin_edges, color='green', alpha=0.7, label='Minimize time')\n",
    "\n",
    "plt.title('Combined Chi2 for at least 4 RPCs cross three chambers')\n",
    "plt.xlabel('Summed Chi2 Values / 2')\n",
    "plt.ylabel('Number')\n",
    "plt.grid(True)\n",
    "plt.legend()\n",
    "\n",
    "plt.tight_layout()\n",
    "plt.show()"
   ]
  },
  {
   "cell_type": "code",
   "execution_count": 120,
   "metadata": {},
   "outputs": [
    {
     "name": "stderr",
     "output_type": "stream",
     "text": [
      "PandasGUI INFO — pandasgui.gui — Opening PandasGUI\n",
      "INFO:pandasgui.gui:Opening PandasGUI\n"
     ]
    },
    {
     "data": {
      "text/plain": [
       "<pandasgui.gui.PandasGui at 0x2125339eb90>"
      ]
     },
     "execution_count": 120,
     "metadata": {},
     "output_type": "execute_result"
    }
   ],
   "source": [
    "show(filtered_df_min_chi2)"
   ]
  },
  {
   "cell_type": "code",
   "execution_count": 40,
   "metadata": {},
   "outputs": [],
   "source": [
    "# Setting up the figure\n",
    "plt.figure(figsize=(12, 6))\n",
    "\n",
    "# Histogram for 'eta' direction\n",
    "plt.subplot(1, 2, 1)  # 1 row, 2 columns, 1st subplot\n",
    "eta_chi2 = filtered_df_min_chi2[filtered_df_min_chi2['Direction'] == 'eta']['chi2 norm']\n",
    "plt.hist(eta_chi2, bins=100, color='green', alpha=0.7)\n",
    "plt.title('Chi2 Eta Minimize Time window')\n",
    "plt.xlabel('Chi2 Values')\n",
    "plt.ylabel('Number')\n",
    "\n",
    "plt.grid(True)\n",
    "\n",
    "# Histogram for 'phi' direction\n",
    "plt.subplot(1, 2, 2)  # 1 row, 2 columns, 2nd subplot\n",
    "phi_chi2 = filtered_df_min_chi2[filtered_df_min_chi2['Direction'] == 'phi']['chi2 norm']\n",
    "plt.hist(phi_chi2, bins=100, color='red', alpha=0.7)\n",
    "plt.title('Chi2 phi minimize Time window')\n",
    "plt.xlabel('Chi2 Values')\n",
    "plt.ylabel('Number')\n",
    "\n",
    "plt.grid(True)\n",
    "\n",
    "# Display the plots\n",
    "plt.tight_layout()\n",
    "plt.show()\n"
   ]
  },
  {
   "cell_type": "code",
   "execution_count": 121,
   "metadata": {},
   "outputs": [],
   "source": [
    "grouped_df = filtered_df_min_chi2.groupby(['Event Number'])['chi2 norm'].sum().reset_index()\n",
    "\n",
    "plt.figure(figsize=(24, 12))\n",
    "eta_chi2_sum = grouped_df['chi2 norm']\n",
    "plt.hist(eta_chi2_sum, bins=100, color='green', alpha=0.7)\n",
    "plt.title('Combined Chi2')\n",
    "plt.xlabel('Summed Chi2 Values')\n",
    "plt.ylabel('Number')\n",
    "plt.grid(True)\n",
    "\n",
    "# Display the plots\n",
    "plt.tight_layout()\n",
    "plt.show()"
   ]
  },
  {
   "cell_type": "code",
   "execution_count": 93,
   "metadata": {},
   "outputs": [],
   "source": [
    "def plot_rpc_with_vertical_line(plate_lines, vertical_line_coords):\n",
    "    \"\"\"\n",
    "    Plots the RPC array with configurable x and y line colors per plate and adds a prominently labeled vertical line.\n",
    "\n",
    "    Args:\n",
    "    plate_lines: Dictionary where key is the plate index (0, 1, 2) and value is a tuple containing lists of x_lines and y_lines.\n",
    "    vertical_line_coords: Tuple containing the x and y coordinates for the prominently labeled vertical line.\n",
    "    \"\"\"\n",
    "    fig = plt.figure()\n",
    "    ax = fig.add_subplot(111, projection='3d')\n",
    "\n",
    "    # Base plate dimensions, positions, and heights\n",
    "    x_count = 32\n",
    "    y_count = 64\n",
    "    z_positions = [0, 10, 20]  # Heights for three plates\n",
    "\n",
    "    # Plotting strips\n",
    "    for i, z in enumerate(z_positions):\n",
    "        x_lines, y_lines = plate_lines.get(i, ([], []))  # Get lines for each plate or default to empty\n",
    "        for x in range(x_count):\n",
    "            for y in range(y_count):\n",
    "                # Determine color based on x or y line presence in current plate\n",
    "                color = 'gray'  # Default color\n",
    "                if x in x_lines:\n",
    "                    color = 'blue'\n",
    "                if y in y_lines:\n",
    "                    color = 'green'  # This could override x line color if both conditions are met\n",
    "                ax.bar3d(x, y, z, 1, 1, 0.5, color=color, alpha=0.5)\n",
    "\n",
    "    # Adding the vertical line with enhanced visibility\n",
    "    vx, vy = vertical_line_coords\n",
    "    vline_z = np.linspace(min(z_positions), max(z_positions) + 10, 100)\n",
    "    vline_x = np.full_like(vline_z, vx)\n",
    "    vline_y = np.full_like(vline_z, vy)\n",
    "    vertical_line = ax.plot(vline_x, vline_y, vline_z, color='gold', linewidth=5, linestyle='-', label='Reconstructed Hits')\n",
    "\n",
    "    # Adding label for the vertical line\n",
    "    ax.text(vx, vy, max(z_positions) + 5, \"Reconstructed Hits\", color='gold')\n",
    "\n",
    "    # Labels and title\n",
    "    ax.set_xlabel('Eta')\n",
    "    ax.set_ylabel('Phi')\n",
    "    ax.set_zlabel('Height (Z)')\n",
    "    ax.set_title('Chi2 method of filtering')\n",
    "\n",
    "    # Legend\n",
    "    ax.legend()\n",
    "\n",
    "    plt.show()\n",
    "\n",
    "# Example usage parameters\n",
    "plate_lines = {\n",
    "    0: ([5, 6], [10, 11]),      # Plate 0: Color all strips at x=5 and x=10\n",
    "    1: ([5, 6], [10, 11]),     # Plate 1: Color all strips at y=15 and y=30\n",
    "    2: ([5, 6, 12, 13], [10, 11]) # Plate 2: Color all strips at x=8, 16 and y=24, 48\n",
    "}\n",
    "vertical_line_coords = (5.5, 10.11)  # Coordinates for the vertical line\n",
    "\n",
    "plot_rpc_with_vertical_line(plate_lines, vertical_line_coords)\n"
   ]
  },
  {
   "cell_type": "markdown",
   "metadata": {},
   "source": [
    "Timing for triplet"
   ]
  },
  {
   "cell_type": "code",
   "execution_count": 262,
   "metadata": {},
   "outputs": [
    {
     "name": "stderr",
     "output_type": "stream",
     "text": [
      "PandasGUI INFO — pandasgui.gui — Opening PandasGUI\n",
      "INFO:pandasgui.gui:Opening PandasGUI\n"
     ]
    },
    {
     "data": {
      "text/plain": [
       "<pandasgui.gui.PandasGui at 0x2400bb4aef0>"
      ]
     },
     "execution_count": 262,
     "metadata": {},
     "output_type": "execute_result"
    }
   ],
   "source": [
    "show(filtered_refined_df)"
   ]
  },
  {
   "cell_type": "code",
   "execution_count": 257,
   "metadata": {},
   "outputs": [],
   "source": [
    "eta_refined_df = filtered_df_min_chi2[filtered_df_min_chi2['Direction'] == 'phi']"
   ]
  },
  {
   "cell_type": "code",
   "execution_count": 132,
   "metadata": {},
   "outputs": [
    {
     "name": "stderr",
     "output_type": "stream",
     "text": [
      "PandasGUI INFO — pandasgui.gui — Opening PandasGUI\n",
      "INFO:pandasgui.gui:Opening PandasGUI\n"
     ]
    },
    {
     "data": {
      "text/plain": [
       "<pandasgui.gui.PandasGui at 0x22e532f5c60>"
      ]
     },
     "execution_count": 132,
     "metadata": {},
     "output_type": "execute_result"
    }
   ],
   "source": [
    "show(eta_refined_df)"
   ]
  },
  {
   "cell_type": "code",
   "execution_count": 259,
   "metadata": {},
   "outputs": [
    {
     "name": "stderr",
     "output_type": "stream",
     "text": [
      "C:\\Users\\Peter\\AppData\\Local\\Temp\\ipykernel_60340\\4050136835.py:17: SettingWithCopyWarning:\n",
      "\n",
      "\n",
      "A value is trying to be set on a copy of a slice from a DataFrame.\n",
      "Try using .loc[row_indexer,col_indexer] = value instead\n",
      "\n",
      "See the caveats in the documentation: https://pandas.pydata.org/pandas-docs/stable/user_guide/indexing.html#returning-a-view-versus-a-copy\n",
      "\n"
     ]
    }
   ],
   "source": [
    "def find_triplet_time_range(rpc_list):\n",
    "    # Extract rpc names, time, and data into separate lists\n",
    "    rpc_names = [x[0] for x in rpc_list]\n",
    "    times = {x[0]: x[2] for x in rpc_list}\n",
    "    \n",
    "    # Check if 'rpc0', 'rpc1', 'rpc2' exist in the names\n",
    "    required_rpcs = ['rpc0', 'rpc1', 'rpc2']\n",
    "    if all(rpc in rpc_names for rpc in required_rpcs):\n",
    "        # Calculate the range of time and mean time for these RPCs\n",
    "        time_values = [times[rpc] for rpc in required_rpcs]\n",
    "        time_range = max(time_values) - min(time_values)\n",
    "        mean_time = sum(time_values) / len(time_values)\n",
    "        return (True, time_range, mean_time)\n",
    "    else:\n",
    "        return (False, None, None)\n",
    "    \n",
    "eta_refined_df['triplet range'] = eta_refined_df['Used Coordinates'].apply(find_triplet_time_range)"
   ]
  },
  {
   "cell_type": "code",
   "execution_count": 260,
   "metadata": {},
   "outputs": [
    {
     "name": "stderr",
     "output_type": "stream",
     "text": [
      "C:\\Users\\Peter\\AppData\\Local\\Temp\\ipykernel_60340\\1324923274.py:17: SettingWithCopyWarning:\n",
      "\n",
      "\n",
      "A value is trying to be set on a copy of a slice from a DataFrame.\n",
      "Try using .loc[row_indexer,col_indexer] = value instead\n",
      "\n",
      "See the caveats in the documentation: https://pandas.pydata.org/pandas-docs/stable/user_guide/indexing.html#returning-a-view-versus-a-copy\n",
      "\n"
     ]
    }
   ],
   "source": [
    "def find_triplet_time_range(rpc_list):\n",
    "    # Extract rpc names, time, and data into separate lists\n",
    "    rpc_names = [x[0] for x in rpc_list]\n",
    "    times = {x[0]: x[2] for x in rpc_list}\n",
    "    \n",
    "    # Check if 'rpc0', 'rpc1', 'rpc2' exist in the names\n",
    "    required_rpcs = ['rpc0', 'rpc1', 'rpc2']\n",
    "    if all(rpc in rpc_names for rpc in required_rpcs):\n",
    "        # Calculate the range of time and mean time for these RPCs\n",
    "        time_values = [times[rpc] for rpc in required_rpcs]\n",
    "        top_range = times['rpc2'] - times['rpc1']\n",
    "        bot_range = times['rpc1'] - times['rpc0']\n",
    "        return (True, top_range, bot_range)\n",
    "    else:\n",
    "        return (False, None, None)\n",
    "    \n",
    "eta_refined_df['triplet range true'] = eta_refined_df['Used Coordinates'].apply(find_triplet_time_range)"
   ]
  },
  {
   "cell_type": "code",
   "execution_count": 261,
   "metadata": {},
   "outputs": [],
   "source": [
    "times = []\n",
    "for k in eta_refined_df['triplet range']:\n",
    "    times.append(k[1])\n",
    "times = [x for x in times if x is not None]"
   ]
  },
  {
   "cell_type": "code",
   "execution_count": 228,
   "metadata": {},
   "outputs": [],
   "source": [
    "plt.figure(figsize=(12, 6))\n",
    "\n",
    "Triplet_range = eta_refined_df['triplet range']\n",
    "plt.hist(times, bins=10, color='green', alpha=0.7, density=True)\n",
    "plt.title('Triplet timing range for phi cluster = 1')\n",
    "plt.xlabel('range/ns')\n",
    "plt.ylabel('Number')\n",
    "\n",
    "plt.grid(True)\n",
    "# Display the plots\n",
    "plt.tight_layout()\n",
    "plt.show()\n"
   ]
  },
  {
   "cell_type": "code",
   "execution_count": 262,
   "metadata": {},
   "outputs": [
    {
     "name": "stdout",
     "output_type": "stream",
     "text": [
      "[23, 2, 1, 3, 10, 4, 2, 1, 2, 6, 1, 1, 3, 2, 3, 3, 14, 2, 5, 2, 1, 5, 3, 1, 4, 12, 23, 2, 20, 2, 1, 2, 5, 9, 1, 28, 4, 6, 1, 28, 2, 1, 2, 1, 2, 5, 2, 4, 3, 2, 4, 3, 4, 2, 3, 3, 4, 2, 1, 1, 2, 3, 26, 2, 3, 2, 3, 6, 3, 3, 26, 4, 2, 2, 2, 2, 2, 3, 5, 2, 6, 2, 2, 1, 3, 4, 3, 1, 1, 2, 3, 19, 2, 25, 1, 0, 2, 3, 1, 1, 4, 4, 2, 2, 30, 26, 2, 2, 25, 22, 1, 2, 2, 4, 3, 2, 3, 2, 3, 5, 3, 2, 10, 1, 4, 3, 5, 4, 3, 22, 2, 1, 2, 1, 24, 3, 7, 4, 0, 2, 25, 3, 1, 3, 20, 3, 3, 6, 4, 0, 5, 8, 26, 24, 0, 18, 3, 1, 28, 5, 4, 2, 2, 2, 3, 2, 2, 2, 3, 1, 3, 15, 2, 7, 4, 5, 1, 4, 6, 2, 3, 2, 2, 1, 5, 16, 3, 1, 1, 3, 4, 3, 5, 3, 4, 2, 2, 3, 5, 4, 26, 1, 2, 3, 4, 13, 2, 0, 3, 4, 4, 2, 1, 1, 4, 4, 4, 4, 2, 1, 4, 4, 4, 15, 7, 1, 6, 4, 10, 2, 2, 5, 5, 1, 3, 4, 3, 3, 2, 3, 5, 28, 3, 2, 3, 2, 1, 2, 24, 6, 4, 4, 2, 19, 1, 3, 1, 4, 2, 4, 1, 2, 1, 3, 12, 3, 1, 4, 22, 3, 25, 3, 1, 1, 1, 2, 3, 4, 1, 5, 2, 3, 18, 30, 4, 4, 1, 3, 0, 21, 1, 5, 4, 3, 2, 2, 3, 4, 3, 0, 2, 0, 6, 1, 3, 3, 5, 7, 4, 24, 4, 4, 1, 3, 1, 3, 2, 2, 4, 3, 2, 1, 1, 2, 3, 3, 3, 2, 1, 2, 4, 25, 2, 3, 3, 2, 4, 3, 30, 4, 29, 4, 30, 7, 3, 4, 6, 5, 1, 1, 1, 1, 1, 1, 4, 5, 2, 4, 1, 2, 2, 4, 5, 0, 3, 3, 3, 2, 5, 4, 1, 3, 4, 2, 1, 3, 1, 3, 2, 1, 2, 4, 1, 3, 5, 2, 9, 1, 2, 5, 2, 27, 3, 5, 4, 6, 2, 4, 5, 1, 1, 2, 20, 4, 3, 6, 1, 1, 1, 4, 4, 2, 3, 6, 4, 2, 3, 2, 4, 3, 3, 3, 2, 3, 3, 3, 3, 5, 2, 2, 5, 5, 2, 20, 2, 0, 29, 5, 0, 2, 3, 1, 4, 6, 22, 2, 2, 2, 22, 12, 2, 3, 29, 3, 4, 4, 1, 2, 3, 5, 3, 1, 1, 6, 4, 2, 5, 2, 3, 25, 2, 1, 2, 1, 4, 2, 4, 4, 3, 1, 2, 1, 2, 21, 0, 1, 1, 7, 4, 1, 3, 24, 1, 5, 3, 3, 2, 3, 3, 0, 4, 2, 2, 22, 4, 15, 5, 29, 3, 6, 1, 3, 20, 2, 4, 2, 0, 3, 3, 6, 2, 1, 4, 2, 2, 1, 3, 1, 6, 3, 1, 4, 22, 4, 25, 3, 4, 29, 5, 4, 4, 1, 3, 1, 3, 1, 3, 4, 5, 1, 0, 5, 3, 30, 3, 2, 6, 1, 4, 25, 2, 4, 3, 2, 4, 3, 2, 1, 28, 3, 3, 1, 1, 1, 3, 1, 2, 2, 2, 4, 5, 3, 4, 2, 3, 3, 2, 30, 1, 4, 2, 0, 2, 15, 6, 2, 2, 20, 2, 5, 2, 2, 2, 2, 3, 4, 4, 4, 1, 2, 2, 1, 6, 0, 1, 2, 5, 4, 3, 4, 2, 6, 1, 1, 2, 4, 4, 1, 3, 28, 3, 3, 2, 1, 3, 1, 5, 3, 5, 7, 4, 3, 1, 2, 5, 4, 21, 2, 2, 1, 6, 2, 4, 1, 3, 2, 5, 3, 1, 2, 4, 4, 2, 2, 1, 3, 23, 3, 2, 0, 3, 2, 28, 1, 5, 1, 2, 2, 5, 1, 2, 1, 29, 3, 1, 5, 1, 1, 2, 3, 3, 1, 2, 2, 4, 2, 3, 2, 22, 5, 5, 3, 4, 4, 5, 3, 4, 3, 1, 5, 4, 4, 2, 2, 1, 5, 0, 0, 4, 2, 5, 3, 4, 5, 2, 1, 2, 4, 5, 3, 16, 4, 6, 4, 30, 2, 3, 4, 3, 2, 2, 1, 3, 2, 2, 5, 4, 5, 28, 7, 1, 5, 4, 24, 8, 1, 20, 5, 6, 3, 2, 4, 3, 0, 6, 1, 3, 8, 2, 24, 1, 2, 1, 25, 2, 3, 2, 4, 4, 25, 4, 3, 2, 2, 2, 23, 2, 1, 6, 5, 4, 1, 4, 7, 1, 3, 7, 2, 1, 3, 3, 2, 3, 6, 1, 3, 17, 1, 1, 6, 2, 5, 3, 3, 2, 22, 5, 4, 2, 5, 6, 0, 3, 5, 2, 7, 25, 1, 1, 2, 6, 2, 2, 3, 1, 5, 13, 0, 2, 2, 3, 7, 1, 2, 4, 27, 2, 3, 1, 2, 0, 3, 2, 4, 17, 2, 2, 21, 3, 3, 5, 2, 2, 4, 3, 15, 1, 4, 2, 1, 2, 3, 3, 4, 0, 3, 3, 3, 3, 3, 2, 1, 2, 1, 3, 4, 2, 1, 4, 1, 1, 1, 4, 2, 1, 15, 2, 3, 2, 28, 2, 2, 1, 4, 1, 2, 5, 4, 3, 3, 3, 2, 2, 5, 4, 3, 5, 5, 1, 3, 6, 15, 3, 4, 4]\n"
     ]
    }
   ],
   "source": [
    "timestop = []\n",
    "for k in eta_refined_df['triplet range true']:\n",
    "    timestop.append(k[1])\n",
    "timestop = [x for x in timestop if x is not None]\n",
    "\n",
    "timesbot = []\n",
    "for k in eta_refined_df['triplet range true']:\n",
    "    timesbot.append(k[2])\n",
    "timesbot = [x for x in timesbot if x is not None]\n",
    "\n",
    "print(times)"
   ]
  },
  {
   "cell_type": "code",
   "execution_count": 213,
   "metadata": {},
   "outputs": [],
   "source": [
    "plt.figure(figsize=(12, 6))\n",
    "binedge = np.linspace(-5, 5, 11)\n",
    "# plt.xlim(-10, 10)\n",
    "\n",
    "Triplet_range = eta_refined_df['triplet range']\n",
    "plt.hist(timestop, bins=binedge, color='Salmon', alpha=0.7, label = 'Top - Mid', density=True)\n",
    "plt.hist(timesbot, bins=binedge, color='green', alpha=0.7, label = 'Mid - Bot', density=True)\n",
    "plt.title('Triplet timing range phi eta')\n",
    "plt.xlabel('range/ns')\n",
    "plt.ylabel('Number')\n",
    "plt.legend()\n",
    "\n",
    "plt.grid(True)\n",
    "# Display the plots\n",
    "plt.tight_layout()\n",
    "plt.show()\n"
   ]
  },
  {
   "cell_type": "code",
   "execution_count": 263,
   "metadata": {},
   "outputs": [
    {
     "name": "stdout",
     "output_type": "stream",
     "text": [
      "[261.3333333333333, 239.66666666666666, 241.66666666666666, 238.0, 250.66666666666666, 229.33333333333334, 242.0, 229.66666666666666, 232.66666666666666, 238.66666666666666, 221.33333333333334, 244.33333333333334, 245.33333333333334, 249.0, 225.33333333333334, 241.33333333333334, 303.0, 240.0, 234.33333333333334, 226.0, 225.66666666666666, 245.33333333333334, 242.33333333333334, 258.3333333333333, 240.66666666666666, 241.33333333333334, 237.0, 230.66666666666666, 239.0, 241.0, 241.66666666666666, 245.33333333333334, 245.33333333333334, 240.0, 248.66666666666666, 242.33333333333334, 248.66666666666666, 244.0, 243.33333333333334, 252.66666666666666, 252.0, 244.33333333333334, 231.0, 240.33333333333334, 231.66666666666666, 257.3333333333333, 228.0, 238.0, 248.0, 222.66666666666666, 221.66666666666666, 239.66666666666666, 254.66666666666666, 245.0, 234.66666666666666, 236.66666666666666, 243.0, 227.33333333333334, 248.33333333333334, 252.66666666666666, 242.33333333333334, 256.3333333333333, 255.0, 250.0, 259.6666666666667, 237.33333333333334, 255.66666666666666, 245.66666666666666, 226.0, 240.0, 270.0, 237.33333333333334, 242.0, 231.33333333333334, 228.33333333333334, 226.0, 243.33333333333334, 249.0, 225.33333333333334, 252.33333333333334, 232.33333333333334, 251.66666666666666, 251.0, 226.66666666666666, 244.33333333333334, 227.33333333333334, 248.66666666666666, 229.33333333333334, 253.66666666666666, 244.33333333333334, 255.66666666666666, 268.6666666666667, 232.33333333333334, 245.0, 233.33333333333334, 243.0, 249.33333333333334, 232.33333333333334, 241.66666666666666, 233.33333333333334, 255.33333333333334, 240.33333333333334, 244.0, 225.66666666666666, 258.6666666666667, 294.3333333333333, 244.33333333333334, 228.0, 256.3333333333333, 409.0, 239.66666666666666, 252.66666666666666, 251.0, 235.33333333333334, 254.0, 231.66666666666666, 240.66666666666666, 248.33333333333334, 241.66666666666666, 256.6666666666667, 246.33333333333334, 235.66666666666666, 244.66666666666666, 243.66666666666666, 248.66666666666666, 241.66666666666666, 235.66666666666666, 226.0, 254.33333333333334, 256.0, 245.66666666666666, 243.33333333333334, 223.0, 234.66666666666666, 241.0, 232.66666666666666, 231.66666666666666, 236.33333333333334, 249.0, 259.0, 288.0, 231.66666666666666, 242.33333333333334, 226.0, 248.66666666666666, 221.33333333333334, 241.33333333333334, 251.66666666666666, 246.66666666666666, 255.0, 248.66666666666666, 272.0, 251.0, 248.33333333333334, 251.0, 249.0, 234.33333333333334, 242.66666666666666, 258.3333333333333, 223.0, 229.66666666666666, 242.66666666666666, 249.0, 250.66666666666666, 258.6666666666667, 233.0, 246.0, 236.33333333333334, 225.33333333333334, 248.66666666666666, 260.6666666666667, 291.6666666666667, 224.66666666666666, 243.33333333333334, 242.66666666666666, 249.66666666666666, 234.66666666666666, 253.0, 239.66666666666666, 256.0, 253.0, 241.33333333333334, 240.33333333333334, 225.66666666666666, 243.33333333333334, 239.66666666666666, 257.3333333333333, 222.33333333333334, 236.33333333333334, 228.66666666666666, 249.33333333333334, 251.0, 253.0, 222.0, 238.0, 234.0, 222.66666666666666, 236.33333333333334, 245.0, 231.0, 241.33333333333334, 247.66666666666666, 226.0, 244.0, 234.0, 292.3333333333333, 241.0, 233.0, 228.33333333333334, 242.0, 240.66666666666666, 241.0, 232.33333333333334, 227.66666666666666, 241.0, 242.66666666666666, 241.0, 225.0, 251.0, 233.33333333333334, 257.0, 251.0, 241.66666666666666, 236.66666666666666, 238.0, 244.66666666666666, 265.6666666666667, 232.33333333333334, 261.0, 255.0, 240.0, 238.0, 224.0, 249.33333333333334, 231.33333333333334, 231.66666666666666, 232.66666666666666, 254.33333333333334, 250.66666666666666, 247.66666666666666, 240.0, 393.0, 258.6666666666667, 255.33333333333334, 244.66666666666666, 231.66666666666666, 240.33333333333334, 227.66666666666666, 244.0, 247.0, 260.6666666666667, 254.0, 241.66666666666666, 248.66666666666666, 235.33333333333334, 227.66666666666666, 249.33333333333334, 257.3333333333333, 252.0, 233.0, 223.33333333333334, 232.0, 230.66666666666666, 255.66666666666666, 235.33333333333334, 245.66666666666666, 247.33333333333334, 252.33333333333334, 230.66666666666666, 239.0, 247.66666666666666, 233.66666666666666, 253.33333333333334, 251.33333333333334, 227.66666666666666, 231.66666666666666, 226.33333333333334, 238.0, 240.33333333333334, 255.0, 230.0, 248.66666666666666, 250.33333333333334, 252.33333333333334, 229.33333333333334, 245.0, 234.33333333333334, 247.66666666666666, 247.0, 250.66666666666666, 258.3333333333333, 241.66666666666666, 242.33333333333334, 236.33333333333334, 248.0, 224.66666666666666, 232.66666666666666, 226.0, 257.6666666666667, 253.0, 233.0, 225.0, 247.33333333333334, 249.33333333333334, 255.0, 253.33333333333334, 243.0, 233.33333333333334, 239.33333333333334, 256.0, 250.0, 249.33333333333334, 256.6666666666667, 250.0, 246.66666666666666, 245.33333333333334, 233.0, 225.66666666666666, 248.66666666666666, 246.66666666666666, 247.0, 226.33333333333334, 253.33333333333334, 243.0, 237.33333333333334, 235.0, 231.66666666666666, 224.0, 251.33333333333334, 233.0, 254.66666666666666, 246.33333333333334, 258.0, 243.33333333333334, 234.33333333333334, 233.33333333333334, 233.33333333333334, 234.66666666666666, 378.0, 229.0, 245.0, 235.66666666666666, 252.0, 234.0, 241.66666666666666, 234.66666666666666, 236.0, 254.66666666666666, 223.66666666666666, 253.66666666666666, 252.66666666666666, 222.33333333333334, 243.33333333333334, 231.66666666666666, 235.0, 235.66666666666666, 242.66666666666666, 234.0, 252.66666666666666, 240.0, 241.0, 249.0, 264.0, 231.0, 247.33333333333334, 256.6666666666667, 246.0, 250.0, 245.66666666666666, 229.33333333333334, 244.33333333333334, 239.66666666666666, 230.33333333333334, 245.66666666666666, 232.66666666666666, 246.0, 239.33333333333334, 254.66666666666666, 230.0, 250.33333333333334, 255.0, 245.33333333333334, 234.33333333333334, 256.6666666666667, 259.3333333333333, 226.33333333333334, 242.33333333333334, 229.66666666666666, 240.0, 246.33333333333334, 236.0, 241.33333333333334, 227.66666666666666, 244.66666666666666, 233.66666666666666, 253.66666666666666, 229.0, 246.66666666666666, 251.66666666666666, 240.33333333333334, 233.33333333333334, 250.66666666666666, 248.0, 226.33333333333334, 231.0, 241.33333333333334, 230.66666666666666, 247.66666666666666, 242.66666666666666, 251.33333333333334, 249.33333333333334, 251.66666666666666, 254.33333333333334, 255.33333333333334, 245.33333333333334, 229.66666666666666, 238.33333333333334, 241.0, 247.33333333333334, 236.66666666666666, 241.33333333333334, 248.0, 242.0, 232.66666666666666, 255.0, 225.33333333333334, 233.66666666666666, 243.33333333333334, 225.0, 251.0, 230.66666666666666, 233.33333333333334, 232.0, 425.3333333333333, 225.66666666666666, 228.0, 257.0, 240.0, 246.0, 246.0, 243.33333333333334, 236.33333333333334, 233.0, 249.33333333333334, 268.3333333333333, 231.66666666666666, 231.0, 228.33333333333334, 240.33333333333334, 229.33333333333334, 233.0, 240.0, 308.3333333333333, 255.33333333333334, 235.66666666666666, 248.66666666666666, 248.66666666666666, 229.0, 251.66666666666666, 242.0, 224.0, 252.66666666666666, 242.66666666666666, 257.3333333333333, 241.66666666666666, 241.33333333333334, 238.33333333333334, 242.0, 238.66666666666666, 283.6666666666667, 240.0, 236.66666666666666, 239.0, 234.66666666666666, 239.66666666666666, 222.66666666666666, 274.3333333333333, 244.33333333333334, 241.66666666666666, 233.66666666666666, 252.33333333333334, 230.33333333333334, 233.66666666666666, 243.66666666666666, 241.0, 234.33333333333334, 241.66666666666666, 256.6666666666667, 260.3333333333333, 224.33333333333334, 252.66666666666666, 248.0, 247.66666666666666, 244.33333333333334, 255.33333333333334, 233.33333333333334, 241.0, 224.33333333333334, 256.3333333333333, 238.0, 223.66666666666666, 251.0, 249.33333333333334, 245.66666666666666, 232.33333333333334, 230.33333333333334, 250.0, 313.0, 252.0, 255.66666666666666, 238.33333333333334, 244.0, 244.66666666666666, 244.0, 258.6666666666667, 243.0, 227.0, 233.0, 240.66666666666666, 242.33333333333334, 259.6666666666667, 242.66666666666666, 239.66666666666666, 222.0, 243.66666666666666, 231.66666666666666, 231.33333333333334, 230.33333333333334, 234.66666666666666, 255.66666666666666, 226.66666666666666, 243.0, 262.6666666666667, 251.0, 240.66666666666666, 227.0, 229.33333333333334, 299.0, 230.66666666666666, 252.66666666666666, 229.0, 235.33333333333334, 260.3333333333333, 249.66666666666666, 246.0, 233.66666666666666, 228.33333333333334, 253.0, 245.0, 244.66666666666666, 254.0, 247.0, 252.66666666666666, 245.0, 230.66666666666666, 225.0, 240.66666666666666, 243.33333333333334, 233.33333333333334, 241.33333333333334, 241.66666666666666, 238.66666666666666, 266.6666666666667, 250.33333333333334, 240.66666666666666, 228.0, 248.33333333333334, 240.33333333333334, 238.33333333333334, 236.33333333333334, 258.0, 232.33333333333334, 254.33333333333334, 238.66666666666666, 242.66666666666666, 235.33333333333334, 234.0, 229.0, 238.0, 256.0, 246.33333333333334, 258.3333333333333, 249.33333333333334, 234.0, 247.66666666666666, 232.66666666666666, 235.66666666666666, 234.66666666666666, 227.66666666666666, 225.0, 231.33333333333334, 240.0, 227.0, 252.33333333333334, 240.33333333333334, 230.66666666666666, 222.33333333333334, 249.33333333333334, 254.66666666666666, 238.66666666666666, 244.0, 249.66666666666666, 250.0, 240.66666666666666, 239.66666666666666, 246.0, 237.66666666666666, 233.0, 244.33333333333334, 258.0, 231.66666666666666, 254.66666666666666, 242.33333333333334, 249.0, 246.33333333333334, 225.66666666666666, 237.66666666666666, 232.66666666666666, 236.33333333333334, 245.0, 258.0, 240.66666666666666, 233.33333333333334, 242.33333333333334, 231.0, 238.33333333333334, 230.0, 245.33333333333334, 254.0, 252.0, 246.33333333333334, 230.33333333333334, 236.66666666666666, 223.66666666666666, 244.66666666666666, 255.66666666666666, 245.0, 236.66666666666666, 254.33333333333334, 252.66666666666666, 258.0, 249.66666666666666, 247.33333333333334, 250.0, 227.0, 241.66666666666666, 248.66666666666666, 248.33333333333334, 237.66666666666666, 231.66666666666666, 235.33333333333334, 234.66666666666666, 247.66666666666666, 240.66666666666666, 243.33333333333334, 245.0, 250.66666666666666, 245.66666666666666, 223.66666666666666, 221.66666666666666, 254.66666666666666, 239.33333333333334, 240.66666666666666, 241.0, 259.3333333333333, 233.0, 247.66666666666666, 237.0, 239.0, 239.0, 238.66666666666666, 251.0, 272.3333333333333, 232.33333333333334, 234.33333333333334, 225.33333333333334, 252.33333333333334, 225.66666666666666, 235.33333333333334, 253.33333333333334, 236.0, 255.66666666666666, 388.3333333333333, 240.0, 226.33333333333334, 258.6666666666667, 232.66666666666666, 250.66666666666666, 243.66666666666666, 234.0, 239.66666666666666, 240.33333333333334, 240.66666666666666, 228.33333333333334, 237.0, 222.33333333333334, 254.33333333333334, 252.66666666666666, 254.66666666666666, 240.33333333333334, 232.0, 233.66666666666666, 235.66666666666666, 242.0, 245.66666666666666, 243.33333333333334, 255.33333333333334, 236.33333333333334, 231.66666666666666, 225.0, 232.66666666666666, 260.0, 238.33333333333334, 256.3333333333333, 245.66666666666666, 235.66666666666666, 233.0, 229.0, 230.66666666666666, 227.0, 231.0, 235.33333333333334, 251.0, 254.33333333333334, 239.33333333333334, 228.33333333333334, 230.33333333333334, 255.33333333333334, 244.66666666666666, 234.66666666666666, 276.0, 239.66666666666666, 250.0, 239.66666666666666, 228.33333333333334, 244.33333333333334, 252.33333333333334, 231.33333333333334, 262.0, 242.0, 230.66666666666666, 223.33333333333334, 230.33333333333334, 245.0, 246.33333333333334, 254.0, 258.0, 246.33333333333334, 258.3333333333333, 242.66666666666666, 243.33333333333334, 233.0, 249.0, 242.0, 240.0, 249.33333333333334, 241.0, 232.33333333333334, 255.66666666666666, 234.0, 230.66666666666666, 233.66666666666666, 240.0, 227.0, 250.66666666666666, 230.33333333333334, 250.33333333333334, 269.3333333333333, 243.66666666666666, 327.0, 244.33333333333334, 253.0, 228.33333333333334, 338.3333333333333, 239.33333333333334, 246.0, 239.66666666666666, 228.0, 249.33333333333334, 238.0, 252.33333333333334, 242.33333333333334, 230.0, 242.66666666666666, 236.0, 252.66666666666666, 226.0, 242.66666666666666, 239.33333333333334, 236.66666666666666, 233.0, 249.33333333333334, 256.0, 252.0, 227.66666666666666, 245.66666666666666, 239.66666666666666, 260.0, 244.66666666666666, 233.33333333333334, 237.0, 249.66666666666666, 248.66666666666666, 255.0, 240.66666666666666, 242.33333333333334, 384.3333333333333, 242.33333333333334, 241.66666666666666, 233.66666666666666, 254.33333333333334, 247.33333333333334, 264.6666666666667, 256.6666666666667, 248.0, 241.0, 232.33333333333334, 256.6666666666667, 239.33333333333334, 231.0, 236.66666666666666, 251.0, 249.33333333333334, 255.0, 239.66666666666666, 240.33333333333334, 256.3333333333333, 247.33333333333334, 248.66666666666666, 253.0, 262.3333333333333, 232.0, 237.0, 246.0, 232.66666666666666, 227.0, 255.66666666666666, 224.0, 249.0, 240.0, 243.33333333333334, 237.66666666666666, 251.66666666666666, 238.0, 249.66666666666666, 426.6666666666667, 225.66666666666666, 232.66666666666666, 241.33333333333334, 229.0, 248.0, 257.6666666666667, 227.0, 261.3333333333333, 247.0, 242.33333333333334, 228.0, 404.6666666666667, 246.33333333333334, 241.33333333333334, 231.33333333333334, 243.0, 248.66666666666666, 226.66666666666666, 242.33333333333334, 257.0, 247.66666666666666, 248.66666666666666, 254.33333333333334, 226.66666666666666, 232.0, 226.33333333333334, 221.33333333333334, 230.66666666666666, 242.0, 236.33333333333334, 221.33333333333334, 250.33333333333334, 255.0, 234.66666666666666, 223.0, 250.33333333333334, 225.0, 254.33333333333334, 252.33333333333334, 242.0, 224.33333333333334, 251.66666666666666, 223.66666666666666, 228.66666666666666, 255.66666666666666, 254.33333333333334, 236.0, 245.0, 236.33333333333334, 270.6666666666667, 255.0, 229.66666666666666, 236.66666666666666, 238.66666666666666, 226.66666666666666, 224.0, 249.33333333333334, 244.66666666666666, 228.33333333333334, 236.66666666666666, 240.0, 248.0, 241.33333333333334, 234.33333333333334, 250.0, 237.0, 254.0, 247.33333333333334, 226.66666666666666, 233.0, 256.0, 253.33333333333334, 227.66666666666666, 250.33333333333334, 258.6666666666667, 234.33333333333334, 241.33333333333334, 251.0, 237.66666666666666]\n"
     ]
    }
   ],
   "source": [
    "event_time_triplet = []\n",
    "for k in eta_refined_df['triplet range']:\n",
    "    event_time_triplet.append(k[2])\n",
    "event_time_triplet = [x for x in event_time_triplet if x is not None]\n",
    "\n",
    "print(event_time_triplet)"
   ]
  },
  {
   "cell_type": "code",
   "execution_count": 215,
   "metadata": {},
   "outputs": [],
   "source": [
    "plt.figure(figsize=(12, 6))\n",
    "\n",
    "plt.hist(event_time_triplet, bins=20, color='green', alpha=0.7)\n",
    "plt.title('Triplet event time for all 6 rpc muons eta')\n",
    "plt.xlabel('range/ns')\n",
    "plt.ylabel('Number')\n",
    "\n",
    "plt.grid(True)\n",
    "# Display the plots\n",
    "plt.tight_layout()\n",
    "plt.show()\n"
   ]
  },
  {
   "cell_type": "code",
   "execution_count": 162,
   "metadata": {},
   "outputs": [
    {
     "name": "stderr",
     "output_type": "stream",
     "text": [
      "PandasGUI INFO — pandasgui.gui — Opening PandasGUI\n",
      "INFO:pandasgui.gui:Opening PandasGUI\n"
     ]
    },
    {
     "data": {
      "text/plain": [
       "<pandasgui.gui.PandasGui at 0x22e73c9a0e0>"
      ]
     },
     "execution_count": 162,
     "metadata": {},
     "output_type": "execute_result"
    }
   ],
   "source": [
    "show(eta_refined_df['Used Coordinates'])"
   ]
  },
  {
   "cell_type": "code",
   "execution_count": 165,
   "metadata": {},
   "outputs": [
    {
     "name": "stdout",
     "output_type": "stream",
     "text": [
      "(False, None)\n"
     ]
    }
   ],
   "source": [
    "m = [('rpc0', 5, 242), ('rpc1', 7, 243), ('rpc2', 9, 241)]\n",
    "print(Bunching_FEB_Numbers(m))"
   ]
  },
  {
   "cell_type": "code",
   "execution_count": 264,
   "metadata": {},
   "outputs": [
    {
     "name": "stderr",
     "output_type": "stream",
     "text": [
      "C:\\Users\\Peter\\AppData\\Local\\Temp\\ipykernel_60340\\1971574157.py:17: SettingWithCopyWarning:\n",
      "\n",
      "\n",
      "A value is trying to be set on a copy of a slice from a DataFrame.\n",
      "Try using .loc[row_indexer,col_indexer] = value instead\n",
      "\n",
      "See the caveats in the documentation: https://pandas.pydata.org/pandas-docs/stable/user_guide/indexing.html#returning-a-view-versus-a-copy\n",
      "\n"
     ]
    }
   ],
   "source": [
    "def Bunching_FEB_Numbers(rpc_list):\n",
    "    # Extract rpc names, time, and data into separate lists\n",
    "    rpc_names = [x[0] for x in rpc_list]\n",
    "    \n",
    "    # Check if 'rpc0', 'rpc1', 'rpc2' exist in the names\n",
    "    required_rpcs = ['rpc0', 'rpc1', 'rpc2']\n",
    "    if all(rpc in rpc_names for rpc in required_rpcs):\n",
    "        filtered_rpc_list = [item for item in rpc_list if item[0] in required_rpcs]\n",
    "        \n",
    "        group_numbers = set((item[1] //8) for item in filtered_rpc_list)\n",
    "        unique_groups = set(group_numbers)\n",
    "        all_same_group = len(unique_groups) == 1\n",
    "        return (all_same_group, unique_groups)\n",
    "    else:\n",
    "        return (False, None)\n",
    "    \n",
    "eta_refined_df['FEB group triplet'] = eta_refined_df['Used Coordinates'].apply(Bunching_FEB_Numbers)"
   ]
  },
  {
   "cell_type": "code",
   "execution_count": 234,
   "metadata": {},
   "outputs": [
    {
     "name": "stderr",
     "output_type": "stream",
     "text": [
      "PandasGUI INFO — pandasgui.gui — Opening PandasGUI\n",
      "INFO:pandasgui.gui:Opening PandasGUI\n"
     ]
    },
    {
     "data": {
      "text/plain": [
       "<pandasgui.gui.PandasGui at 0x211e2f0e830>"
      ]
     },
     "execution_count": 234,
     "metadata": {},
     "output_type": "execute_result"
    }
   ],
   "source": [
    "show(eta_refined_df.head(200))"
   ]
  },
  {
   "cell_type": "code",
   "execution_count": 243,
   "metadata": {},
   "outputs": [],
   "source": [
    "plt.figure(figsize=(18, 9))\n",
    "colors = [\n",
    "    \"#1f77b4\",  # medium blue\n",
    "    \"#ff7f0e\",  # vivid orange\n",
    "    \"#2ca02c\",  # grass green\n",
    "    \"#d62728\",  # strong red\n",
    "    \"#9467bd\",  # muted purple\n",
    "    \"#8c564b\",  # dark brown\n",
    "    \"#e377c2\",  # soft pink\n",
    "    \"#7f7f7f\",  # medium gray\n",
    "    \"#bcbd22\",  # lime green\n",
    "    \"#17becf\"   # cyan-teal\n",
    "]\n",
    "binedge = np.linspace(-5, 5, 11)\n",
    "for i in range(6):\n",
    "    FEB_grouped_Triplet = eta_refined_df[eta_refined_df['FEB group triplet'] == (True, {-i})]\n",
    "    if FEB_grouped_Triplet.empty:\n",
    "        continue\n",
    "\n",
    "    timestop = []\n",
    "    for k in FEB_grouped_Triplet['triplet range true']:\n",
    "        timestop.append(k[1])\n",
    "    timestop = [x for x in timestop if x is not None]\n",
    "    meantop = \"%.3E\" %np.mean(timestop)\n",
    "\n",
    "    timesbot = []\n",
    "    for k in FEB_grouped_Triplet['triplet range true']:\n",
    "        timesbot.append(k[2])\n",
    "    timesbot = [x for x in timesbot if x is not None]\n",
    "    meanbot = \"%.3E\" %np.mean(timesbot)\n",
    "    times = []\n",
    "    for k in FEB_grouped_Triplet['triplet range']:\n",
    "        times.append(k[1])\n",
    "    times = [x for x in times if x is not None]\n",
    "    mean = \"%.3E\" % np.mean(times)\n",
    "    plt.hist(timestop, bins=binedge, alpha=0.7, label = f'FEB{i} Top - Mid, mean:{meantop}', density=True, histtype='step', linewidth=3, linestyle='dashed', color = colors[i])\n",
    "    plt.hist(timesbot, bins=binedge, alpha=0.7, label = f'FEB{i} Mid - Bot, mean:{meanbot}', density=True, histtype='step', linewidth=3, linestyle='solid', color = colors[i])\n",
    "    # plt.hist(times, bins=30, alpha=0.9, label = f'Maximum time difference in FEB{i}, mean{mean}', density=True, histtype='step', linewidth = 2.5)\n",
    "plt.title('Triplet timing separated by FEBs')\n",
    "plt.xlabel('range/ns')\n",
    "plt.ylabel('Number')\n",
    "plt.legend()\n",
    "\n",
    "plt.grid(True)\n",
    "# Display the plots\n",
    "plt.tight_layout()\n",
    "plt.show()\n"
   ]
  },
  {
   "cell_type": "code",
   "execution_count": 270,
   "metadata": {},
   "outputs": [],
   "source": [
    "plt.figure(figsize=(20, 10))\n",
    "colors = [\n",
    "    \"#1f77b4\",  # medium blue\n",
    "    \"#ff7f0e\",  # vivid orange\n",
    "    \"#2ca02c\",  # grass green\n",
    "    \"#d62728\",  # strong red\n",
    "    \"#9467bd\",  # muted purple\n",
    "    \"#8c564b\",  # dark brown\n",
    "    \"#e377c2\",  # soft pink\n",
    "    \"#7f7f7f\",  # medium gray\n",
    "    \"#bcbd22\",  # lime green\n",
    "    \"#17becf\"   # cyan-teal\n",
    "]\n",
    "binedge = np.linspace(-5, 5, 11)\n",
    "\n",
    "# Create two subplots side by side\n",
    "fig, (ax1, ax2) = plt.subplots(1, 2, figsize=(20, 10), sharey=True)\n",
    "\n",
    "for i in range(4):\n",
    "    # Filter the DataFrame based on your specific condition\n",
    "    FEB_grouped_Triplet = eta_refined_df[eta_refined_df['FEB group triplet'] == (True, {i})]\n",
    "    if FEB_grouped_Triplet.empty:\n",
    "        continue\n",
    "\n",
    "    # Extract and prepare data for 'Top - Mid'\n",
    "    timestop = [k[1] for k in FEB_grouped_Triplet['triplet range true'] if k[1] is not None]\n",
    "    meantop = \"%.3E\" % np.mean(timestop)\n",
    "\n",
    "    # Extract and prepare data for 'Mid - Bot'\n",
    "    timesbot = [k[2] for k in FEB_grouped_Triplet['triplet range true'] if k[2] is not None]\n",
    "    meanbot = \"%.3E\" % np.mean(timesbot)\n",
    "\n",
    "    # Plotting 'Top - Mid'\n",
    "    ax1.hist(timestop, bins=binedge, alpha=0.7, label=f'FEB{i} Top - Mid, mean: {meantop}', density=True, histtype='step', linewidth=2, linestyle='dashed', color=colors[i])\n",
    "    # Plotting 'Mid - Bot'\n",
    "    ax2.hist(timesbot, bins=binedge, alpha=0.7, label=f'FEB{i} Mid - Bot, mean: {meanbot}', density=True, histtype='step', linewidth=2, linestyle='solid', color=colors[i])\n",
    "\n",
    "# Styling for 'Top - Mid'\n",
    "ax1.set_title('Top - Mid Timing phi1 side', fontsize=16)\n",
    "ax1.set_xlabel('Range/ns', fontsize=14)\n",
    "ax1.set_ylabel('Density', fontsize=14)\n",
    "ax1.legend(fontsize=12)\n",
    "ax1.grid(True)\n",
    "\n",
    "# Styling for 'Mid - Bot'\n",
    "ax2.set_title('Mid - Bot Timing phi1 side', fontsize=16)\n",
    "ax2.set_xlabel('Range/ns', fontsize=14)\n",
    "ax2.set_ylabel('Density', fontsize=14)\n",
    "ax2.legend(fontsize=12)\n",
    "ax2.grid(True)\n",
    "\n",
    "plt.tight_layout()\n",
    "plt.show()"
   ]
  },
  {
   "cell_type": "code",
   "execution_count": 272,
   "metadata": {},
   "outputs": [],
   "source": [
    "plt.figure(figsize=(20, 10))\n",
    "colors = [\n",
    "    \"#1f77b4\",  # medium blue\n",
    "    \"#ff7f0e\",  # vivid orange\n",
    "    \"#2ca02c\",  # grass green\n",
    "    \"#d62728\",  # strong red\n",
    "    \"#9467bd\",  # muted purple\n",
    "    \"#8c564b\",  # dark brown\n",
    "    \"#e377c2\",  # soft pink\n",
    "    \"#7f7f7f\",  # medium gray\n",
    "    \"#bcbd22\",  # lime green\n",
    "    \"#17becf\"   # cyan-teal\n",
    "]\n",
    "binedge = np.linspace(-5, 5, 11)\n",
    "\n",
    "# Create two subplots side by side\n",
    "fig, (ax1, ax2) = plt.subplots(1, 2, figsize=(20, 10), sharey=True)\n",
    "\n",
    "for i in range(10):\n",
    "    if i <=3:\n",
    "        continue\n",
    "    # Filter the DataFrame based on your specific condition\n",
    "    FEB_grouped_Triplet = eta_refined_df[eta_refined_df['FEB group triplet'] == (True, {i})]\n",
    "    if FEB_grouped_Triplet.empty:\n",
    "        continue\n",
    "\n",
    "    # Extract and prepare data for 'Top - Mid'\n",
    "    timestop = [k[1] for k in FEB_grouped_Triplet['triplet range true'] if k[1] is not None]\n",
    "    meantop = \"%.3E\" % np.mean(timestop)\n",
    "\n",
    "    # Extract and prepare data for 'Mid - Bot'\n",
    "    timesbot = [k[2] for k in FEB_grouped_Triplet['triplet range true'] if k[2] is not None]\n",
    "    meanbot = \"%.3E\" % np.mean(timesbot)\n",
    "\n",
    "    # Plotting 'Top - Mid'\n",
    "    ax1.hist(timestop, bins=binedge, alpha=0.7, label=f'FEB{i} Top - Mid, mean: {meantop}', density=True, histtype='step', linewidth=2, linestyle='dashed', color=colors[i])\n",
    "    # Plotting 'Mid - Bot'\n",
    "    ax2.hist(timesbot, bins=binedge, alpha=0.7, label=f'FEB{i} Mid - Bot, mean: {meanbot}', density=True, histtype='step', linewidth=2, linestyle='solid', color=colors[i])\n",
    "\n",
    "# Styling for 'Top - Mid'\n",
    "ax1.set_title('Top - Mid Timing phi2 side', fontsize=16)\n",
    "ax1.set_xlabel('Range/ns', fontsize=14)\n",
    "ax1.set_ylabel('Density', fontsize=14)\n",
    "ax1.legend(fontsize=12)\n",
    "ax1.grid(True)\n",
    "\n",
    "# Styling for 'Mid - Bot'\n",
    "ax2.set_title('Mid - Bot Timing phi2 side', fontsize=16)\n",
    "ax2.set_xlabel('Range/ns', fontsize=14)\n",
    "ax2.set_ylabel('Density', fontsize=14)\n",
    "ax2.legend(fontsize=12)\n",
    "ax2.grid(True)\n",
    "\n",
    "plt.tight_layout()\n",
    "plt.show()"
   ]
  },
  {
   "cell_type": "code",
   "execution_count": 240,
   "metadata": {},
   "outputs": [],
   "source": [
    "plt.figure(figsize=(18, 9))\n",
    "colors = [\n",
    "    \"#1f77b4\",  # medium blue\n",
    "    \"#ff7f0e\",  # vivid orange\n",
    "    \"#2ca02c\",  # grass green\n",
    "    \"#d62728\",  # strong red\n",
    "    \"#9467bd\",  # muted purple\n",
    "    \"#8c564b\",  # dark brown\n",
    "    \"#e377c2\",  # soft pink\n",
    "    \"#7f7f7f\",  # medium gray\n",
    "    \"#bcbd22\",  # lime green\n",
    "    \"#17becf\"   # cyan-teal\n",
    "]\n",
    "for i in range(9):\n",
    "    FEB_grouped_Triplet = eta_refined_df[eta_refined_df['FEB group triplet'].apply(lambda x: x[0] == False and x[1] is not None)]\n",
    "    if FEB_grouped_Triplet.empty:\n",
    "        continue\n",
    "\n",
    "    timestop = []\n",
    "    for k in FEB_grouped_Triplet['triplet range true']:\n",
    "        timestop.append(k[1])\n",
    "    timestop = [x for x in timestop if x is not None]\n",
    "    meantop = \"%.3E\" %np.mean(timestop)\n",
    "\n",
    "    timesbot = []\n",
    "    for k in FEB_grouped_Triplet['triplet range true']:\n",
    "        timesbot.append(k[2])\n",
    "    timesbot = [x for x in timesbot if x is not None]\n",
    "    meanbot = \"%.3E\" %np.mean(timesbot)\n",
    "    times = []\n",
    "    for k in FEB_grouped_Triplet['triplet range']:\n",
    "        times.append(k[1])\n",
    "    times = [x for x in times if x is not None]\n",
    "    mean = \"%.3E\" % np.mean(times)\n",
    "    # plt.hist(timestop, bins=20, alpha=0.7, label = f'FEB{i} Top - Mid, mean:{meantop}', density=True, histtype='step', linewidth=3, linestyle='dashed', color = colors[i])\n",
    "    # plt.hist(timesbot, bins=20, alpha=0.7, label = f'FEB{i} Mid - Bot, mean:{meanbot}', density=True, histtype='step', linewidth=3, linestyle='solid', color = colors[i])\n",
    "    plt.hist(times, bins=10, alpha=0.9, label = f'Maximum time difference in FEB{i}, mean{mean}', density=True, histtype='step', linewidth = 2.5)\n",
    "plt.title('Triplet timing separated by FEBs')\n",
    "plt.xlabel('range/ns')\n",
    "plt.ylabel('Number')\n",
    "plt.legend()\n",
    "\n",
    "plt.grid(True)\n",
    "# Display the plots\n",
    "plt.tight_layout()\n",
    "plt.show()\n"
   ]
  },
  {
   "cell_type": "code",
   "execution_count": 169,
   "metadata": {},
   "outputs": [
    {
     "name": "stderr",
     "output_type": "stream",
     "text": [
      "PandasGUI INFO — pandasgui.gui — Opening PandasGUI\n",
      "INFO:pandasgui.gui:Opening PandasGUI\n"
     ]
    },
    {
     "data": {
      "text/plain": [
       "<pandasgui.gui.PandasGui at 0x22e7b088790>"
      ]
     },
     "execution_count": 169,
     "metadata": {},
     "output_type": "execute_result"
    }
   ],
   "source": [
    "FEB_grouped_Triplet = eta_refined_df[eta_refined_df['FEB group triplet'].apply(lambda x: x[0] == False and x[1] is not None)]\n",
    "show(FEB_grouped_Triplet)"
   ]
  },
  {
   "cell_type": "code",
   "execution_count": 156,
   "metadata": {},
   "outputs": [
    {
     "name": "stdout",
     "output_type": "stream",
     "text": [
      "0\n"
     ]
    }
   ],
   "source": [
    "print(-0)"
   ]
  },
  {
   "cell_type": "code",
   "execution_count": 73,
   "metadata": {},
   "outputs": [
    {
     "name": "stderr",
     "output_type": "stream",
     "text": [
      "PandasGUI INFO — pandasgui.gui — Opening PandasGUI\n",
      "INFO:pandasgui.gui:Opening PandasGUI\n"
     ]
    },
    {
     "data": {
      "text/plain": [
       "<pandasgui.gui.PandasGui at 0x22e61c836d0>"
      ]
     },
     "execution_count": 73,
     "metadata": {},
     "output_type": "execute_result"
    }
   ],
   "source": [
    "show(eta_refined_df.head())"
   ]
  },
  {
   "cell_type": "markdown",
   "metadata": {},
   "source": [
    "Cluster timing"
   ]
  },
  {
   "cell_type": "code",
   "execution_count": 367,
   "metadata": {},
   "outputs": [
    {
     "name": "stderr",
     "output_type": "stream",
     "text": [
      "PandasGUI INFO — pandasgui.gui — Opening PandasGUI\n",
      "INFO:pandasgui.gui:Opening PandasGUI\n"
     ]
    },
    {
     "data": {
      "text/plain": [
       "<pandasgui.gui.PandasGui at 0x23fde4ccdc0>"
      ]
     },
     "execution_count": 367,
     "metadata": {},
     "output_type": "execute_result"
    }
   ],
   "source": [
    "show(cluster_df)"
   ]
  },
  {
   "cell_type": "code",
   "execution_count": 65,
   "metadata": {},
   "outputs": [
    {
     "name": "stderr",
     "output_type": "stream",
     "text": [
      "PandasGUI INFO — pandasgui.gui — Opening PandasGUI\n",
      "INFO:pandasgui.gui:Opening PandasGUI\n"
     ]
    },
    {
     "data": {
      "text/plain": [
       "<pandasgui.gui.PandasGui at 0x22e67dcc430>"
      ]
     },
     "execution_count": 65,
     "metadata": {},
     "output_type": "execute_result"
    }
   ],
   "source": [
    "show(cluster_df.head())"
   ]
  },
  {
   "cell_type": "code",
   "execution_count": 66,
   "metadata": {},
   "outputs": [],
   "source": [
    "Triplet_cluster_df = fully_massaged_df[fully_massaged_df['rpc_number'].isin(['rpc0', 'rpc1', 'rpc2'])]"
   ]
  },
  {
   "cell_type": "code",
   "execution_count": 11,
   "metadata": {},
   "outputs": [],
   "source": [
    "Triplet_cluster_df = cluster_df[cluster_df['rpc_number'].isin(['rpc0', 'rpc1', 'rpc2'])]"
   ]
  },
  {
   "cell_type": "code",
   "execution_count": 74,
   "metadata": {},
   "outputs": [],
   "source": [
    "# Assuming cluster_df and its 'times' column are already defined.\n",
    "cluster_df['time_diff'] = cluster_df['times'].apply(lambda x: max(x) - min(x))\n",
    "\n",
    "min_time_diff = cluster_df['time_diff'].min()\n",
    "max_time_diff = cluster_df['time_diff'].max()\n",
    "\n",
    "bins = np.linspace(0, 12, 12) \n",
    "\n",
    "plt.figure(figsize=(12, 8))\n",
    "plt.xlim(0, 20)\n",
    "\n",
    "bin_edges = np.arange(0,21,1)\n",
    "\n",
    "for i in range(10):\n",
    "    if i == 0 or i == 1:\n",
    "        continue\n",
    "    size_time_diff = cluster_df[cluster_df['size'] == i]['time_diff']\n",
    "    plt.hist(size_time_diff, bins=bin_edges, alpha=0.7, label=f'size {i}', histtype='step', linewidth=2)\n",
    "\n",
    "plt.title('Time Difference for Different Cluster Sizes')\n",
    "plt.xlabel('Time Difference (nanoseconds)')\n",
    "plt.ylabel('Frequency')\n",
    "plt.yscale('log')\n",
    "plt.grid(True)\n",
    "plt.legend()\n",
    "plt.show()"
   ]
  },
  {
   "cell_type": "code",
   "execution_count": 72,
   "metadata": {},
   "outputs": [
    {
     "name": "stderr",
     "output_type": "stream",
     "text": [
      "WARNING:matplotlib.legend:No artists with labels found to put in legend.  Note that artists whose label start with an underscore are ignored when legend() is called with no argument.\n"
     ]
    }
   ],
   "source": [
    "bin_edges = np.arange(-0.5, 10, 1)\n",
    "plt.figure(figsize=(12, 8))\n",
    "plt.xlim(0, 9)\n",
    "plt.hist(cluster_df['size'] , bins=bin_edges, alpha=0.7)\n",
    "\n",
    "plt.title('cluster sizes distribution')\n",
    "plt.xlabel('sizes')\n",
    "plt.ylabel('Frequency')\n",
    "plt.grid(True)\n",
    "plt.legend()\n",
    "plt.show()"
   ]
  },
  {
   "cell_type": "code",
   "execution_count": 67,
   "metadata": {},
   "outputs": [
    {
     "name": "stderr",
     "output_type": "stream",
     "text": [
      "PandasGUI INFO — pandasgui.gui — Opening PandasGUI\n",
      "INFO:pandasgui.gui:Opening PandasGUI\n"
     ]
    },
    {
     "data": {
      "text/plain": [
       "<pandasgui.gui.PandasGui at 0x22e613a1fc0>"
      ]
     },
     "execution_count": 67,
     "metadata": {},
     "output_type": "execute_result"
    }
   ],
   "source": [
    "show(Triplet_cluster_df)"
   ]
  },
  {
   "cell_type": "code",
   "execution_count": 371,
   "metadata": {},
   "outputs": [
    {
     "name": "stdout",
     "output_type": "stream",
     "text": [
      "<class 'pandas.core.frame.DataFrame'>\n",
      "Int64Index: 580577 entries, 0 to 759898\n",
      "Data columns (total 8 columns):\n",
      " #   Column           Non-Null Count   Dtype \n",
      "---  ------           --------------   ----- \n",
      " 0   event_number     580577 non-null  int64 \n",
      " 1   rpc_number       580577 non-null  object\n",
      " 2   strip_direction  580577 non-null  object\n",
      " 3   locations        580577 non-null  object\n",
      " 4   times            580577 non-null  object\n",
      " 5   start_time       580577 non-null  int64 \n",
      " 6   end_time         580577 non-null  int64 \n",
      " 7   size             580577 non-null  int64 \n",
      "dtypes: int64(4), object(4)\n",
      "memory usage: 39.9+ MB\n",
      "None\n"
     ]
    }
   ],
   "source": [
    "print(Triplet_cluster_df.info())"
   ]
  },
  {
   "cell_type": "code",
   "execution_count": 68,
   "metadata": {},
   "outputs": [],
   "source": [
    "Triplet_cluster_df_filtered = Triplet_cluster_df[Triplet_cluster_df['size'] > 1]\n",
    "\n",
    "# Compute max(times) - min(times) for each row\n",
    "Triplet_cluster_df_filtered['time_diff'] = Triplet_cluster_df_filtered['times'].apply(lambda x: max(x) - min(x))\n",
    "\n",
    "# Filter data based on rpc_number\n",
    "rpc0_data = Triplet_cluster_df_filtered[Triplet_cluster_df_filtered['rpc_number'] == 'rpc0']\n",
    "rpc1_data = Triplet_cluster_df_filtered[Triplet_cluster_df_filtered['rpc_number'] == 'rpc1']\n",
    "rpc2_data = Triplet_cluster_df_filtered[Triplet_cluster_df_filtered['rpc_number'] == 'rpc2']\n",
    "\n",
    "# Plotting the histograms\n",
    "plt.figure(figsize=(12, 8))\n",
    "plt.hist(rpc0_data['time_diff'], bins=20, alpha=0.7, color='red', edgecolor='red', label='RPC0', histtype='step', linewidth=2)\n",
    "plt.hist(rpc1_data['time_diff'], bins=20, alpha=0.7, color='green', edgecolor='green', label='RPC1', histtype='step', linewidth=2)\n",
    "plt.hist(rpc2_data['time_diff'], bins=20, alpha=0.7, color='blue', edgecolor='blue', label='RPC2', histtype='step', linewidth=2)\n",
    "\n",
    "plt.title('Cluster Max-Min Times Difference in Triplet for Each RPC Number')\n",
    "plt.xlabel('Time Difference (nanoseconds)')\n",
    "plt.ylabel('Frequency')\n",
    "plt.grid(True)\n",
    "plt.legend()\n",
    "plt.show()"
   ]
  },
  {
   "cell_type": "code",
   "execution_count": 69,
   "metadata": {},
   "outputs": [
    {
     "name": "stderr",
     "output_type": "stream",
     "text": [
      "WARNING:matplotlib.legend:No artists with labels found to put in legend.  Note that artists whose label start with an underscore are ignored when legend() is called with no argument.\n"
     ]
    }
   ],
   "source": [
    "\n",
    "Triplet_cluster_df_filtered = Triplet_cluster_df[Triplet_cluster_df['size'] > 1]\n",
    "\n",
    "Triplet_cluster_df_filtered['time_diff'] = Triplet_cluster_df_filtered['times'].apply(lambda x: max(x) - min(x))\n",
    "\n",
    "plt.figure(figsize=(12, 8))\n",
    "\n",
    "colors = ['red', 'green', 'blue']\n",
    "styles = ['-', '--', ':']\n",
    "rpc_numbers = Triplet_cluster_df_filtered['rpc_number'].unique()\n",
    "sizes = Triplet_cluster_df_filtered['size'].unique()\n",
    "\n",
    "bin = [6,8,10,12,14]\n",
    "\n",
    "for size_index, size in enumerate(sorted(sizes)):\n",
    "    if size <=5:\n",
    "        # Filter data for each rpc_number and size\n",
    "        data = Triplet_cluster_df_filtered[\n",
    "            (Triplet_cluster_df_filtered['size'] == size)\n",
    "        ]\n",
    "\n",
    "        # Only plot if there is data\n",
    "        if not data.empty:\n",
    "            plt.hist(data['time_diff'], bins=bin[size_index], alpha=0.7, label=f'Size {size}', histtype='step', linewidth=2)\n",
    "\n",
    "# Plot customization\n",
    "plt.title('Cluster Max-Min Times Difference in Triplet for Each RPC Number and Size')\n",
    "plt.xlabel('Time Difference (nanoseconds)')\n",
    "plt.ylabel('Frequency')\n",
    "plt.grid(True)\n",
    "plt.yscale('log')\n",
    "plt.legend(title='RPC and Size')\n",
    "plt.show()"
   ]
  },
  {
   "cell_type": "code",
   "execution_count": 375,
   "metadata": {},
   "outputs": [
    {
     "name": "stderr",
     "output_type": "stream",
     "text": [
      "PandasGUI INFO — pandasgui.gui — Opening PandasGUI\n",
      "INFO:pandasgui.gui:Opening PandasGUI\n"
     ]
    },
    {
     "data": {
      "text/plain": [
       "<pandasgui.gui.PandasGui at 0x2417b724ca0>"
      ]
     },
     "execution_count": 375,
     "metadata": {},
     "output_type": "execute_result"
    }
   ],
   "source": [
    "show(Triplet_cluster_df_filtered)"
   ]
  },
  {
   "cell_type": "code",
   "execution_count": 137,
   "metadata": {},
   "outputs": [
    {
     "name": "stdout",
     "output_type": "stream",
     "text": [
      "<class 'pandas.core.frame.DataFrame'>\n",
      "RangeIndex: 88254 entries, 0 to 88253\n",
      "Data columns (total 7 columns):\n",
      " #   Column            Non-Null Count  Dtype  \n",
      "---  ------            --------------  -----  \n",
      " 0   Event Number      88254 non-null  int64  \n",
      " 1   Direction         88254 non-null  object \n",
      " 2   Slope             88254 non-null  float64\n",
      " 3   Intercept         88254 non-null  float64\n",
      " 4   Used Coordinates  88254 non-null  object \n",
      " 5   chi2 norm         88254 non-null  float64\n",
      " 6   Number_of_Rpcs    88254 non-null  int64  \n",
      "dtypes: float64(3), int64(2), object(2)\n",
      "memory usage: 4.7+ MB\n",
      "None\n"
     ]
    }
   ],
   "source": [
    "print(Reconstructed_df_4.info())"
   ]
  },
  {
   "cell_type": "code",
   "execution_count": 167,
   "metadata": {},
   "outputs": [
    {
     "name": "stderr",
     "output_type": "stream",
     "text": [
      "PandasGUI INFO — pandasgui.gui — Opening PandasGUI\n",
      "INFO:pandasgui.gui:Opening PandasGUI\n"
     ]
    },
    {
     "data": {
      "text/plain": [
       "<pandasgui.gui.PandasGui at 0x2178bcb52d0>"
      ]
     },
     "execution_count": 167,
     "metadata": {},
     "output_type": "execute_result"
    }
   ],
   "source": [
    "show(Reconstructed_df_4)"
   ]
  },
  {
   "cell_type": "code",
   "execution_count": 190,
   "metadata": {},
   "outputs": [
    {
     "name": "stderr",
     "output_type": "stream",
     "text": [
      "PandasGUI INFO — pandasgui.gui — Opening PandasGUI\n",
      "INFO:pandasgui.gui:Opening PandasGUI\n"
     ]
    },
    {
     "data": {
      "text/plain": [
       "<pandasgui.gui.PandasGui at 0x2178dc12c20>"
      ]
     },
     "execution_count": 190,
     "metadata": {},
     "output_type": "execute_result"
    }
   ],
   "source": [
    "show(Reconstructed_df_3)"
   ]
  },
  {
   "cell_type": "code",
   "execution_count": 175,
   "metadata": {},
   "outputs": [
    {
     "name": "stdout",
     "output_type": "stream",
     "text": [
      "0        [(rpc0, 51, 250.04666666666665), (rpc1, 51, 24...\n",
      "1        [(rpc0, 22, 237.38), (rpc1, 22, 237.79), (rpc2...\n",
      "2        [(rpc0, 49, 244.38), (rpc1, 49, 243.79), (rpc2...\n",
      "3        [(rpc0, 49, 244.38), (rpc1, 49, 243.79), (rpc2...\n",
      "4        [(rpc0, 49, 244.38), (rpc1, 49, 243.79), (rpc2...\n",
      "                               ...                        \n",
      "88249    [(rpc0, 3, 231.38), (rpc1, 3, 230.79), (rpc2, ...\n",
      "88250    [(rpc0, 3, 231.38), (rpc1, 3, 230.79), (rpc2, ...\n",
      "88251    [(rpc0, 56, 280.38), (rpc1, 56, 269.79), (rpc2...\n",
      "88252    [(rpc0, -27, 255.06), (rpc1, -27, 256.64), (rp...\n",
      "88253    [(rpc0, -27, 255.06), (rpc1, -27, 256.64), (rp...\n",
      "Name: Used Coordinates, Length: 88254, dtype: object\n"
     ]
    }
   ],
   "source": [
    "print(Reconstructed_df_4['Used Coordinates'])"
   ]
  },
  {
   "cell_type": "code",
   "execution_count": 186,
   "metadata": {},
   "outputs": [],
   "source": [
    "def convert_string_to_tuples(data):\n",
    "    try:\n",
    "        # Convert the string representation back to the actual data type (list of tuples)\n",
    "        return ast.literal_eval(data)\n",
    "    except (SyntaxError, ValueError) as e:\n",
    "        # Handle errors that arise if the data is not in the expected format\n",
    "        print(f\"Error converting data: {data}. Error: {e}\")\n",
    "        return None\n",
    "    \n",
    "Reconstructed_df_3['Used Coordinates'] = Reconstructed_df_3['Used Coordinates'].apply(convert_string_to_tuples)"
   ]
  },
  {
   "cell_type": "code",
   "execution_count": 196,
   "metadata": {},
   "outputs": [
    {
     "name": "stderr",
     "output_type": "stream",
     "text": [
      "C:\\Users\\Peter\\AppData\\Local\\Temp\\ipykernel_40476\\1569048960.py:2: SettingWithCopyWarning:\n",
      "\n",
      "\n",
      "A value is trying to be set on a copy of a slice from a DataFrame.\n",
      "Try using .loc[row_indexer,col_indexer] = value instead\n",
      "\n",
      "See the caveats in the documentation: https://pandas.pydata.org/pandas-docs/stable/user_guide/indexing.html#returning-a-view-versus-a-copy\n",
      "\n"
     ]
    }
   ],
   "source": [
    "def check_rpc_conditions(coords):\n",
    "    has_rpc3 = any('rpc3' == rpc for rpc, _, _ in coords)\n",
    "    has_rpc4_or_rpc5 = any(rpc in ['rpc4', 'rpc5'] for rpc, _, _ in coords)\n",
    "    return has_rpc3 and has_rpc4_or_rpc5\n",
    "\n",
    "def extract_rpc_set(coords):\n",
    "    return set(rpc for rpc, _, _ in coords)\n",
    "\n",
    "# Function to filter events based on matching RPCs in 'eta' and 'phi'\n",
    "def filter_matching_rpcs(group):\n",
    "    if 'eta' in group['Direction'].values and 'phi' in group['Direction'].values:\n",
    "        eta_rpcs = group[group['Direction'] == 'eta']['Used Coordinates'].apply(extract_rpc_set).iloc[0]\n",
    "        phi_rpcs = group[group['Direction'] == 'phi']['Used Coordinates'].apply(extract_rpc_set).iloc[0]\n",
    "        if eta_rpcs == phi_rpcs:\n",
    "            return group\n",
    "    return pd.DataFrame()  # Return empty DataFrame for non-matching or incomplete groups\n",
    "\n",
    "# Group by 'Event Number' and apply the filter function\n",
    "Reconstructed_df_3 = Reconstructed_df_3.groupby('Event Number').apply(filter_matching_rpcs).reset_index(drop=True)\n",
    "\n",
    "\n",
    "\n",
    "# Apply the function to filter the dataframe\n",
    "Cross_condition_df = Reconstructed_df_3[Reconstructed_df_3['Used Coordinates'].apply(check_rpc_conditions)]\n",
    "Cross_condition_df = refine_reconstructed_paths(Cross_condition_df)\n",
    "valid_events = Cross_condition_df.groupby('Event Number')['Direction'].agg(set).reset_index()\n",
    "valid_events = valid_events[valid_events['Direction'] == {'eta', 'phi'}]\n",
    "\n",
    "# Filter the original DataFrame to include only those Event Numbers with both directions\n",
    "Cross_condition_df = Cross_condition_df[Cross_condition_df['Event Number'].isin(valid_events['Event Number'])]"
   ]
  },
  {
   "cell_type": "code",
   "execution_count": 200,
   "metadata": {},
   "outputs": [
    {
     "name": "stderr",
     "output_type": "stream",
     "text": [
      "PandasGUI INFO — pandasgui.gui — Opening PandasGUI\n",
      "INFO:pandasgui.gui:Opening PandasGUI\n"
     ]
    },
    {
     "data": {
      "text/plain": [
       "<pandasgui.gui.PandasGui at 0x217901d2710>"
      ]
     },
     "execution_count": 200,
     "metadata": {},
     "output_type": "execute_result"
    }
   ],
   "source": [
    "show(Reconstructed_df_3)"
   ]
  },
  {
   "cell_type": "code",
   "execution_count": 202,
   "metadata": {},
   "outputs": [],
   "source": [
    "# Setting up the figure\n",
    "plt.figure(figsize=(24, 12))\n",
    "\n",
    "# Histogram for 'eta' direction\n",
    "plt.subplot(1, 2, 1)  # 1 row, 2 columns, 1st subplot\n",
    "eta_chi2 = Cross_condition_df[Cross_condition_df['Direction'] == 'eta']['chi2 norm']\n",
    "plt.hist(eta_chi2, bins=60, color='green', alpha=0.7)\n",
    "plt.title('Chi2 Eta at least 3 three chamber Atlas ON')\n",
    "plt.xlabel('Chi2 Values')\n",
    "plt.ylabel('Number')\n",
    "\n",
    "plt.grid(True)\n",
    "\n",
    "# Histogram for 'phi' direction\n",
    "plt.subplot(1, 2, 2)  # 1 row, 2 columns, 2nd subplot\n",
    "phi_chi2 = Cross_condition_df[Cross_condition_df['Direction'] == 'phi']['chi2 norm']\n",
    "plt.hist(phi_chi2, bins=60, color='red', alpha=0.7)\n",
    "plt.title('Chi2 Phi at least 3 three chamber Atlas ON')\n",
    "plt.xlabel('Chi2 Values')\n",
    "plt.ylabel('Number')\n",
    "\n",
    "plt.grid(True)\n",
    "\n",
    "# Display the plots\n",
    "plt.tight_layout()\n",
    "plt.show()"
   ]
  },
  {
   "cell_type": "code",
   "execution_count": 201,
   "metadata": {},
   "outputs": [],
   "source": [
    "# Setting up the figure\n",
    "plt.figure(figsize=(24, 12))\n",
    "\n",
    "# Histogram for 'eta' direction\n",
    "plt.subplot(1, 2, 1)  # 1 row, 2 columns, 1st subplot\n",
    "eta_chi2 = Reconstructed_df_3[Reconstructed_df_3['Direction'] == 'eta']['chi2 norm']\n",
    "plt.hist(eta_chi2, bins=60, color='green', alpha=0.7)\n",
    "plt.title('Chi2 Eta at least 3 three chamber Atlas ON')\n",
    "plt.xlabel('Chi2 Values')\n",
    "plt.ylabel('Number')\n",
    "\n",
    "plt.grid(True)\n",
    "\n",
    "# Histogram for 'phi' direction\n",
    "plt.subplot(1, 2, 2)  # 1 row, 2 columns, 2nd subplot\n",
    "phi_chi2 = Reconstructed_df_3[Reconstructed_df_3['Direction'] == 'phi']['chi2 norm']\n",
    "plt.hist(phi_chi2, bins=60, color='red', alpha=0.7)\n",
    "plt.title('Chi2 Phi at least 3 three chamber Atlas ON')\n",
    "plt.xlabel('Chi2 Values')\n",
    "plt.ylabel('Number')\n",
    "\n",
    "plt.grid(True)\n",
    "\n",
    "# Display the plots\n",
    "plt.tight_layout()\n",
    "plt.show()"
   ]
  },
  {
   "cell_type": "code",
   "execution_count": 87,
   "metadata": {},
   "outputs": [],
   "source": [
    "Reconstructed_df_6 = Reconstructed_df_6.groupby(['Event Number', 'Direction'], group_keys=False) \\\n",
    "              .apply(lambda x: x if len(x) == 1 else x.sort_values('RSS').iloc[:-1]) \\\n",
    "              .groupby(['Event Number', 'Direction'], as_index=False) \\\n",
    "              .apply(lambda x: x.nsmallest(1, 'RSS')) \\\n",
    "              .reset_index(drop=True)"
   ]
  },
  {
   "cell_type": "code",
   "execution_count": 23,
   "metadata": {},
   "outputs": [
    {
     "name": "stdout",
     "output_type": "stream",
     "text": [
      "<class 'pandas.core.frame.DataFrame'>\n",
      "RangeIndex: 964 entries, 0 to 963\n",
      "Data columns (total 8 columns):\n",
      " #   Column            Non-Null Count  Dtype  \n",
      "---  ------            --------------  -----  \n",
      " 0   Event Number      964 non-null    int64  \n",
      " 1   Direction         964 non-null    object \n",
      " 2   Slope             964 non-null    float64\n",
      " 3   Intercept         964 non-null    float64\n",
      " 4   Slope_error       964 non-null    int64  \n",
      " 5   Intercept_error   964 non-null    int64  \n",
      " 6   Used Coordinates  964 non-null    object \n",
      " 7   RSS               964 non-null    float64\n",
      "dtypes: float64(3), int64(3), object(2)\n",
      "memory usage: 60.4+ KB\n",
      "None\n"
     ]
    }
   ],
   "source": [
    "print(Reconstructed_df_6.info())"
   ]
  },
  {
   "cell_type": "code",
   "execution_count": 59,
   "metadata": {},
   "outputs": [
    {
     "name": "stdout",
     "output_type": "stream",
     "text": [
      "4\n"
     ]
    }
   ],
   "source": [
    "print(len([1,2,3,4]))"
   ]
  },
  {
   "cell_type": "code",
   "execution_count": 22,
   "metadata": {},
   "outputs": [
    {
     "name": "stderr",
     "output_type": "stream",
     "text": [
      "PandasGUI INFO — pandasgui.gui — Opening PandasGUI\n",
      "INFO:pandasgui.gui:Opening PandasGUI\n"
     ]
    },
    {
     "data": {
      "text/plain": [
       "<pandasgui.gui.PandasGui at 0x21781ea97e0>"
      ]
     },
     "execution_count": 22,
     "metadata": {},
     "output_type": "execute_result"
    }
   ],
   "source": [
    "show(Reconstructed_df_6)"
   ]
  },
  {
   "cell_type": "code",
   "execution_count": 49,
   "metadata": {},
   "outputs": [],
   "source": [
    "var_eta =  ( 1 * 3.09375) ** 2 / 12\n",
    "var_phi = ( 1 * 2.8125) ** 2 / 12\n",
    "rpc_heights = {\n",
    "    'rpc0': 0, \n",
    "    'rpc1': 0.5, \n",
    "    'rpc2': 1.0, \n",
    "    'rpc3': 61.5, \n",
    "    'rpc4': 121.5, \n",
    "    'rpc5': 122.0\n",
    "}"
   ]
  },
  {
   "cell_type": "code",
   "execution_count": 109,
   "metadata": {},
   "outputs": [],
   "source": [
    "# Constants for scaling heights (since y values, which are heights, now determine x)\n",
    "scale_eta = 3.09375\n",
    "scale_phi = 2.8125\n",
    "\n",
    "# Function to parse used coordinates, scale y based on direction and extract x values as dependent variables\n",
    "def parse_and_scale_coordinates(used_coords, direction):\n",
    "    if isinstance(used_coords, str):\n",
    "        coords = ast.literal_eval(used_coords)\n",
    "    else:\n",
    "        coords = used_coords\n",
    "    \n",
    "    # Determine the scale factor based on the direction\n",
    "    scale_factor = scale_eta if direction == 'eta' else scale_phi\n",
    "\n",
    "    # Extract x and y values, scale y values\n",
    "    y_vals = [rpc_heights[coord[0]] for coord in coords]\n",
    "    x_vals = [coord[1] * scale_factor for coord in coords]\n",
    "    return np.array(x_vals), np.array(y_vals)\n",
    "\n",
    "# Apply the parsing and scaling function to each row based on direction\n",
    "Reconstructed_df_6[['x', 'y']] = Reconstructed_df_6.apply(\n",
    "    lambda row: pd.Series(parse_and_scale_coordinates(row['Used Coordinates'], row['Direction']), index=['x', 'y']),\n",
    "    axis=1\n",
    ")\n",
    "\n",
    "# Function to calculate chi-squared\n",
    "def calculate_chi_squared(row):\n",
    "    x = np.array(row['x'])\n",
    "    y = np.array(row['y'])\n",
    "    a = row['Slope']\n",
    "    b = row['Intercept']\n",
    "    x_pred = a * y + b  # New model\n",
    "\n",
    "    # Determine variance based on direction\n",
    "    if row['Direction'] == 'eta':\n",
    "        sigma_squared = var_eta\n",
    "    elif row['Direction'] == 'phi':\n",
    "        sigma_squared = var_phi\n",
    "    else:\n",
    "        sigma_squared = 1  # Default case, adjust as necessary\n",
    "\n",
    "    chi_squared = np.sum(((x - x_pred) ** 2) / sigma_squared)\n",
    "    chi_squared_norm = chi_squared / (row['Number_of_Rpcs'] - 2)\n",
    "    return chi_squared_norm\n",
    "\n",
    "# Apply chi-squared calculation to each row\n",
    "Reconstructed_df_6['Chi2'] = Reconstructed_df_6.apply(calculate_chi_squared, axis=1)\n"
   ]
  },
  {
   "cell_type": "code",
   "execution_count": 110,
   "metadata": {},
   "outputs": [
    {
     "name": "stderr",
     "output_type": "stream",
     "text": [
      "PandasGUI INFO — pandasgui.gui — Opening PandasGUI\n",
      "INFO:pandasgui.gui:Opening PandasGUI\n"
     ]
    },
    {
     "data": {
      "text/plain": [
       "<pandasgui.gui.PandasGui at 0x2310c8a3490>"
      ]
     },
     "execution_count": 110,
     "metadata": {},
     "output_type": "execute_result"
    }
   ],
   "source": [
    "show(Reconstructed_df_6)"
   ]
  },
  {
   "cell_type": "code",
   "execution_count": 219,
   "metadata": {},
   "outputs": [
    {
     "ename": "KeyError",
     "evalue": "'Chi2'",
     "output_type": "error",
     "traceback": [
      "\u001b[1;31m---------------------------------------------------------------------------\u001b[0m",
      "\u001b[1;31mKeyError\u001b[0m                                  Traceback (most recent call last)",
      "File \u001b[1;32mc:\\Users\\Peter\\OneDrive - University of Cambridge\\Desktop\\Project Excel Work\\PartIIIRPC\\.venv\\lib\\site-packages\\pandas\\core\\indexes\\base.py:3802\u001b[0m, in \u001b[0;36mIndex.get_loc\u001b[1;34m(self, key, method, tolerance)\u001b[0m\n\u001b[0;32m   3801\u001b[0m \u001b[38;5;28;01mtry\u001b[39;00m:\n\u001b[1;32m-> 3802\u001b[0m     \u001b[38;5;28;01mreturn\u001b[39;00m \u001b[38;5;28;43mself\u001b[39;49m\u001b[38;5;241;43m.\u001b[39;49m\u001b[43m_engine\u001b[49m\u001b[38;5;241;43m.\u001b[39;49m\u001b[43mget_loc\u001b[49m\u001b[43m(\u001b[49m\u001b[43mcasted_key\u001b[49m\u001b[43m)\u001b[49m\n\u001b[0;32m   3803\u001b[0m \u001b[38;5;28;01mexcept\u001b[39;00m \u001b[38;5;167;01mKeyError\u001b[39;00m \u001b[38;5;28;01mas\u001b[39;00m err:\n",
      "File \u001b[1;32mc:\\Users\\Peter\\OneDrive - University of Cambridge\\Desktop\\Project Excel Work\\PartIIIRPC\\.venv\\lib\\site-packages\\pandas\\_libs\\index.pyx:138\u001b[0m, in \u001b[0;36mpandas._libs.index.IndexEngine.get_loc\u001b[1;34m()\u001b[0m\n",
      "File \u001b[1;32mc:\\Users\\Peter\\OneDrive - University of Cambridge\\Desktop\\Project Excel Work\\PartIIIRPC\\.venv\\lib\\site-packages\\pandas\\_libs\\index.pyx:165\u001b[0m, in \u001b[0;36mpandas._libs.index.IndexEngine.get_loc\u001b[1;34m()\u001b[0m\n",
      "File \u001b[1;32mpandas\\_libs\\hashtable_class_helper.pxi:5745\u001b[0m, in \u001b[0;36mpandas._libs.hashtable.PyObjectHashTable.get_item\u001b[1;34m()\u001b[0m\n",
      "File \u001b[1;32mpandas\\_libs\\hashtable_class_helper.pxi:5753\u001b[0m, in \u001b[0;36mpandas._libs.hashtable.PyObjectHashTable.get_item\u001b[1;34m()\u001b[0m\n",
      "\u001b[1;31mKeyError\u001b[0m: 'Chi2'",
      "\nThe above exception was the direct cause of the following exception:\n",
      "\u001b[1;31mKeyError\u001b[0m                                  Traceback (most recent call last)",
      "Cell \u001b[1;32mIn[219], line 6\u001b[0m\n\u001b[0;32m      4\u001b[0m \u001b[38;5;66;03m# Histogram for 'eta' direction\u001b[39;00m\n\u001b[0;32m      5\u001b[0m plt\u001b[38;5;241m.\u001b[39msubplot(\u001b[38;5;241m1\u001b[39m, \u001b[38;5;241m2\u001b[39m, \u001b[38;5;241m1\u001b[39m)  \u001b[38;5;66;03m# 1 row, 2 columns, 1st subplot\u001b[39;00m\n\u001b[1;32m----> 6\u001b[0m eta_chi2 \u001b[38;5;241m=\u001b[39m \u001b[43mReconstructed_df_6\u001b[49m\u001b[43m[\u001b[49m\u001b[43mReconstructed_df_6\u001b[49m\u001b[43m[\u001b[49m\u001b[38;5;124;43m'\u001b[39;49m\u001b[38;5;124;43mDirection\u001b[39;49m\u001b[38;5;124;43m'\u001b[39;49m\u001b[43m]\u001b[49m\u001b[43m \u001b[49m\u001b[38;5;241;43m==\u001b[39;49m\u001b[43m \u001b[49m\u001b[38;5;124;43m'\u001b[39;49m\u001b[38;5;124;43meta\u001b[39;49m\u001b[38;5;124;43m'\u001b[39;49m\u001b[43m]\u001b[49m\u001b[43m[\u001b[49m\u001b[38;5;124;43m'\u001b[39;49m\u001b[38;5;124;43mChi2\u001b[39;49m\u001b[38;5;124;43m'\u001b[39;49m\u001b[43m]\u001b[49m\n\u001b[0;32m      7\u001b[0m plt\u001b[38;5;241m.\u001b[39mhist(eta_chi2, bins\u001b[38;5;241m=\u001b[39m\u001b[38;5;241m60\u001b[39m, color\u001b[38;5;241m=\u001b[39m\u001b[38;5;124m'\u001b[39m\u001b[38;5;124mgreen\u001b[39m\u001b[38;5;124m'\u001b[39m, alpha\u001b[38;5;241m=\u001b[39m\u001b[38;5;241m0.7\u001b[39m)\n\u001b[0;32m      8\u001b[0m plt\u001b[38;5;241m.\u001b[39mtitle(\u001b[38;5;124m'\u001b[39m\u001b[38;5;124mChi2 Eta all 6 Atlas Luminous\u001b[39m\u001b[38;5;124m'\u001b[39m)\n",
      "File \u001b[1;32mc:\\Users\\Peter\\OneDrive - University of Cambridge\\Desktop\\Project Excel Work\\PartIIIRPC\\.venv\\lib\\site-packages\\pandas\\core\\frame.py:3807\u001b[0m, in \u001b[0;36mDataFrame.__getitem__\u001b[1;34m(self, key)\u001b[0m\n\u001b[0;32m   3805\u001b[0m \u001b[38;5;28;01mif\u001b[39;00m \u001b[38;5;28mself\u001b[39m\u001b[38;5;241m.\u001b[39mcolumns\u001b[38;5;241m.\u001b[39mnlevels \u001b[38;5;241m>\u001b[39m \u001b[38;5;241m1\u001b[39m:\n\u001b[0;32m   3806\u001b[0m     \u001b[38;5;28;01mreturn\u001b[39;00m \u001b[38;5;28mself\u001b[39m\u001b[38;5;241m.\u001b[39m_getitem_multilevel(key)\n\u001b[1;32m-> 3807\u001b[0m indexer \u001b[38;5;241m=\u001b[39m \u001b[38;5;28;43mself\u001b[39;49m\u001b[38;5;241;43m.\u001b[39;49m\u001b[43mcolumns\u001b[49m\u001b[38;5;241;43m.\u001b[39;49m\u001b[43mget_loc\u001b[49m\u001b[43m(\u001b[49m\u001b[43mkey\u001b[49m\u001b[43m)\u001b[49m\n\u001b[0;32m   3808\u001b[0m \u001b[38;5;28;01mif\u001b[39;00m is_integer(indexer):\n\u001b[0;32m   3809\u001b[0m     indexer \u001b[38;5;241m=\u001b[39m [indexer]\n",
      "File \u001b[1;32mc:\\Users\\Peter\\OneDrive - University of Cambridge\\Desktop\\Project Excel Work\\PartIIIRPC\\.venv\\lib\\site-packages\\pandas\\core\\indexes\\base.py:3804\u001b[0m, in \u001b[0;36mIndex.get_loc\u001b[1;34m(self, key, method, tolerance)\u001b[0m\n\u001b[0;32m   3802\u001b[0m     \u001b[38;5;28;01mreturn\u001b[39;00m \u001b[38;5;28mself\u001b[39m\u001b[38;5;241m.\u001b[39m_engine\u001b[38;5;241m.\u001b[39mget_loc(casted_key)\n\u001b[0;32m   3803\u001b[0m \u001b[38;5;28;01mexcept\u001b[39;00m \u001b[38;5;167;01mKeyError\u001b[39;00m \u001b[38;5;28;01mas\u001b[39;00m err:\n\u001b[1;32m-> 3804\u001b[0m     \u001b[38;5;28;01mraise\u001b[39;00m \u001b[38;5;167;01mKeyError\u001b[39;00m(key) \u001b[38;5;28;01mfrom\u001b[39;00m \u001b[38;5;21;01merr\u001b[39;00m\n\u001b[0;32m   3805\u001b[0m \u001b[38;5;28;01mexcept\u001b[39;00m \u001b[38;5;167;01mTypeError\u001b[39;00m:\n\u001b[0;32m   3806\u001b[0m     \u001b[38;5;66;03m# If we have a listlike key, _check_indexing_error will raise\u001b[39;00m\n\u001b[0;32m   3807\u001b[0m     \u001b[38;5;66;03m#  InvalidIndexError. Otherwise we fall through and re-raise\u001b[39;00m\n\u001b[0;32m   3808\u001b[0m     \u001b[38;5;66;03m#  the TypeError.\u001b[39;00m\n\u001b[0;32m   3809\u001b[0m     \u001b[38;5;28mself\u001b[39m\u001b[38;5;241m.\u001b[39m_check_indexing_error(key)\n",
      "\u001b[1;31mKeyError\u001b[0m: 'Chi2'"
     ]
    }
   ],
   "source": [
    "# Setting up the figure\n",
    "plt.figure(figsize=(24, 12))\n",
    "\n",
    "# Histogram for 'eta' direction\n",
    "plt.subplot(1, 2, 1)  # 1 row, 2 columns, 1st subplot\n",
    "eta_chi2 = Reconstructed_df_6[Reconstructed_df_6['Direction'] == 'eta']['Chi2']\n",
    "plt.hist(eta_chi2, bins=60, color='green', alpha=0.7)\n",
    "plt.title('Chi2 Eta all 6 Atlas Luminous')\n",
    "plt.xlabel('Chi2 Values')\n",
    "plt.ylabel('Number')\n",
    "plt.grid(True)\n",
    "\n",
    "# Histogram for 'phi' direction\n",
    "plt.subplot(1, 2, 2)  # 1 row, 2 columns, 2nd subplot\n",
    "phi_chi2 = Reconstructed_df_6[Reconstructed_df_6['Direction'] == 'phi']['Chi2']\n",
    "plt.hist(phi_chi2, bins=60, color='red', alpha=0.7)\n",
    "plt.title('Chi2 phi all 6 Atlas Luminous')\n",
    "plt.xlabel('Chi2 Values')\n",
    "plt.ylabel('Number')\n",
    "plt.grid(True)\n",
    "\n",
    "# Display the plots\n",
    "plt.tight_layout()\n",
    "plt.show()\n"
   ]
  },
  {
   "cell_type": "code",
   "execution_count": 218,
   "metadata": {},
   "outputs": [
    {
     "ename": "KeyError",
     "evalue": "'Chi2'",
     "output_type": "error",
     "traceback": [
      "\u001b[1;31m---------------------------------------------------------------------------\u001b[0m",
      "\u001b[1;31mKeyError\u001b[0m                                  Traceback (most recent call last)",
      "File \u001b[1;32mc:\\Users\\Peter\\OneDrive - University of Cambridge\\Desktop\\Project Excel Work\\PartIIIRPC\\.venv\\lib\\site-packages\\pandas\\core\\indexes\\base.py:3802\u001b[0m, in \u001b[0;36mIndex.get_loc\u001b[1;34m(self, key, method, tolerance)\u001b[0m\n\u001b[0;32m   3801\u001b[0m \u001b[38;5;28;01mtry\u001b[39;00m:\n\u001b[1;32m-> 3802\u001b[0m     \u001b[38;5;28;01mreturn\u001b[39;00m \u001b[38;5;28;43mself\u001b[39;49m\u001b[38;5;241;43m.\u001b[39;49m\u001b[43m_engine\u001b[49m\u001b[38;5;241;43m.\u001b[39;49m\u001b[43mget_loc\u001b[49m\u001b[43m(\u001b[49m\u001b[43mcasted_key\u001b[49m\u001b[43m)\u001b[49m\n\u001b[0;32m   3803\u001b[0m \u001b[38;5;28;01mexcept\u001b[39;00m \u001b[38;5;167;01mKeyError\u001b[39;00m \u001b[38;5;28;01mas\u001b[39;00m err:\n",
      "File \u001b[1;32mc:\\Users\\Peter\\OneDrive - University of Cambridge\\Desktop\\Project Excel Work\\PartIIIRPC\\.venv\\lib\\site-packages\\pandas\\_libs\\index.pyx:138\u001b[0m, in \u001b[0;36mpandas._libs.index.IndexEngine.get_loc\u001b[1;34m()\u001b[0m\n",
      "File \u001b[1;32mc:\\Users\\Peter\\OneDrive - University of Cambridge\\Desktop\\Project Excel Work\\PartIIIRPC\\.venv\\lib\\site-packages\\pandas\\_libs\\index.pyx:165\u001b[0m, in \u001b[0;36mpandas._libs.index.IndexEngine.get_loc\u001b[1;34m()\u001b[0m\n",
      "File \u001b[1;32mpandas\\_libs\\hashtable_class_helper.pxi:5745\u001b[0m, in \u001b[0;36mpandas._libs.hashtable.PyObjectHashTable.get_item\u001b[1;34m()\u001b[0m\n",
      "File \u001b[1;32mpandas\\_libs\\hashtable_class_helper.pxi:5753\u001b[0m, in \u001b[0;36mpandas._libs.hashtable.PyObjectHashTable.get_item\u001b[1;34m()\u001b[0m\n",
      "\u001b[1;31mKeyError\u001b[0m: 'Chi2'",
      "\nThe above exception was the direct cause of the following exception:\n",
      "\u001b[1;31mKeyError\u001b[0m                                  Traceback (most recent call last)",
      "Cell \u001b[1;32mIn[218], line 6\u001b[0m\n\u001b[0;32m      4\u001b[0m \u001b[38;5;66;03m# Histogram for 'eta' direction\u001b[39;00m\n\u001b[0;32m      5\u001b[0m plt\u001b[38;5;241m.\u001b[39msubplot(\u001b[38;5;241m1\u001b[39m, \u001b[38;5;241m2\u001b[39m, \u001b[38;5;241m1\u001b[39m)  \u001b[38;5;66;03m# 1 row, 2 columns, 1st subplot\u001b[39;00m\n\u001b[1;32m----> 6\u001b[0m eta_chi2 \u001b[38;5;241m=\u001b[39m \u001b[43mrefined_df\u001b[49m\u001b[43m[\u001b[49m\u001b[43mrefined_df\u001b[49m\u001b[43m[\u001b[49m\u001b[38;5;124;43m'\u001b[39;49m\u001b[38;5;124;43mDirection\u001b[39;49m\u001b[38;5;124;43m'\u001b[39;49m\u001b[43m]\u001b[49m\u001b[43m \u001b[49m\u001b[38;5;241;43m==\u001b[39;49m\u001b[43m \u001b[49m\u001b[38;5;124;43m'\u001b[39;49m\u001b[38;5;124;43meta\u001b[39;49m\u001b[38;5;124;43m'\u001b[39;49m\u001b[43m]\u001b[49m\u001b[43m[\u001b[49m\u001b[38;5;124;43m'\u001b[39;49m\u001b[38;5;124;43mChi2\u001b[39;49m\u001b[38;5;124;43m'\u001b[39;49m\u001b[43m]\u001b[49m\n\u001b[0;32m      7\u001b[0m plt\u001b[38;5;241m.\u001b[39mhist(eta_chi2, bins\u001b[38;5;241m=\u001b[39m\u001b[38;5;241m60\u001b[39m, color\u001b[38;5;241m=\u001b[39m\u001b[38;5;124m'\u001b[39m\u001b[38;5;124mgreen\u001b[39m\u001b[38;5;124m'\u001b[39m, alpha\u001b[38;5;241m=\u001b[39m\u001b[38;5;241m0.7\u001b[39m)\n\u001b[0;32m      8\u001b[0m plt\u001b[38;5;241m.\u001b[39mtitle(\u001b[38;5;124m'\u001b[39m\u001b[38;5;124mChi2 Eta all 6 Atlas Luminous\u001b[39m\u001b[38;5;124m'\u001b[39m)\n",
      "File \u001b[1;32mc:\\Users\\Peter\\OneDrive - University of Cambridge\\Desktop\\Project Excel Work\\PartIIIRPC\\.venv\\lib\\site-packages\\pandas\\core\\frame.py:3807\u001b[0m, in \u001b[0;36mDataFrame.__getitem__\u001b[1;34m(self, key)\u001b[0m\n\u001b[0;32m   3805\u001b[0m \u001b[38;5;28;01mif\u001b[39;00m \u001b[38;5;28mself\u001b[39m\u001b[38;5;241m.\u001b[39mcolumns\u001b[38;5;241m.\u001b[39mnlevels \u001b[38;5;241m>\u001b[39m \u001b[38;5;241m1\u001b[39m:\n\u001b[0;32m   3806\u001b[0m     \u001b[38;5;28;01mreturn\u001b[39;00m \u001b[38;5;28mself\u001b[39m\u001b[38;5;241m.\u001b[39m_getitem_multilevel(key)\n\u001b[1;32m-> 3807\u001b[0m indexer \u001b[38;5;241m=\u001b[39m \u001b[38;5;28;43mself\u001b[39;49m\u001b[38;5;241;43m.\u001b[39;49m\u001b[43mcolumns\u001b[49m\u001b[38;5;241;43m.\u001b[39;49m\u001b[43mget_loc\u001b[49m\u001b[43m(\u001b[49m\u001b[43mkey\u001b[49m\u001b[43m)\u001b[49m\n\u001b[0;32m   3808\u001b[0m \u001b[38;5;28;01mif\u001b[39;00m is_integer(indexer):\n\u001b[0;32m   3809\u001b[0m     indexer \u001b[38;5;241m=\u001b[39m [indexer]\n",
      "File \u001b[1;32mc:\\Users\\Peter\\OneDrive - University of Cambridge\\Desktop\\Project Excel Work\\PartIIIRPC\\.venv\\lib\\site-packages\\pandas\\core\\indexes\\base.py:3804\u001b[0m, in \u001b[0;36mIndex.get_loc\u001b[1;34m(self, key, method, tolerance)\u001b[0m\n\u001b[0;32m   3802\u001b[0m     \u001b[38;5;28;01mreturn\u001b[39;00m \u001b[38;5;28mself\u001b[39m\u001b[38;5;241m.\u001b[39m_engine\u001b[38;5;241m.\u001b[39mget_loc(casted_key)\n\u001b[0;32m   3803\u001b[0m \u001b[38;5;28;01mexcept\u001b[39;00m \u001b[38;5;167;01mKeyError\u001b[39;00m \u001b[38;5;28;01mas\u001b[39;00m err:\n\u001b[1;32m-> 3804\u001b[0m     \u001b[38;5;28;01mraise\u001b[39;00m \u001b[38;5;167;01mKeyError\u001b[39;00m(key) \u001b[38;5;28;01mfrom\u001b[39;00m \u001b[38;5;21;01merr\u001b[39;00m\n\u001b[0;32m   3805\u001b[0m \u001b[38;5;28;01mexcept\u001b[39;00m \u001b[38;5;167;01mTypeError\u001b[39;00m:\n\u001b[0;32m   3806\u001b[0m     \u001b[38;5;66;03m# If we have a listlike key, _check_indexing_error will raise\u001b[39;00m\n\u001b[0;32m   3807\u001b[0m     \u001b[38;5;66;03m#  InvalidIndexError. Otherwise we fall through and re-raise\u001b[39;00m\n\u001b[0;32m   3808\u001b[0m     \u001b[38;5;66;03m#  the TypeError.\u001b[39;00m\n\u001b[0;32m   3809\u001b[0m     \u001b[38;5;28mself\u001b[39m\u001b[38;5;241m.\u001b[39m_check_indexing_error(key)\n",
      "\u001b[1;31mKeyError\u001b[0m: 'Chi2'"
     ]
    }
   ],
   "source": [
    "\n",
    "# Setting up the figure\n",
    "plt.figure(figsize=(24, 12))\n",
    "\n",
    "# Histogram for 'eta' direction\n",
    "plt.subplot(1, 2, 1)  # 1 row, 2 columns, 1st subplot\n",
    "eta_chi2 = refined_df[refined_df['Direction'] == 'eta']['Chi2']\n",
    "plt.hist(eta_chi2, bins=60, color='green', alpha=0.7)\n",
    "plt.title('Chi2 Eta all 6 Atlas Luminous')\n",
    "plt.xlabel('Chi2 Values')\n",
    "plt.ylabel('Number')\n",
    "plt.grid(True)\n",
    "\n",
    "# Histogram for 'phi' direction\n",
    "plt.subplot(1, 2, 2)  # 1 row, 2 columns, 2nd subplot\n",
    "phi_chi2 = refined_df[refined_df['Direction'] == 'phi']['Chi2']\n",
    "plt.hist(phi_chi2, bins=60, color='red', alpha=0.7)\n",
    "plt.title('Chi2 phi all 6 Atlas Luminous')\n",
    "plt.xlabel('Chi2 Values')\n",
    "plt.ylabel('Number')\n",
    "plt.grid(True)\n",
    "\n",
    "# Display the plots\n",
    "plt.tight_layout()\n",
    "plt.show()\n"
   ]
  },
  {
   "cell_type": "code",
   "execution_count": 128,
   "metadata": {},
   "outputs": [],
   "source": [
    "df_no_rpc0 = fully_massaged_df[fully_massaged_df['rpc_number'] != 'rpc0']\n",
    "df_no_rpc1 = fully_massaged_df[fully_massaged_df['rpc_number'] != 'rpc1']\n",
    "df_no_rpc2 = fully_massaged_df[fully_massaged_df['rpc_number'] != 'rpc2']\n",
    "df_no_rpc3 = fully_massaged_df[fully_massaged_df['rpc_number'] != 'rpc3']\n",
    "df_no_rpc4 = fully_massaged_df[fully_massaged_df['rpc_number'] != 'rpc4']\n",
    "df_no_rpc5 = fully_massaged_df[fully_massaged_df['rpc_number'] != 'rpc5']\n"
   ]
  },
  {
   "cell_type": "code",
   "execution_count": null,
   "metadata": {},
   "outputs": [
    {
     "name": "stderr",
     "output_type": "stream",
     "text": [
      "Processing Events: 100%|██████████| 86945/86945 [01:11<00:00, 1213.18it/s]\n",
      "Processing Events: 100%|██████████| 91722/91722 [02:24<00:00, 636.83it/s] \n",
      "Processing Events: 100%|██████████| 92067/92067 [01:21<00:00, 1126.55it/s]\n",
      "Processing Events: 100%|██████████| 89822/89822 [01:03<00:00, 1420.41it/s]\n",
      "Processing Events: 100%|██████████| 92721/92721 [01:16<00:00, 1210.25it/s]\n",
      "Processing Events: 100%|██████████| 92919/92919 [01:17<00:00, 1196.73it/s]\n"
     ]
    }
   ],
   "source": [
    "df_recon_no_rpc0_4 = analyze_inter_rpc_hit_with_timing_adjusted(df_no_rpc0, 5)\n",
    "df_recon_no_rpc1_4 = analyze_inter_rpc_hit_with_timing_adjusted(df_no_rpc1, 5)\n",
    "df_recon_no_rpc2_4 = analyze_inter_rpc_hit_with_timing_adjusted(df_no_rpc2, 5)\n",
    "df_recon_no_rpc3_4 = analyze_inter_rpc_hit_with_timing_adjusted(df_no_rpc3, 5)\n",
    "df_recon_no_rpc4_4 = analyze_inter_rpc_hit_with_timing_adjusted(df_no_rpc4, 5)\n",
    "df_recon_no_rpc5_4 = analyze_inter_rpc_hit_with_timing_adjusted(df_no_rpc5, 5)"
   ]
  },
  {
   "cell_type": "code",
   "execution_count": null,
   "metadata": {},
   "outputs": [],
   "source": [
    "df_recon_no_rpc0_4.to_excel('df_recon_no_rpc0_5_AtlasOFF.xlsx')\n",
    "df_recon_no_rpc1_4.to_excel('df_recon_no_rpc1_5_AtlasOFF.xlsx')\n",
    "df_recon_no_rpc2_4.to_excel('df_recon_no_rpc2_5_AtlasOFF.xlsx')\n",
    "df_recon_no_rpc3_4.to_excel('df_recon_no_rpc3_5_AtlasOFF.xlsx')\n",
    "df_recon_no_rpc4_4.to_excel('df_recon_no_rpc4_5_AtlasOFF.xlsx')\n",
    "df_recon_no_rpc5_4.to_excel('df_recon_no_rpc5_5_AtlasOFF.xlsx')"
   ]
  },
  {
   "cell_type": "code",
   "execution_count": 129,
   "metadata": {},
   "outputs": [],
   "source": [
    "df_recon_no_rpc0_4 = pd.read_excel('df_recon_no_rpc0_5_AtlasON.xlsx')\n",
    "df_recon_no_rpc1_4 = pd.read_excel('df_recon_no_rpc1_5_AtlasON.xlsx')\n",
    "df_recon_no_rpc2_4 = pd.read_excel('df_recon_no_rpc2_5_AtlasON.xlsx')\n",
    "df_recon_no_rpc3_4 = pd.read_excel('df_recon_no_rpc3_5_AtlasON.xlsx')\n",
    "df_recon_no_rpc4_4 = pd.read_excel('df_recon_no_rpc4_5_AtlasON.xlsx')\n",
    "df_recon_no_rpc5_4 = pd.read_excel('df_recon_no_rpc5_5_AtlasON.xlsx')"
   ]
  },
  {
   "cell_type": "code",
   "execution_count": 129,
   "metadata": {},
   "outputs": [
    {
     "name": "stdout",
     "output_type": "stream",
     "text": [
      "<class 'pandas.core.frame.DataFrame'>\n",
      "RangeIndex: 1253 entries, 0 to 1252\n",
      "Data columns (total 8 columns):\n",
      " #   Column            Non-Null Count  Dtype  \n",
      "---  ------            --------------  -----  \n",
      " 0   Event Number      1253 non-null   int64  \n",
      " 1   Direction         1253 non-null   object \n",
      " 2   Slope             1253 non-null   float64\n",
      " 3   Intercept         1253 non-null   float64\n",
      " 4   Slope_error       1253 non-null   int64  \n",
      " 5   Intercept_error   1253 non-null   int64  \n",
      " 6   Used Coordinates  1253 non-null   object \n",
      " 7   RSS               1253 non-null   float64\n",
      "dtypes: float64(3), int64(3), object(2)\n",
      "memory usage: 78.4+ KB\n",
      "None\n"
     ]
    }
   ],
   "source": [
    "print(df_recon_no_rpc0_4.info())"
   ]
  },
  {
   "cell_type": "code",
   "execution_count": 75,
   "metadata": {},
   "outputs": [
    {
     "name": "stderr",
     "output_type": "stream",
     "text": [
      "PandasGUI INFO — pandasgui.gui — Opening PandasGUI\n",
      "INFO:pandasgui.gui:Opening PandasGUI\n"
     ]
    },
    {
     "data": {
      "text/plain": [
       "<pandasgui.gui.PandasGui at 0x189f541edd0>"
      ]
     },
     "execution_count": 75,
     "metadata": {},
     "output_type": "execute_result"
    }
   ],
   "source": [
    "show(df_recon_no_rpc0_4.sort_values('Event Number'))"
   ]
  },
  {
   "cell_type": "code",
   "execution_count": 130,
   "metadata": {},
   "outputs": [],
   "source": [
    "df_recon_no_rpc0_4_filtered = df_recon_no_rpc0_4.groupby(['Event Number', 'Direction'], group_keys=False) \\\n",
    "              .apply(lambda x: x if len(x) == 1 else x.sort_values('RSS').iloc[:-1]) \\\n",
    "              .groupby(['Event Number', 'Direction'], as_index=False) \\\n",
    "              .apply(lambda x: x.nsmallest(1, 'RSS')) \\\n",
    "              .reset_index(drop=True)\n",
    "              \n",
    "df_recon_no_rpc1_4_filtered = df_recon_no_rpc1_4.groupby(['Event Number', 'Direction'], as_index=False, group_keys=False) \\\n",
    "              .apply(lambda x: x if len(x) == 1 else x.sort_values('RSS').iloc[:-1]) \\\n",
    "              .groupby(['Event Number', 'Direction'], as_index=False) \\\n",
    "              .apply(lambda x: x.nsmallest(1, 'RSS')) \\\n",
    "                                .reset_index(drop=True)\n",
    "df_recon_no_rpc2_4_filtered = df_recon_no_rpc2_4.groupby(['Event Number', 'Direction'], as_index=False, group_keys=False) \\\n",
    "              .apply(lambda x: x if len(x) == 1 else x.sort_values('RSS').iloc[:-1]) \\\n",
    "              .groupby(['Event Number', 'Direction'], as_index=False) \\\n",
    "              .apply(lambda x: x.nsmallest(1, 'RSS'))\\\n",
    "                                .reset_index(drop=True)\n",
    "              \n",
    "df_recon_no_rpc3_4_filtered = df_recon_no_rpc3_4.groupby(['Event Number', 'Direction'], as_index=False, group_keys=False) \\\n",
    "              .apply(lambda x: x if len(x) == 1 else x.sort_values('RSS').iloc[:-1]) \\\n",
    "              .groupby(['Event Number', 'Direction'], as_index=False) \\\n",
    "              .apply(lambda x: x.nsmallest(1, 'RSS'))\\\n",
    "                                .reset_index(drop=True)\n",
    "df_recon_no_rpc4_4_filtered = df_recon_no_rpc4_4.groupby(['Event Number', 'Direction'], as_index=False, group_keys=False) \\\n",
    "              .apply(lambda x: x if len(x) == 1 else x.sort_values('RSS').iloc[:-1]) \\\n",
    "              .groupby(['Event Number', 'Direction'], as_index=False) \\\n",
    "              .apply(lambda x: x.nsmallest(1, 'RSS'))\\\n",
    "                                .reset_index(drop=True)\n",
    "df_recon_no_rpc5_4_filtered = df_recon_no_rpc5_4.groupby(['Event Number', 'Direction'], as_index=False, group_keys=False) \\\n",
    "              .apply(lambda x: x if len(x) == 1 else x.sort_values('RSS').iloc[:-1]) \\\n",
    "              .groupby(['Event Number', 'Direction'], as_index=False) \\\n",
    "              .apply(lambda x: x.nsmallest(1, 'RSS'))\\\n",
    "                                .reset_index(drop=True)"
   ]
  },
  {
   "cell_type": "code",
   "execution_count": 74,
   "metadata": {},
   "outputs": [
    {
     "name": "stderr",
     "output_type": "stream",
     "text": [
      "PandasGUI INFO — pandasgui.gui — Opening PandasGUI\n",
      "INFO:pandasgui.gui:Opening PandasGUI\n"
     ]
    },
    {
     "data": {
      "text/plain": [
       "<pandasgui.gui.PandasGui at 0x189f541ef80>"
      ]
     },
     "execution_count": 74,
     "metadata": {},
     "output_type": "execute_result"
    }
   ],
   "source": [
    "show(df_recon_no_rpc0_4_filtered.reset_index(drop=True))"
   ]
  },
  {
   "cell_type": "code",
   "execution_count": 131,
   "metadata": {},
   "outputs": [],
   "source": [
    "df_recon_no_rpc0_4_filtered['expected hits'] = df_recon_no_rpc0_4_filtered.apply(lambda row: (row['Slope'] * 0 + row['Intercept']) / 3.09375 if row['Direction'] == 'eta' \n",
    "                               else (row['Slope'] * 0 + row['Intercept']) / 2.8125 if row['Direction'] == 'phi' \n",
    "                               else None, axis=1)\n",
    "df_recon_no_rpc1_4_filtered['expected hits'] = df_recon_no_rpc1_4_filtered.apply(lambda row: (row['Slope'] * 0 + row['Intercept']) / 3.09375 if row['Direction'] == 'eta' \n",
    "                               else (row['Slope'] * 0 + row['Intercept']) / 2.8125 if row['Direction'] == 'phi' \n",
    "                               else None, axis=1)\n",
    "df_recon_no_rpc2_4_filtered['expected hits'] = df_recon_no_rpc2_4_filtered.apply(lambda row: (row['Slope'] * 0 + row['Intercept']) / 3.09375 if row['Direction'] == 'eta' \n",
    "                               else (row['Slope'] * 0 + row['Intercept']) / 2.8125 if row['Direction'] == 'phi' \n",
    "                               else None, axis=1)\n",
    "df_recon_no_rpc3_4_filtered['expected hits'] = df_recon_no_rpc3_4_filtered.apply(lambda row: (row['Slope'] * 0 + row['Intercept']) / 3.09375 if row['Direction'] == 'eta' \n",
    "                               else (row['Slope'] * 0 + row['Intercept']) / 2.8125 if row['Direction'] == 'phi' \n",
    "                               else None, axis=1)\n",
    "df_recon_no_rpc4_4_filtered['expected hits'] = df_recon_no_rpc4_4_filtered.apply(lambda row: (row['Slope'] * 0 + row['Intercept']) / 3.09375 if row['Direction'] == 'eta' \n",
    "                               else (row['Slope'] * 0 + row['Intercept']) / 2.8125 if row['Direction'] == 'phi' \n",
    "                               else None, axis=1)\n",
    "df_recon_no_rpc5_4_filtered['expected hits'] = df_recon_no_rpc5_4_filtered.apply(lambda row: (row['Slope'] * 0 + row['Intercept']) / 3.09375 if row['Direction'] == 'eta' \n",
    "                               else (row['Slope'] * 0 + row['Intercept']) / 2.8125 if row['Direction'] == 'phi' \n",
    "                               else None, axis=1)"
   ]
  },
  {
   "cell_type": "code",
   "execution_count": 132,
   "metadata": {},
   "outputs": [
    {
     "name": "stderr",
     "output_type": "stream",
     "text": [
      "C:\\Users\\Peter\\AppData\\Local\\Temp\\ipykernel_3680\\2424636361.py:16: SettingWithCopyWarning:\n",
      "\n",
      "\n",
      "A value is trying to be set on a copy of a slice from a DataFrame.\n",
      "Try using .loc[row_indexer,col_indexer] = value instead\n",
      "\n",
      "See the caveats in the documentation: https://pandas.pydata.org/pandas-docs/stable/user_guide/indexing.html#returning-a-view-versus-a-copy\n",
      "\n",
      "C:\\Users\\Peter\\AppData\\Local\\Temp\\ipykernel_3680\\2424636361.py:17: SettingWithCopyWarning:\n",
      "\n",
      "\n",
      "A value is trying to be set on a copy of a slice from a DataFrame.\n",
      "Try using .loc[row_indexer,col_indexer] = value instead\n",
      "\n",
      "See the caveats in the documentation: https://pandas.pydata.org/pandas-docs/stable/user_guide/indexing.html#returning-a-view-versus-a-copy\n",
      "\n",
      "C:\\Users\\Peter\\AppData\\Local\\Temp\\ipykernel_3680\\2424636361.py:18: SettingWithCopyWarning:\n",
      "\n",
      "\n",
      "A value is trying to be set on a copy of a slice from a DataFrame.\n",
      "Try using .loc[row_indexer,col_indexer] = value instead\n",
      "\n",
      "See the caveats in the documentation: https://pandas.pydata.org/pandas-docs/stable/user_guide/indexing.html#returning-a-view-versus-a-copy\n",
      "\n",
      "C:\\Users\\Peter\\AppData\\Local\\Temp\\ipykernel_3680\\2424636361.py:19: SettingWithCopyWarning:\n",
      "\n",
      "\n",
      "A value is trying to be set on a copy of a slice from a DataFrame.\n",
      "Try using .loc[row_indexer,col_indexer] = value instead\n",
      "\n",
      "See the caveats in the documentation: https://pandas.pydata.org/pandas-docs/stable/user_guide/indexing.html#returning-a-view-versus-a-copy\n",
      "\n",
      "C:\\Users\\Peter\\AppData\\Local\\Temp\\ipykernel_3680\\2424636361.py:20: SettingWithCopyWarning:\n",
      "\n",
      "\n",
      "A value is trying to be set on a copy of a slice from a DataFrame.\n",
      "Try using .loc[row_indexer,col_indexer] = value instead\n",
      "\n",
      "See the caveats in the documentation: https://pandas.pydata.org/pandas-docs/stable/user_guide/indexing.html#returning-a-view-versus-a-copy\n",
      "\n",
      "C:\\Users\\Peter\\AppData\\Local\\Temp\\ipykernel_3680\\2424636361.py:21: SettingWithCopyWarning:\n",
      "\n",
      "\n",
      "A value is trying to be set on a copy of a slice from a DataFrame.\n",
      "Try using .loc[row_indexer,col_indexer] = value instead\n",
      "\n",
      "See the caveats in the documentation: https://pandas.pydata.org/pandas-docs/stable/user_guide/indexing.html#returning-a-view-versus-a-copy\n",
      "\n"
     ]
    }
   ],
   "source": [
    "fully_massaged_df_rpc0 = fully_massaged_df[fully_massaged_df['rpc_number'] == 'rpc0']\n",
    "fully_massaged_df_rpc1 = fully_massaged_df[fully_massaged_df['rpc_number'] == 'rpc1']\n",
    "fully_massaged_df_rpc2 = fully_massaged_df[fully_massaged_df['rpc_number'] == 'rpc2']\n",
    "fully_massaged_df_rpc3 = fully_massaged_df[fully_massaged_df['rpc_number'] == 'rpc3']\n",
    "fully_massaged_df_rpc4 = fully_massaged_df[fully_massaged_df['rpc_number'] == 'rpc4']\n",
    "fully_massaged_df_rpc5 = fully_massaged_df[fully_massaged_df['rpc_number'] == 'rpc5']\n",
    "\n",
    "def calculate_midpoint(locations, direction):\n",
    "    if direction == 'eta':\n",
    "        return np.mean([loc[1] for loc in locations])\n",
    "    elif direction == 'phi':\n",
    "        return np.mean([loc[0] for loc in locations])\n",
    "    return None\n",
    "\n",
    "fully_massaged_df_rpc0['midpoint'] = fully_massaged_df_rpc0.apply(lambda row: calculate_midpoint(row['locations'], row['strip_direction']), axis=1)\n",
    "fully_massaged_df_rpc1['midpoint'] = fully_massaged_df_rpc1.apply(lambda row: calculate_midpoint(row['locations'], row['strip_direction']), axis=1)\n",
    "fully_massaged_df_rpc2['midpoint'] = fully_massaged_df_rpc2.apply(lambda row: calculate_midpoint(row['locations'], row['strip_direction']), axis=1)\n",
    "fully_massaged_df_rpc3['midpoint'] = fully_massaged_df_rpc3.apply(lambda row: calculate_midpoint(row['locations'], row['strip_direction']), axis=1)\n",
    "fully_massaged_df_rpc4['midpoint'] = fully_massaged_df_rpc4.apply(lambda row: calculate_midpoint(row['locations'], row['strip_direction']), axis=1)\n",
    "fully_massaged_df_rpc5['midpoint'] = fully_massaged_df_rpc5.apply(lambda row: calculate_midpoint(row['locations'], row['strip_direction']), axis=1)\n",
    "\n",
    "merged_df0 = pd.merge(df_recon_no_rpc0_4_filtered, fully_massaged_df_rpc0, left_on=['Event Number', 'Direction'], right_on=['event_number', 'strip_direction'], how='left')\n",
    "merged_df1 = pd.merge(df_recon_no_rpc1_4_filtered, fully_massaged_df_rpc1, left_on=['Event Number', 'Direction'], right_on=['event_number', 'strip_direction'], how='left')\n",
    "merged_df2 = pd.merge(df_recon_no_rpc2_4_filtered, fully_massaged_df_rpc2, left_on=['Event Number', 'Direction'], right_on=['event_number', 'strip_direction'], how='left')\n",
    "merged_df3 = pd.merge(df_recon_no_rpc3_4_filtered, fully_massaged_df_rpc3, left_on=['Event Number', 'Direction'], right_on=['event_number', 'strip_direction'], how='left')\n",
    "merged_df4 = pd.merge(df_recon_no_rpc4_4_filtered, fully_massaged_df_rpc4, left_on=['Event Number', 'Direction'], right_on=['event_number', 'strip_direction'], how='left')\n",
    "merged_df5 = pd.merge(df_recon_no_rpc5_4_filtered, fully_massaged_df_rpc5, left_on=['Event Number', 'Direction'], right_on=['event_number', 'strip_direction'], how='left')\n",
    "\n",
    "\n",
    "merged_df0['hit_difference'] = merged_df0['expected hits'] - merged_df0['midpoint']\n",
    "merged_df1['hit_difference'] = merged_df1['expected hits'] - merged_df1['midpoint']\n",
    "merged_df2['hit_difference'] = merged_df2['expected hits'] - merged_df2['midpoint']\n",
    "merged_df3['hit_difference'] = merged_df3['expected hits'] - merged_df3['midpoint']\n",
    "merged_df4['hit_difference'] = merged_df4['expected hits'] - merged_df4['midpoint']\n",
    "merged_df5['hit_difference'] = merged_df5['expected hits'] - merged_df5['midpoint']\n",
    "\n",
    "result_df0 = merged_df0[['Event Number', 'Direction', 'expected hits', 'rpc_number', 'midpoint', 'hit_difference']]\n",
    "result_df1 = merged_df1[['Event Number', 'Direction', 'expected hits', 'rpc_number', 'midpoint', 'hit_difference']]\n",
    "result_df2 = merged_df2[['Event Number', 'Direction', 'expected hits', 'rpc_number', 'midpoint', 'hit_difference']]\n",
    "result_df3 = merged_df3[['Event Number', 'Direction', 'expected hits', 'rpc_number', 'midpoint', 'hit_difference']]\n",
    "result_df4 = merged_df4[['Event Number', 'Direction', 'expected hits', 'rpc_number', 'midpoint', 'hit_difference']]\n",
    "result_df5 = merged_df5[['Event Number', 'Direction', 'expected hits', 'rpc_number', 'midpoint', 'hit_difference']]\n"
   ]
  },
  {
   "cell_type": "code",
   "execution_count": 133,
   "metadata": {},
   "outputs": [],
   "source": [
    "eta_df0 = result_df0[result_df0['Direction'] == 'eta']\n",
    "eta_df1 = result_df1[result_df1['Direction'] == 'eta']\n",
    "eta_df2 = result_df2[result_df2['Direction'] == 'eta']\n",
    "eta_df3 = result_df3[result_df3['Direction'] == 'eta']\n",
    "eta_df4 = result_df4[result_df4['Direction'] == 'eta']\n",
    "eta_df5 = result_df5[result_df5['Direction'] == 'eta']\n",
    "\n",
    "phi_df0 = result_df0[result_df0['Direction'] == 'phi']\n",
    "phi_df1 = result_df1[result_df1['Direction'] == 'phi']\n",
    "phi_df2 = result_df2[result_df2['Direction'] == 'phi']\n",
    "phi_df3 = result_df3[result_df3['Direction'] == 'phi']\n",
    "phi_df4 = result_df4[result_df4['Direction'] == 'phi']\n",
    "phi_df5 = result_df5[result_df5['Direction'] == 'phi']"
   ]
  },
  {
   "cell_type": "code",
   "execution_count": 134,
   "metadata": {},
   "outputs": [],
   "source": [
    "def get_min_index(group):\n",
    "    if group['hit_difference'].isna().all():\n",
    "        return group.index.tolist() \n",
    "    return [group['hit_difference'].idxmin()]\n"
   ]
  },
  {
   "cell_type": "code",
   "execution_count": 135,
   "metadata": {},
   "outputs": [],
   "source": [
    "phi_df0 = phi_df0.loc[phi_df0.groupby('Event Number').apply(get_min_index).explode().astype(int)]\n",
    "phi_df1 = phi_df1.loc[phi_df1.groupby('Event Number').apply(get_min_index).explode().astype(int)]\n",
    "phi_df2 = phi_df2.loc[phi_df2.groupby('Event Number').apply(get_min_index).explode().astype(int)]\n",
    "phi_df3 = phi_df3.loc[phi_df3.groupby('Event Number').apply(get_min_index).explode().astype(int)]\n",
    "phi_df4 = phi_df4.loc[phi_df4.groupby('Event Number').apply(get_min_index).explode().astype(int)]\n",
    "phi_df5 = phi_df5.loc[phi_df5.groupby('Event Number').apply(get_min_index).explode().astype(int)]\n",
    "\n",
    "eta_df0 = eta_df0.loc[eta_df0.groupby('Event Number').apply(get_min_index).explode().astype(int)]\n",
    "eta_df1 = eta_df1.loc[eta_df1.groupby('Event Number').apply(get_min_index).explode().astype(int)]\n",
    "eta_df2 = eta_df2.loc[eta_df2.groupby('Event Number').apply(get_min_index).explode().astype(int)]\n",
    "eta_df3 = eta_df3.loc[eta_df3.groupby('Event Number').apply(get_min_index).explode().astype(int)]\n",
    "eta_df4 = eta_df4.loc[eta_df4.groupby('Event Number').apply(get_min_index).explode().astype(int)]\n",
    "eta_df5 = eta_df5.loc[eta_df5.groupby('Event Number').apply(get_min_index).explode().astype(int)]\n",
    "\n"
   ]
  },
  {
   "cell_type": "code",
   "execution_count": 138,
   "metadata": {},
   "outputs": [],
   "source": [
    "thresholds = range(33)  \n",
    "\n",
    "eta_df = [eta_df0, eta_df1, eta_df2, eta_df3, eta_df4, eta_df5]\n",
    "\n",
    "efficiencies = [[],[],[],[],[],[]]\n",
    "\n",
    "label_rpc = ['missing rpc0', 'missing rpc1', 'missing rpc2', 'missing rpc3', 'missing rpc4', 'missing rpc5']\n",
    "\n",
    "for i in range(6):\n",
    "    for threshold in thresholds:\n",
    "        valid_hits = eta_df[i].dropna(subset=['hit_difference'])\n",
    "\n",
    "        count_valid = valid_hits[(valid_hits['hit_difference'].abs() <= threshold) & (~valid_hits['hit_difference'].isna())].shape[0]\n",
    "\n",
    "        total_valid = eta_df[i].shape[0]\n",
    "\n",
    "        efficiency = count_valid / total_valid if total_valid > 0 else 0\n",
    "        efficiencies[i].append(efficiency)\n",
    "\n",
    "plt.figure(figsize=(20, 12))\n",
    "for i in range(6):\n",
    "    plt.plot(thresholds, efficiencies[i], marker='o', label = label_rpc[i])\n",
    "plt.title('Efficiency vs Hit Difference Threshold for ETA Direction RPC0 any 5 AtlasOn')\n",
    "plt.xlabel('Hit Difference Threshold in Number of Strips')\n",
    "plt.ylabel('Efficiency')\n",
    "plt.legend()\n",
    "plt.grid(True)\n",
    "plt.show()"
   ]
  },
  {
   "cell_type": "code",
   "execution_count": 118,
   "metadata": {},
   "outputs": [],
   "source": [
    "thresholds = range(63)  \n",
    "\n",
    "phi_df = [phi_df0, phi_df1, phi_df2, phi_df3, phi_df4, phi_df5]\n",
    "\n",
    "efficiencies = [[],[],[],[],[],[]]\n",
    "\n",
    "label_rpc = ['missing rpc0', 'missing rpc1', 'missing rpc2', 'missing rpc3', 'missing rpc4', 'missing rpc5']\n",
    "\n",
    "for i in range(6):\n",
    "    for threshold in thresholds:\n",
    "        valid_hits = phi_df[i].dropna(subset=['hit_difference'])\n",
    "\n",
    "        count_valid = valid_hits[(valid_hits['hit_difference'].abs() <= threshold) & (~valid_hits['hit_difference'].isna())].shape[0]\n",
    "\n",
    "        total_valid = phi_df[i].shape[0]\n",
    "\n",
    "        efficiency = count_valid / total_valid if total_valid > 0 else 0\n",
    "        efficiencies[i].append(efficiency)\n",
    "\n",
    "plt.figure(figsize=(20, 12))\n",
    "for i in range(6):\n",
    "    plt.plot(thresholds, efficiencies[i], marker='o', label = label_rpc[i])\n",
    "plt.title('Efficiency vs Hit Difference Threshold for PHI Direction RPC0 any 5 AtlasOn')\n",
    "plt.xlabel('Hit Difference Threshold in Number of Strips')\n",
    "plt.ylabel('Efficiency')\n",
    "plt.legend()\n",
    "plt.grid(True)\n",
    "plt.show()"
   ]
  },
  {
   "cell_type": "code",
   "execution_count": 119,
   "metadata": {},
   "outputs": [],
   "source": [
    "combined_df = [[],[],[],[],[],[]]\n",
    "\n",
    "efficiencies = [[],[],[],[],[],[]]\n",
    "\n",
    "label_rpc = ['missing rpc0', 'missing rpc1', 'missing rpc2', 'missing rpc3', 'missing rpc4', 'missing rpc5']\n",
    "\n",
    "thresholds = range(70)  \n",
    "\n",
    "for i in range(6):\n",
    "    combined_df[i] = pd.merge(eta_df[i], phi_df[i], on='Event Number', how='inner')\n",
    "    \n",
    "    \n",
    "for i in range(6):\n",
    "    for threshold in thresholds:\n",
    "        valid_hits = combined_df[i].dropna(subset=['hit_difference_x', 'hit_difference_y'], how='any')\n",
    "\n",
    "        count_valid = valid_hits[((valid_hits['hit_difference_x'].abs()) ** 2 + (valid_hits['hit_difference_y'].abs()) ** 2 <= threshold ** 2)].shape[0]\n",
    "\n",
    "        total_valid = combined_df[i].shape[0]\n",
    "        \n",
    "        efficiency = count_valid / total_valid if total_valid > 0 else 0\n",
    "        efficiencies[i].append(efficiency)\n",
    "\n",
    "\n",
    "plt.figure(figsize=(20, 12))\n",
    "for i in range(6):\n",
    "    plt.plot(thresholds, efficiencies[i], marker='o', label = label_rpc[i])\n",
    "plt.title('Efficiency vs Hit Difference Threshold for Eta Phi Combined any 5 AtlasOn')\n",
    "plt.xlabel('Hit Difference Threshold in Number of Strips')\n",
    "plt.ylabel('Efficiency')\n",
    "plt.legend()\n",
    "plt.grid(True)\n",
    "plt.show()\n",
    "    "
   ]
  },
  {
   "cell_type": "code",
   "execution_count": 31,
   "metadata": {},
   "outputs": [
    {
     "name": "stderr",
     "output_type": "stream",
     "text": [
      "PandasGUI INFO — pandasgui.gui — Opening PandasGUI\n",
      "INFO:pandasgui.gui:Opening PandasGUI\n"
     ]
    },
    {
     "data": {
      "text/plain": [
       "<pandasgui.gui.PandasGui at 0x189df18d5a0>"
      ]
     },
     "execution_count": 31,
     "metadata": {},
     "output_type": "execute_result"
    }
   ],
   "source": [
    "show(combined_df[0])"
   ]
  },
  {
   "cell_type": "code",
   "execution_count": 32,
   "metadata": {},
   "outputs": [
    {
     "name": "stderr",
     "output_type": "stream",
     "text": [
      "PandasGUI INFO — pandasgui.gui — Opening PandasGUI\n",
      "INFO:pandasgui.gui:Opening PandasGUI\n"
     ]
    },
    {
     "data": {
      "text/plain": [
       "<pandasgui.gui.PandasGui at 0x189f295a050>"
      ]
     },
     "execution_count": 32,
     "metadata": {},
     "output_type": "execute_result"
    }
   ],
   "source": [
    "show(eta_df0)"
   ]
  },
  {
   "cell_type": "markdown",
   "metadata": {},
   "source": [
    "Chi2 Analysis"
   ]
  },
  {
   "cell_type": "code",
   "execution_count": 149,
   "metadata": {},
   "outputs": [],
   "source": [
    "df_chi2 = [df_recon_no_rpc0_4_filtered, df_recon_no_rpc1_4_filtered, df_recon_no_rpc2_4_filtered, df_recon_no_rpc3_4_filtered, df_recon_no_rpc4_4_filtered, df_recon_no_rpc5_4_filtered]\n",
    "df_chi2_unfiltered = [df_recon_no_rpc0_4, df_recon_no_rpc1_4, df_recon_no_rpc2_4, df_recon_no_rpc3_4, df_recon_no_rpc4_4, df_recon_no_rpc5_4]\n",
    "\n",
    "label_rpc = ['missing rpc0', 'missing rpc1', 'missing rpc2', 'missing rpc3', 'missing rpc4', 'missing rpc5']\n",
    "\n",
    "for i in range(len(df_chi2)):\n",
    "    df_chi2[i]['Chi_squared'] = df_chi2[i]['RSS'] / 1.333\n",
    "\n",
    "plt.figure(figsize=(10, 6))\n",
    "for i in range(len(df_chi2)):\n",
    "    plt.hist(df_chi2[i]['Chi_squared'], bins=500, alpha=0.75, \n",
    "             label=label_rpc[i], histtype='step', linewidth=1.3, log = True)\n",
    "plt.title('Histogram of Chi squared values')\n",
    "plt.xlabel('Chi squared value Atlas Off')\n",
    "plt.ylabel('Number of Occurance')\n",
    "plt.legend()\n",
    "plt.grid(True)\n",
    "plt.show()"
   ]
  },
  {
   "cell_type": "code",
   "execution_count": 177,
   "metadata": {},
   "outputs": [],
   "source": [
    "df_chi2 = [df_recon_no_rpc0_4_filtered, df_recon_no_rpc1_4_filtered, df_recon_no_rpc2_4_filtered, df_recon_no_rpc3_4_filtered, df_recon_no_rpc4_4_filtered, df_recon_no_rpc5_4_filtered]\n",
    "df_chi2_unfiltered = [df_recon_no_rpc0_4, df_recon_no_rpc1_4, df_recon_no_rpc2_4, df_recon_no_rpc3_4, df_recon_no_rpc4_4, df_recon_no_rpc5_4]\n",
    "\n",
    "label_rpc = ['missing rpc0', 'missing rpc1', 'missing rpc2', 'missing rpc3', 'missing rpc4', 'missing rpc5']\n",
    "\n",
    "for i in range(len(df_chi2)):\n",
    "    df_chi2[i]['Chi_squared'] = df_chi2[i]['RSS'] / 1\n",
    "\n",
    "plt.figure(figsize=(10, 6))\n",
    "for i in range(len(df_chi2)):\n",
    "    plt.hist(df_chi2[i]['Chi_squared'], bins=500, alpha=0.75, \n",
    "             label=label_rpc[i], log = True)\n",
    "plt.title('Histogram of Chi squared values')\n",
    "plt.xlabel('Chi squared value Atlas ON')\n",
    "plt.ylabel('Number of Occurance')\n",
    "plt.legend()\n",
    "plt.grid(True)\n",
    "plt.show()"
   ]
  },
  {
   "cell_type": "code",
   "execution_count": 155,
   "metadata": {},
   "outputs": [
    {
     "name": "stdout",
     "output_type": "stream",
     "text": [
      "<class 'pandas.core.frame.DataFrame'>\n",
      "RangeIndex: 1132 entries, 0 to 1131\n",
      "Data columns (total 11 columns):\n",
      " #   Column            Non-Null Count  Dtype  \n",
      "---  ------            --------------  -----  \n",
      " 0   Unnamed: 0        1132 non-null   int64  \n",
      " 1   Event Number      1132 non-null   int64  \n",
      " 2   Direction         1132 non-null   object \n",
      " 3   Slope             1132 non-null   float64\n",
      " 4   Intercept         1132 non-null   float64\n",
      " 5   Slope_error       1132 non-null   int64  \n",
      " 6   Intercept_error   1132 non-null   int64  \n",
      " 7   Used Coordinates  1132 non-null   object \n",
      " 8   RSS               1132 non-null   float64\n",
      " 9   Chi_squared       1132 non-null   float64\n",
      " 10  expected hits     1132 non-null   float64\n",
      "dtypes: float64(5), int64(4), object(2)\n",
      "memory usage: 97.4+ KB\n",
      "None\n"
     ]
    }
   ],
   "source": [
    "print(df_recon_no_rpc0_4_filtered.info())"
   ]
  },
  {
   "cell_type": "code",
   "execution_count": 12,
   "metadata": {},
   "outputs": [
    {
     "name": "stderr",
     "output_type": "stream",
     "text": [
      "C:\\Users\\Peter\\AppData\\Local\\Temp\\ipykernel_3680\\220974511.py:19: SettingWithCopyWarning: \n",
      "A value is trying to be set on a copy of a slice from a DataFrame.\n",
      "Try using .loc[row_indexer,col_indexer] = value instead\n",
      "\n",
      "See the caveats in the documentation: https://pandas.pydata.org/pandas-docs/stable/user_guide/indexing.html#returning-a-view-versus-a-copy\n",
      "  df['Chi_squared'] = df['RSS'] / Variance_eta  # This is the same as just using RSS directly\n",
      "C:\\Users\\Peter\\AppData\\Local\\Temp\\ipykernel_3680\\220974511.py:21: SettingWithCopyWarning: \n",
      "A value is trying to be set on a copy of a slice from a DataFrame.\n",
      "Try using .loc[row_indexer,col_indexer] = value instead\n",
      "\n",
      "See the caveats in the documentation: https://pandas.pydata.org/pandas-docs/stable/user_guide/indexing.html#returning-a-view-versus-a-copy\n",
      "  df['Chi_squared'] = df['RSS'] / Variance_phi  # This is the same as just using RSS directly\n"
     ]
    }
   ],
   "source": [
    "df_chi2 = [df_recon_no_rpc0_4_filtered, df_recon_no_rpc1_4_filtered, df_recon_no_rpc2_4_filtered, df_recon_no_rpc3_4_filtered, df_recon_no_rpc4_4_filtered, df_recon_no_rpc5_4_filtered]\n",
    "label_rpc = ['missing rpc0', 'missing rpc1', 'missing rpc2', 'missing rpc3', 'missing rpc4', 'missing rpc5']\n",
    "df_eta_list = []\n",
    "df_phi_list = []\n",
    "                    \n",
    "Variance_eta = ( 0.5 * 3.09375) ** 2 / 12\n",
    "Variance_phi = ( 0.5 * 2.8125) ** 2 / 12\n",
    "\n",
    "for df in df_chi2:\n",
    "    df_eta = df[df['Direction'] == 'eta']\n",
    "    df_phi = df[df['Direction'] == 'phi']\n",
    "    \n",
    "    # Append to lists\n",
    "    df_eta_list.append(df_eta)\n",
    "    df_phi_list.append(df_phi)\n",
    "\n",
    "# Calculate Chi_squared values\n",
    "for df in df_eta_list:\n",
    "    df['Chi_squared'] = df['RSS'] / Variance_eta \n",
    "for df in df_phi_list:\n",
    "    df['Chi_squared'] = df['RSS'] / Variance_phi \n",
    "\n",
    "plt.figure(figsize=(10, 6))\n",
    "for i, df in enumerate(df_eta_list):\n",
    "    plt.hist(df['Chi_squared'], bins=500, alpha=0.75, label=label_rpc[i], log = True)\n",
    "\n",
    "\n",
    "plt.title('Histogram of Chi squared values')\n",
    "plt.xlabel('Chi squared value Eta Atlas Off')\n",
    "plt.ylabel('Number of Occurrence')\n",
    "plt.legend()\n",
    "plt.grid(True)\n",
    "plt.show()\n",
    "\n",
    "plt.figure(figsize=(10, 6))\n",
    "for i, df in enumerate(df_phi_list):\n",
    "    plt.hist(df['Chi_squared'], bins=500, alpha=0.75, label=label_rpc[i], log=True)\n",
    "\n",
    "plt.title('Histogram of Chi squared values')\n",
    "plt.xlabel('Chi squared value Phi Atlas Off')\n",
    "plt.ylabel('Number of Occurrence')\n",
    "plt.legend()\n",
    "plt.grid(True)\n",
    "plt.show()"
   ]
  },
  {
   "cell_type": "code",
   "execution_count": 187,
   "metadata": {},
   "outputs": [
    {
     "name": "stderr",
     "output_type": "stream",
     "text": [
      "PandasGUI INFO — pandasgui.gui — Opening PandasGUI\n",
      "INFO:pandasgui.gui:Opening PandasGUI\n"
     ]
    },
    {
     "data": {
      "text/plain": [
       "<pandasgui.gui.PandasGui at 0x252e8b44a60>"
      ]
     },
     "execution_count": 187,
     "metadata": {},
     "output_type": "execute_result"
    }
   ],
   "source": [
    "show(df_eta_list[0])"
   ]
  },
  {
   "cell_type": "code",
   "execution_count": 151,
   "metadata": {},
   "outputs": [
    {
     "name": "stderr",
     "output_type": "stream",
     "text": [
      "PandasGUI INFO — pandasgui.gui — Opening PandasGUI\n",
      "INFO:pandasgui.gui:Opening PandasGUI\n"
     ]
    },
    {
     "data": {
      "text/plain": [
       "<pandasgui.gui.PandasGui at 0x2520393bd90>"
      ]
     },
     "execution_count": 151,
     "metadata": {},
     "output_type": "execute_result"
    }
   ],
   "source": [
    "show(df_recon_no_rpc0_4_filtered)"
   ]
  },
  {
   "cell_type": "code",
   "execution_count": 13,
   "metadata": {},
   "outputs": [
    {
     "ename": "NameError",
     "evalue": "name 'eta_df0' is not defined",
     "output_type": "error",
     "traceback": [
      "\u001b[1;31m---------------------------------------------------------------------------\u001b[0m",
      "\u001b[1;31mNameError\u001b[0m                                 Traceback (most recent call last)",
      "Cell \u001b[1;32mIn[13], line 1\u001b[0m\n\u001b[1;32m----> 1\u001b[0m show(\u001b[43meta_df0\u001b[49m)\n",
      "\u001b[1;31mNameError\u001b[0m: name 'eta_df0' is not defined"
     ]
    }
   ],
   "source": [
    "show(eta_df0)"
   ]
  },
  {
   "cell_type": "code",
   "execution_count": null,
   "metadata": {},
   "outputs": [],
   "source": []
  },
  {
   "cell_type": "code",
   "execution_count": 34,
   "metadata": {},
   "outputs": [],
   "source": [
    "thresholds = range(33)  \n",
    "\n",
    "eta_df = [eta_df0, eta_df1, eta_df2, eta_df3, eta_df4, eta_df5]\n",
    "\n",
    "\n",
    "efficiencies = [[],[],[],[],[],[]]\n",
    "\n",
    "label_rpc = ['missing rpc0', 'missing rpc1', 'missing rpc2', 'missing rpc3', 'missing rpc4', 'missing rpc5']\n",
    "\n",
    "for i in range(3):\n",
    "    for threshold in thresholds:\n",
    "        valid_hits = eta_df[i].dropna(subset=['hit_difference'])\n",
    "\n",
    "        count_valid = valid_hits[(valid_hits['hit_difference'].abs() <= threshold) & (~valid_hits['hit_difference'].isna())].shape[0]\n",
    "\n",
    "        total_valid = eta_df[i].shape[0]\n",
    "\n",
    "        efficiency = count_valid / total_valid if total_valid > 0 else 0\n",
    "        efficiencies[i].append(efficiency)\n",
    "\n",
    "plt.figure(figsize=(20, 12))\n",
    "for i in range(3):\n",
    "    plt.plot(thresholds, efficiencies[i], marker='o', label = label_rpc[i])\n",
    "plt.title('Efficiency vs Hit Difference Threshold for ETA Direction any 5 AtlasOFF')\n",
    "plt.xlabel('Hit Difference Threshold in Number of Strips')\n",
    "plt.ylabel('Efficiency')\n",
    "plt.legend()\n",
    "plt.grid(True)\n",
    "plt.show()"
   ]
  },
  {
   "cell_type": "code",
   "execution_count": 37,
   "metadata": {},
   "outputs": [],
   "source": [
    "thresholds = range(63)  \n",
    "\n",
    "phi_df = [phi_df0, phi_df1, phi_df2, phi_df3, phi_df4, phi_df5]\n",
    "\n",
    "efficiencies = [[],[],[],[],[],[]]\n",
    "\n",
    "label_rpc = ['missing rpc0', 'missing rpc1', 'missing rpc2', 'missing rpc3', 'missing rpc4', 'missing rpc5']\n",
    "\n",
    "for i in range(3):\n",
    "    for threshold in thresholds:\n",
    "        valid_hits = phi_df[i].dropna(subset=['hit_difference'])\n",
    "\n",
    "        count_valid = valid_hits[(valid_hits['hit_difference'].abs() <= threshold) & (~valid_hits['hit_difference'].isna())].shape[0]\n",
    "\n",
    "        total_valid = phi_df[i].shape[0]\n",
    "\n",
    "        efficiency = count_valid / total_valid if total_valid > 0 else 0\n",
    "        efficiencies[i].append(efficiency)\n",
    "\n",
    "plt.figure(figsize=(20, 12))\n",
    "for i in range(3):\n",
    "    plt.plot(thresholds, efficiencies[i], marker='o', label = label_rpc[i])\n",
    "plt.title('Efficiency vs Hit Difference Threshold for PHI Direction any 5 AtlasOFF')\n",
    "plt.xlabel('Hit Difference Threshold in Number of Strips')\n",
    "plt.ylabel('Efficiency')\n",
    "plt.legend()\n",
    "plt.grid(True)\n",
    "plt.show()"
   ]
  },
  {
   "cell_type": "code",
   "execution_count": 38,
   "metadata": {},
   "outputs": [],
   "source": [
    "combined_df = [[],[],[],[],[],[]]\n",
    "\n",
    "efficiencies = [[],[],[],[],[],[]]\n",
    "\n",
    "label_rpc = ['missing rpc0', 'missing rpc1', 'missing rpc2', 'missing rpc3', 'missing rpc4', 'missing rpc5']\n",
    "\n",
    "thresholds = range(70)  \n",
    "\n",
    "for i in range(3):\n",
    "    combined_df[i] = pd.merge(eta_df[i], phi_df[i], on='Event Number', how='inner')\n",
    "    \n",
    "    \n",
    "for i in range(3):\n",
    "    for threshold in thresholds:\n",
    "        valid_hits = combined_df[i].dropna(subset=['hit_difference_x', 'hit_difference_y'], how='any')\n",
    "\n",
    "        count_valid = valid_hits[((valid_hits['hit_difference_x'].abs()) ** 2 + (valid_hits['hit_difference_y'].abs()) ** 2 <= threshold ** 2)].shape[0]\n",
    "\n",
    "        total_valid = combined_df[i].shape[0]\n",
    "\n",
    "        \n",
    "        efficiency = count_valid / total_valid if total_valid > 0 else 0\n",
    "        efficiencies[i].append(efficiency)\n",
    "\n",
    "\n",
    "plt.figure(figsize=(20, 12))\n",
    "for i in range(3):\n",
    "    plt.plot(thresholds, efficiencies[i], marker='o', label = label_rpc[i])\n",
    "plt.title('Efficiency vs Hit Difference Threshold for Eta Phi Combined any 5 AtlasOFF')\n",
    "plt.xlabel('Hit Difference Threshold in Number of Strips')\n",
    "plt.ylabel('Efficiency')\n",
    "plt.legend()\n",
    "plt.grid(True)\n",
    "plt.show()\n",
    "    "
   ]
  },
  {
   "cell_type": "markdown",
   "metadata": {},
   "source": [
    "Separate them into TDCs Using a reverse Mapping"
   ]
  },
  {
   "cell_type": "code",
   "execution_count": 43,
   "metadata": {},
   "outputs": [
    {
     "name": "stderr",
     "output_type": "stream",
     "text": [
      "PandasGUI INFO — pandasgui.gui — Opening PandasGUI\n",
      "INFO:pandasgui.gui:Opening PandasGUI\n"
     ]
    },
    {
     "data": {
      "text/plain": [
       "<pandasgui.gui.PandasGui at 0x187c1153640>"
      ]
     },
     "execution_count": 43,
     "metadata": {},
     "output_type": "execute_result"
    }
   ],
   "source": [
    "show(phi_df1)"
   ]
  },
  {
   "cell_type": "code",
   "execution_count": 136,
   "metadata": {},
   "outputs": [
    {
     "name": "stdout",
     "output_type": "stream",
     "text": [
      "('rpc0', 'eta') : [(0, 32, 0)]\n",
      "('rpc0', 'phi') : [(0, 64, 0)]\n",
      "('rpc1', 'eta') : [(0, 32, 0)]\n",
      "('rpc1', 'phi') : [(0, 64, 1)]\n",
      "('rpc2', 'eta') : [(0, 32, 1)]\n",
      "('rpc2', 'phi') : [(0, 64, 1)]\n",
      "('rpc3', 'eta') : [(0, 32, 2)]\n",
      "('rpc3', 'phi') : [(0, 64, 2)]\n",
      "('rpc4', 'eta') : [(0, 32, 3)]\n",
      "('rpc4', 'phi') : [(0, 64, 3)]\n",
      "('rpc5', 'eta') : [(0, 32, 3)]\n",
      "('rpc5', 'phi') : [(0, 64, 4)]\n",
      "0\n"
     ]
    }
   ],
   "source": [
    "reversed_mapping = {\n",
    "    ('rpc0', 'eta'): [(0, 32, 0)],\n",
    "    ('rpc0', 'phi'): [(0, 64, 0)],\n",
    "    ('rpc1', 'eta'): [(0, 32, 0)],\n",
    "    ('rpc1', 'phi'): [(0, 64, 1)],\n",
    "    ('rpc2', 'eta'): [(0, 32, 1)],\n",
    "    ('rpc2', 'phi'): [(0, 64, 1)],\n",
    "    ('rpc3', 'eta'): [(0, 32, 2)],\n",
    "    ('rpc3', 'phi'): [(0, 64, 2)],\n",
    "    ('rpc4', 'eta'): [(0, 32, 3)],\n",
    "    ('rpc4', 'phi'): [(0, 64, 3)],\n",
    "    ('rpc5', 'eta'): [(0, 32, 3)],\n",
    "    ('rpc5', 'phi'): [(0, 64, 4)]\n",
    "}\n",
    "\n",
    "for key, value in reversed_mapping.items():\n",
    "    print(key, \":\", value)\n",
    "    \n",
    "def compute_tdc_number(rpc, direction, expected_hits, mapping):\n",
    "    if (rpc, direction) in mapping:\n",
    "        for (start, end, chip) in mapping[(rpc, direction)]:  \n",
    "\n",
    "            if start <= expected_hits <= end:\n",
    "\n",
    "                return int(chip)\n",
    "    return None  \n",
    "\n",
    "print(compute_tdc_number('rpc1', 'eta', 12.021, reversed_mapping))"
   ]
  },
  {
   "cell_type": "code",
   "execution_count": 64,
   "metadata": {},
   "outputs": [
    {
     "name": "stderr",
     "output_type": "stream",
     "text": [
      "PandasGUI INFO — pandasgui.gui — Opening PandasGUI\n",
      "INFO:pandasgui.gui:Opening PandasGUI\n"
     ]
    },
    {
     "data": {
      "text/plain": [
       "<pandasgui.gui.PandasGui at 0x1876d58b880>"
      ]
     },
     "execution_count": 64,
     "metadata": {},
     "output_type": "execute_result"
    }
   ],
   "source": [
    "show(eta_df0)"
   ]
  },
  {
   "cell_type": "code",
   "execution_count": 137,
   "metadata": {},
   "outputs": [],
   "source": [
    "eta_df = [eta_df0, eta_df1, eta_df2, eta_df3, eta_df4, eta_df5]\n",
    "phi_df = [phi_df0, phi_df1, phi_df2, phi_df3, phi_df4, phi_df5]\n",
    "rpc_number = ['rpc0', 'rpc1', 'rpc2', 'rpc3', 'rpc4', 'rpc5']\n",
    "for i in range(6):\n",
    "    eta_df[i]['TDC Number'] = eta_df[i].apply(\n",
    "        lambda row: compute_tdc_number(rpc_number[i], row['Direction'], -row['expected hits'], reversed_mapping)\n",
    "        if pd.notna(row['expected hits']) else None,\n",
    "        axis = 1\n",
    "    )\n",
    "    phi_df[i]['TDC Number'] = phi_df[i].apply(\n",
    "        lambda row: compute_tdc_number(rpc_number[i], row['Direction'], row['expected hits'], reversed_mapping)\n",
    "        if pd.notna(row['expected hits']) else None,\n",
    "        axis = 1\n",
    "    )\n",
    "\n",
    "    "
   ]
  },
  {
   "cell_type": "code",
   "execution_count": 138,
   "metadata": {},
   "outputs": [],
   "source": [
    "combined_eta_df = pd.concat(eta_df, ignore_index=True)\n",
    "combined_phi_df = pd.concat(phi_df, ignore_index=True)\n",
    "\n",
    "# Now concatenate the two resulting DataFrames vertically as well\n",
    "combined_df = pd.concat([combined_eta_df, combined_phi_df], ignore_index=True)"
   ]
  },
  {
   "cell_type": "code",
   "execution_count": 111,
   "metadata": {},
   "outputs": [
    {
     "name": "stderr",
     "output_type": "stream",
     "text": [
      "PandasGUI INFO — pandasgui.gui — Opening PandasGUI\n",
      "INFO:pandasgui.gui:Opening PandasGUI\n"
     ]
    },
    {
     "data": {
      "text/plain": [
       "<pandasgui.gui.PandasGui at 0x187703a6290>"
      ]
     },
     "execution_count": 111,
     "metadata": {},
     "output_type": "execute_result"
    }
   ],
   "source": [
    "show(combined_df)"
   ]
  },
  {
   "cell_type": "code",
   "execution_count": 112,
   "metadata": {},
   "outputs": [
    {
     "name": "stdout",
     "output_type": "stream",
     "text": [
      "<class 'pandas.core.frame.DataFrame'>\n",
      "RangeIndex: 7542 entries, 0 to 7541\n",
      "Data columns (total 7 columns):\n",
      " #   Column          Non-Null Count  Dtype  \n",
      "---  ------          --------------  -----  \n",
      " 0   Event Number    7542 non-null   int64  \n",
      " 1   Direction       7542 non-null   object \n",
      " 2   expected hits   7542 non-null   float64\n",
      " 3   rpc_number      5388 non-null   object \n",
      " 4   midpoint        5388 non-null   float64\n",
      " 5   hit_difference  5388 non-null   float64\n",
      " 6   TDC Number      7542 non-null   int64  \n",
      "dtypes: float64(3), int64(2), object(2)\n",
      "memory usage: 412.6+ KB\n",
      "None\n"
     ]
    }
   ],
   "source": [
    "print(combined_df.info())"
   ]
  },
  {
   "cell_type": "code",
   "execution_count": 139,
   "metadata": {},
   "outputs": [],
   "source": [
    "tdc_numbers = combined_df['TDC Number'].unique()  \n",
    "\n",
    "tdc_dfs = {}\n",
    "\n",
    "for tdc_number in tdc_numbers:\n",
    "    tdc_dfs[tdc_number] = combined_df[combined_df['TDC Number'] == tdc_number]\n",
    "\n",
    "df_tdc_0 = tdc_dfs[0]\n",
    "\n",
    "df_tdc_1 = tdc_dfs[1]\n",
    "df_tdc_2 = tdc_dfs[2]\n",
    "df_tdc_3 = tdc_dfs[3]\n",
    "df_tdc_4 = tdc_dfs[4]"
   ]
  },
  {
   "cell_type": "code",
   "execution_count": 115,
   "metadata": {},
   "outputs": [
    {
     "name": "stderr",
     "output_type": "stream",
     "text": [
      "PandasGUI INFO — pandasgui.gui — Opening PandasGUI\n",
      "INFO:pandasgui.gui:Opening PandasGUI\n"
     ]
    },
    {
     "data": {
      "text/plain": [
       "<pandasgui.gui.PandasGui at 0x18770022f80>"
      ]
     },
     "execution_count": 115,
     "metadata": {},
     "output_type": "execute_result"
    }
   ],
   "source": [
    "show(df_tdc_0)"
   ]
  },
  {
   "cell_type": "code",
   "execution_count": 140,
   "metadata": {},
   "outputs": [],
   "source": [
    "thresholds = 3\n",
    "df_tdc = [df_tdc_0, df_tdc_1, df_tdc_2, df_tdc_3, df_tdc_4]\n",
    "\n",
    "efficiencies = []\n",
    "\n",
    "label_tdc = ['tdc0', 'tdc1', 'tdc2', 'tdc3', 'tdc4']\n",
    "\n",
    "for i in range(5):\n",
    "    valid_hits = df_tdc[i].dropna(subset=['hit_difference'])\n",
    "    count_valid = valid_hits[valid_hits['hit_difference'].abs() <= thresholds].shape[0]\n",
    "    total_valid = df_tdc[i].shape[0]\n",
    "    efficiency = count_valid / total_valid if total_valid > 0 else 0\n",
    "    efficiencies.append(efficiency)\n",
    "\n",
    "plt.figure(figsize=(10, 6))\n",
    "plt.bar(label_tdc, efficiencies, color='blue')\n",
    "plt.title('Efficiency vs TDC Number for ETA Direction any 5 AtlasON')\n",
    "plt.xlabel('TDC Number')\n",
    "plt.ylabel('Efficiency')\n",
    "plt.ylim(0, 1)  # Set y-axis limits to show from 0 to 100% efficiency\n",
    "plt.grid(axis='y', linestyle='--', alpha=0.7)\n",
    "plt.show()"
   ]
  }
 ],
 "metadata": {
  "kernelspec": {
   "display_name": ".venv",
   "language": "python",
   "name": "python3"
  },
  "language_info": {
   "codemirror_mode": {
    "name": "ipython",
    "version": 3
   },
   "file_extension": ".py",
   "mimetype": "text/x-python",
   "name": "python",
   "nbconvert_exporter": "python",
   "pygments_lexer": "ipython3",
   "version": "3.10.11"
  }
 },
 "nbformat": 4,
 "nbformat_minor": 2
}
