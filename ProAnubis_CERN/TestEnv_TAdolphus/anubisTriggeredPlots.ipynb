{
 "cells": [
  {
   "cell_type": "code",
   "execution_count": 20,
   "id": "fa0f3e8c",
   "metadata": {},
   "outputs": [
    {
     "name": "stdout",
     "output_type": "stream",
     "text": [
      "c:\\Users\\tomad\\OneDrive - University of Cambridge\\Cambridge\\Fourth Year\\Project\\Repo\\PartIIIRPC-1\\ProAnubis_CERN\n"
     ]
    }
   ],
   "source": [
    "from PIL import Image\n",
    "import h5py\n",
    "import anubisPlotUtils as anPlot\n",
    "import json\n",
    "import numpy as np\n",
    "import os\n",
    "import hist as hi\n",
    "import matplotlib.pyplot as plt\n",
    "import matplotlib.colors as colors\n",
    "import mplhep as hep\n",
    "hep.style.use([hep.style.ATLAS])\n",
    "import sys\n",
    "\n",
    "current_directory = os.path.dirname(os.getcwd())\n",
    "print(current_directory)"
   ]
  },
  {
   "cell_type": "code",
   "execution_count": 4,
   "id": "43f8da64",
   "metadata": {},
   "outputs": [],
   "source": [
    "def importFromTextFile(filename):\n",
    "    inputText = open(filename)\n",
    "    thisEvent = []\n",
    "    data = [[] for tdc in range(5)]\n",
    "    tdc=0\n",
    "    for line in inputText:\n",
    "        if \"Header\" in line:\n",
    "            thisEvent = []\n",
    "            tdc = int(line.split(\" \")[1].strip(\",\"))\n",
    "        elif \"Data\" in line:\n",
    "            thisEvent.append(int(\"0x\"+line.split(\" \")[2].strip(\".\"),0))\n",
    "        elif \"EOB\" in line:\n",
    "            data[tdc].append(thisEvent)\n",
    "    return data"
   ]
  },
  {
   "cell_type": "code",
   "execution_count": 5,
   "id": "b1482f7d",
   "metadata": {},
   "outputs": [],
   "source": [
    "def importFromHDF5File(filename):\n",
    "    inputHDF5 = h5py.File(filename)\n",
    "    thisEvent = []\n",
    "    data = [[] for tdc in range(5)]\n",
    "    tdc=0\n",
    "    for event in inputHDF5['data']:\n",
    "        tdc = event[0]-60928\n",
    "        thisEvent = []\n",
    "        for hit in event[2]:\n",
    "            thisEvent.append(hit)\n",
    "        data[tdc].append(thisEvent)\n",
    "    return data"
   ]
  },
  {
   "cell_type": "code",
   "execution_count": 6,
   "id": "ab688d0b",
   "metadata": {},
   "outputs": [],
   "source": [
    "def importDatafile(filename):\n",
    "    if \"txt\" in filename.split(\".\")[-1]:\n",
    "        return importFromTextFile(filename)\n",
    "    elif \"h5\" in filename.split(\".\")[-1]:\n",
    "        return importFromHDF5File(filename)\n",
    "    else:\n",
    "        print(\"File type not recognized. Expect .txt or .h5 input file.\")"
   ]
  },
  {
   "cell_type": "code",
   "execution_count": 7,
   "id": "a21c926e",
   "metadata": {},
   "outputs": [],
   "source": [
    "def convertDataToHDF5(data, outfileName):\n",
    "    npformattedData = []\n",
    "    dt = np.dtype([('tdc', np.int_, 32), ('time', np.int_, 32),('data', np.ndarray)])\n",
    "    for event in range(len(data[0])):\n",
    "        for tdc in range(5):\n",
    "            thisArr = np.array(data[tdc][event],dtype=np.uint32)\n",
    "            thisPoint = (int(60928+tdc),int(0),thisArr)\n",
    "            npformattedData.append(thisPoint)\n",
    "    h5formattedData = np.array(npformattedData,dtype=dt)\n",
    "    hf = h5py.File(outfileName+'.h5', 'w')\n",
    "    #Read an input HDF5 file to get the right dtype. Does not work just trying to create an identical one - not sure what's missing\n",
    "    preMadeDtype = h5py.File(current_directory+'240221_0939_10s_testRun_Triggerless_RAW.h5','r')['data'].dtype\n",
    "    dset = hf.create_dataset('data',(len(h5formattedData),),dtype=preMadeDtype)\n",
    "    for idx in range(len(h5formattedData)):\n",
    "        dset[idx] = h5formattedData[idx]\n",
    "    hf.close()"
   ]
  },
  {
   "cell_type": "code",
   "execution_count": 8,
   "id": "a3e2839f",
   "metadata": {},
   "outputs": [],
   "source": [
    "def countChannels(events):\n",
    "    #Expects events from one TDC, counts how many hits each channel has within the event list\n",
    "    chanCounts = [0 for x in range(128)]\n",
    "    for event in events:\n",
    "        for word in event:\n",
    "            try:\n",
    "                chanCounts[(word>>24)&0x7f]=chanCounts[(word>>24)&0x7f]+1\n",
    "            except:\n",
    "                print(word>>24)\n",
    "    return chanCounts"
   ]
  },
  {
   "cell_type": "code",
   "execution_count": 9,
   "id": "dea3e3e8",
   "metadata": {},
   "outputs": [],
   "source": [
    "def getEventTimes(events):\n",
    "    eventTimes = []\n",
    "    for event in events:\n",
    "        for word in event:\n",
    "            eventTimes.append(word&0xfffff)\n",
    "    return eventTimes"
   ]
  },
  {
   "cell_type": "code",
   "execution_count": 10,
   "id": "469194ae",
   "metadata": {},
   "outputs": [],
   "source": [
    "def makeSingleLayer(data, name):\n",
    "    #Heatmap plot of one RPC layer. Takes already-split heat map, used by event display\n",
    "    fig, ax = plt.subplots(1, figsize=(16, 8), dpi=100)\n",
    "    channels= [x-0.5 for x in range(len(data)+1)]\n",
    "    if(len(data)==32):\n",
    "        histArr = (np.array([data]),np.array([0,1]),np.array(channels))\n",
    "    else:\n",
    "        histArr = ((np.array([data])).transpose(),np.array(channels),np.array([0,1]))\n",
    "    thisHist = hep.hist2dplot(histArr,norm=colors.LogNorm(0.1,2))\n",
    "    thisHist.cbar.remove()\n",
    "    if(len(data)==32):\n",
    "        plt.ylim(len(data)-0.5,-0.5)\n",
    "    plt.ylabel(\" \")\n",
    "    plt.xlabel(\" \")\n",
    "    #plt.title(name)\n",
    "    \n",
    "    ax.get_xaxis().set_visible(False)\n",
    "    ax.get_yaxis().set_visible(False)\n",
    "    fig.tight_layout()\n",
    "    plt.savefig(current_directory+name+\".png\")\n",
    "    plt.close()\n",
    "    return current_directory+name+\".png\""
   ]
  },
  {
   "cell_type": "code",
   "execution_count": 12,
   "id": "9ec3ae7f",
   "metadata": {},
   "outputs": [],
   "source": [
    "def stackAndConvert(images, name=\"testDisplay\"):\n",
    "    #PIL hacking to distort images and put them together to make a primitive replication of the detector\n",
    "    img = Image.open(images[0])\n",
    "    total_width = 3*img.size[0]\n",
    "    max_height = int(4*img.size[1])\n",
    "    new_im = Image.new('RGB', (total_width, max_height))\n",
    "    newData = new_im.load()\n",
    "    x_offset = 0\n",
    "    y_offset = 6*int(max_height/8.)\n",
    "    for y in range(max_height):\n",
    "        for x in range(total_width):\n",
    "            #newData forms the background of the image, need to set it to all-white to start. Probably some better way to do this?\n",
    "            newData[x, y] = (255, 255, 255)\n",
    "    for idx, image in enumerate(images):\n",
    "        img = Image.open(image)\n",
    "        img = img.convert(\"RGBA\")\n",
    "        temp_im = Image.new('RGBA', (3*img.size[0], img.size[1]))\n",
    "        temp_im.paste(img, (int(img.size[0]/2.),0))\n",
    "        temp_im = temp_im.transform(temp_im.size, Image.AFFINE, (0.5, 1., 0, 0, 1, 0))\n",
    "        pixdata = temp_im.load()\n",
    "        width, height = temp_im.size\n",
    "        for y in range(height):\n",
    "            for x in range(width):\n",
    "                if pixdata[x, y] == (255, 255, 255, 255):\n",
    "                    #Manually make any white pixel transparent so that they can stack together nicely.\n",
    "                    pixdata[x, y] = (255, 255, 255, 0)\n",
    "        new_im.paste(temp_im, (0, y_offset), temp_im)\n",
    "        y_offset = y_offset-int(max_height/28.)\n",
    "        if idx == 5 or idx==7:\n",
    "            #Counts from the bottom up, want bigger gaps between the different chambers\n",
    "            y_offset = y_offset-5*int(max_height/28.)                   \n",
    "    new_im.save(current_directory+name.strip(\" \")+\".png\", \"PNG\")\n"
   ]
  },
  {
   "cell_type": "code",
   "execution_count": 13,
   "id": "ad8d9fe8",
   "metadata": {},
   "outputs": [],
   "source": [
    "def makeEventDisplay(eventData,name):\n",
    "    #Expects a single event, divided as [tdc0,tdc2,...,tdc4]\n",
    "    countOne = countChannels([eventData[0]])\n",
    "    countTwo = countChannels([eventData[1]])\n",
    "    countThree = countChannels([eventData[2]])\n",
    "    countFour = countChannels([eventData[3]])\n",
    "    countFive = countChannels([eventData[4]])\n",
    "    singEventPlots = []\n",
    "    singEventPlots.append(makeSingleLayer(countOne[0:32],\"Eta Triplet Low, Three Coincidences Required\"))\n",
    "    singEventPlots.append(makeSingleLayer(countOne[32:96],\"Phi Triplet Low, Three Coincidences Required\"))\n",
    "    singEventPlots.append(makeSingleLayer(countOne[96:128],\"Eta Triplet Mid, Three Coincidences Required\"))\n",
    "    singEventPlots.append(makeSingleLayer(countTwo[0:64],\"Phi Triplet Mid, Three Coincidences Required\"))\n",
    "    singEventPlots.append(makeSingleLayer(countTwo[64:96],\"Eta Triplet Top, Three Coincidences Required\"))\n",
    "    singEventPlots.append(makeSingleLayer(countTwo[96:128]+countThree[0:32],\"Phi Triplet Top, Three Coincidences Required\"))\n",
    "    singEventPlots.append(makeSingleLayer(countThree[32:64],\"Eta Singlet, Three Coincidences Required\"))\n",
    "    singEventPlots.append(makeSingleLayer(countThree[64:128],\"Phi Singlet, Three Coincidences Required\"))\n",
    "    singEventPlots.append(makeSingleLayer(countFour[0:32],\"Eta Doublet Low, Three Coincidences Required\"))\n",
    "    singEventPlots.append(makeSingleLayer(countFour[32:96],\"Phi Doublet Low, Three Coincidences Required\"))\n",
    "    singEventPlots.append(makeSingleLayer(countFour[96:128],\"Eta Doublet Top, Three Coincidences Required\"))\n",
    "    singEventPlots.append(makeSingleLayer(countFive[0:64],\"Phi Doublet Top, Three Coincidences Required\"))\n",
    "    stackAndConvert(singEventPlots,name)\n",
    "    for plot in singEventPlots:\n",
    "        #Remove all the temporary plots. There's probably a better way to move pil images around than making and deleting .png files.\n",
    "        os.remove(plot)"
   ]
  },
  {
   "cell_type": "code",
   "execution_count": 14,
   "id": "63d7ecc3",
   "metadata": {},
   "outputs": [],
   "source": [
    "def GetEvent(eventData, num):\n",
    "    return [eventData[0][num],eventData[1][num],eventData[2][num],eventData[3][num],eventData[4][num]] "
   ]
  },
  {
   "cell_type": "code",
   "execution_count": 15,
   "id": "a737abb2",
   "metadata": {},
   "outputs": [],
   "source": [
    "def heatFromFile(dataFile, time=240, name=\"HeatMap\"):\n",
    "    #Plots heat maps from triggered data, showing the hit rate in each rpc channel. 2D plots designed to replicate RPC layout and channel counting direction.\n",
    "    thisData = importDatafile(dataFile)\n",
    "    thisHitData = {}\n",
    "    addresses = ['ee00','ee01','ee02','ee03','ee04']\n",
    "    for tdc in range(5):\n",
    "        thisHitData[addresses[tdc]] = countChannels(thisData[tdc])\n",
    "    anPlot.makeHitMaps(thisHitData,name,False,unit='hz',time=time)"
   ]
  },
  {
   "cell_type": "code",
   "execution_count": 19,
   "id": "4394c90d",
   "metadata": {},
   "outputs": [
    {
     "ename": "FileNotFoundError",
     "evalue": "[Errno 2] No such file or directory: 'c:\\\\Users\\\\tomad\\\\OneDrive - University of Cambridge\\\\Cambridge\\\\Fourth Year\\\\Project\\\\Repo\\\\PartIIIRPC-1\\\\ProAnubis_CERN\\\\60sRun_24_3_4.txt'",
     "output_type": "error",
     "traceback": [
      "\u001b[1;31m---------------------------------------------------------------------------\u001b[0m",
      "\u001b[1;31mFileNotFoundError\u001b[0m                         Traceback (most recent call last)",
      "Cell \u001b[1;32mIn[19], line 1\u001b[0m\n\u001b[1;32m----> 1\u001b[0m \u001b[43mheatFromFile\u001b[49m\u001b[43m(\u001b[49m\u001b[43mcurrent_directory\u001b[49m\u001b[38;5;241;43m+\u001b[39;49m\u001b[38;5;124;43m'\u001b[39;49m\u001b[38;5;130;43;01m\\\\\u001b[39;49;00m\u001b[38;5;124;43m60sRun_24_3_4.txt\u001b[39;49m\u001b[38;5;124;43m'\u001b[39;49m\u001b[43m,\u001b[49m\u001b[38;5;241;43m60\u001b[39;49m\u001b[43m,\u001b[49m\u001b[38;5;124;43m\"\u001b[39;49m\u001b[38;5;124;43m60 Second Test Run\u001b[39;49m\u001b[38;5;124;43m\"\u001b[39;49m\u001b[43m)\u001b[49m\n",
      "Cell \u001b[1;32mIn[15], line 3\u001b[0m, in \u001b[0;36mheatFromFile\u001b[1;34m(dataFile, time, name)\u001b[0m\n\u001b[0;32m      1\u001b[0m \u001b[38;5;28;01mdef\u001b[39;00m \u001b[38;5;21mheatFromFile\u001b[39m(dataFile, time\u001b[38;5;241m=\u001b[39m\u001b[38;5;241m240\u001b[39m, name\u001b[38;5;241m=\u001b[39m\u001b[38;5;124m\"\u001b[39m\u001b[38;5;124mHeatMap\u001b[39m\u001b[38;5;124m\"\u001b[39m):\n\u001b[0;32m      2\u001b[0m     \u001b[38;5;66;03m#Plots heat maps from triggered data, showing the hit rate in each rpc channel. 2D plots designed to replicate RPC layout and channel counting direction.\u001b[39;00m\n\u001b[1;32m----> 3\u001b[0m     thisData \u001b[38;5;241m=\u001b[39m \u001b[43mimportDatafile\u001b[49m\u001b[43m(\u001b[49m\u001b[43mdataFile\u001b[49m\u001b[43m)\u001b[49m\n\u001b[0;32m      4\u001b[0m     thisHitData \u001b[38;5;241m=\u001b[39m {}\n\u001b[0;32m      5\u001b[0m     addresses \u001b[38;5;241m=\u001b[39m [\u001b[38;5;124m'\u001b[39m\u001b[38;5;124mee00\u001b[39m\u001b[38;5;124m'\u001b[39m,\u001b[38;5;124m'\u001b[39m\u001b[38;5;124mee01\u001b[39m\u001b[38;5;124m'\u001b[39m,\u001b[38;5;124m'\u001b[39m\u001b[38;5;124mee02\u001b[39m\u001b[38;5;124m'\u001b[39m,\u001b[38;5;124m'\u001b[39m\u001b[38;5;124mee03\u001b[39m\u001b[38;5;124m'\u001b[39m,\u001b[38;5;124m'\u001b[39m\u001b[38;5;124mee04\u001b[39m\u001b[38;5;124m'\u001b[39m]\n",
      "Cell \u001b[1;32mIn[6], line 3\u001b[0m, in \u001b[0;36mimportDatafile\u001b[1;34m(filename)\u001b[0m\n\u001b[0;32m      1\u001b[0m \u001b[38;5;28;01mdef\u001b[39;00m \u001b[38;5;21mimportDatafile\u001b[39m(filename):\n\u001b[0;32m      2\u001b[0m     \u001b[38;5;28;01mif\u001b[39;00m \u001b[38;5;124m\"\u001b[39m\u001b[38;5;124mtxt\u001b[39m\u001b[38;5;124m\"\u001b[39m \u001b[38;5;129;01min\u001b[39;00m filename\u001b[38;5;241m.\u001b[39msplit(\u001b[38;5;124m\"\u001b[39m\u001b[38;5;124m.\u001b[39m\u001b[38;5;124m\"\u001b[39m)[\u001b[38;5;241m-\u001b[39m\u001b[38;5;241m1\u001b[39m]:\n\u001b[1;32m----> 3\u001b[0m         \u001b[38;5;28;01mreturn\u001b[39;00m \u001b[43mimportFromTextFile\u001b[49m\u001b[43m(\u001b[49m\u001b[43mfilename\u001b[49m\u001b[43m)\u001b[49m\n\u001b[0;32m      4\u001b[0m     \u001b[38;5;28;01melif\u001b[39;00m \u001b[38;5;124m\"\u001b[39m\u001b[38;5;124mh5\u001b[39m\u001b[38;5;124m\"\u001b[39m \u001b[38;5;129;01min\u001b[39;00m filename\u001b[38;5;241m.\u001b[39msplit(\u001b[38;5;124m\"\u001b[39m\u001b[38;5;124m.\u001b[39m\u001b[38;5;124m\"\u001b[39m)[\u001b[38;5;241m-\u001b[39m\u001b[38;5;241m1\u001b[39m]:\n\u001b[0;32m      5\u001b[0m         \u001b[38;5;28;01mreturn\u001b[39;00m importFromHDF5File(filename)\n",
      "Cell \u001b[1;32mIn[4], line 2\u001b[0m, in \u001b[0;36mimportFromTextFile\u001b[1;34m(filename)\u001b[0m\n\u001b[0;32m      1\u001b[0m \u001b[38;5;28;01mdef\u001b[39;00m \u001b[38;5;21mimportFromTextFile\u001b[39m(filename):\n\u001b[1;32m----> 2\u001b[0m     inputText \u001b[38;5;241m=\u001b[39m \u001b[38;5;28;43mopen\u001b[39;49m\u001b[43m(\u001b[49m\u001b[43mfilename\u001b[49m\u001b[43m)\u001b[49m\n\u001b[0;32m      3\u001b[0m     thisEvent \u001b[38;5;241m=\u001b[39m []\n\u001b[0;32m      4\u001b[0m     data \u001b[38;5;241m=\u001b[39m [[] \u001b[38;5;28;01mfor\u001b[39;00m tdc \u001b[38;5;129;01min\u001b[39;00m \u001b[38;5;28mrange\u001b[39m(\u001b[38;5;241m5\u001b[39m)]\n",
      "File \u001b[1;32m~\\AppData\\Local\\Packages\\PythonSoftwareFoundation.Python.3.10_qbz5n2kfra8p0\\LocalCache\\local-packages\\Python310\\site-packages\\IPython\\core\\interactiveshell.py:282\u001b[0m, in \u001b[0;36m_modified_open\u001b[1;34m(file, *args, **kwargs)\u001b[0m\n\u001b[0;32m    275\u001b[0m \u001b[38;5;28;01mif\u001b[39;00m file \u001b[38;5;129;01min\u001b[39;00m {\u001b[38;5;241m0\u001b[39m, \u001b[38;5;241m1\u001b[39m, \u001b[38;5;241m2\u001b[39m}:\n\u001b[0;32m    276\u001b[0m     \u001b[38;5;28;01mraise\u001b[39;00m \u001b[38;5;167;01mValueError\u001b[39;00m(\n\u001b[0;32m    277\u001b[0m         \u001b[38;5;124mf\u001b[39m\u001b[38;5;124m\"\u001b[39m\u001b[38;5;124mIPython won\u001b[39m\u001b[38;5;124m'\u001b[39m\u001b[38;5;124mt let you open fd=\u001b[39m\u001b[38;5;132;01m{\u001b[39;00mfile\u001b[38;5;132;01m}\u001b[39;00m\u001b[38;5;124m by default \u001b[39m\u001b[38;5;124m\"\u001b[39m\n\u001b[0;32m    278\u001b[0m         \u001b[38;5;124m\"\u001b[39m\u001b[38;5;124mas it is likely to crash IPython. If you know what you are doing, \u001b[39m\u001b[38;5;124m\"\u001b[39m\n\u001b[0;32m    279\u001b[0m         \u001b[38;5;124m\"\u001b[39m\u001b[38;5;124myou can use builtins\u001b[39m\u001b[38;5;124m'\u001b[39m\u001b[38;5;124m open.\u001b[39m\u001b[38;5;124m\"\u001b[39m\n\u001b[0;32m    280\u001b[0m     )\n\u001b[1;32m--> 282\u001b[0m \u001b[38;5;28;01mreturn\u001b[39;00m io_open(file, \u001b[38;5;241m*\u001b[39margs, \u001b[38;5;241m*\u001b[39m\u001b[38;5;241m*\u001b[39mkwargs)\n",
      "\u001b[1;31mFileNotFoundError\u001b[0m: [Errno 2] No such file or directory: 'c:\\\\Users\\\\tomad\\\\OneDrive - University of Cambridge\\\\Cambridge\\\\Fourth Year\\\\Project\\\\Repo\\\\PartIIIRPC-1\\\\ProAnubis_CERN\\\\60sRun_24_3_4.txt'"
     ]
    }
   ],
   "source": [
    "heatFromFile(current_directory+'\\\\60sRun_24_3_4.txt',60,\"60 Second Test Run\")"
   ]
  },
  {
   "cell_type": "code",
   "execution_count": null,
   "id": "78d9516c",
   "metadata": {},
   "outputs": [],
   "source": [
    "def plotHitCounts(histogram, name):\n",
    "    #Plot the number of hits per event to determine the mean hits within any given TDC, as well as see the long tails from correlated noise\n",
    "    fig, ax = plt.subplots(1, figsize=(6, 4), dpi=100)\n",
    "    lab = hep.atlas.label(com=False,data=True, label=\"Internal\")\n",
    "    lab[2].set_text(\" \")\n",
    "    hep.histplot(np.histogram(histogram,bins=[x-0.5 for x in range(140)]), label='TDC 0')\n",
    "    plt.xlabel('TDC Hits')\n",
    "    plt.ylabel('Events')\n",
    "    plt.title(name)\n",
    "    plt.xlim([-0.4,40.5])\n",
    "    #plt.ylim([1,3000])\n",
    "    plt.yscale('log')\n",
    "    plt.savefig(name.strip(\" \")+\"chanCounts.png\")\n",
    "    plt.close()\n",
    "    return name.strip(\" \")+\"chanCounts.png\""
   ]
  },
  {
   "cell_type": "code",
   "execution_count": null,
   "id": "d1149fb4",
   "metadata": {},
   "outputs": [],
   "source": [
    "def plotEventTimes(inputData, name):\n",
    "    fig, ax = plt.subplots(1, figsize=(6, 4), dpi=100)\n",
    "    lab = hep.atlas.label(com=False,data=True, label=\"Internal\")\n",
    "    lab[2].set_text(\" \")\n",
    "    hep.histplot(np.histogram(inputData,bins=[x-0.5 for x in range(1000)]), label='TDC 0')\n",
    "    plt.xlabel('TDC Hit Time (ns)')\n",
    "    plt.ylabel('Hits')\n",
    "    plt.title(name)\n",
    "    #plt.xlim([-0.4,40.5])\n",
    "    #plt.ylim([1,3000])\n",
    "    plt.yscale('log')\n",
    "    plt.savefig(name.strip(\" \")+\"hitTimes.png\")\n",
    "    plt.close()\n",
    "    return name.strip(\" \")+\"hitTimes.png\""
   ]
  },
  {
   "cell_type": "code",
   "execution_count": null,
   "id": "76374277",
   "metadata": {},
   "outputs": [],
   "source": [
    "def divideHitCountsByRPC(data):\n",
    "    #Divides the number of hits in each channel into individual RPCs\n",
    "    etaHits = [[],[],[],[],[],[]]\n",
    "    phiHits = [[],[],[],[],[],[]]\n",
    "    for event in range(0,len(data[0])):\n",
    "        tdcCounts = [countChannels([data[tdc][event]]) for tdc in range(5)]\n",
    "        etaHits[0].append(tdcCounts[0][0:32])\n",
    "        phiHits[0].append(tdcCounts[0][32:96])\n",
    "        etaHits[1].append(tdcCounts[0][96:128])\n",
    "        phiHits[1].append(tdcCounts[1][0:64])\n",
    "        etaHits[2].append(tdcCounts[1][64:96])\n",
    "        phiHits[2].append(tdcCounts[1][96:128]+tdcCounts[2][0:32])\n",
    "        etaHits[3].append(tdcCounts[2][32:64])\n",
    "        phiHits[3].append(tdcCounts[2][64:128])\n",
    "        etaHits[4].append(tdcCounts[3][0:32])\n",
    "        phiHits[4].append(tdcCounts[3][32:96])\n",
    "        etaHits[5].append(tdcCounts[3][96:128])\n",
    "        phiHits[5].append(tdcCounts[4][0:64])\n",
    "    return etaHits,phiHits"
   ]
  },
  {
   "cell_type": "code",
   "execution_count": null,
   "id": "681013b6",
   "metadata": {},
   "outputs": [],
   "source": [
    "data = importDatafile(current_directory+'threeHourRun_24_3_1.h5')\n",
    "etaHits, phiHits = divideHitCountsByRPC(data)"
   ]
  },
  {
   "cell_type": "code",
   "execution_count": null,
   "id": "f2e8efdd",
   "metadata": {},
   "outputs": [],
   "source": [
    "etaLayerNames = [\"Eta Triplet Low\",\"Eta Triplet Mid\", \"Eta Triplet Top\", \"Eta Singlet\",\"Eta Doublet Low\", \"Eta Doublet Top\"]\n",
    "phiLayerNames = [\"Phi Triplet Low\",\"Phi Triplet Mid\", \"Phi Triplet Top\", \"Phi Singlet\",\"Phi Doublet Low\", \"Phi Doublet Top\"]\n",
    "hitCountNames = []\n",
    "for idx, layer in enumerate(etaHits):\n",
    "    etaSums = []\n",
    "    phiSums = []\n",
    "    for event in layer:\n",
    "        etaSums.append(sum(event))\n",
    "    for event in phiHits[idx]:\n",
    "        phiSums.append(sum(event))\n",
    "    hitCountNames.append(plotHitCounts(phiSums,phiLayerNames[idx]))\n",
    "    hitCountNames.append(plotHitCounts(etaSums,etaLayerNames[idx]))\n",
    "anPlot.combinePlots(hitCountNames,\"3HourRPCHitCounts\")\n",
    "for name in hitCountNames:\n",
    "    os.remove(name)"
   ]
  },
  {
   "cell_type": "code",
   "execution_count": null,
   "id": "fd1b0abf",
   "metadata": {},
   "outputs": [],
   "source": [
    "def divideEventsByRPC(data):\n",
    "    #Divides the data into individual RPCs, preserving the initial words within each event\n",
    "    splitEvents = []\n",
    "    for event in range(len(data[0])):\n",
    "        thisEvent = [[] for rpc in range(12)]\n",
    "        for tdc in range(5):\n",
    "            for word in data[tdc][event]:\n",
    "                chan = word>>24\n",
    "                if(tdc==0):\n",
    "                    if(chan<32):\n",
    "                        thisEvent[0].append(word)\n",
    "                    elif(chan<96):\n",
    "                        thisEvent[1].append(word)\n",
    "                    else:\n",
    "                        thisEvent[2].append(word)\n",
    "                elif(tdc==1):\n",
    "                    if(chan<64):\n",
    "                        thisEvent[3].append(word)\n",
    "                    elif(chan<96):\n",
    "                        thisEvent[4].append(word)\n",
    "                    else:\n",
    "                        thisEvent[5].append(word)\n",
    "                elif(tdc==2):\n",
    "                    if(chan<32):\n",
    "                        thisEvent[6].append(word)\n",
    "                    elif(chan<64):\n",
    "                        thisEvent[7].append(word)\n",
    "                    else:\n",
    "                        thisEvent[8].append(word)   \n",
    "                elif(tdc==3):\n",
    "                    if(chan<32):\n",
    "                        thisEvent[8].append(word)\n",
    "                    elif(chan<64):\n",
    "                        thisEvent[9].append(word)\n",
    "                    else:\n",
    "                        thisEvent[10].append(word)                \n",
    "                elif(tdc==4):\n",
    "                    thisEvent[11].append(word)\n",
    "        splitEvents.append(thisEvent)\n",
    "    return splitEvents"
   ]
  },
  {
   "cell_type": "code",
   "execution_count": null,
   "id": "b5b01e12",
   "metadata": {},
   "outputs": [],
   "source": [
    "def countCoincidences(primRpc,SecRpc, winSize=5, minHit=3, maxHit=10):\n",
    "    #Count events where at least minHit channels have an RPC hit within winSize of each channel, while the primary and secondary RPC has more than minHit and less than maxHit to filter noise events\n",
    "    #Uses the pre-made hit counts instead of the event words directly\n",
    "    coincArray = [0 for channel in range(len(primRpc[0]))]\n",
    "    for idx, event in enumerate(primRpc):\n",
    "        for channel in range(len(event)):\n",
    "            nHits = 0\n",
    "            for itr in range(channel-int(winSize/2.), channel+int(winSize/2.)+1):\n",
    "                if itr>=0 and itr<len(event):\n",
    "                    if event[channel]>0:\n",
    "                        nHits = nHits+1\n",
    "            if nHits>=minHit and sum(event)<=maxHit:\n",
    "                if sum(SecRpc[idx])>=minHit and sum(SecRpc[idx])<=maxHit:\n",
    "                    coincArray[channel]=coincArray[channel]+1\n",
    "    return coincArray"
   ]
  },
  {
   "cell_type": "code",
   "execution_count": null,
   "id": "f6d5a0d1",
   "metadata": {},
   "outputs": [],
   "source": [
    "multCoincArray = []\n",
    "thisRange = [0.001,0.6]\n",
    "thisTime = 3600*3.\n",
    "#Compare each eta/phi RPC to the nearest phi/eta rpc to plot immediate coincidences\n",
    "multCoincArray.append(anPlot.plotPhi(countCoincidences(phiHits[0],etaHits[0]), \"Phi Triplet Low Multi-channel Coincidences\", zrange = thisRange, unit='hz', time=thisTime))\n",
    "multCoincArray.append(anPlot.plotEta(countCoincidences(etaHits[0],phiHits[0]), \"Eta Triplet Low Multi-channel Coincidences\", zrange = thisRange, unit='hz', time=thisTime))\n",
    "multCoincArray.append(anPlot.plotPhi(countCoincidences(phiHits[1],etaHits[1]), \"Phi Triplet Mid Multi-channel Coincidences\", zrange = thisRange, unit='hz', time=thisTime))\n",
    "multCoincArray.append(anPlot.plotEta(countCoincidences(etaHits[1],phiHits[1]), \"Eta Triplet Mid Multi-channel Coincidences\", zrange = thisRange, unit='hz', time=thisTime))\n",
    "multCoincArray.append(anPlot.plotPhi(countCoincidences(phiHits[2],etaHits[2]), \"Phi Triplet Top Multi-channel Coincidences\", zrange = thisRange, unit='hz', time=thisTime))\n",
    "multCoincArray.append(anPlot.plotEta(countCoincidences(etaHits[2],phiHits[2]), \"Eta Triplet Top Multi-channel Coincidences\", zrange = thisRange, unit='hz', time=thisTime))\n",
    "multCoincArray.append(anPlot.plotPhi(countCoincidences(phiHits[3],etaHits[3]), \"Phi Singlet Multi-channel Coincidences\", zrange = thisRange, unit='hz', time=thisTime))\n",
    "multCoincArray.append(anPlot.plotEta(countCoincidences(etaHits[3],phiHits[3]), \"Eta Singlet Multi-channel Coincidences\", zrange = thisRange, unit='hz', time=thisTime))\n",
    "multCoincArray.append(anPlot.plotPhi(countCoincidences(phiHits[4],etaHits[4]), \"Phi Doublet Low Multi-channel Coincidences\", zrange = thisRange, unit='hz', time=thisTime))\n",
    "multCoincArray.append(anPlot.plotEta(countCoincidences(etaHits[4],phiHits[4]), \"Eta Doublet Low Multi-channel Coincidences\", zrange = thisRange, unit='hz', time=thisTime))\n",
    "multCoincArray.append(anPlot.plotPhi(countCoincidences(phiHits[5],etaHits[5]), \"Phi Doublet Top Multi-channel Coincidences\", zrange = thisRange, unit='hz', time=thisTime))\n",
    "multCoincArray.append(anPlot.plotEta(countCoincidences(etaHits[5],phiHits[5]), \"Eta Doublet Top Multi-channel Coincidences\", zrange = thisRange, unit='hz', time=thisTime))\n",
    "\n",
    "anPlot.combinePlots(multCoincArray,\"MultCoincMapsThreeHours\")\n",
    "for plot in multCoincArray:\n",
    "    os.remove(plot)"
   ]
  },
  {
   "cell_type": "code",
   "execution_count": null,
   "id": "80177d6b",
   "metadata": {},
   "outputs": [],
   "source": [
    "multCoincArray = []\n",
    "thisRange = [0.001,0.6]\n",
    "thisTime = 3600*3.\n",
    "#Compare each eta/phi RPC to the nearest phi/eta RPC in a different chamber to find cross-chamber events and reduce the focus on triplet events\n",
    "multCoincArray.append(anPlot.plotPhi(countCoincidences(phiHits[0],etaHits[3]), \"Phi Triplet Low Cross-Chamber Coincidences\", zrange = thisRange, unit='hz', time=thisTime))\n",
    "multCoincArray.append(anPlot.plotEta(countCoincidences(etaHits[0],phiHits[3]), \"Eta Triplet Low Cross-Chamber Coincidences\", zrange = thisRange, unit='hz', time=thisTime))\n",
    "multCoincArray.append(anPlot.plotPhi(countCoincidences(phiHits[1],etaHits[3]), \"Phi Triplet Mid Cross-Chamber Coincidences\", zrange = thisRange, unit='hz', time=thisTime))\n",
    "multCoincArray.append(anPlot.plotEta(countCoincidences(etaHits[1],phiHits[3]), \"Eta Triplet Mid Cross-Chamber Coincidences\", zrange = thisRange, unit='hz', time=thisTime))\n",
    "multCoincArray.append(anPlot.plotPhi(countCoincidences(phiHits[2],etaHits[3]), \"Phi Triplet Top Cross-Chamber Coincidences\", zrange = thisRange, unit='hz', time=thisTime))\n",
    "multCoincArray.append(anPlot.plotEta(countCoincidences(etaHits[2],phiHits[3]), \"Eta Triplet Cross-Chamber Coincidences\", zrange = thisRange, unit='hz', time=thisTime))\n",
    "multCoincArray.append(anPlot.plotPhi(countCoincidences(phiHits[3],etaHits[4]), \"Phi Singlet Cross-Chamber Coincidences\", zrange = thisRange, unit='hz', time=thisTime))\n",
    "multCoincArray.append(anPlot.plotEta(countCoincidences(etaHits[3],phiHits[4]), \"Eta Singlet Cross-Chamber Coincidences\", zrange = thisRange, unit='hz', time=thisTime))\n",
    "multCoincArray.append(anPlot.plotPhi(countCoincidences(phiHits[4],etaHits[3]), \"Phi Doublet Low Cross-Chamber Coincidences\", zrange = thisRange, unit='hz', time=thisTime))\n",
    "multCoincArray.append(anPlot.plotEta(countCoincidences(etaHits[4],phiHits[3]), \"Eta Doublet Low Cross-Chamber Coincidences\", zrange = thisRange, unit='hz', time=thisTime))\n",
    "multCoincArray.append(anPlot.plotPhi(countCoincidences(phiHits[5],etaHits[3]), \"Phi Doublet Top Cross-Chamber Coincidences\", zrange = thisRange, unit='hz', time=thisTime))\n",
    "multCoincArray.append(anPlot.plotEta(countCoincidences(etaHits[5],phiHits[3]), \"Eta Doublet Top Cross-Chamber Coincidences\", zrange = thisRange, unit='hz', time=thisTime))\n",
    "\n",
    "anPlot.combinePlots(multCoincArray,\"CrossChamberMapsThreeHours\")\n",
    "for plot in multCoincArray:\n",
    "    os.remove(plot)"
   ]
  },
  {
   "cell_type": "code",
   "execution_count": null,
   "id": "56c13412",
   "metadata": {},
   "outputs": [],
   "source": [
    "#Plot the event times split by TDC, useful for setting trigger window size and offset\n",
    "tdcTimes = [[] for tdc in range(5)]\n",
    "for tdc in range(5):\n",
    "    tdcTimes[tdc].extend(getEventTimes(data[tdc]))\n",
    "timeMaps = []\n",
    "for idx, tdcTime in enumerate(tdcTimes):\n",
    "    timeMaps.append(plotEventTimes(tdcTime, \"TDC \"+str(idx)))\n",
    "anPlot.combinePlots(timeMaps,\"HitTimeArray\")\n",
    "for plot in timeMaps:\n",
    "    os.remove(plot)"
   ]
  },
  {
   "cell_type": "code",
   "execution_count": null,
   "id": "4aaff258",
   "metadata": {},
   "outputs": [],
   "source": [
    "rpcSplitData = divideEventsByRPC(data)"
   ]
  },
  {
   "cell_type": "code",
   "execution_count": null,
   "id": "1abdd0e8",
   "metadata": {},
   "outputs": [],
   "source": [
    "for idx, event in enumerate(rpcSplitData):\n",
    "    haveAll = True\n",
    "    for rpc in range(12):\n",
    "        if len(event[rpc])<1:\n",
    "            haveAll=False\n",
    "    if(haveAll):\n",
    "        print(idx)"
   ]
  },
  {
   "cell_type": "code",
   "execution_count": null,
   "id": "2de91a63",
   "metadata": {},
   "outputs": [],
   "source": [
    "makeEventDisplay(GetEvent(data,1456),\"Event 1456 Display\")"
   ]
  },
  {
   "cell_type": "code",
   "execution_count": null,
   "id": "2f2eacdf",
   "metadata": {},
   "outputs": [],
   "source": [
    "#Plot the hit times split by RPC, useful for characterizing each RPC and measuring noise\n",
    "rpcNames = ['Eta Triplet Low',\n",
    "            'Phi Triplet Low',\n",
    "            'Eta Triplet Mid',\n",
    "            'Phi Triplet Mid',\n",
    "            'Eta Triplet Top',\n",
    "            'Phi Triplet Top',\n",
    "            'Eta Singlet',\n",
    "            'Phi Singlet',\n",
    "            'Eta Doublet Low',\n",
    "            'Phi Doublet Low',\n",
    "            'Eta Doublet Top',\n",
    "            'Phi Doublet Top']\n",
    "rpcHits = [[] for rpc in range(12)]\n",
    "for event in rpcSplitData:\n",
    "    for rpc in range(12):\n",
    "        rpcHits[rpc].extend(getEventTimes([event[rpc]]))\n",
    "rpcTimeMaps = []\n",
    "for idx, tdcTime in enumerate(rpcHits):\n",
    "    rpcTimeMaps.append(plotEventTimes(tdcTime,rpcNames[idx]))\n",
    "anPlot.combinePlots(rpcTimeMaps,\"RpcHitTimeArray\")\n",
    "for plot in rpcTimeMaps:\n",
    "    os.remove(plot)"
   ]
  },
  {
   "cell_type": "code",
   "execution_count": null,
   "id": "67c582c5",
   "metadata": {},
   "outputs": [],
   "source": [
    "bigFile = open(\"/eos/user/m/mireveri/anubis/dataFiles/trigRun24HourTest.txt\")\n",
    "\n",
    "thisEvent = []\n",
    "data = [[] for tdc in range(5)]\n",
    "tdc=0\n",
    "prevTdcMax = 0\n",
    "evtNum=0\n",
    "lastTdc=-1\n",
    "for idx, line in enumerate(bigFile):\n",
    "    if \"Header\" in line:\n",
    "        thisEvent = []\n",
    "        splitline = line.split(\" \")\n",
    "        tdc = int(splitline[1].strip(\",\"))\n",
    "        if tdc is not lastTdc:\n",
    "            if evtNum<prevTdcMax:\n",
    "                print(\"Missing event, number is: \"+str(evtNum),str(prevTdcMax),str(idx))\n",
    "                break\n",
    "            lastTdc=tdc\n",
    "        evtNum = int(splitline[-1].strip(\"\\n\").strip(\";\"))\n",
    "        if evtNum>prevTdcMax or evtNum==0:\n",
    "            prevTdcMax=evtNum\n",
    "    elif \"Data\" in line:\n",
    "        thisEvent.append(int(\"0x\"+line.split(\" \")[2].strip(\".\"),0))\n",
    "    elif \"EOB\" in line:\n",
    "        data[tdc].append(thisEvent)"
   ]
  },
  {
   "cell_type": "code",
   "execution_count": null,
   "id": "d167e593",
   "metadata": {},
   "outputs": [],
   "source": [
    "#bigFile = open(\"/eos/user/m/mireveri/anubis/dataFiles/trigRun24HourTest.txt\")\n",
    "#for idx, line in enumerate(bigFile):\n",
    "#    if idx>(33567604-100) and idx<(33567604):\n",
    "#        print(line.strip(\"\\n\"))"
   ]
  },
  {
   "cell_type": "code",
   "execution_count": null,
   "id": "dd99e422",
   "metadata": {},
   "outputs": [],
   "source": [
    "heatFromFile('/eos/user/m/mireveri/anubis/dataFiles/trigRun24HourTest.txt',3600*24,\"24 Hour Run\")"
   ]
  },
  {
   "cell_type": "code",
   "execution_count": null,
   "id": "591761c7",
   "metadata": {},
   "outputs": [],
   "source": [
    "heatFromFile(\"/eos/user/m/mireveri/anubis/dataFiles/vthreshScans/trig_TriggerVth1-6_TriggerSingEtaVth1-6_60s.txt\",60,\"Singlet Eta Vth 1p6\")\n",
    "heatFromFile(\"/eos/user/m/mireveri/anubis/dataFiles/vthreshScans/trig_TriggerVth1-6_TriggerSingEtaVth2-0_60s.txt\",60,\"Singlet Eta Vth 2p0\")\n",
    "heatFromFile(\"/eos/user/m/mireveri/anubis/dataFiles/vthreshScans/trig_TriggerVth1-6_TriggerSingPhiVth1-6_60s.txt\",60,\"Singlet Phi Vth 1p6\")"
   ]
  },
  {
   "cell_type": "code",
   "execution_count": null,
   "id": "1da5bfb7",
   "metadata": {},
   "outputs": [],
   "source": []
  }
 ],
 "metadata": {
  "@webio": {
   "lastCommId": null,
   "lastKernelId": null
  },
  "kernelspec": {
   "display_name": "Python 3",
   "language": "python",
   "name": "python3"
  },
  "language_info": {
   "codemirror_mode": {
    "name": "ipython",
    "version": 3
   },
   "file_extension": ".py",
   "mimetype": "text/x-python",
   "name": "python",
   "nbconvert_exporter": "python",
   "pygments_lexer": "ipython3",
   "version": "3.10.11"
  }
 },
 "nbformat": 4,
 "nbformat_minor": 5
}
