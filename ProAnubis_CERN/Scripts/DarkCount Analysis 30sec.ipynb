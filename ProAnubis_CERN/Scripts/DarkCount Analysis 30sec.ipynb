{
 "cells": [
  {
   "cell_type": "code",
   "execution_count": null,
   "metadata": {},
   "outputs": [],
   "source": [
    "from PIL import Image\n",
    "import h5py\n",
    "import anubisPlotUtils as anPlot\n",
    "import json\n",
    "import numpy as np\n",
    "import os\n",
    "import hist as hi\n",
    "import matplotlib\n",
    "import matplotlib.pyplot as plt\n",
    "import matplotlib.colors as colors\n",
    "matplotlib.use('TkAgg')  # or 'Qt5Agg', 'GTK3Agg', etc.\n",
    "import mplhep as hep\n",
    "hep.style.use([hep.style.ATLAS])\n",
    "import sys\n",
    "import AnalysisToolAnubis as AT\n",
    "import pandas as pd\n",
    "import tkinter as tk\n",
    "from tkinter import ttk\n",
    "from pandasgui import show\n"
   ]
  },
  {
   "cell_type": "code",
   "execution_count": null,
   "metadata": {},
   "outputs": [],
   "source": [
    "#Importing the data\n",
    "thisData = AT.importDatafile('C:\\\\Users\\\\Peter\\\\OneDrive - University of Cambridge\\\\Desktop\\\\Project Excel Work\\\\PartIIIRPC\\\\ProAnubis_CERN\\\\ProAnubisData\\\\60sRun_24_3_4.h5')\n"
   ]
  },
  {
   "cell_type": "code",
   "execution_count": null,
   "metadata": {},
   "outputs": [],
   "source": [
    "mapping = {\n",
    "    0: {\n",
    "        (0, 31): ('rpc3', 'eta'),\n",
    "        (32, 63): ('rpc3', 'phi1'),\n",
    "        (64, 95): ('rpc3', 'phi2'),\n",
    "        (96, 127): ('rpc2', 'eta'),\n",
    "    },\n",
    "    1: {\n",
    "        (0, 31): ('rpc2', 'phi1'),\n",
    "        (32, 63): ('rpc2', 'phi2'),\n",
    "        (64, 95): ('rpc1', 'eta'),\n",
    "        (96, 127): ('rpc1', 'phi1'),\n",
    "    },\n",
    "    2: {\n",
    "        (0, 31): ('rpc1', 'phi2'),\n",
    "        (32, 63): ('rpc4', 'eta'),\n",
    "        (64, 95): ('rpc4', 'phi1'),\n",
    "        (96, 127): ('rpc4', 'phi2'),\n",
    "    },\n",
    "    3: {\n",
    "        (0, 31): ('rpc6', 'eta'),\n",
    "        (32, 63): ('rpc6', 'phi1'),\n",
    "        (64, 95): ('rpc6', 'phi2'),\n",
    "        (96, 127): ('rpc5', 'eta'),\n",
    "    },\n",
    "    4: {\n",
    "        (0, 31): ('rpc5', 'phi1'),\n",
    "        (32, 63): ('rpc5', 'phi2'),\n",
    "    },\n",
    "}"
   ]
  },
  {
   "cell_type": "code",
   "execution_count": null,
   "metadata": {},
   "outputs": [],
   "source": [
    "def assign_to_coordinates(tdc, channel, mapping):\n",
    "    for channel_range, (rpc, side) in mapping.get(tdc, {}).items():\n",
    "        if channel_range[0] <= channel <= channel_range[1]:\n",
    "            offset = channel - channel_range[0]\n",
    "            if side == 'eta':\n",
    "                return [rpc, 'eta', [0, offset]]\n",
    "            elif side in ['phi1', 'phi2']:\n",
    "                return [rpc, 'phi', [offset, 0]]\n",
    "    return ['Null', 'Null', [tdc, channel]]  # If no match found"
   ]
  },
  {
   "cell_type": "code",
   "execution_count": null,
   "metadata": {},
   "outputs": [],
   "source": [
    "def remake_data(Data, mapping):\n",
    "    full_data = []\n",
    "    for tdc in range(0, len(Data)):\n",
    "        for events in range(0, len(Data[tdc])): \n",
    "            for hits in Data[tdc][events]:\n",
    "                channel = (hits>>24)&0x7f\n",
    "                coord = assign_to_coordinates(tdc, channel, mapping)\n",
    "                event_time = hits&0xfffff\n",
    "                \n",
    "            \n",
    "                \n",
    "                full_data.append({\n",
    "                    'tdc': tdc,\n",
    "                    'event number': events,\n",
    "                    'channel':channel,\n",
    "                    'rpc number': coord[0],\n",
    "                    'strip direction': coord[1],\n",
    "                    'hit coordinate': coord[2],\n",
    "                    'time': event_time\n",
    "                })\n",
    "    df = pd.DataFrame(full_data)\n",
    "        \n",
    "    return df\n",
    "    "
   ]
  },
  {
   "cell_type": "code",
   "execution_count": null,
   "metadata": {},
   "outputs": [],
   "source": [
    "df = remake_data(thisData, mapping)\n"
   ]
  },
  {
   "cell_type": "code",
   "execution_count": null,
   "metadata": {},
   "outputs": [],
   "source": [
    "show(df)\n"
   ]
  }
 ],
 "metadata": {
  "kernelspec": {
   "display_name": ".venv",
   "language": "python",
   "name": "python3"
  },
  "language_info": {
   "codemirror_mode": {
    "name": "ipython",
    "version": 3
   },
   "file_extension": ".py",
   "mimetype": "text/x-python",
   "name": "python",
   "nbconvert_exporter": "python",
   "pygments_lexer": "ipython3",
   "version": "3.10.11"
  }
 },
 "nbformat": 4,
 "nbformat_minor": 2
}
